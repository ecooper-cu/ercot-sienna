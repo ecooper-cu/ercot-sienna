{
 "cells": [
  {
   "cell_type": "code",
   "execution_count": 1,
   "metadata": {},
   "outputs": [],
   "source": [
    "using PowerSystems\n",
    "using PowerSimulations\n",
    "using HydroPowerSimulations\n",
    "const PSI = PowerSimulations\n",
    "using PowerSystemCaseBuilder\n",
    "using Dates"
   ]
  },
  {
   "cell_type": "code",
   "execution_count": 2,
   "metadata": {},
   "outputs": [
    {
     "name": "stderr",
     "output_type": "stream",
     "text": [
      "┌ Info: Loading simulation results from /projects/emco4286/data/sienna_data/output/ercot/uc_only/uc_only_gurobi-5\n",
      "└ @ PowerSimulations /projects/emco4286/.julia/packages/PowerSimulations/89s3Q/src/simulation/simulation_results.jl:87\n",
      "┌ Info: checking integrity of simulation_store.h5\n",
      "└ @ PowerSimulations /projects/emco4286/.julia/packages/PowerSimulations/89s3Q/src/utils/file_utils.jl:53\n"
     ]
    },
    {
     "data": {
      "text/html": [
       "\n",
       "<table>\n",
       "  <caption style = \"text-align: left;\">Decision Problem Results</caption>\n",
       "  <thead>\n",
       "    <tr class = \"header headerLastRow\">\n",
       "      <th style = \"text-align: left;\">Problem Name</th>\n",
       "      <th style = \"text-align: left;\">Initial Time</th>\n",
       "      <th style = \"text-align: left;\">Resolution</th>\n",
       "      <th style = \"text-align: left;\">Last Solution Timestamp</th>\n",
       "    </tr>\n",
       "  </thead>\n",
       "  <tbody>\n",
       "    <tr>\n",
       "      <td style = \"text-align: left;\">UC</td>\n",
       "      <td style = \"text-align: left;\">2018-01-01T00:00:00</td>\n",
       "      <td style = \"text-align: left;\">1 hour</td>\n",
       "      <td style = \"text-align: left;\">2018-01-01T00:00:00</td>\n",
       "    </tr>\n",
       "  </tbody>\n",
       "</table>\n",
       "\n",
       "<table>\n",
       "  <caption style = \"text-align: left;\">Emulator Results</caption>\n",
       "  <tbody>\n",
       "    <tr>\n",
       "      <td style = \"text-align: left;\">Name</td>\n",
       "      <td style = \"text-align: left;\">Emulator</td>\n",
       "    </tr>\n",
       "    <tr>\n",
       "      <td style = \"text-align: left;\">Resolution</td>\n",
       "      <td style = \"text-align: left;\">60 minutes</td>\n",
       "    </tr>\n",
       "    <tr>\n",
       "      <td style = \"text-align: left;\">Number of steps</td>\n",
       "      <td style = \"text-align: left;\">24</td>\n",
       "    </tr>\n",
       "  </tbody>\n",
       "</table>\n"
      ],
      "text/plain": [
       "\n",
       "\u001b[1mDecision Problem Results\u001b[0m\n",
       "┌──────────────┬─────────────────────┬────────────┬─────────────────────────┐\n",
       "│\u001b[1m Problem Name \u001b[0m│\u001b[1m Initial Time        \u001b[0m│\u001b[1m Resolution \u001b[0m│\u001b[1m Last Solution Timestamp \u001b[0m│\n",
       "├──────────────┼─────────────────────┼────────────┼─────────────────────────┤\n",
       "│ UC           │ 2018-01-01T00:00:00 │ 1 hour     │ 2018-01-01T00:00:00     │\n",
       "└──────────────┴─────────────────────┴────────────┴─────────────────────────┘\n",
       "\n",
       "\u001b[1mEmulator Results\u001b[0m\n",
       "┌─────────────────┬────────────┐\n",
       "│ Name            │ Emulator   │\n",
       "│ Resolution      │ 60 minutes │\n",
       "│ Number of steps │ 24         │\n",
       "└─────────────────┴────────────┘\n"
      ]
     },
     "metadata": {},
     "output_type": "display_data"
    }
   ],
   "source": [
    "solutions = SimulationResults(\"/projects/emco4286/data/sienna_data/output/ercot/uc_only\", \"uc_only_gurobi\")"
   ]
  },
  {
   "cell_type": "code",
   "execution_count": 3,
   "metadata": {},
   "outputs": [
    {
     "data": {
      "text/html": [
       "<p> Start: 2018-01-01T00:00:00</p>\n",
       "<p> End: 2018-01-01T00:00:00</p>\n",
       "<p> Resolution: 60 minutes</p>\n",
       "\n",
       "<table>\n",
       "  <caption style = \"text-align: left;\">UC Problem Expressions Results</caption>\n",
       "  <tbody>\n",
       "    <tr>\n",
       "      <td style = \"text-align: left;\">ProductionCostExpression__ThermalStandard</td>\n",
       "    </tr>\n",
       "    <tr>\n",
       "      <td style = \"text-align: left;\">ActivePowerBalance__System</td>\n",
       "    </tr>\n",
       "    <tr>\n",
       "      <td style = \"text-align: left;\">ProductionCostExpression__RenewableDispatch</td>\n",
       "    </tr>\n",
       "  </tbody>\n",
       "</table>\n",
       "\n",
       "<table>\n",
       "  <caption style = \"text-align: left;\">UC Problem Parameters Results</caption>\n",
       "  <tbody>\n",
       "    <tr>\n",
       "      <td style = \"text-align: left;\">ActivePowerTimeSeriesParameter__RenewableDispatch</td>\n",
       "    </tr>\n",
       "    <tr>\n",
       "      <td style = \"text-align: left;\">ActivePowerTimeSeriesParameter__PowerLoad</td>\n",
       "    </tr>\n",
       "  </tbody>\n",
       "</table>\n",
       "\n",
       "<table>\n",
       "  <caption style = \"text-align: left;\">UC Problem Variables Results</caption>\n",
       "  <tbody>\n",
       "    <tr>\n",
       "      <td style = \"text-align: left;\">ActivePowerVariable__RenewableDispatch</td>\n",
       "    </tr>\n",
       "    <tr>\n",
       "      <td style = \"text-align: left;\">StopVariable__ThermalStandard</td>\n",
       "    </tr>\n",
       "    <tr>\n",
       "      <td style = \"text-align: left;\">ActivePowerVariable__ThermalStandard</td>\n",
       "    </tr>\n",
       "    <tr>\n",
       "      <td style = \"text-align: left;\">SystemBalanceSlackDown__System</td>\n",
       "    </tr>\n",
       "    <tr>\n",
       "      <td style = \"text-align: left;\">OnVariable__ThermalStandard</td>\n",
       "    </tr>\n",
       "    <tr>\n",
       "      <td style = \"text-align: left;\">StartVariable__ThermalStandard</td>\n",
       "    </tr>\n",
       "    <tr>\n",
       "      <td style = \"text-align: left;\">SystemBalanceSlackUp__System</td>\n",
       "    </tr>\n",
       "  </tbody>\n",
       "</table>\n"
      ],
      "text/plain": [
       "Start: 2018-01-01T00:00:00\n",
       "End: 2018-01-01T00:00:00\n",
       "Resolution: 60 minutes\n",
       "\n",
       "\u001b[1mUC Problem Expressions Results\u001b[0m\n",
       "┌─────────────────────────────────────────────┐\n",
       "│ ProductionCostExpression__ThermalStandard   │\n",
       "│ ActivePowerBalance__System                  │\n",
       "│ ProductionCostExpression__RenewableDispatch │\n",
       "└─────────────────────────────────────────────┘\n",
       "\n",
       "\u001b[1mUC Problem Parameters Results\u001b[0m\n",
       "┌───────────────────────────────────────────────────┐\n",
       "│ ActivePowerTimeSeriesParameter__RenewableDispatch │\n",
       "│ ActivePowerTimeSeriesParameter__PowerLoad         │\n",
       "└───────────────────────────────────────────────────┘\n",
       "\n",
       "\u001b[1mUC Problem Variables Results\u001b[0m\n",
       "┌────────────────────────────────────────┐\n",
       "│ ActivePowerVariable__RenewableDispatch │\n",
       "│ StopVariable__ThermalStandard          │\n",
       "│ ActivePowerVariable__ThermalStandard   │\n",
       "│ SystemBalanceSlackDown__System         │\n",
       "│ OnVariable__ThermalStandard            │\n",
       "│ StartVariable__ThermalStandard         │\n",
       "│ SystemBalanceSlackUp__System           │\n",
       "└────────────────────────────────────────┘\n"
      ]
     },
     "metadata": {},
     "output_type": "display_data"
    }
   ],
   "source": [
    "results_uc = get_decision_problem_results(solutions, \"UC\")"
   ]
  },
  {
   "cell_type": "code",
   "execution_count": 4,
   "metadata": {},
   "outputs": [
    {
     "data": {
      "text/plain": [
       "DataStructures.SortedDict{Any, Any, Base.Order.ForwardOrdering} with 1 entry:\n",
       "  DateTime(\"2018-01-01T00:00:00\") => \u001b[1m36×5 DataFrame\u001b[0m\u001b[0m…"
      ]
     },
     "metadata": {},
     "output_type": "display_data"
    }
   ],
   "source": [
    "thermal_active_power = read_variable(results_uc, \"ActivePowerVariable__ThermalStandard\")"
   ]
  },
  {
   "cell_type": "code",
   "execution_count": 5,
   "metadata": {},
   "outputs": [
    {
     "data": {
      "text/plain": [
       "DataStructures.SDMKeyIteration{DataStructures.SortedDict{Any, Any, Base.Order.ForwardOrdering}}(DataStructures.SortedDict{Any, Any, Base.Order.ForwardOrdering}(DateTime(\"2018-01-01T00:00:00\") => \u001b[1m36×5 DataFrame\u001b[0m\n",
       "\u001b[1m Row \u001b[0m│\u001b[1m DateTime            \u001b[0m\u001b[1m gen-472 \u001b[0m\u001b[1m gen-542 \u001b[0m\u001b[1m gen-213 \u001b[0m\u001b[1m gen-374 \u001b[0m\n",
       "     │\u001b[90m DateTime            \u001b[0m\u001b[90m Float64 \u001b[0m\u001b[90m Float64 \u001b[0m\u001b[90m Float64 \u001b[0m\u001b[90m Float64 \u001b[0m\n",
       "─────┼─────────────────────────────────────────────────────────\n",
       "   1 │ 2018-01-01T00:00:00   183.66    174.6   1215.0      0.0\n",
       "   2 │ 2018-01-01T01:00:00   183.66    174.6   1215.0    114.9\n",
       "   3 │ 2018-01-01T02:00:00   183.66    174.6   1215.0    114.9\n",
       "   4 │ 2018-01-01T03:00:00   183.66    174.6   1215.0    114.9\n",
       "   5 │ 2018-01-01T04:00:00   183.66    174.6   1215.0    114.9\n",
       "   6 │ 2018-01-01T05:00:00   183.66    174.6   1215.0    114.9\n",
       "   7 │ 2018-01-01T06:00:00   183.66    174.6   1215.0    114.9\n",
       "   8 │ 2018-01-01T07:00:00   183.66    174.6   1215.0    114.9\n",
       "  ⋮  │          ⋮              ⋮        ⋮        ⋮        ⋮\n",
       "  30 │ 2018-01-02T05:00:00   183.66    174.6   1215.0    114.9\n",
       "  31 │ 2018-01-02T06:00:00   183.66    174.6   1215.0    114.9\n",
       "  32 │ 2018-01-02T07:00:00   183.66    174.6   1215.0    114.9\n",
       "  33 │ 2018-01-02T08:00:00   183.66    174.6   1215.0    114.9\n",
       "  34 │ 2018-01-02T09:00:00     0.0       0.0      0.0      0.0\n",
       "  35 │ 2018-01-02T10:00:00     0.0       0.0      0.0      0.0\n",
       "  36 │ 2018-01-02T11:00:00     0.0       0.0      0.0      0.0\n",
       "\u001b[36m                                                21 rows omitted\u001b[0m))"
      ]
     },
     "metadata": {},
     "output_type": "display_data"
    }
   ],
   "source": [
    "keys(thermal_active_power)"
   ]
  },
  {
   "cell_type": "code",
   "execution_count": null,
   "metadata": {},
   "outputs": [],
   "source": []
  }
 ],
 "metadata": {
  "kernelspec": {
   "display_name": "Julia 1.10.2",
   "language": "julia",
   "name": "julia-1.10"
  },
  "language_info": {
   "file_extension": ".jl",
   "mimetype": "application/julia",
   "name": "julia",
   "version": "1.10.2"
  },
  "orig_nbformat": 4
 },
 "nbformat": 4,
 "nbformat_minor": 2
}
