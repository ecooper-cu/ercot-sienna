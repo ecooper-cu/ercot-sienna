{
 "cells": [
  {
   "cell_type": "code",
   "execution_count": 10,
   "metadata": {},
   "outputs": [],
   "source": [
    "using PowerSystems\n",
    "using PowerSimulations\n",
    "using HydroPowerSimulations\n",
    "const PSI = PowerSimulations\n",
    "using PowerSystemCaseBuilder\n",
    "using Dates"
   ]
  },
  {
   "cell_type": "code",
   "execution_count": 11,
   "metadata": {},
   "outputs": [
    {
     "name": "stderr",
     "output_type": "stream",
     "text": [
      "┌ Info: Loading simulation results from /projects/emco4286/data/sienna_data/output/ercot/baseline/uc_only_gurobi-5\n",
      "└ @ PowerSimulations /projects/emco4286/.julia/packages/PowerSimulations/89s3Q/src/simulation/simulation_results.jl:87\n",
      "┌ Info: checking integrity of simulation_store.h5\n",
      "└ @ PowerSimulations /projects/emco4286/.julia/packages/PowerSimulations/89s3Q/src/utils/file_utils.jl:53\n"
     ]
    },
    {
     "data": {
      "text/html": [
       "\n",
       "<table>\n",
       "  <caption style = \"text-align: left;\">Decision Problem Results</caption>\n",
       "  <thead>\n",
       "    <tr class = \"header headerLastRow\">\n",
       "      <th style = \"text-align: left;\">Problem Name</th>\n",
       "      <th style = \"text-align: left;\">Initial Time</th>\n",
       "      <th style = \"text-align: left;\">Resolution</th>\n",
       "      <th style = \"text-align: left;\">Last Solution Timestamp</th>\n",
       "    </tr>\n",
       "  </thead>\n",
       "  <tbody>\n",
       "    <tr>\n",
       "      <td style = \"text-align: left;\">UC</td>\n",
       "      <td style = \"text-align: left;\">2018-01-01T00:00:00</td>\n",
       "      <td style = \"text-align: left;\">1 hour</td>\n",
       "      <td style = \"text-align: left;\">2018-12-31T00:00:00</td>\n",
       "    </tr>\n",
       "  </tbody>\n",
       "</table>\n",
       "\n",
       "<table>\n",
       "  <caption style = \"text-align: left;\">Emulator Results</caption>\n",
       "  <tbody>\n",
       "    <tr>\n",
       "      <td style = \"text-align: left;\">Name</td>\n",
       "      <td style = \"text-align: left;\">Emulator</td>\n",
       "    </tr>\n",
       "    <tr>\n",
       "      <td style = \"text-align: left;\">Resolution</td>\n",
       "      <td style = \"text-align: left;\">60 minutes</td>\n",
       "    </tr>\n",
       "    <tr>\n",
       "      <td style = \"text-align: left;\">Number of steps</td>\n",
       "      <td style = \"text-align: left;\">8760</td>\n",
       "    </tr>\n",
       "  </tbody>\n",
       "</table>\n"
      ],
      "text/plain": [
       "\n",
       "\u001b[1mDecision Problem Results\u001b[0m\n",
       "┌──────────────┬─────────────────────┬────────────┬─────────────────────────┐\n",
       "│\u001b[1m Problem Name \u001b[0m│\u001b[1m Initial Time        \u001b[0m│\u001b[1m Resolution \u001b[0m│\u001b[1m Last Solution Timestamp \u001b[0m│\n",
       "├──────────────┼─────────────────────┼────────────┼─────────────────────────┤\n",
       "│ UC           │ 2018-01-01T00:00:00 │ 1 hour     │ 2018-12-31T00:00:00     │\n",
       "└──────────────┴─────────────────────┴────────────┴─────────────────────────┘\n",
       "\n",
       "\u001b[1mEmulator Results\u001b[0m\n",
       "┌─────────────────┬────────────┐\n",
       "│ Name            │ Emulator   │\n",
       "│ Resolution      │ 60 minutes │\n",
       "│ Number of steps │ 8760       │\n",
       "└─────────────────┴────────────┘\n"
      ]
     },
     "metadata": {},
     "output_type": "display_data"
    }
   ],
   "source": [
    "solutions = SimulationResults(\"/projects/emco4286/data/sienna_data/output/ercot/baseline\", \"uc_only_gurobi\")"
   ]
  },
  {
   "cell_type": "code",
   "execution_count": 15,
   "metadata": {},
   "outputs": [],
   "source": [
    "# PSI.deserialize_problem(PSI.OperationModel, \"/projects/emco4286/data/sienna_data/output/ercot/baseline/optimization_problem.mof.json\")"
   ]
  },
  {
   "cell_type": "code",
   "execution_count": 16,
   "metadata": {},
   "outputs": [
    {
     "data": {
      "text/html": [
       "<p> Start: 2018-01-01T00:00:00</p>\n",
       "<p> End: 2018-12-31T00:00:00</p>\n",
       "<p> Resolution: 60 minutes</p>\n",
       "\n",
       "<table>\n",
       "  <caption style = \"text-align: left;\">UC Problem Expressions Results</caption>\n",
       "  <tbody>\n",
       "    <tr>\n",
       "      <td style = \"text-align: left;\">ActivePowerBalance__System</td>\n",
       "    </tr>\n",
       "    <tr>\n",
       "      <td style = \"text-align: left;\">ProductionCostExpression__RenewableDispatch</td>\n",
       "    </tr>\n",
       "    <tr>\n",
       "      <td style = \"text-align: left;\">ProductionCostExpression__ThermalStandard</td>\n",
       "    </tr>\n",
       "  </tbody>\n",
       "</table>\n",
       "\n",
       "<table>\n",
       "  <caption style = \"text-align: left;\">UC Problem Parameters Results</caption>\n",
       "  <tbody>\n",
       "    <tr>\n",
       "      <td style = \"text-align: left;\">ActivePowerTimeSeriesParameter__PowerLoad</td>\n",
       "    </tr>\n",
       "    <tr>\n",
       "      <td style = \"text-align: left;\">ActivePowerTimeSeriesParameter__RenewableDispatch</td>\n",
       "    </tr>\n",
       "  </tbody>\n",
       "</table>\n",
       "\n",
       "<table>\n",
       "  <caption style = \"text-align: left;\">UC Problem Variables Results</caption>\n",
       "  <tbody>\n",
       "    <tr>\n",
       "      <td style = \"text-align: left;\">ActivePowerVariable__RenewableDispatch</td>\n",
       "    </tr>\n",
       "    <tr>\n",
       "      <td style = \"text-align: left;\">ActivePowerVariable__ThermalStandard</td>\n",
       "    </tr>\n",
       "    <tr>\n",
       "      <td style = \"text-align: left;\">SystemBalanceSlackDown__System</td>\n",
       "    </tr>\n",
       "    <tr>\n",
       "      <td style = \"text-align: left;\">StopVariable__ThermalStandard</td>\n",
       "    </tr>\n",
       "    <tr>\n",
       "      <td style = \"text-align: left;\">SystemBalanceSlackUp__System</td>\n",
       "    </tr>\n",
       "    <tr>\n",
       "      <td style = \"text-align: left;\">OnVariable__ThermalStandard</td>\n",
       "    </tr>\n",
       "    <tr>\n",
       "      <td style = \"text-align: left;\">StartVariable__ThermalStandard</td>\n",
       "    </tr>\n",
       "  </tbody>\n",
       "</table>\n"
      ],
      "text/plain": [
       "Start: 2018-01-01T00:00:00\n",
       "End: 2018-12-31T00:00:00\n",
       "Resolution: 60 minutes\n",
       "\n",
       "\u001b[1mUC Problem Expressions Results\u001b[0m\n",
       "┌─────────────────────────────────────────────┐\n",
       "│ ActivePowerBalance__System                  │\n",
       "│ ProductionCostExpression__RenewableDispatch │\n",
       "│ ProductionCostExpression__ThermalStandard   │\n",
       "└─────────────────────────────────────────────┘\n",
       "\n",
       "\u001b[1mUC Problem Parameters Results\u001b[0m\n",
       "┌───────────────────────────────────────────────────┐\n",
       "│ ActivePowerTimeSeriesParameter__PowerLoad         │\n",
       "│ ActivePowerTimeSeriesParameter__RenewableDispatch │\n",
       "└───────────────────────────────────────────────────┘\n",
       "\n",
       "\u001b[1mUC Problem Variables Results\u001b[0m\n",
       "┌────────────────────────────────────────┐\n",
       "│ ActivePowerVariable__RenewableDispatch │\n",
       "│ ActivePowerVariable__ThermalStandard   │\n",
       "│ SystemBalanceSlackDown__System         │\n",
       "│ StopVariable__ThermalStandard          │\n",
       "│ SystemBalanceSlackUp__System           │\n",
       "│ OnVariable__ThermalStandard            │\n",
       "│ StartVariable__ThermalStandard         │\n",
       "└────────────────────────────────────────┘\n"
      ]
     },
     "metadata": {},
     "output_type": "display_data"
    }
   ],
   "source": [
    "results_uc = get_decision_problem_results(solutions, \"UC\")"
   ]
  },
  {
   "cell_type": "code",
   "execution_count": 17,
   "metadata": {},
   "outputs": [
    {
     "ename": "ErrorException",
     "evalue": "get_optimizer_stats must be implemented for PowerSimulations.SimulationProblemResults{PowerSimulations.DecisionModelSimulationResults}",
     "output_type": "error",
     "traceback": [
      "get_optimizer_stats must be implemented for PowerSimulations.SimulationProblemResults{PowerSimulations.DecisionModelSimulationResults}\n",
      "\n",
      "Stacktrace:\n",
      " [1] error(s::String)\n",
      "   @ Base ./error.jl:35\n",
      " [2] get_optimizer_stats(r::PowerSimulations.SimulationProblemResults{PowerSimulations.DecisionModelSimulationResults})\n",
      "   @ InfrastructureSystems /projects/emco4286/.julia/packages/InfrastructureSystems/LEg3t/src/results.jl:22\n",
      " [3] top-level scope\n",
      "   @ ~/ercot-sienna/notebooks/load_in_ercot_uc_only_results.ipynb:1"
     ]
    }
   ],
   "source": [
    "get_optimizer_stats(results_uc)"
   ]
  },
  {
   "cell_type": "code",
   "execution_count": 9,
   "metadata": {},
   "outputs": [
    {
     "data": {
      "text/plain": [
       "2.924325501781834e12"
      ]
     },
     "metadata": {},
     "output_type": "display_data"
    }
   ],
   "source": [
    "sum(read_optimizer_stats(results_uc)[!, :objective_value])"
   ]
  },
  {
   "cell_type": "code",
   "execution_count": 11,
   "metadata": {},
   "outputs": [
    {
     "data": {
      "text/plain": [
       "PowerSimulations.SimulationStoreParams(DateTime(\"2018-01-01T00:00:00\"), Millisecond(86400000), 365, OrderedCollections.OrderedDict{Symbol, PowerSimulations.ModelStoreParams}(:UC => PowerSimulations.ModelStoreParams(1, 36, Millisecond(86400000), Millisecond(3600000), 100.0, UUID(\"b3d50eb1-3efc-4815-8b95-31d3d0bbcdfe\"), InfrastructureSystems.Optimization.OptimizationContainerMetadata(Dict{String, InfrastructureSystems.Optimization.OptimizationContainerKey}()))), OrderedCollections.OrderedDict{Symbol, PowerSimulations.ModelStoreParams}(:Emulator => PowerSimulations.ModelStoreParams(24, 1, Millisecond(3600000), Millisecond(3600000), 100.0, UUID(\"b3d50eb1-3efc-4815-8b95-31d3d0bbcdfe\"), InfrastructureSystems.Optimization.OptimizationContainerMetadata(Dict{String, InfrastructureSystems.Optimization.OptimizationContainerKey}()))))"
      ]
     },
     "metadata": {},
     "output_type": "display_data"
    }
   ],
   "source": [
    "solutions.params"
   ]
  },
  {
   "cell_type": "code",
   "execution_count": 13,
   "metadata": {},
   "outputs": [
    {
     "ename": "MethodError",
     "evalue": "MethodError: no method matching get_objective_value(::PowerSimulations.SimulationProblemResults{PowerSimulations.DecisionModelSimulationResults})\n\nClosest candidates are:\n  get_objective_value(!Matched::OptimizationProblemResults)\n   @ InfrastructureSystems /projects/emco4286/.julia/packages/InfrastructureSystems/LEg3t/src/Optimization/optimization_problem_results.jl:90\n  get_objective_value(!Matched::OptimizationProblemResults, !Matched::Any)\n   @ InfrastructureSystems /projects/emco4286/.julia/packages/InfrastructureSystems/LEg3t/src/Optimization/optimization_problem_results.jl:90\n",
     "output_type": "error",
     "traceback": [
      "MethodError: no method matching get_objective_value(::PowerSimulations.SimulationProblemResults{PowerSimulations.DecisionModelSimulationResults})\n",
      "\n",
      "Closest candidates are:\n",
      "  get_objective_value(!Matched::OptimizationProblemResults)\n",
      "   @ InfrastructureSystems /projects/emco4286/.julia/packages/InfrastructureSystems/LEg3t/src/Optimization/optimization_problem_results.jl:90\n",
      "  get_objective_value(!Matched::OptimizationProblemResults, !Matched::Any)\n",
      "   @ InfrastructureSystems /projects/emco4286/.julia/packages/InfrastructureSystems/LEg3t/src/Optimization/optimization_problem_results.jl:90\n",
      "\n",
      "\n",
      "Stacktrace:\n",
      " [1] top-level scope\n",
      "   @ ~/ercot-sienna/notebooks/load_in_ercot_uc_only_results.ipynb:1"
     ]
    }
   ],
   "source": [
    "get_objective_value(results_uc)"
   ]
  },
  {
   "cell_type": "code",
   "execution_count": 6,
   "metadata": {},
   "outputs": [
    {
     "data": {
      "text/plain": [
       "(:problem, :base_power, :execution_path, :results_output_folder, :timestamps, :results_timestamps, :values, :system, :system_uuid, :resolution, :store)"
      ]
     },
     "metadata": {},
     "output_type": "display_data"
    }
   ],
   "source": [
    "fieldnames(typeof(results_uc))"
   ]
  },
  {
   "cell_type": "code",
   "execution_count": 17,
   "metadata": {},
   "outputs": [
    {
     "data": {
      "text/plain": [
       "100.0"
      ]
     },
     "metadata": {},
     "output_type": "display_data"
    }
   ],
   "source": [
    "results_uc.base_power"
   ]
  },
  {
   "cell_type": "code",
   "execution_count": 4,
   "metadata": {},
   "outputs": [
    {
     "data": {
      "text/plain": [
       "DataStructures.SortedDict{Any, Any, Base.Order.ForwardOrdering} with 365 entries:\n",
       "  DateTime(\"2018-01-01T00:00:00\") => \u001b[1m36×5 DataFrame\u001b[0m\u001b[0m…\n",
       "  DateTime(\"2018-01-02T00:00:00\") => \u001b[1m36×5 DataFrame\u001b[0m\u001b[0m…\n",
       "  DateTime(\"2018-01-03T00:00:00\") => \u001b[1m36×5 DataFrame\u001b[0m\u001b[0m…\n",
       "  DateTime(\"2018-01-04T00:00:00\") => \u001b[1m36×5 DataFrame\u001b[0m\u001b[0m…\n",
       "  DateTime(\"2018-01-05T00:00:00\") => \u001b[1m36×5 DataFrame\u001b[0m\u001b[0m…\n",
       "  DateTime(\"2018-01-06T00:00:00\") => \u001b[1m36×5 DataFrame\u001b[0m\u001b[0m…\n",
       "  DateTime(\"2018-01-07T00:00:00\") => \u001b[1m36×5 DataFrame\u001b[0m\u001b[0m…\n",
       "  DateTime(\"2018-01-08T00:00:00\") => \u001b[1m36×5 DataFrame\u001b[0m\u001b[0m…\n",
       "  DateTime(\"2018-01-09T00:00:00\") => \u001b[1m36×5 DataFrame\u001b[0m\u001b[0m…\n",
       "  DateTime(\"2018-01-10T00:00:00\") => \u001b[1m36×5 DataFrame\u001b[0m\u001b[0m…\n",
       "  DateTime(\"2018-01-11T00:00:00\") => \u001b[1m36×5 DataFrame\u001b[0m\u001b[0m…\n",
       "  DateTime(\"2018-01-12T00:00:00\") => \u001b[1m36×5 DataFrame\u001b[0m\u001b[0m…\n",
       "  DateTime(\"2018-01-13T00:00:00\") => \u001b[1m36×5 DataFrame\u001b[0m\u001b[0m…\n",
       "  DateTime(\"2018-01-14T00:00:00\") => \u001b[1m36×5 DataFrame\u001b[0m\u001b[0m…\n",
       "  DateTime(\"2018-01-15T00:00:00\") => \u001b[1m36×5 DataFrame\u001b[0m\u001b[0m…\n",
       "  DateTime(\"2018-01-16T00:00:00\") => \u001b[1m36×5 DataFrame\u001b[0m\u001b[0m…\n",
       "  DateTime(\"2018-01-17T00:00:00\") => \u001b[1m36×5 DataFrame\u001b[0m\u001b[0m…\n",
       "  DateTime(\"2018-01-18T00:00:00\") => \u001b[1m36×5 DataFrame\u001b[0m\u001b[0m…\n",
       "  DateTime(\"2018-01-19T00:00:00\") => \u001b[1m36×5 DataFrame\u001b[0m\u001b[0m…\n",
       "  ⋮                               => ⋮"
      ]
     },
     "metadata": {},
     "output_type": "display_data"
    }
   ],
   "source": [
    "thermal_active_power = read_variable(results_uc, \"ActivePowerVariable__ThermalStandard\")"
   ]
  },
  {
   "cell_type": "code",
   "execution_count": 5,
   "metadata": {},
   "outputs": [
    {
     "data": {
      "text/plain": [
       "DataStructures.SDMKeyIteration{DataStructures.SortedDict{Any, Any, Base.Order.ForwardOrdering}}(DataStructures.SortedDict{Any, Any, Base.Order.ForwardOrdering}(DateTime(\"2018-01-01T00:00:00\") => \u001b[1m36×5 DataFrame\u001b[0m\n",
       "\u001b[1m Row \u001b[0m│\u001b[1m DateTime            \u001b[0m\u001b[1m gen-472 \u001b[0m\u001b[1m gen-542 \u001b[0m\u001b[1m gen-213 \u001b[0m\u001b[1m gen-374 \u001b[0m\n",
       "     │\u001b[90m DateTime            \u001b[0m\u001b[90m Float64 \u001b[0m\u001b[90m Float64 \u001b[0m\u001b[90m Float64 \u001b[0m\u001b[90m Float64 \u001b[0m\n",
       "─────┼─────────────────────────────────────────────────────────\n",
       "   1 │ 2018-01-01T00:00:00   183.66    174.6   1215.0      0.0\n",
       "   2 │ 2018-01-01T01:00:00   183.66    174.6   1215.0    114.9\n",
       "   3 │ 2018-01-01T02:00:00   183.66    174.6   1215.0    114.9\n",
       "   4 │ 2018-01-01T03:00:00   183.66    174.6   1215.0    114.9\n",
       "   5 │ 2018-01-01T04:00:00   183.66    174.6   1215.0    114.9\n",
       "   6 │ 2018-01-01T05:00:00   183.66    174.6   1215.0    114.9\n",
       "   7 │ 2018-01-01T06:00:00   183.66    174.6   1215.0    114.9\n",
       "   8 │ 2018-01-01T07:00:00   183.66    174.6   1215.0    114.9\n",
       "  ⋮  │          ⋮              ⋮        ⋮        ⋮        ⋮\n",
       "  30 │ 2018-01-02T05:00:00   183.66    174.6   1215.0    114.9\n",
       "  31 │ 2018-01-02T06:00:00   183.66    174.6   1215.0    114.9\n",
       "  32 │ 2018-01-02T07:00:00   183.66    174.6   1215.0    114.9\n",
       "  33 │ 2018-01-02T08:00:00   183.66    174.6   1215.0    114.9\n",
       "  34 │ 2018-01-02T09:00:00     0.0       0.0      0.0      0.0\n",
       "  35 │ 2018-01-02T10:00:00     0.0       0.0      0.0      0.0\n",
       "  36 │ 2018-01-02T11:00:00     0.0       0.0      0.0      0.0\n",
       "\u001b[36m                                                21 rows omitted\u001b[0m, DateTime(\"2018-01-02T00:00:00\") => \u001b[1m36×5 DataFrame\u001b[0m\n",
       "\u001b[1m Row \u001b[0m│\u001b[1m DateTime            \u001b[0m\u001b[1m gen-472 \u001b[0m\u001b[1m gen-542 \u001b[0m\u001b[1m gen-213 \u001b[0m\u001b[1m gen-374 \u001b[0m\n",
       "     │\u001b[90m DateTime            \u001b[0m\u001b[90m Float64 \u001b[0m\u001b[90m Float64 \u001b[0m\u001b[90m Float64 \u001b[0m\u001b[90m Float64 \u001b[0m\n",
       "─────┼─────────────────────────────────────────────────────────\n",
       "   1 │ 2018-01-02T00:00:00   183.66    174.6   1215.0      0.0\n",
       "   2 │ 2018-01-02T01:00:00   183.66    174.6   1215.0    114.9\n",
       "   3 │ 2018-01-02T02:00:00   183.66    174.6   1215.0    114.9\n",
       "   4 │ 2018-01-02T03:00:00   183.66    174.6   1215.0    114.9\n",
       "   5 │ 2018-01-02T04:00:00   183.66    174.6   1215.0    114.9\n",
       "   6 │ 2018-01-02T05:00:00   183.66    174.6   1215.0    114.9\n",
       "   7 │ 2018-01-02T06:00:00   183.66    174.6   1215.0    114.9\n",
       "   8 │ 2018-01-02T07:00:00   183.66    174.6   1215.0    114.9\n",
       "  ⋮  │          ⋮              ⋮        ⋮        ⋮        ⋮\n",
       "  30 │ 2018-01-03T05:00:00   183.66    174.6   1215.0    114.9\n",
       "  31 │ 2018-01-03T06:00:00   183.66    174.6   1215.0    114.9\n",
       "  32 │ 2018-01-03T07:00:00   183.66    174.6   1215.0    114.9\n",
       "  33 │ 2018-01-03T08:00:00   183.66    174.6   1215.0    114.9\n",
       "  34 │ 2018-01-03T09:00:00     0.0       0.0      0.0      0.0\n",
       "  35 │ 2018-01-03T10:00:00     0.0       0.0      0.0      0.0\n",
       "  36 │ 2018-01-03T11:00:00     0.0       0.0      0.0      0.0\n",
       "\u001b[36m                                                21 rows omitted\u001b[0m, DateTime(\"2018-01-03T00:00:00\") => \u001b[1m36×5 DataFrame\u001b[0m\n",
       "\u001b[1m Row \u001b[0m│\u001b[1m DateTime            \u001b[0m\u001b[1m gen-472 \u001b[0m\u001b[1m gen-542 \u001b[0m\u001b[1m gen-213 \u001b[0m\u001b[1m gen-374 \u001b[0m\n",
       "     │\u001b[90m DateTime            \u001b[0m\u001b[90m Float64 \u001b[0m\u001b[90m Float64 \u001b[0m\u001b[90m Float64 \u001b[0m\u001b[90m Float64 \u001b[0m\n",
       "─────┼─────────────────────────────────────────────────────────\n",
       "   1 │ 2018-01-03T00:00:00   183.66    174.6   1215.0      0.0\n",
       "   2 │ 2018-01-03T01:00:00   183.66    174.6   1215.0    114.9\n",
       "   3 │ 2018-01-03T02:00:00   183.66    174.6   1215.0    114.9\n",
       "   4 │ 2018-01-03T03:00:00   183.66    174.6   1215.0    114.9\n",
       "   5 │ 2018-01-03T04:00:00   183.66    174.6   1215.0    114.9\n",
       "   6 │ 2018-01-03T05:00:00   183.66    174.6   1215.0    114.9\n",
       "   7 │ 2018-01-03T06:00:00   183.66    174.6   1215.0    114.9\n",
       "   8 │ 2018-01-03T07:00:00   183.66    174.6   1215.0    114.9\n",
       "  ⋮  │          ⋮              ⋮        ⋮        ⋮        ⋮\n",
       "  30 │ 2018-01-04T05:00:00   183.66    174.6   1215.0    114.9\n",
       "  31 │ 2018-01-04T06:00:00   183.66    174.6   1215.0    114.9\n",
       "  32 │ 2018-01-04T07:00:00   183.66    174.6   1215.0    114.9\n",
       "  33 │ 2018-01-04T08:00:00   183.66    174.6   1215.0    114.9\n",
       "  34 │ 2018-01-04T09:00:00     0.0       0.0      0.0      0.0\n",
       "  35 │ 2018-01-04T10:00:00     0.0       0.0      0.0      0.0\n",
       "  36 │ 2018-01-04T11:00:00     0.0       0.0      0.0      0.0\n",
       "\u001b[36m                                                21 rows omitted\u001b[0m, DateTime(\"2018-01-04T00:00:00\") => \u001b[1m36×5 DataFrame\u001b[0m\n",
       "\u001b[1m Row \u001b[0m│\u001b[1m DateTime            \u001b[0m\u001b[1m gen-472 \u001b[0m\u001b[1m gen-542 \u001b[0m\u001b[1m gen-213 \u001b[0m\u001b[1m gen-374 \u001b[0m\n",
       "     │\u001b[90m DateTime            \u001b[0m\u001b[90m Float64 \u001b[0m\u001b[90m Float64 \u001b[0m\u001b[90m Float64 \u001b[0m\u001b[90m Float64 \u001b[0m\n",
       "─────┼─────────────────────────────────────────────────────────\n",
       "   1 │ 2018-01-04T00:00:00   183.66    174.6   1215.0      0.0\n",
       "   2 │ 2018-01-04T01:00:00   183.66    174.6   1215.0    114.9\n",
       "   3 │ 2018-01-04T02:00:00   183.66    174.6   1215.0    114.9\n",
       "   4 │ 2018-01-04T03:00:00   183.66    174.6   1215.0    114.9\n",
       "   5 │ 2018-01-04T04:00:00   183.66    174.6   1215.0    114.9\n",
       "   6 │ 2018-01-04T05:00:00   183.66    174.6   1215.0    114.9\n",
       "   7 │ 2018-01-04T06:00:00   183.66    174.6   1215.0    114.9\n",
       "   8 │ 2018-01-04T07:00:00   183.66    174.6   1215.0    114.9\n",
       "  ⋮  │          ⋮              ⋮        ⋮        ⋮        ⋮\n",
       "  30 │ 2018-01-05T05:00:00   183.66    174.6   1215.0    114.9\n",
       "  31 │ 2018-01-05T06:00:00   183.66    174.6   1215.0    114.9\n",
       "  32 │ 2018-01-05T07:00:00   183.66    174.6   1215.0    114.9\n",
       "  33 │ 2018-01-05T08:00:00   183.66    174.6   1215.0    114.9\n",
       "  34 │ 2018-01-05T09:00:00     0.0       0.0      0.0      0.0\n",
       "  35 │ 2018-01-05T10:00:00     0.0       0.0      0.0      0.0\n",
       "  36 │ 2018-01-05T11:00:00     0.0       0.0      0.0      0.0\n",
       "\u001b[36m                                                21 rows omitted\u001b[0m, DateTime(\"2018-01-05T00:00:00\") => \u001b[1m36×5 DataFrame\u001b[0m\n",
       "\u001b[1m Row \u001b[0m│\u001b[1m DateTime            \u001b[0m\u001b[1m gen-472 \u001b[0m\u001b[1m gen-542 \u001b[0m\u001b[1m gen-213 \u001b[0m\u001b[1m gen-374 \u001b[0m\n",
       "     │\u001b[90m DateTime            \u001b[0m\u001b[90m Float64 \u001b[0m\u001b[90m Float64 \u001b[0m\u001b[90m Float64 \u001b[0m\u001b[90m Float64 \u001b[0m\n",
       "─────┼─────────────────────────────────────────────────────────\n",
       "   1 │ 2018-01-05T00:00:00   183.66    174.6   1215.0      0.0\n",
       "   2 │ 2018-01-05T01:00:00   183.66    174.6   1215.0    114.9\n",
       "   3 │ 2018-01-05T02:00:00   183.66    174.6   1215.0    114.9\n",
       "   4 │ 2018-01-05T03:00:00   183.66    174.6   1215.0    114.9\n",
       "   5 │ 2018-01-05T04:00:00   183.66    174.6   1215.0    114.9\n",
       "   6 │ 2018-01-05T05:00:00   183.66    174.6   1215.0    114.9\n",
       "   7 │ 2018-01-05T06:00:00   183.66    174.6   1215.0    114.9\n",
       "   8 │ 2018-01-05T07:00:00   183.66    174.6   1215.0    114.9\n",
       "  ⋮  │          ⋮              ⋮        ⋮        ⋮        ⋮\n",
       "  30 │ 2018-01-06T05:00:00   183.66    174.6   1215.0    114.9\n",
       "  31 │ 2018-01-06T06:00:00   183.66    174.6   1215.0    114.9\n",
       "  32 │ 2018-01-06T07:00:00   183.66    174.6   1215.0    114.9\n",
       "  33 │ 2018-01-06T08:00:00   183.66    174.6   1215.0    114.9\n",
       "  34 │ 2018-01-06T09:00:00     0.0       0.0      0.0      0.0\n",
       "  35 │ 2018-01-06T10:00:00     0.0       0.0      0.0      0.0\n",
       "  36 │ 2018-01-06T11:00:00     0.0       0.0      0.0      0.0\n",
       "\u001b[36m                                                21 rows omitted\u001b[0m, DateTime(\"2018-01-06T00:00:00\") => \u001b[1m36×5 DataFrame\u001b[0m\n",
       "\u001b[1m Row \u001b[0m│\u001b[1m DateTime            \u001b[0m\u001b[1m gen-472 \u001b[0m\u001b[1m gen-542 \u001b[0m\u001b[1m gen-213 \u001b[0m\u001b[1m gen-374 \u001b[0m\n",
       "     │\u001b[90m DateTime            \u001b[0m\u001b[90m Float64 \u001b[0m\u001b[90m Float64 \u001b[0m\u001b[90m Float64 \u001b[0m\u001b[90m Float64 \u001b[0m\n",
       "─────┼─────────────────────────────────────────────────────────\n",
       "   1 │ 2018-01-06T00:00:00   183.66    174.6   1215.0      0.0\n",
       "   2 │ 2018-01-06T01:00:00   183.66    174.6   1215.0    114.9\n",
       "   3 │ 2018-01-06T02:00:00   183.66    174.6   1215.0    114.9\n",
       "   4 │ 2018-01-06T03:00:00   183.66    174.6   1215.0    114.9\n",
       "   5 │ 2018-01-06T04:00:00   183.66    174.6   1215.0    114.9\n",
       "   6 │ 2018-01-06T05:00:00   183.66    174.6   1215.0    114.9\n",
       "   7 │ 2018-01-06T06:00:00   183.66    174.6   1215.0    114.9\n",
       "   8 │ 2018-01-06T07:00:00   183.66    174.6   1215.0    114.9\n",
       "  ⋮  │          ⋮              ⋮        ⋮        ⋮        ⋮\n",
       "  30 │ 2018-01-07T05:00:00   183.66    174.6   1215.0    114.9\n",
       "  31 │ 2018-01-07T06:00:00   183.66    174.6   1215.0    114.9\n",
       "  32 │ 2018-01-07T07:00:00   183.66    174.6   1215.0    114.9\n",
       "  33 │ 2018-01-07T08:00:00   183.66    174.6   1215.0    114.9\n",
       "  34 │ 2018-01-07T09:00:00     0.0       0.0      0.0      0.0\n",
       "  35 │ 2018-01-07T10:00:00     0.0       0.0      0.0      0.0\n",
       "  36 │ 2018-01-07T11:00:00     0.0       0.0      0.0      0.0\n",
       "\u001b[36m                                                21 rows omitted\u001b[0m, DateTime(\"2018-01-07T00:00:00\") => \u001b[1m36×5 DataFrame\u001b[0m\n",
       "\u001b[1m Row \u001b[0m│\u001b[1m DateTime            \u001b[0m\u001b[1m gen-472 \u001b[0m\u001b[1m gen-542 \u001b[0m\u001b[1m gen-213 \u001b[0m\u001b[1m gen-374 \u001b[0m\n",
       "     │\u001b[90m DateTime            \u001b[0m\u001b[90m Float64 \u001b[0m\u001b[90m Float64 \u001b[0m\u001b[90m Float64 \u001b[0m\u001b[90m Float64 \u001b[0m\n",
       "─────┼─────────────────────────────────────────────────────────\n",
       "   1 │ 2018-01-07T00:00:00   183.66    174.6   1215.0      0.0\n",
       "   2 │ 2018-01-07T01:00:00   183.66    174.6   1215.0    114.9\n",
       "   3 │ 2018-01-07T02:00:00   183.66    174.6   1215.0    114.9\n",
       "   4 │ 2018-01-07T03:00:00   183.66    174.6   1215.0    114.9\n",
       "   5 │ 2018-01-07T04:00:00   183.66    174.6   1215.0    114.9\n",
       "   6 │ 2018-01-07T05:00:00   183.66    174.6   1215.0    114.9\n",
       "   7 │ 2018-01-07T06:00:00   183.66    174.6   1215.0    114.9\n",
       "   8 │ 2018-01-07T07:00:00   183.66    174.6   1215.0    114.9\n",
       "  ⋮  │          ⋮              ⋮        ⋮        ⋮        ⋮\n",
       "  30 │ 2018-01-08T05:00:00   183.66    174.6   1215.0    114.9\n",
       "  31 │ 2018-01-08T06:00:00   183.66    174.6   1215.0    114.9\n",
       "  32 │ 2018-01-08T07:00:00   183.66    174.6   1215.0    114.9\n",
       "  33 │ 2018-01-08T08:00:00   183.66    174.6   1215.0    114.9\n",
       "  34 │ 2018-01-08T09:00:00     0.0       0.0      0.0      0.0\n",
       "  35 │ 2018-01-08T10:00:00     0.0       0.0      0.0      0.0\n",
       "  36 │ 2018-01-08T11:00:00     0.0       0.0      0.0      0.0\n",
       "\u001b[36m                                                21 rows omitted\u001b[0m, DateTime(\"2018-01-08T00:00:00\") => \u001b[1m36×5 DataFrame\u001b[0m\n",
       "\u001b[1m Row \u001b[0m│\u001b[1m DateTime            \u001b[0m\u001b[1m gen-472 \u001b[0m\u001b[1m gen-542 \u001b[0m\u001b[1m gen-213 \u001b[0m\u001b[1m gen-374 \u001b[0m\n",
       "     │\u001b[90m DateTime            \u001b[0m\u001b[90m Float64 \u001b[0m\u001b[90m Float64 \u001b[0m\u001b[90m Float64 \u001b[0m\u001b[90m Float64 \u001b[0m\n",
       "─────┼─────────────────────────────────────────────────────────\n",
       "   1 │ 2018-01-08T00:00:00   183.66    174.6   1215.0      0.0\n",
       "   2 │ 2018-01-08T01:00:00   183.66    174.6   1215.0    114.9\n",
       "   3 │ 2018-01-08T02:00:00   183.66    174.6   1215.0    114.9\n",
       "   4 │ 2018-01-08T03:00:00   183.66    174.6   1215.0    114.9\n",
       "   5 │ 2018-01-08T04:00:00   183.66    174.6   1215.0    114.9\n",
       "   6 │ 2018-01-08T05:00:00   183.66    174.6   1215.0    114.9\n",
       "   7 │ 2018-01-08T06:00:00   183.66    174.6   1215.0    114.9\n",
       "   8 │ 2018-01-08T07:00:00   183.66    174.6   1215.0    114.9\n",
       "  ⋮  │          ⋮              ⋮        ⋮        ⋮        ⋮\n",
       "  30 │ 2018-01-09T05:00:00   183.66    174.6   1215.0    114.9\n",
       "  31 │ 2018-01-09T06:00:00   183.66    174.6   1215.0    114.9\n",
       "  32 │ 2018-01-09T07:00:00   183.66    174.6   1215.0    114.9\n",
       "  33 │ 2018-01-09T08:00:00   183.66    174.6   1215.0    114.9\n",
       "  34 │ 2018-01-09T09:00:00     0.0       0.0      0.0      0.0\n",
       "  35 │ 2018-01-09T10:00:00     0.0       0.0      0.0      0.0\n",
       "  36 │ 2018-01-09T11:00:00     0.0       0.0      0.0      0.0\n",
       "\u001b[36m                                                21 rows omitted\u001b[0m, DateTime(\"2018-01-09T00:00:00\") => \u001b[1m36×5 DataFrame\u001b[0m\n",
       "\u001b[1m Row \u001b[0m│\u001b[1m DateTime            \u001b[0m\u001b[1m gen-472 \u001b[0m\u001b[1m gen-542 \u001b[0m\u001b[1m gen-213 \u001b[0m\u001b[1m gen-374 \u001b[0m\n",
       "     │\u001b[90m DateTime            \u001b[0m\u001b[90m Float64 \u001b[0m\u001b[90m Float64 \u001b[0m\u001b[90m Float64 \u001b[0m\u001b[90m Float64 \u001b[0m\n",
       "─────┼─────────────────────────────────────────────────────────\n",
       "   1 │ 2018-01-09T00:00:00   183.66    174.6   1215.0      0.0\n",
       "   2 │ 2018-01-09T01:00:00   183.66    174.6   1215.0    114.9\n",
       "   3 │ 2018-01-09T02:00:00   183.66    174.6   1215.0    114.9\n",
       "   4 │ 2018-01-09T03:00:00   183.66    174.6   1215.0    114.9\n",
       "   5 │ 2018-01-09T04:00:00   183.66    174.6   1215.0    114.9\n",
       "   6 │ 2018-01-09T05:00:00   183.66    174.6   1215.0    114.9\n",
       "   7 │ 2018-01-09T06:00:00   183.66    174.6   1215.0    114.9\n",
       "   8 │ 2018-01-09T07:00:00   183.66    174.6   1215.0    114.9\n",
       "  ⋮  │          ⋮              ⋮        ⋮        ⋮        ⋮\n",
       "  30 │ 2018-01-10T05:00:00   183.66    174.6   1215.0    114.9\n",
       "  31 │ 2018-01-10T06:00:00   183.66    174.6   1215.0    114.9\n",
       "  32 │ 2018-01-10T07:00:00   183.66    174.6   1215.0    114.9\n",
       "  33 │ 2018-01-10T08:00:00   183.66    174.6   1215.0    114.9\n",
       "  34 │ 2018-01-10T09:00:00     0.0       0.0      0.0      0.0\n",
       "  35 │ 2018-01-10T10:00:00     0.0       0.0      0.0      0.0\n",
       "  36 │ 2018-01-10T11:00:00     0.0       0.0      0.0      0.0\n",
       "\u001b[36m                                                21 rows omitted\u001b[0m, DateTime(\"2018-01-10T00:00:00\") => \u001b[1m36×5 DataFrame\u001b[0m\n",
       "\u001b[1m Row \u001b[0m│\u001b[1m DateTime            \u001b[0m\u001b[1m gen-472 \u001b[0m\u001b[1m gen-542 \u001b[0m\u001b[1m gen-213 \u001b[0m\u001b[1m gen-374 \u001b[0m\n",
       "     │\u001b[90m DateTime            \u001b[0m\u001b[90m Float64 \u001b[0m\u001b[90m Float64 \u001b[0m\u001b[90m Float64 \u001b[0m\u001b[90m Float64 \u001b[0m\n",
       "─────┼─────────────────────────────────────────────────────────\n",
       "   1 │ 2018-01-10T00:00:00   183.66    174.6   1215.0      0.0\n",
       "   2 │ 2018-01-10T01:00:00   183.66    174.6   1215.0    114.9\n",
       "   3 │ 2018-01-10T02:00:00   183.66    174.6   1215.0    114.9\n",
       "   4 │ 2018-01-10T03:00:00   183.66    174.6   1215.0    114.9\n",
       "   5 │ 2018-01-10T04:00:00   183.66    174.6   1215.0    114.9\n",
       "   6 │ 2018-01-10T05:00:00   183.66    174.6   1215.0    114.9\n",
       "   7 │ 2018-01-10T06:00:00   183.66    174.6   1215.0    114.9\n",
       "   8 │ 2018-01-10T07:00:00   183.66    174.6   1215.0    114.9\n",
       "  ⋮  │          ⋮              ⋮        ⋮        ⋮        ⋮\n",
       "  30 │ 2018-01-11T05:00:00   183.66    174.6   1215.0    114.9\n",
       "  31 │ 2018-01-11T06:00:00   183.66    174.6   1215.0    114.9\n",
       "  32 │ 2018-01-11T07:00:00   183.66    174.6   1215.0    114.9\n",
       "  33 │ 2018-01-11T08:00:00   183.66    174.6   1215.0    114.9\n",
       "  34 │ 2018-01-11T09:00:00     0.0       0.0      0.0      0.0\n",
       "  35 │ 2018-01-11T10:00:00     0.0       0.0      0.0      0.0\n",
       "  36 │ 2018-01-11T11:00:00     0.0       0.0      0.0      0.0\n",
       "\u001b[36m                                                21 rows omitted\u001b[0m…))"
      ]
     },
     "metadata": {},
     "output_type": "display_data"
    }
   ],
   "source": [
    "keys(thermal_active_power)"
   ]
  },
  {
   "cell_type": "code",
   "execution_count": null,
   "metadata": {},
   "outputs": [],
   "source": []
  }
 ],
 "metadata": {
  "kernelspec": {
   "display_name": "Julia 1.10.2",
   "language": "julia",
   "name": "julia-1.10"
  },
  "language_info": {
   "file_extension": ".jl",
   "mimetype": "application/julia",
   "name": "julia",
   "version": "1.10.2"
  },
  "orig_nbformat": 4
 },
 "nbformat": 4,
 "nbformat_minor": 2
}
