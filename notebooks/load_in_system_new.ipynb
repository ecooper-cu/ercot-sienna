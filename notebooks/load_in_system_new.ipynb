{
 "cells": [
  {
   "cell_type": "code",
   "execution_count": 1,
   "id": "52ea296c",
   "metadata": {},
   "outputs": [],
   "source": [
    "using PowerSystems\n",
    "using InfrastructureSystems\n",
    "using Dates\n",
    "using DataStructures\n",
    "using Plots, Printf"
   ]
  },
  {
   "cell_type": "code",
   "execution_count": 12,
   "id": "cfaf57c7",
   "metadata": {},
   "outputs": [
    {
     "data": {
      "text/html": [
       "<table>\n",
       "  <caption style = \"text-align: left;\">System</caption>\n",
       "  <thead>\n",
       "    <tr class = \"header headerLastRow\">\n",
       "      <th style = \"text-align: left;\">Property</th>\n",
       "      <th style = \"text-align: left;\">Value</th>\n",
       "    </tr>\n",
       "  </thead>\n",
       "  <tbody>\n",
       "    <tr>\n",
       "      <td style = \"text-align: left;\">Name</td>\n",
       "      <td style = \"text-align: left;\"></td>\n",
       "    </tr>\n",
       "    <tr>\n",
       "      <td style = \"text-align: left;\">Description</td>\n",
       "      <td style = \"text-align: left;\"></td>\n",
       "    </tr>\n",
       "    <tr>\n",
       "      <td style = \"text-align: left;\">System Units Base</td>\n",
       "      <td style = \"text-align: left;\">SYSTEM_BASE</td>\n",
       "    </tr>\n",
       "    <tr>\n",
       "      <td style = \"text-align: left;\">Base Power</td>\n",
       "      <td style = \"text-align: left;\">100.0</td>\n",
       "    </tr>\n",
       "    <tr>\n",
       "      <td style = \"text-align: left;\">Base Frequency</td>\n",
       "      <td style = \"text-align: left;\">60.0</td>\n",
       "    </tr>\n",
       "    <tr>\n",
       "      <td style = \"text-align: left;\">Num Components</td>\n",
       "      <td style = \"text-align: left;\">10247</td>\n",
       "    </tr>\n",
       "  </tbody>\n",
       "</table>\n",
       "\n",
       "<table>\n",
       "  <caption style = \"text-align: left;\">Static Components</caption>\n",
       "  <thead>\n",
       "    <tr class = \"header headerLastRow\">\n",
       "      <th style = \"text-align: left;\">Type</th>\n",
       "      <th style = \"text-align: left;\">Count</th>\n",
       "    </tr>\n",
       "  </thead>\n",
       "  <tbody>\n",
       "    <tr>\n",
       "      <td style = \"text-align: left;\">ACBus</td>\n",
       "      <td style = \"text-align: left;\">2103</td>\n",
       "    </tr>\n",
       "    <tr>\n",
       "      <td style = \"text-align: left;\">Arc</td>\n",
       "      <td style = \"text-align: left;\">2834</td>\n",
       "    </tr>\n",
       "    <tr>\n",
       "      <td style = \"text-align: left;\">Area</td>\n",
       "      <td style = \"text-align: left;\">8</td>\n",
       "    </tr>\n",
       "    <tr>\n",
       "      <td style = \"text-align: left;\">EnergyReservoirStorage</td>\n",
       "      <td style = \"text-align: left;\">62</td>\n",
       "    </tr>\n",
       "    <tr>\n",
       "      <td style = \"text-align: left;\">FixedAdmittance</td>\n",
       "      <td style = \"text-align: left;\">146</td>\n",
       "    </tr>\n",
       "    <tr>\n",
       "      <td style = \"text-align: left;\">HydroDispatch</td>\n",
       "      <td style = \"text-align: left;\">33</td>\n",
       "    </tr>\n",
       "    <tr>\n",
       "      <td style = \"text-align: left;\">Line</td>\n",
       "      <td style = \"text-align: left;\">2440</td>\n",
       "    </tr>\n",
       "    <tr>\n",
       "      <td style = \"text-align: left;\">LoadZone</td>\n",
       "      <td style = \"text-align: left;\">28</td>\n",
       "    </tr>\n",
       "    <tr>\n",
       "      <td style = \"text-align: left;\">PowerLoad</td>\n",
       "      <td style = \"text-align: left;\">1125</td>\n",
       "    </tr>\n",
       "    <tr>\n",
       "      <td style = \"text-align: left;\">RenewableDispatch</td>\n",
       "      <td style = \"text-align: left;\">219</td>\n",
       "    </tr>\n",
       "    <tr>\n",
       "      <td style = \"text-align: left;\">TapTransformer</td>\n",
       "      <td style = \"text-align: left;\">30</td>\n",
       "    </tr>\n",
       "    <tr>\n",
       "      <td style = \"text-align: left;\">ThermalMultiStart</td>\n",
       "      <td style = \"text-align: left;\">349</td>\n",
       "    </tr>\n",
       "    <tr>\n",
       "      <td style = \"text-align: left;\">ThermalStandard</td>\n",
       "      <td style = \"text-align: left;\">5</td>\n",
       "    </tr>\n",
       "    <tr>\n",
       "      <td style = \"text-align: left;\">Transformer2W</td>\n",
       "      <td style = \"text-align: left;\">861</td>\n",
       "    </tr>\n",
       "    <tr>\n",
       "      <td style = \"text-align: left;\">VariableReserveNonSpinning</td>\n",
       "      <td style = \"text-align: left;\">1</td>\n",
       "    </tr>\n",
       "    <tr>\n",
       "      <td style = \"text-align: left;\">VariableReserve{ReserveDown}</td>\n",
       "      <td style = \"text-align: left;\">1</td>\n",
       "    </tr>\n",
       "    <tr>\n",
       "      <td style = \"text-align: left;\">VariableReserve{ReserveUp}</td>\n",
       "      <td style = \"text-align: left;\">2</td>\n",
       "    </tr>\n",
       "  </tbody>\n",
       "</table>\n",
       "\n",
       "<table>\n",
       "  <caption style = \"text-align: left;\">Forecast Summary</caption>\n",
       "  <thead>\n",
       "    <tr class = \"header\">\n",
       "      <th style = \"text-align: left;\">owner_type</th>\n",
       "      <th style = \"text-align: left;\">owner_category</th>\n",
       "      <th style = \"text-align: left;\">time_series_type</th>\n",
       "      <th style = \"text-align: left;\">initial_timestamp</th>\n",
       "      <th style = \"text-align: left;\">resolution</th>\n",
       "      <th style = \"text-align: left;\">count</th>\n",
       "      <th style = \"text-align: left;\">horizon</th>\n",
       "      <th style = \"text-align: left;\">interval</th>\n",
       "      <th style = \"text-align: left;\">window_count</th>\n",
       "    </tr>\n",
       "    <tr class = \"subheader headerLastRow\">\n",
       "      <th style = \"text-align: left;\">String</th>\n",
       "      <th style = \"text-align: left;\">String</th>\n",
       "      <th style = \"text-align: left;\">String</th>\n",
       "      <th style = \"text-align: left;\">String</th>\n",
       "      <th style = \"text-align: left;\">Dates.CompoundPeriod</th>\n",
       "      <th style = \"text-align: left;\">Int64</th>\n",
       "      <th style = \"text-align: left;\">Dates.CompoundPeriod</th>\n",
       "      <th style = \"text-align: left;\">Dates.CompoundPeriod</th>\n",
       "      <th style = \"text-align: left;\">Int64</th>\n",
       "    </tr>\n",
       "  </thead>\n",
       "  <tbody>\n",
       "    <tr>\n",
       "      <td style = \"text-align: left;\">Area</td>\n",
       "      <td style = \"text-align: left;\">Component</td>\n",
       "      <td style = \"text-align: left;\">Deterministic</td>\n",
       "      <td style = \"text-align: left;\">2018-01-01T00:00:00</td>\n",
       "      <td style = \"text-align: left;\">1 hour</td>\n",
       "      <td style = \"text-align: left;\">8</td>\n",
       "      <td style = \"text-align: left;\">1 day, 12 hours</td>\n",
       "      <td style = \"text-align: left;\">1 day</td>\n",
       "      <td style = \"text-align: left;\">365</td>\n",
       "    </tr>\n",
       "    <tr>\n",
       "      <td style = \"text-align: left;\">HydroDispatch</td>\n",
       "      <td style = \"text-align: left;\">Component</td>\n",
       "      <td style = \"text-align: left;\">Deterministic</td>\n",
       "      <td style = \"text-align: left;\">2018-01-01T00:00:00</td>\n",
       "      <td style = \"text-align: left;\">1 hour</td>\n",
       "      <td style = \"text-align: left;\">33</td>\n",
       "      <td style = \"text-align: left;\">1 day, 12 hours</td>\n",
       "      <td style = \"text-align: left;\">1 day</td>\n",
       "      <td style = \"text-align: left;\">365</td>\n",
       "    </tr>\n",
       "    <tr>\n",
       "      <td style = \"text-align: left;\">PowerLoad</td>\n",
       "      <td style = \"text-align: left;\">Component</td>\n",
       "      <td style = \"text-align: left;\">Deterministic</td>\n",
       "      <td style = \"text-align: left;\">2018-01-01T00:00:00</td>\n",
       "      <td style = \"text-align: left;\">1 hour</td>\n",
       "      <td style = \"text-align: left;\">1125</td>\n",
       "      <td style = \"text-align: left;\">1 day, 12 hours</td>\n",
       "      <td style = \"text-align: left;\">1 day</td>\n",
       "      <td style = \"text-align: left;\">365</td>\n",
       "    </tr>\n",
       "    <tr>\n",
       "      <td style = \"text-align: left;\">RenewableDispatch</td>\n",
       "      <td style = \"text-align: left;\">Component</td>\n",
       "      <td style = \"text-align: left;\">Deterministic</td>\n",
       "      <td style = \"text-align: left;\">2018-01-01T00:00:00</td>\n",
       "      <td style = \"text-align: left;\">1 hour</td>\n",
       "      <td style = \"text-align: left;\">218</td>\n",
       "      <td style = \"text-align: left;\">1 day, 12 hours</td>\n",
       "      <td style = \"text-align: left;\">1 day</td>\n",
       "      <td style = \"text-align: left;\">365</td>\n",
       "    </tr>\n",
       "    <tr>\n",
       "      <td style = \"text-align: left;\">VariableReserve</td>\n",
       "      <td style = \"text-align: left;\">Component</td>\n",
       "      <td style = \"text-align: left;\">Deterministic</td>\n",
       "      <td style = \"text-align: left;\">2018-01-01T00:00:00</td>\n",
       "      <td style = \"text-align: left;\">1 hour</td>\n",
       "      <td style = \"text-align: left;\">3</td>\n",
       "      <td style = \"text-align: left;\">1 day, 12 hours</td>\n",
       "      <td style = \"text-align: left;\">1 day</td>\n",
       "      <td style = \"text-align: left;\">365</td>\n",
       "    </tr>\n",
       "    <tr>\n",
       "      <td style = \"text-align: left;\">VariableReserveNonSpinning</td>\n",
       "      <td style = \"text-align: left;\">Component</td>\n",
       "      <td style = \"text-align: left;\">Deterministic</td>\n",
       "      <td style = \"text-align: left;\">2018-01-01T00:00:00</td>\n",
       "      <td style = \"text-align: left;\">1 hour</td>\n",
       "      <td style = \"text-align: left;\">1</td>\n",
       "      <td style = \"text-align: left;\">1 day, 12 hours</td>\n",
       "      <td style = \"text-align: left;\">1 day</td>\n",
       "      <td style = \"text-align: left;\">365</td>\n",
       "    </tr>\n",
       "  </tbody>\n",
       "</table>\n"
      ],
      "text/plain": [
       "\u001b[1mSystem\u001b[0m\n",
       "┌───────────────────┬─────────────┐\n",
       "│\u001b[1m Property          \u001b[0m│\u001b[1m Value       \u001b[0m│\n",
       "├───────────────────┼─────────────┤\n",
       "│ Name              │             │\n",
       "│ Description       │             │\n",
       "│ System Units Base │ SYSTEM_BASE │\n",
       "│ Base Power        │ 100.0       │\n",
       "│ Base Frequency    │ 60.0        │\n",
       "│ Num Components    │ 10247       │\n",
       "└───────────────────┴─────────────┘\n",
       "\n",
       "\u001b[1mStatic Components\u001b[0m\n",
       "┌──────────────────────────────┬───────┐\n",
       "│\u001b[1m Type                         \u001b[0m│\u001b[1m Count \u001b[0m│\n",
       "├──────────────────────────────┼───────┤\n",
       "│ ACBus                        │ 2103  │\n",
       "│ Arc                          │ 2834  │\n",
       "│ Area                         │ 8     │\n",
       "│ EnergyReservoirStorage       │ 62    │\n",
       "│ FixedAdmittance              │ 146   │\n",
       "│ HydroDispatch                │ 33    │\n",
       "│ Line                         │ 2440  │\n",
       "│ LoadZone                     │ 28    │\n",
       "│ PowerLoad                    │ 1125  │\n",
       "│ RenewableDispatch            │ 219   │\n",
       "│ TapTransformer               │ 30    │\n",
       "│ ThermalMultiStart            │ 349   │\n",
       "│ ThermalStandard              │ 5     │\n",
       "│ Transformer2W                │ 861   │\n",
       "│ VariableReserveNonSpinning   │ 1     │\n",
       "│ VariableReserve{ReserveDown} │ 1     │\n",
       "│ VariableReserve{ReserveUp}   │ 2     │\n",
       "└──────────────────────────────┴───────┘\n",
       "\n",
       "\u001b[1mForecast Summary\u001b[0m\n",
       "┌────────────────────────────┬────────────────┬──────────────────┬──────────────\n",
       "│\u001b[1m owner_type                 \u001b[0m│\u001b[1m owner_category \u001b[0m│\u001b[1m time_series_type \u001b[0m│\u001b[1m initial_tim\u001b[0m ⋯\n",
       "│\u001b[90m String                     \u001b[0m│\u001b[90m String         \u001b[0m│\u001b[90m String           \u001b[0m│\u001b[90m String     \u001b[0m ⋯\n",
       "├────────────────────────────┼────────────────┼──────────────────┼──────────────\n",
       "│ Area                       │ Component      │ Deterministic    │ 2018-01-01T ⋯\n",
       "│ HydroDispatch              │ Component      │ Deterministic    │ 2018-01-01T ⋯\n",
       "│ PowerLoad                  │ Component      │ Deterministic    │ 2018-01-01T ⋯\n",
       "│ RenewableDispatch          │ Component      │ Deterministic    │ 2018-01-01T ⋯\n",
       "│ VariableReserve            │ Component      │ Deterministic    │ 2018-01-01T ⋯\n",
       "│ VariableReserveNonSpinning │ Component      │ Deterministic    │ 2018-01-01T ⋯\n",
       "└────────────────────────────┴────────────────┴──────────────────┴──────────────\n",
       "\u001b[36m                                                               6 columns omitted\u001b[0m\n"
      ]
     },
     "metadata": {},
     "output_type": "display_data"
    }
   ],
   "source": [
    "file_dir = joinpath(\"/projects\", \"emco4286\", \"data\", \"sienna_data\", \"input\", \"DA_sys\", \"final_sys_DA.json\")\n",
    "sys = System(file_dir)"
   ]
  },
  {
   "cell_type": "code",
   "execution_count": 15,
   "id": "697a5a0e",
   "metadata": {},
   "outputs": [
    {
     "data": {
      "text/plain": [
       "(\"SYSTEM_BASE\", 100.0)"
      ]
     },
     "metadata": {},
     "output_type": "display_data"
    }
   ],
   "source": [
    "get_units_base(sys), get_base_power(sys)\n"
   ]
  },
  {
   "cell_type": "code",
   "execution_count": 23,
   "id": "49abb527",
   "metadata": {},
   "outputs": [],
   "source": [
    "gens = reduce(vcat, [collect(get_components(RenewableDispatch, sys)), collect(get_components(ThermalStandard, sys)), collect(get_components(ThermalMultiStart, sys))]) #, collect(get_components(RenewableDispatch, sys))])\n",
    "\n",
    "mydict = Dict(4 => 0., 20 => 0., 12 => 0., 8 => 0. , 22 => 0., 21 => 0.)\n",
    "\n",
    "for g in gens\n",
    "\n",
    "    pm_val = get_prime_mover_type(g).value\n",
    "    rating = get_rating(g)*get_base_power(sys)\n",
    "\n",
    "    # if pm_val == 21\n",
    "    #     rating /=100\n",
    "    # end\n",
    "\n",
    "    mydict[pm_val] = mydict[pm_val] + rating\n",
    "end"
   ]
  },
  {
   "cell_type": "code",
   "execution_count": 24,
   "id": "e2e1a342",
   "metadata": {},
   "outputs": [
    {
     "data": {
      "text/plain": [
       "Dict{Int64, Float64} with 6 entries:\n",
       "  22 => 9738.46\n",
       "  4  => 47488.6\n",
       "  20 => 40687.2\n",
       "  21 => 7.51645e6\n",
       "  12 => 11215.9\n",
       "  8  => 28817.5"
      ]
     },
     "metadata": {},
     "output_type": "display_data"
    }
   ],
   "source": [
    "mydict"
   ]
  },
  {
   "cell_type": "code",
   "execution_count": 21,
   "id": "53c09040",
   "metadata": {},
   "outputs": [
    {
     "data": {
      "text/plain": [
       "7.6544e6"
      ]
     },
     "metadata": {},
     "output_type": "display_data"
    }
   ],
   "source": [
    "round(sum(collect(values(mydict))))*100"
   ]
  },
  {
   "cell_type": "code",
   "execution_count": 27,
   "id": "7f187f7d",
   "metadata": {},
   "outputs": [
    {
     "data": {
      "text/plain": [
       "\"/home/emco4286/ercot-sienna/notebooks/tamu_sys_thermal_capacity_pie.png\""
      ]
     },
     "metadata": {},
     "output_type": "display_data"
    }
   ],
   "source": [
    "data = collect(values(mydict))\n",
    "tot = sum(data)\n",
    "datapct = [@sprintf(\"%.1f%%\", x/tot*100) for x in data]\n",
    "\n",
    "θ = (cumsum(data) - data/2) .* 360/sum(data)\n",
    "scθ = sincosd.(θ)\n",
    "p = pie([\"Wind turbine\", \"Combined-cycle unit\", \"Steam turbine\", \"PV plant\", \"Gas turbine\", \"Combustion turbine\"], data, title=@sprintf(\"%s MW total capacity\", round(Int32, tot/1000)), palette=collect(cgrad(:batlow10, 10, categorical=true))[begin+2:end])\n",
    "\n",
    "# p = pie([\"Combined-cycle unit\", \"Steam turbine\", \"Gas turbine\", \"Combustion turbine\"], data, title=@sprintf(\"%s MW total thermal capacity\", round(Int32, tot/1000)), palette=collect(cgrad(:batlow10, 10, categorical=true))[begin+2:2:end])\n",
    "for (s, sci) in zip(datapct, scθ)\n",
    "    annotate!(0.6*sci[2], 0.6*sci[1], text(s, 9, :black))\n",
    "end\n",
    "p\n",
    "savefig(\"tamu_sys_thermal_capacity_pie.png\")"
   ]
  },
  {
   "cell_type": "code",
   "execution_count": 46,
   "id": "71fface9",
   "metadata": {},
   "outputs": [
    {
     "data": {
      "image/png": "[encoded data removed]",
      "image/svg+xml": [
       "<?xml version=\"1.0\" encoding=\"utf-8\"?>\n",
       "<svg xmlns=\"http://www.w3.org/2000/svg\" xmlns:xlink=\"http://www.w3.org/1999/xlink\" width=\"600\" height=\"400\" viewBox=\"0 0 2400 1600\">\n",
       "<defs>\n",
       "  <clipPath id=\"clip490\">\n",
       "    <rect x=\"0\" y=\"0\" width=\"2400\" height=\"1600\"/>\n",
       "  </clipPath>\n",
       "</defs>\n",
       "<path clip-path=\"url(#clip490)\" d=\"M0 1600 L2400 1600 L2400 0 L0 0  Z\" fill=\"#ffffff\" fill-rule=\"evenodd\" fill-opacity=\"1\"/>\n",
       "<defs>\n",
       "  <clipPath id=\"clip491\">\n",
       "    <rect x=\"480\" y=\"0\" width=\"1681\" height=\"1600\"/>\n",
       "  </clipPath>\n",
       "</defs>\n",
       "<path clip-path=\"url(#clip490)\" d=\"M193.936 1486.45 L2352.76 1486.45 L2352.76 47.2441 L193.936 47.2441  Z\" fill=\"#ffffff\" fill-rule=\"evenodd\" fill-opacity=\"1\"/>\n",
       "<defs>\n",
       "  <clipPath id=\"clip492\">\n",
       "    <rect x=\"193\" y=\"47\" width=\"2160\" height=\"1440\"/>\n",
       "  </clipPath>\n",
       "</defs>\n",
       "<path clip-path=\"url(#clip492)\" d=\"M1273.35 766.844 L1952.22 766.844 L1951.45 734.613 L1949.16 702.454 L1945.34 670.441 L1940 638.645 L1933.16 607.138 L1924.84 575.991 L1915.04 545.275 L1903.8 515.059 L1891.13 485.41 L1877.08 456.396 L1861.66 428.082 L1844.91 400.533 L1826.87 373.809 L1807.59 347.972 L1787.1 323.08 L1765.45 299.189 L1742.69 276.352 L1718.87 254.622 L1694.05 234.047 L1668.28 214.673 L1641.62 196.545 L1614.13 179.704 L1585.87 164.186 L1556.9 150.028 L1527.3 137.261 L1497.12 125.914 L1466.44 116.012 L1435.32 107.578 L1403.84 100.632 L1372.06 95.1875 L1340.06 91.2582 L1307.91 88.8527 L1275.68 87.9763 L1243.45 88.631 L1211.28 90.8154 L1179.25 94.5245 L1147.44 99.7499 L1115.91 106.48 L1084.73 114.699 L1053.98 124.39 L1023.73 135.529 L994.038 148.092 L964.976 162.051 L936.609 177.374 L909.002 194.026 L882.217 211.97 L856.314 231.166 L831.351 251.57 L807.386 273.136 L1273.35 766.844  Z\" fill=\"#009af9\" fill-rule=\"evenodd\" fill-opacity=\"1\"/>\n",
       "<polyline clip-path=\"url(#clip492)\" style=\"stroke:#000000; stroke-linecap:round; stroke-linejoin:round; stroke-width:4; stroke-opacity:1; fill:none\" points=\"1273.35,766.844 1952.22,766.844 1951.45,734.613 1949.16,702.454 1945.34,670.441 1940,638.645 1933.16,607.138 1924.84,575.991 1915.04,545.275 1903.8,515.059 1891.13,485.41 1877.08,456.396 1861.66,428.082 1844.91,400.533 1826.87,373.809 1807.59,347.972 1787.1,323.08 1765.45,299.189 1742.69,276.352 1718.87,254.622 1694.05,234.047 1668.28,214.673 1641.62,196.545 1614.13,179.704 1585.87,164.186 1556.9,150.028 1527.3,137.261 1497.12,125.914 1466.44,116.012 1435.32,107.578 1403.84,100.632 1372.06,95.1875 1340.06,91.2582 1307.91,88.8527 1275.68,87.9763 1243.45,88.631 1211.28,90.8154 1179.25,94.5245 1147.44,99.7499 1115.91,106.48 1084.73,114.699 1053.98,124.39 1023.73,135.529 994.038,148.092 964.976,162.051 936.609,177.374 909.002,194.026 882.217,211.97 856.314,231.166 831.351,251.57 807.386,273.136 1273.35,766.844 \"/>\n",
       "<path clip-path=\"url(#clip492)\" d=\"M1273.35 766.844 L807.386 273.136 L787.686 292.501 L768.791 312.651 L750.731 333.553 L733.537 355.173 L717.236 377.474 L701.856 400.42 L687.422 423.973 L673.959 448.093 L661.487 472.742 L650.029 497.877 L639.603 523.457 L630.226 549.441 L621.914 575.784 L614.681 602.444 L608.538 629.376 L603.496 656.535 L599.563 683.877 L596.745 711.357 L595.048 738.928 L594.474 766.546 L595.024 794.164 L596.697 821.737 L599.49 849.219 L603.399 876.564 L608.417 903.728 L614.536 930.666 L621.746 957.332 L630.035 983.683 L639.389 1009.67 L649.793 1035.26 L661.229 1060.41 L673.679 1085.07 L687.121 1109.2 L701.534 1132.77 L716.894 1155.73 L733.175 1178.04 L750.35 1199.68 L768.392 1220.59 L787.269 1240.76 L806.952 1260.14 L827.406 1278.71 L848.599 1296.43 L870.495 1313.27 L893.058 1329.2 L916.251 1344.21 L940.035 1358.26 L964.371 1371.33 L989.218 1383.4 L1014.54 1394.45 L1273.35 766.844  Z\" fill=\"#e26f46\" fill-rule=\"evenodd\" fill-opacity=\"1\"/>\n",
       "<polyline clip-path=\"url(#clip492)\" style=\"stroke:#000000; stroke-linecap:round; stroke-linejoin:round; stroke-width:4; stroke-opacity:1; fill:none\" points=\"1273.35,766.844 807.386,273.136 787.686,292.501 768.791,312.651 750.731,333.553 733.537,355.173 717.236,377.474 701.856,400.42 687.422,423.973 673.959,448.093 661.487,472.742 650.029,497.877 639.603,523.457 630.226,549.441 621.914,575.784 614.681,602.444 608.538,629.376 603.496,656.535 599.563,683.877 596.745,711.357 595.048,738.928 594.474,766.546 595.024,794.164 596.697,821.737 599.49,849.219 603.399,876.564 608.417,903.728 614.536,930.666 621.746,957.332 630.035,983.683 639.389,1009.67 649.793,1035.26 661.229,1060.41 673.679,1085.07 687.121,1109.2 701.534,1132.77 716.894,1155.73 733.175,1178.04 750.35,1199.68 768.392,1220.59 787.269,1240.76 806.952,1260.14 827.406,1278.71 848.599,1296.43 870.495,1313.27 893.058,1329.2 916.251,1344.21 940.035,1358.26 964.371,1371.33 989.218,1383.4 1014.54,1394.45 1273.35,766.844 \"/>\n",
       "<path clip-path=\"url(#clip492)\" d=\"M1273.35 766.844 L1014.54 1394.45 L1021.59 1397.31 L1028.68 1400.09 L1035.8 1402.8 L1042.95 1405.42 L1050.13 1407.97 L1057.33 1410.43 L1064.56 1412.81 L1071.82 1415.12 L1079.11 1417.34 L1086.42 1419.47 L1093.75 1421.53 L1101.1 1423.5 L1108.48 1425.39 L1115.88 1427.2 L1123.3 1428.93 L1130.73 1430.57 L1138.19 1432.13 L1145.66 1433.6 L1153.14 1434.99 L1160.65 1436.3 L1168.16 1437.52 L1175.69 1438.66 L1183.24 1439.71 L1190.79 1440.68 L1198.35 1441.56 L1205.93 1442.36 L1213.51 1443.07 L1221.1 1443.7 L1228.69 1444.25 L1236.29 1444.7 L1243.9 1445.08 L1251.51 1445.37 L1259.12 1445.57 L1266.74 1445.68 L1274.35 1445.72 L1281.97 1445.66 L1289.58 1445.52 L1297.19 1445.3 L1304.8 1444.99 L1312.41 1444.59 L1320.01 1444.11 L1327.6 1443.54 L1335.19 1442.89 L1342.77 1442.16 L1350.34 1441.34 L1357.9 1440.43 L1365.45 1439.44 L1372.99 1438.36 L1380.52 1437.2 L1273.35 766.844  Z\" fill=\"#3da44d\" fill-rule=\"evenodd\" fill-opacity=\"1\"/>\n",
       "<polyline clip-path=\"url(#clip492)\" style=\"stroke:#000000; stroke-linecap:round; stroke-linejoin:round; stroke-width:4; stroke-opacity:1; fill:none\" points=\"1273.35,766.844 1014.54,1394.45 1021.59,1397.31 1028.68,1400.09 1035.8,1402.8 1042.95,1405.42 1050.13,1407.97 1057.33,1410.43 1064.56,1412.81 1071.82,1415.12 1079.11,1417.34 1086.42,1419.47 1093.75,1421.53 1101.1,1423.5 1108.48,1425.39 1115.88,1427.2 1123.3,1428.93 1130.73,1430.57 1138.19,1432.13 1145.66,1433.6 1153.14,1434.99 1160.65,1436.3 1168.16,1437.52 1175.69,1438.66 1183.24,1439.71 1190.79,1440.68 1198.35,1441.56 1205.93,1442.36 1213.51,1443.07 1221.1,1443.7 1228.69,1444.25 1236.29,1444.7 1243.9,1445.08 1251.51,1445.37 1259.12,1445.57 1266.74,1445.68 1274.35,1445.72 1281.97,1445.66 1289.58,1445.52 1297.19,1445.3 1304.8,1444.99 1312.41,1444.59 1320.01,1444.11 1327.6,1443.54 1335.19,1442.89 1342.77,1442.16 1350.34,1441.34 1357.9,1440.43 1365.45,1439.44 1372.99,1438.36 1380.52,1437.2 1273.35,766.844 \"/>\n",
       "<path clip-path=\"url(#clip492)\" d=\"M1273.35 766.844 L1380.52 1437.2 L1399.79 1433.84 L1418.96 1429.92 L1438.01 1425.44 L1456.92 1420.43 L1475.68 1414.86 L1494.27 1408.76 L1512.67 1402.13 L1530.88 1394.97 L1548.88 1387.29 L1566.64 1379.09 L1584.16 1370.38 L1601.43 1361.18 L1618.42 1351.47 L1635.12 1341.29 L1651.53 1330.62 L1667.62 1319.49 L1683.38 1307.9 L1698.8 1295.86 L1713.87 1283.38 L1728.57 1270.47 L1742.89 1257.14 L1756.83 1243.41 L1770.36 1229.28 L1783.48 1214.76 L1796.18 1199.87 L1808.44 1184.63 L1820.26 1169.03 L1831.62 1153.11 L1842.52 1136.86 L1852.95 1120.3 L1862.89 1103.45 L1872.35 1086.32 L1881.3 1068.93 L1889.76 1051.28 L1897.7 1033.4 L1905.12 1015.3 L1912.02 996.987 L1918.38 978.486 L1924.22 959.81 L1929.51 940.973 L1934.25 921.992 L1938.45 902.881 L1942.09 883.658 L1945.18 864.338 L1947.71 844.936 L1949.68 825.47 L1951.09 805.955 L1951.94 786.408 L1952.22 766.844 L1273.35 766.844  Z\" fill=\"#c271d2\" fill-rule=\"evenodd\" fill-opacity=\"1\"/>\n",
       "<polyline clip-path=\"url(#clip492)\" style=\"stroke:#000000; stroke-linecap:round; stroke-linejoin:round; stroke-width:4; stroke-opacity:1; fill:none\" points=\"1273.35,766.844 1380.52,1437.2 1399.79,1433.84 1418.96,1429.92 1438.01,1425.44 1456.92,1420.43 1475.68,1414.86 1494.27,1408.76 1512.67,1402.13 1530.88,1394.97 1548.88,1387.29 1566.64,1379.09 1584.16,1370.38 1601.43,1361.18 1618.42,1351.47 1635.12,1341.29 1651.53,1330.62 1667.62,1319.49 1683.38,1307.9 1698.8,1295.86 1713.87,1283.38 1728.57,1270.47 1742.89,1257.14 1756.83,1243.41 1770.36,1229.28 1783.48,1214.76 1796.18,1199.87 1808.44,1184.63 1820.26,1169.03 1831.62,1153.11 1842.52,1136.86 1852.95,1120.3 1862.89,1103.45 1872.35,1086.32 1881.3,1068.93 1889.76,1051.28 1897.7,1033.4 1905.12,1015.3 1912.02,996.987 1918.38,978.486 1924.22,959.81 1929.51,940.973 1934.25,921.992 1938.45,902.881 1942.09,883.658 1945.18,864.338 1947.71,844.936 1949.68,825.47 1951.09,805.955 1951.94,786.408 1952.22,766.844 1273.35,766.844 \"/>\n",
       "<path clip-path=\"url(#clip490)\" d=\"M1581.3 354.418 L2280.8 354.418 L2280.8 95.2176 L1581.3 95.2176  Z\" fill=\"#ffffff\" fill-rule=\"evenodd\" fill-opacity=\"1\"/>\n",
       "<polyline clip-path=\"url(#clip490)\" style=\"stroke:#000000; stroke-linecap:round; stroke-linejoin:round; stroke-width:4; stroke-opacity:1; fill:none\" points=\"1581.3,354.418 2280.8,354.418 2280.8,95.2176 1581.3,95.2176 1581.3,354.418 \"/>\n",
       "<path clip-path=\"url(#clip490)\" d=\"M1605.29 167.794 L1749.21 167.794 L1749.21 126.322 L1605.29 126.322 L1605.29 167.794  Z\" fill=\"#009af9\" fill-rule=\"evenodd\" fill-opacity=\"1\"/>\n",
       "<polyline clip-path=\"url(#clip490)\" style=\"stroke:#000000; stroke-linecap:round; stroke-linejoin:round; stroke-width:4; stroke-opacity:1; fill:none\" points=\"1605.29,167.794 1749.21,167.794 1749.21,126.322 1605.29,126.322 1605.29,167.794 \"/>\n",
       "<path clip-path=\"url(#clip490)\" d=\"M1801.07 132.44 L1801.07 137.37 Q1798.71 135.171 1796.02 134.083 Q1793.36 132.995 1790.35 132.995 Q1784.43 132.995 1781.28 136.629 Q1778.13 140.24 1778.13 147.092 Q1778.13 153.921 1781.28 157.555 Q1784.43 161.166 1790.35 161.166 Q1793.36 161.166 1796.02 160.078 Q1798.71 158.99 1801.07 156.791 L1801.07 161.676 Q1798.62 163.342 1795.86 164.176 Q1793.13 165.009 1790.07 165.009 Q1782.23 165.009 1777.71 160.217 Q1773.2 155.402 1773.2 147.092 Q1773.2 138.759 1777.71 133.967 Q1782.23 129.153 1790.07 129.153 Q1793.18 129.153 1795.91 129.986 Q1798.66 130.796 1801.07 132.44 Z\" fill=\"#000000\" fill-rule=\"nonzero\" fill-opacity=\"1\" /><path clip-path=\"url(#clip490)\" d=\"M1818.15 141.398 Q1814.73 141.398 1812.74 144.083 Q1810.75 146.745 1810.75 151.398 Q1810.75 156.051 1812.71 158.736 Q1814.7 161.398 1818.15 161.398 Q1821.56 161.398 1823.55 158.713 Q1825.54 156.027 1825.54 151.398 Q1825.54 146.791 1823.55 144.106 Q1821.56 141.398 1818.15 141.398 M1818.15 137.787 Q1823.71 137.787 1826.88 141.398 Q1830.05 145.009 1830.05 151.398 Q1830.05 157.764 1826.88 161.398 Q1823.71 165.009 1818.15 165.009 Q1812.57 165.009 1809.4 161.398 Q1806.26 157.764 1806.26 151.398 Q1806.26 145.009 1809.4 141.398 Q1812.57 137.787 1818.15 137.787 Z\" fill=\"#000000\" fill-rule=\"nonzero\" fill-opacity=\"1\" /><path clip-path=\"url(#clip490)\" d=\"M1857.3 143.389 Q1858.89 140.518 1861.12 139.153 Q1863.34 137.787 1866.35 137.787 Q1870.4 137.787 1872.6 140.634 Q1874.8 143.458 1874.8 148.689 L1874.8 164.338 L1870.51 164.338 L1870.51 148.828 Q1870.51 145.102 1869.19 143.296 Q1867.88 141.49 1865.17 141.49 Q1861.86 141.49 1859.94 143.69 Q1858.01 145.889 1858.01 149.685 L1858.01 164.338 L1853.73 164.338 L1853.73 148.828 Q1853.73 145.078 1852.41 143.296 Q1851.09 141.49 1848.34 141.49 Q1845.07 141.49 1843.15 143.713 Q1841.23 145.912 1841.23 149.685 L1841.23 164.338 L1836.95 164.338 L1836.95 138.412 L1841.23 138.412 L1841.23 142.44 Q1842.69 140.055 1844.73 138.921 Q1846.76 137.787 1849.57 137.787 Q1852.39 137.787 1854.36 139.222 Q1856.35 140.657 1857.3 143.389 Z\" fill=\"#000000\" fill-rule=\"nonzero\" fill-opacity=\"1\" /><path clip-path=\"url(#clip490)\" d=\"M1901.9 151.398 Q1901.9 146.699 1899.96 144.037 Q1898.04 141.352 1894.66 141.352 Q1891.28 141.352 1889.33 144.037 Q1887.41 146.699 1887.41 151.398 Q1887.41 156.097 1889.33 158.782 Q1891.28 161.444 1894.66 161.444 Q1898.04 161.444 1899.96 158.782 Q1901.9 156.097 1901.9 151.398 M1887.41 142.347 Q1888.75 140.032 1890.79 138.921 Q1892.85 137.787 1895.7 137.787 Q1900.42 137.787 1903.36 141.537 Q1906.32 145.287 1906.32 151.398 Q1906.32 157.509 1903.36 161.259 Q1900.42 165.009 1895.7 165.009 Q1892.85 165.009 1890.79 163.898 Q1888.75 162.763 1887.41 160.449 L1887.41 164.338 L1883.13 164.338 L1883.13 128.319 L1887.41 128.319 L1887.41 142.347 Z\" fill=\"#000000\" fill-rule=\"nonzero\" fill-opacity=\"1\" /><path clip-path=\"url(#clip490)\" d=\"M1913.38 138.412 L1917.64 138.412 L1917.64 164.338 L1913.38 164.338 L1913.38 138.412 M1913.38 128.319 L1917.64 128.319 L1917.64 133.713 L1913.38 133.713 L1913.38 128.319 Z\" fill=\"#000000\" fill-rule=\"nonzero\" fill-opacity=\"1\" /><path clip-path=\"url(#clip490)\" d=\"M1948.11 148.689 L1948.11 164.338 L1943.85 164.338 L1943.85 148.828 Q1943.85 145.148 1942.41 143.319 Q1940.98 141.49 1938.11 141.49 Q1934.66 141.49 1932.67 143.69 Q1930.68 145.889 1930.68 149.685 L1930.68 164.338 L1926.39 164.338 L1926.39 138.412 L1930.68 138.412 L1930.68 142.44 Q1932.2 140.102 1934.26 138.944 Q1936.35 137.787 1939.06 137.787 Q1943.52 137.787 1945.81 140.565 Q1948.11 143.319 1948.11 148.689 Z\" fill=\"#000000\" fill-rule=\"nonzero\" fill-opacity=\"1\" /><path clip-path=\"url(#clip490)\" d=\"M1978.78 150.31 L1978.78 152.393 L1959.19 152.393 Q1959.47 156.791 1961.83 159.106 Q1964.22 161.398 1968.45 161.398 Q1970.91 161.398 1973.2 160.796 Q1975.51 160.194 1977.78 158.99 L1977.78 163.018 Q1975.49 163.99 1973.08 164.5 Q1970.68 165.009 1968.2 165.009 Q1962 165.009 1958.36 161.398 Q1954.75 157.787 1954.75 151.629 Q1954.75 145.264 1958.18 141.537 Q1961.62 137.787 1967.46 137.787 Q1972.69 137.787 1975.72 141.166 Q1978.78 144.523 1978.78 150.31 M1974.52 149.06 Q1974.47 145.565 1972.55 143.481 Q1970.65 141.398 1967.5 141.398 Q1963.94 141.398 1961.79 143.412 Q1959.66 145.426 1959.33 149.083 L1974.52 149.06 Z\" fill=\"#000000\" fill-rule=\"nonzero\" fill-opacity=\"1\" /><path clip-path=\"url(#clip490)\" d=\"M2002.83 142.347 L2002.83 128.319 L2007.09 128.319 L2007.09 164.338 L2002.83 164.338 L2002.83 160.449 Q2001.49 162.763 1999.43 163.898 Q1997.39 165.009 1994.52 165.009 Q1989.82 165.009 1986.86 161.259 Q1983.92 157.509 1983.92 151.398 Q1983.92 145.287 1986.86 141.537 Q1989.82 137.787 1994.52 137.787 Q1997.39 137.787 1999.43 138.921 Q2001.49 140.032 2002.83 142.347 M1988.31 151.398 Q1988.31 156.097 1990.24 158.782 Q1992.18 161.444 1995.56 161.444 Q1998.94 161.444 2000.88 158.782 Q2002.83 156.097 2002.83 151.398 Q2002.83 146.699 2000.88 144.037 Q1998.94 141.352 1995.56 141.352 Q1992.18 141.352 1990.24 144.037 Q1988.31 146.699 1988.31 151.398 Z\" fill=\"#000000\" fill-rule=\"nonzero\" fill-opacity=\"1\" /><path clip-path=\"url(#clip490)\" d=\"M2013.71 149.453 L2026.18 149.453 L2026.18 153.25 L2013.71 153.25 L2013.71 149.453 Z\" fill=\"#000000\" fill-rule=\"nonzero\" fill-opacity=\"1\" /><path clip-path=\"url(#clip490)\" d=\"M2051.62 139.407 L2051.62 143.389 Q2049.82 142.393 2047.99 141.907 Q2046.18 141.398 2044.33 141.398 Q2040.19 141.398 2037.9 144.037 Q2035.61 146.652 2035.61 151.398 Q2035.61 156.143 2037.9 158.782 Q2040.19 161.398 2044.33 161.398 Q2046.18 161.398 2047.99 160.912 Q2049.82 160.402 2051.62 159.407 L2051.62 163.342 Q2049.84 164.176 2047.92 164.592 Q2046.02 165.009 2043.87 165.009 Q2038.01 165.009 2034.56 161.328 Q2031.12 157.648 2031.12 151.398 Q2031.12 145.055 2034.59 141.421 Q2038.08 137.787 2044.15 137.787 Q2046.12 137.787 2047.99 138.203 Q2049.87 138.597 2051.62 139.407 Z\" fill=\"#000000\" fill-rule=\"nonzero\" fill-opacity=\"1\" /><path clip-path=\"url(#clip490)\" d=\"M2069.82 166.745 Q2068.01 171.375 2066.3 172.787 Q2064.59 174.199 2061.72 174.199 L2058.31 174.199 L2058.31 170.634 L2060.81 170.634 Q2062.57 170.634 2063.55 169.8 Q2064.52 168.967 2065.7 165.865 L2066.46 163.921 L2055.98 138.412 L2060.49 138.412 L2068.59 158.689 L2076.69 138.412 L2081.21 138.412 L2069.82 166.745 Z\" fill=\"#000000\" fill-rule=\"nonzero\" fill-opacity=\"1\" /><path clip-path=\"url(#clip490)\" d=\"M2105.74 139.407 L2105.74 143.389 Q2103.94 142.393 2102.11 141.907 Q2100.3 141.398 2098.45 141.398 Q2094.31 141.398 2092.02 144.037 Q2089.73 146.652 2089.73 151.398 Q2089.73 156.143 2092.02 158.782 Q2094.31 161.398 2098.45 161.398 Q2100.3 161.398 2102.11 160.912 Q2103.94 160.402 2105.74 159.407 L2105.74 163.342 Q2103.96 164.176 2102.04 164.592 Q2100.14 165.009 2097.99 165.009 Q2092.13 165.009 2088.68 161.328 Q2085.24 157.648 2085.24 151.398 Q2085.24 145.055 2088.71 141.421 Q2092.2 137.787 2098.27 137.787 Q2100.24 137.787 2102.11 138.203 Q2103.99 138.597 2105.74 139.407 Z\" fill=\"#000000\" fill-rule=\"nonzero\" fill-opacity=\"1\" /><path clip-path=\"url(#clip490)\" d=\"M2113.15 128.319 L2117.41 128.319 L2117.41 164.338 L2113.15 164.338 L2113.15 128.319 Z\" fill=\"#000000\" fill-rule=\"nonzero\" fill-opacity=\"1\" /><path clip-path=\"url(#clip490)\" d=\"M2148.5 150.31 L2148.5 152.393 L2128.92 152.393 Q2129.19 156.791 2131.55 159.106 Q2133.94 161.398 2138.17 161.398 Q2140.63 161.398 2142.92 160.796 Q2145.23 160.194 2147.5 158.99 L2147.5 163.018 Q2145.21 163.99 2142.8 164.5 Q2140.4 165.009 2137.92 165.009 Q2131.72 165.009 2128.08 161.398 Q2124.47 157.787 2124.47 151.629 Q2124.47 145.264 2127.9 141.537 Q2131.35 137.787 2137.18 137.787 Q2142.41 137.787 2145.44 141.166 Q2148.5 144.523 2148.5 150.31 M2144.24 149.06 Q2144.19 145.565 2142.27 143.481 Q2140.37 141.398 2137.23 141.398 Q2133.66 141.398 2131.51 143.412 Q2129.38 145.426 2129.05 149.083 L2144.24 149.06 Z\" fill=\"#000000\" fill-rule=\"nonzero\" fill-opacity=\"1\" /><path clip-path=\"url(#clip490)\" d=\"M2170.12 154.106 L2170.12 138.412 L2174.38 138.412 L2174.38 153.944 Q2174.38 157.625 2175.81 159.476 Q2177.25 161.305 2180.12 161.305 Q2183.57 161.305 2185.56 159.106 Q2187.57 156.907 2187.57 153.111 L2187.57 138.412 L2191.83 138.412 L2191.83 164.338 L2187.57 164.338 L2187.57 160.356 Q2186.02 162.717 2183.96 163.875 Q2181.92 165.009 2179.22 165.009 Q2174.75 165.009 2172.43 162.231 Q2170.12 159.453 2170.12 154.106 M2180.84 137.787 L2180.84 137.787 Z\" fill=\"#000000\" fill-rule=\"nonzero\" fill-opacity=\"1\" /><path clip-path=\"url(#clip490)\" d=\"M2222.16 148.689 L2222.16 164.338 L2217.9 164.338 L2217.9 148.828 Q2217.9 145.148 2216.46 143.319 Q2215.03 141.49 2212.16 141.49 Q2208.71 141.49 2206.72 143.69 Q2204.73 145.889 2204.73 149.685 L2204.73 164.338 L2200.44 164.338 L2200.44 138.412 L2204.73 138.412 L2204.73 142.44 Q2206.25 140.102 2208.31 138.944 Q2210.4 137.787 2213.1 137.787 Q2217.57 137.787 2219.86 140.565 Q2222.16 143.319 2222.16 148.689 Z\" fill=\"#000000\" fill-rule=\"nonzero\" fill-opacity=\"1\" /><path clip-path=\"url(#clip490)\" d=\"M2230.65 138.412 L2234.91 138.412 L2234.91 164.338 L2230.65 164.338 L2230.65 138.412 M2230.65 128.319 L2234.91 128.319 L2234.91 133.713 L2230.65 133.713 L2230.65 128.319 Z\" fill=\"#000000\" fill-rule=\"nonzero\" fill-opacity=\"1\" /><path clip-path=\"url(#clip490)\" d=\"M2248.04 131.051 L2248.04 138.412 L2256.81 138.412 L2256.81 141.722 L2248.04 141.722 L2248.04 155.796 Q2248.04 158.967 2248.89 159.87 Q2249.77 160.773 2252.43 160.773 L2256.81 160.773 L2256.81 164.338 L2252.43 164.338 Q2247.5 164.338 2245.63 162.509 Q2243.75 160.657 2243.75 155.796 L2243.75 141.722 L2240.63 141.722 L2240.63 138.412 L2243.75 138.412 L2243.75 131.051 L2248.04 131.051 Z\" fill=\"#000000\" fill-rule=\"nonzero\" fill-opacity=\"1\" /><path clip-path=\"url(#clip490)\" d=\"M1605.29 219.634 L1749.21 219.634 L1749.21 178.162 L1605.29 178.162 L1605.29 219.634  Z\" fill=\"#e26f46\" fill-rule=\"evenodd\" fill-opacity=\"1\"/>\n",
       "<polyline clip-path=\"url(#clip490)\" style=\"stroke:#000000; stroke-linecap:round; stroke-linejoin:round; stroke-width:4; stroke-opacity:1; fill:none\" points=\"1605.29,219.634 1749.21,219.634 1749.21,178.162 1605.29,178.162 1605.29,219.634 \"/>\n",
       "<path clip-path=\"url(#clip490)\" d=\"M1795.45 182.752 L1795.45 187.312 Q1792.78 186.039 1790.42 185.414 Q1788.06 184.789 1785.86 184.789 Q1782.04 184.789 1779.96 186.27 Q1777.9 187.752 1777.9 190.483 Q1777.9 192.775 1779.26 193.955 Q1780.65 195.113 1784.5 195.83 L1787.32 196.409 Q1792.55 197.405 1795.03 199.928 Q1797.53 202.428 1797.53 206.641 Q1797.53 211.664 1794.15 214.256 Q1790.79 216.849 1784.29 216.849 Q1781.83 216.849 1779.06 216.293 Q1776.3 215.738 1773.34 214.65 L1773.34 209.835 Q1776.19 211.432 1778.92 212.242 Q1781.65 213.053 1784.29 213.053 Q1788.29 213.053 1790.47 211.479 Q1792.64 209.904 1792.64 206.988 Q1792.64 204.442 1791.07 203.006 Q1789.52 201.571 1785.95 200.854 L1783.11 200.298 Q1777.88 199.256 1775.54 197.034 Q1773.2 194.812 1773.2 190.854 Q1773.2 186.27 1776.42 183.631 Q1779.66 180.993 1785.33 180.993 Q1787.76 180.993 1790.28 181.432 Q1792.81 181.872 1795.45 182.752 Z\" fill=\"#000000\" fill-rule=\"nonzero\" fill-opacity=\"1\" /><path clip-path=\"url(#clip490)\" d=\"M1808.85 182.891 L1808.85 190.252 L1817.62 190.252 L1817.62 193.562 L1808.85 193.562 L1808.85 207.636 Q1808.85 210.807 1809.7 211.71 Q1810.58 212.613 1813.25 212.613 L1817.62 212.613 L1817.62 216.178 L1813.25 216.178 Q1808.32 216.178 1806.44 214.349 Q1804.57 212.497 1804.57 207.636 L1804.57 193.562 L1801.44 193.562 L1801.44 190.252 L1804.57 190.252 L1804.57 182.891 L1808.85 182.891 Z\" fill=\"#000000\" fill-rule=\"nonzero\" fill-opacity=\"1\" /><path clip-path=\"url(#clip490)\" d=\"M1845.4 202.15 L1845.4 204.233 L1825.82 204.233 Q1826.09 208.631 1828.45 210.946 Q1830.84 213.238 1835.07 213.238 Q1837.53 213.238 1839.82 212.636 Q1842.13 212.034 1844.4 210.83 L1844.4 214.858 Q1842.11 215.83 1839.7 216.34 Q1837.3 216.849 1834.82 216.849 Q1828.62 216.849 1824.98 213.238 Q1821.37 209.627 1821.37 203.469 Q1821.37 197.104 1824.8 193.377 Q1828.25 189.627 1834.08 189.627 Q1839.31 189.627 1842.34 193.006 Q1845.4 196.363 1845.4 202.15 M1841.14 200.9 Q1841.09 197.405 1839.17 195.321 Q1837.27 193.238 1834.13 193.238 Q1830.56 193.238 1828.41 195.252 Q1826.28 197.266 1825.95 200.923 L1841.14 200.9 Z\" fill=\"#000000\" fill-rule=\"nonzero\" fill-opacity=\"1\" /><path clip-path=\"url(#clip490)\" d=\"M1864.17 203.145 Q1859.01 203.145 1857.02 204.326 Q1855.03 205.506 1855.03 208.354 Q1855.03 210.622 1856.51 211.965 Q1858.01 213.284 1860.58 213.284 Q1864.13 213.284 1866.25 210.784 Q1868.41 208.261 1868.41 204.094 L1868.41 203.145 L1864.17 203.145 M1872.67 201.386 L1872.67 216.178 L1868.41 216.178 L1868.41 212.242 Q1866.95 214.603 1864.77 215.738 Q1862.6 216.849 1859.45 216.849 Q1855.47 216.849 1853.11 214.627 Q1850.77 212.381 1850.77 208.631 Q1850.77 204.256 1853.69 202.034 Q1856.63 199.812 1862.44 199.812 L1868.41 199.812 L1868.41 199.395 Q1868.41 196.455 1866.46 194.858 Q1864.54 193.238 1861.05 193.238 Q1858.82 193.238 1856.72 193.77 Q1854.61 194.303 1852.67 195.367 L1852.67 191.432 Q1855 190.53 1857.2 190.09 Q1859.4 189.627 1861.49 189.627 Q1867.11 189.627 1869.89 192.543 Q1872.67 195.46 1872.67 201.386 Z\" fill=\"#000000\" fill-rule=\"nonzero\" fill-opacity=\"1\" /><path clip-path=\"url(#clip490)\" d=\"M1901.63 195.229 Q1903.22 192.358 1905.44 190.993 Q1907.67 189.627 1910.68 189.627 Q1914.73 189.627 1916.93 192.474 Q1919.12 195.298 1919.12 200.529 L1919.12 216.178 L1914.84 216.178 L1914.84 200.668 Q1914.84 196.942 1913.52 195.136 Q1912.2 193.33 1909.5 193.33 Q1906.19 193.33 1904.26 195.53 Q1902.34 197.729 1902.34 201.525 L1902.34 216.178 L1898.06 216.178 L1898.06 200.668 Q1898.06 196.918 1896.74 195.136 Q1895.42 193.33 1892.67 193.33 Q1889.4 193.33 1887.48 195.553 Q1885.56 197.752 1885.56 201.525 L1885.56 216.178 L1881.28 216.178 L1881.28 190.252 L1885.56 190.252 L1885.56 194.28 Q1887.02 191.895 1889.06 190.761 Q1891.09 189.627 1893.89 189.627 Q1896.72 189.627 1898.69 191.062 Q1900.68 192.497 1901.63 195.229 Z\" fill=\"#000000\" fill-rule=\"nonzero\" fill-opacity=\"1\" /><path clip-path=\"url(#clip490)\" d=\"M1946.9 182.891 L1946.9 190.252 L1955.68 190.252 L1955.68 193.562 L1946.9 193.562 L1946.9 207.636 Q1946.9 210.807 1947.76 211.71 Q1948.64 212.613 1951.3 212.613 L1955.68 212.613 L1955.68 216.178 L1951.3 216.178 Q1946.37 216.178 1944.5 214.349 Q1942.62 212.497 1942.62 207.636 L1942.62 193.562 L1939.5 193.562 L1939.5 190.252 L1942.62 190.252 L1942.62 182.891 L1946.9 182.891 Z\" fill=\"#000000\" fill-rule=\"nonzero\" fill-opacity=\"1\" /><path clip-path=\"url(#clip490)\" d=\"M1960.84 205.946 L1960.84 190.252 L1965.1 190.252 L1965.1 205.784 Q1965.1 209.465 1966.53 211.316 Q1967.97 213.145 1970.84 213.145 Q1974.29 213.145 1976.28 210.946 Q1978.29 208.747 1978.29 204.951 L1978.29 190.252 L1982.55 190.252 L1982.55 216.178 L1978.29 216.178 L1978.29 212.196 Q1976.74 214.557 1974.68 215.715 Q1972.64 216.849 1969.93 216.849 Q1965.47 216.849 1963.15 214.071 Q1960.84 211.293 1960.84 205.946 M1971.56 189.627 L1971.56 189.627 Z\" fill=\"#000000\" fill-rule=\"nonzero\" fill-opacity=\"1\" /><path clip-path=\"url(#clip490)\" d=\"M2006.35 194.233 Q2005.63 193.817 2004.77 193.631 Q2003.94 193.423 2002.92 193.423 Q1999.31 193.423 1997.37 195.784 Q1995.44 198.122 1995.44 202.52 L1995.44 216.178 L1991.16 216.178 L1991.16 190.252 L1995.44 190.252 L1995.44 194.28 Q1996.79 191.918 1998.94 190.784 Q2001.09 189.627 2004.17 189.627 Q2004.61 189.627 2005.14 189.696 Q2005.68 189.743 2006.32 189.858 L2006.35 194.233 Z\" fill=\"#000000\" fill-rule=\"nonzero\" fill-opacity=\"1\" /><path clip-path=\"url(#clip490)\" d=\"M2029.43 203.238 Q2029.43 198.539 2027.48 195.877 Q2025.56 193.192 2022.18 193.192 Q2018.8 193.192 2016.86 195.877 Q2014.93 198.539 2014.93 203.238 Q2014.93 207.937 2016.86 210.622 Q2018.8 213.284 2022.18 213.284 Q2025.56 213.284 2027.48 210.622 Q2029.43 207.937 2029.43 203.238 M2014.93 194.187 Q2016.28 191.872 2018.31 190.761 Q2020.37 189.627 2023.22 189.627 Q2027.94 189.627 2030.88 193.377 Q2033.85 197.127 2033.85 203.238 Q2033.85 209.349 2030.88 213.099 Q2027.94 216.849 2023.22 216.849 Q2020.37 216.849 2018.31 215.738 Q2016.28 214.603 2014.93 212.289 L2014.93 216.178 L2010.65 216.178 L2010.65 180.159 L2014.93 180.159 L2014.93 194.187 Z\" fill=\"#000000\" fill-rule=\"nonzero\" fill-opacity=\"1\" /><path clip-path=\"url(#clip490)\" d=\"M2040.91 190.252 L2045.17 190.252 L2045.17 216.178 L2040.91 216.178 L2040.91 190.252 M2040.91 180.159 L2045.17 180.159 L2045.17 185.553 L2040.91 185.553 L2040.91 180.159 Z\" fill=\"#000000\" fill-rule=\"nonzero\" fill-opacity=\"1\" /><path clip-path=\"url(#clip490)\" d=\"M2075.63 200.529 L2075.63 216.178 L2071.37 216.178 L2071.37 200.668 Q2071.37 196.988 2069.93 195.159 Q2068.5 193.33 2065.63 193.33 Q2062.18 193.33 2060.19 195.53 Q2058.2 197.729 2058.2 201.525 L2058.2 216.178 L2053.92 216.178 L2053.92 190.252 L2058.2 190.252 L2058.2 194.28 Q2059.73 191.942 2061.79 190.784 Q2063.87 189.627 2066.58 189.627 Q2071.05 189.627 2073.34 192.405 Q2075.63 195.159 2075.63 200.529 Z\" fill=\"#000000\" fill-rule=\"nonzero\" fill-opacity=\"1\" /><path clip-path=\"url(#clip490)\" d=\"M2106.3 202.15 L2106.3 204.233 L2086.72 204.233 Q2086.99 208.631 2089.36 210.946 Q2091.74 213.238 2095.98 213.238 Q2098.43 213.238 2100.72 212.636 Q2103.04 212.034 2105.3 210.83 L2105.3 214.858 Q2103.01 215.83 2100.61 216.34 Q2098.2 216.849 2095.72 216.849 Q2089.52 216.849 2085.88 213.238 Q2082.27 209.627 2082.27 203.469 Q2082.27 197.104 2085.7 193.377 Q2089.15 189.627 2094.98 189.627 Q2100.21 189.627 2103.24 193.006 Q2106.3 196.363 2106.3 202.15 M2102.04 200.9 Q2101.99 197.405 2100.07 195.321 Q2098.17 193.238 2095.03 193.238 Q2091.46 193.238 2089.31 195.252 Q2087.18 197.266 2086.86 200.923 L2102.04 200.9 Z\" fill=\"#000000\" fill-rule=\"nonzero\" fill-opacity=\"1\" /><path clip-path=\"url(#clip490)\" d=\"M1605.29 271.474 L1749.21 271.474 L1749.21 230.002 L1605.29 230.002 L1605.29 271.474  Z\" fill=\"#3da44d\" fill-rule=\"evenodd\" fill-opacity=\"1\"/>\n",
       "<polyline clip-path=\"url(#clip490)\" style=\"stroke:#000000; stroke-linecap:round; stroke-linejoin:round; stroke-width:4; stroke-opacity:1; fill:none\" points=\"1605.29,271.474 1749.21,271.474 1749.21,230.002 1605.29,230.002 1605.29,271.474 \"/>\n",
       "<path clip-path=\"url(#clip490)\" d=\"M1798.76 263.087 L1798.76 253.805 L1791.12 253.805 L1791.12 249.962 L1803.38 249.962 L1803.38 264.8 Q1800.68 266.721 1797.41 267.717 Q1794.15 268.689 1790.45 268.689 Q1782.34 268.689 1777.76 263.967 Q1773.2 259.221 1773.2 250.772 Q1773.2 242.3 1777.76 237.578 Q1782.34 232.833 1790.45 232.833 Q1793.82 232.833 1796.86 233.666 Q1799.91 234.499 1802.48 236.12 L1802.48 241.096 Q1799.89 238.897 1796.97 237.786 Q1794.06 236.675 1790.84 236.675 Q1784.5 236.675 1781.3 240.217 Q1778.13 243.758 1778.13 250.772 Q1778.13 257.763 1781.3 261.305 Q1784.5 264.846 1790.84 264.846 Q1793.32 264.846 1795.26 264.43 Q1797.2 263.99 1798.76 263.087 Z\" fill=\"#000000\" fill-rule=\"nonzero\" fill-opacity=\"1\" /><path clip-path=\"url(#clip490)\" d=\"M1823.52 254.985 Q1818.36 254.985 1816.37 256.166 Q1814.38 257.346 1814.38 260.194 Q1814.38 262.462 1815.86 263.805 Q1817.37 265.124 1819.94 265.124 Q1823.48 265.124 1825.61 262.624 Q1827.76 260.101 1827.76 255.934 L1827.76 254.985 L1823.52 254.985 M1832.02 253.226 L1832.02 268.018 L1827.76 268.018 L1827.76 264.082 Q1826.3 266.443 1824.13 267.578 Q1821.95 268.689 1818.8 268.689 Q1814.82 268.689 1812.46 266.467 Q1810.12 264.221 1810.12 260.471 Q1810.12 256.096 1813.04 253.874 Q1815.98 251.652 1821.79 251.652 L1827.76 251.652 L1827.76 251.235 Q1827.76 248.295 1825.82 246.698 Q1823.89 245.078 1820.4 245.078 Q1818.18 245.078 1816.07 245.61 Q1813.96 246.143 1812.02 247.207 L1812.02 243.272 Q1814.36 242.37 1816.56 241.93 Q1818.76 241.467 1820.84 241.467 Q1826.46 241.467 1829.24 244.383 Q1832.02 247.3 1832.02 253.226 Z\" fill=\"#000000\" fill-rule=\"nonzero\" fill-opacity=\"1\" /><path clip-path=\"url(#clip490)\" d=\"M1857.32 242.856 L1857.32 246.883 Q1855.51 245.957 1853.57 245.495 Q1851.63 245.032 1849.54 245.032 Q1846.37 245.032 1844.77 246.004 Q1843.2 246.976 1843.2 248.92 Q1843.2 250.402 1844.33 251.258 Q1845.47 252.092 1848.89 252.856 L1850.35 253.18 Q1854.89 254.152 1856.79 255.934 Q1858.71 257.694 1858.71 260.865 Q1858.71 264.476 1855.84 266.582 Q1852.99 268.689 1847.99 268.689 Q1845.91 268.689 1843.64 268.272 Q1841.39 267.879 1838.89 267.068 L1838.89 262.67 Q1841.26 263.897 1843.55 264.522 Q1845.84 265.124 1848.08 265.124 Q1851.09 265.124 1852.71 264.106 Q1854.33 263.064 1854.33 261.189 Q1854.33 259.453 1853.15 258.527 Q1852 257.601 1848.04 256.744 L1846.56 256.397 Q1842.6 255.564 1840.84 253.851 Q1839.08 252.115 1839.08 249.106 Q1839.08 245.448 1841.67 243.458 Q1844.26 241.467 1849.03 241.467 Q1851.39 241.467 1853.48 241.814 Q1855.56 242.161 1857.32 242.856 Z\" fill=\"#000000\" fill-rule=\"nonzero\" fill-opacity=\"1\" /><path clip-path=\"url(#clip490)\" d=\"M1884.77 234.731 L1884.77 242.092 L1893.55 242.092 L1893.55 245.402 L1884.77 245.402 L1884.77 259.476 Q1884.77 262.647 1885.63 263.55 Q1886.51 264.453 1889.17 264.453 L1893.55 264.453 L1893.55 268.018 L1889.17 268.018 Q1884.24 268.018 1882.37 266.189 Q1880.49 264.337 1880.49 259.476 L1880.49 245.402 L1877.37 245.402 L1877.37 242.092 L1880.49 242.092 L1880.49 234.731 L1884.77 234.731 Z\" fill=\"#000000\" fill-rule=\"nonzero\" fill-opacity=\"1\" /><path clip-path=\"url(#clip490)\" d=\"M1898.71 257.786 L1898.71 242.092 L1902.97 242.092 L1902.97 257.624 Q1902.97 261.305 1904.4 263.156 Q1905.84 264.985 1908.71 264.985 Q1912.16 264.985 1914.15 262.786 Q1916.16 260.587 1916.16 256.791 L1916.16 242.092 L1920.42 242.092 L1920.42 268.018 L1916.16 268.018 L1916.16 264.036 Q1914.61 266.397 1912.55 267.555 Q1910.51 268.689 1907.81 268.689 Q1903.34 268.689 1901.02 265.911 Q1898.71 263.133 1898.71 257.786 M1909.43 241.467 L1909.43 241.467 Z\" fill=\"#000000\" fill-rule=\"nonzero\" fill-opacity=\"1\" /><path clip-path=\"url(#clip490)\" d=\"M1944.22 246.073 Q1943.5 245.657 1942.64 245.471 Q1941.81 245.263 1940.79 245.263 Q1937.18 245.263 1935.24 247.624 Q1933.31 249.962 1933.31 254.36 L1933.31 268.018 L1929.03 268.018 L1929.03 242.092 L1933.31 242.092 L1933.31 246.12 Q1934.66 243.758 1936.81 242.624 Q1938.96 241.467 1942.04 241.467 Q1942.48 241.467 1943.01 241.536 Q1943.55 241.583 1944.19 241.698 L1944.22 246.073 Z\" fill=\"#000000\" fill-rule=\"nonzero\" fill-opacity=\"1\" /><path clip-path=\"url(#clip490)\" d=\"M1967.3 255.078 Q1967.3 250.379 1965.35 247.717 Q1963.43 245.032 1960.05 245.032 Q1956.67 245.032 1954.73 247.717 Q1952.81 250.379 1952.81 255.078 Q1952.81 259.777 1954.73 262.462 Q1956.67 265.124 1960.05 265.124 Q1963.43 265.124 1965.35 262.462 Q1967.3 259.777 1967.3 255.078 M1952.81 246.027 Q1954.15 243.712 1956.18 242.601 Q1958.25 241.467 1961.09 241.467 Q1965.81 241.467 1968.75 245.217 Q1971.72 248.967 1971.72 255.078 Q1971.72 261.189 1968.75 264.939 Q1965.81 268.689 1961.09 268.689 Q1958.25 268.689 1956.18 267.578 Q1954.15 266.443 1952.81 264.129 L1952.81 268.018 L1948.52 268.018 L1948.52 231.999 L1952.81 231.999 L1952.81 246.027 Z\" fill=\"#000000\" fill-rule=\"nonzero\" fill-opacity=\"1\" /><path clip-path=\"url(#clip490)\" d=\"M1978.78 242.092 L1983.04 242.092 L1983.04 268.018 L1978.78 268.018 L1978.78 242.092 M1978.78 231.999 L1983.04 231.999 L1983.04 237.393 L1978.78 237.393 L1978.78 231.999 Z\" fill=\"#000000\" fill-rule=\"nonzero\" fill-opacity=\"1\" /><path clip-path=\"url(#clip490)\" d=\"M2013.5 252.369 L2013.5 268.018 L2009.24 268.018 L2009.24 252.508 Q2009.24 248.828 2007.81 246.999 Q2006.37 245.17 2003.5 245.17 Q2000.05 245.17 1998.06 247.37 Q1996.07 249.569 1996.07 253.365 L1996.07 268.018 L1991.79 268.018 L1991.79 242.092 L1996.07 242.092 L1996.07 246.12 Q1997.6 243.782 1999.66 242.624 Q2001.74 241.467 2004.45 241.467 Q2008.92 241.467 2011.21 244.245 Q2013.5 246.999 2013.5 252.369 Z\" fill=\"#000000\" fill-rule=\"nonzero\" fill-opacity=\"1\" /><path clip-path=\"url(#clip490)\" d=\"M2044.17 253.99 L2044.17 256.073 L2024.59 256.073 Q2024.87 260.471 2027.23 262.786 Q2029.61 265.078 2033.85 265.078 Q2036.3 265.078 2038.59 264.476 Q2040.91 263.874 2043.18 262.67 L2043.18 266.698 Q2040.88 267.67 2038.48 268.18 Q2036.07 268.689 2033.59 268.689 Q2027.39 268.689 2023.75 265.078 Q2020.14 261.467 2020.14 255.309 Q2020.14 248.944 2023.57 245.217 Q2027.02 241.467 2032.85 241.467 Q2038.08 241.467 2041.12 244.846 Q2044.17 248.203 2044.17 253.99 M2039.91 252.74 Q2039.87 249.245 2037.94 247.161 Q2036.05 245.078 2032.9 245.078 Q2029.33 245.078 2027.18 247.092 Q2025.05 249.106 2024.73 252.763 L2039.91 252.74 Z\" fill=\"#000000\" fill-rule=\"nonzero\" fill-opacity=\"1\" /><path clip-path=\"url(#clip490)\" d=\"M1605.29 323.314 L1749.21 323.314 L1749.21 281.842 L1605.29 281.842 L1605.29 323.314  Z\" fill=\"#c271d2\" fill-rule=\"evenodd\" fill-opacity=\"1\"/>\n",
       "<polyline clip-path=\"url(#clip490)\" style=\"stroke:#000000; stroke-linecap:round; stroke-linejoin:round; stroke-width:4; stroke-opacity:1; fill:none\" points=\"1605.29,323.314 1749.21,323.314 1749.21,281.842 1605.29,281.842 1605.29,323.314 \"/>\n",
       "<path clip-path=\"url(#clip490)\" d=\"M1801.07 287.96 L1801.07 292.89 Q1798.71 290.691 1796.02 289.603 Q1793.36 288.515 1790.35 288.515 Q1784.43 288.515 1781.28 292.149 Q1778.13 295.76 1778.13 302.612 Q1778.13 309.441 1781.28 313.075 Q1784.43 316.686 1790.35 316.686 Q1793.36 316.686 1796.02 315.598 Q1798.71 314.51 1801.07 312.311 L1801.07 317.196 Q1798.62 318.862 1795.86 319.696 Q1793.13 320.529 1790.07 320.529 Q1782.23 320.529 1777.71 315.737 Q1773.2 310.922 1773.2 302.612 Q1773.2 294.279 1777.71 289.487 Q1782.23 284.673 1790.07 284.673 Q1793.18 284.673 1795.91 285.506 Q1798.66 286.316 1801.07 287.96 Z\" fill=\"#000000\" fill-rule=\"nonzero\" fill-opacity=\"1\" /><path clip-path=\"url(#clip490)\" d=\"M1818.15 296.918 Q1814.73 296.918 1812.74 299.603 Q1810.75 302.265 1810.75 306.918 Q1810.75 311.571 1812.71 314.256 Q1814.7 316.918 1818.15 316.918 Q1821.56 316.918 1823.55 314.233 Q1825.54 311.547 1825.54 306.918 Q1825.54 302.311 1823.55 299.626 Q1821.56 296.918 1818.15 296.918 M1818.15 293.307 Q1823.71 293.307 1826.88 296.918 Q1830.05 300.529 1830.05 306.918 Q1830.05 313.284 1826.88 316.918 Q1823.71 320.529 1818.15 320.529 Q1812.57 320.529 1809.4 316.918 Q1806.26 313.284 1806.26 306.918 Q1806.26 300.529 1809.4 296.918 Q1812.57 293.307 1818.15 293.307 Z\" fill=\"#000000\" fill-rule=\"nonzero\" fill-opacity=\"1\" /><path clip-path=\"url(#clip490)\" d=\"M1857.3 298.909 Q1858.89 296.038 1861.12 294.673 Q1863.34 293.307 1866.35 293.307 Q1870.4 293.307 1872.6 296.154 Q1874.8 298.978 1874.8 304.209 L1874.8 319.858 L1870.51 319.858 L1870.51 304.348 Q1870.51 300.622 1869.19 298.816 Q1867.88 297.01 1865.17 297.01 Q1861.86 297.01 1859.94 299.21 Q1858.01 301.409 1858.01 305.205 L1858.01 319.858 L1853.73 319.858 L1853.73 304.348 Q1853.73 300.598 1852.41 298.816 Q1851.09 297.01 1848.34 297.01 Q1845.07 297.01 1843.15 299.233 Q1841.23 301.432 1841.23 305.205 L1841.23 319.858 L1836.95 319.858 L1836.95 293.932 L1841.23 293.932 L1841.23 297.96 Q1842.69 295.575 1844.73 294.441 Q1846.76 293.307 1849.57 293.307 Q1852.39 293.307 1854.36 294.742 Q1856.35 296.177 1857.3 298.909 Z\" fill=\"#000000\" fill-rule=\"nonzero\" fill-opacity=\"1\" /><path clip-path=\"url(#clip490)\" d=\"M1901.9 306.918 Q1901.9 302.219 1899.96 299.557 Q1898.04 296.872 1894.66 296.872 Q1891.28 296.872 1889.33 299.557 Q1887.41 302.219 1887.41 306.918 Q1887.41 311.617 1889.33 314.302 Q1891.28 316.964 1894.66 316.964 Q1898.04 316.964 1899.96 314.302 Q1901.9 311.617 1901.9 306.918 M1887.41 297.867 Q1888.75 295.552 1890.79 294.441 Q1892.85 293.307 1895.7 293.307 Q1900.42 293.307 1903.36 297.057 Q1906.32 300.807 1906.32 306.918 Q1906.32 313.029 1903.36 316.779 Q1900.42 320.529 1895.7 320.529 Q1892.85 320.529 1890.79 319.418 Q1888.75 318.283 1887.41 315.969 L1887.41 319.858 L1883.13 319.858 L1883.13 283.839 L1887.41 283.839 L1887.41 297.867 Z\" fill=\"#000000\" fill-rule=\"nonzero\" fill-opacity=\"1\" /><path clip-path=\"url(#clip490)\" d=\"M1912.94 309.626 L1912.94 293.932 L1917.2 293.932 L1917.2 309.464 Q1917.2 313.145 1918.64 314.996 Q1920.07 316.825 1922.94 316.825 Q1926.39 316.825 1928.38 314.626 Q1930.4 312.427 1930.4 308.631 L1930.4 293.932 L1934.66 293.932 L1934.66 319.858 L1930.4 319.858 L1930.4 315.876 Q1928.85 318.237 1926.79 319.395 Q1924.75 320.529 1922.04 320.529 Q1917.57 320.529 1915.26 317.751 Q1912.94 314.973 1912.94 309.626 M1923.66 293.307 L1923.66 293.307 Z\" fill=\"#000000\" fill-rule=\"nonzero\" fill-opacity=\"1\" /><path clip-path=\"url(#clip490)\" d=\"M1959.96 294.696 L1959.96 298.723 Q1958.15 297.797 1956.21 297.335 Q1954.26 296.872 1952.18 296.872 Q1949.01 296.872 1947.41 297.844 Q1945.84 298.816 1945.84 300.76 Q1945.84 302.242 1946.97 303.098 Q1948.11 303.932 1951.53 304.696 L1952.99 305.02 Q1957.53 305.992 1959.43 307.774 Q1961.35 309.534 1961.35 312.705 Q1961.35 316.316 1958.48 318.422 Q1955.63 320.529 1950.63 320.529 Q1948.55 320.529 1946.28 320.112 Q1944.03 319.719 1941.53 318.908 L1941.53 314.51 Q1943.89 315.737 1946.19 316.362 Q1948.48 316.964 1950.72 316.964 Q1953.73 316.964 1955.35 315.946 Q1956.97 314.904 1956.97 313.029 Q1956.97 311.293 1955.79 310.367 Q1954.63 309.441 1950.68 308.584 L1949.19 308.237 Q1945.24 307.404 1943.48 305.691 Q1941.72 303.955 1941.72 300.946 Q1941.72 297.288 1944.31 295.298 Q1946.9 293.307 1951.67 293.307 Q1954.03 293.307 1956.12 293.654 Q1958.2 294.001 1959.96 294.696 Z\" fill=\"#000000\" fill-rule=\"nonzero\" fill-opacity=\"1\" /><path clip-path=\"url(#clip490)\" d=\"M1972.34 286.571 L1972.34 293.932 L1981.12 293.932 L1981.12 297.242 L1972.34 297.242 L1972.34 311.316 Q1972.34 314.487 1973.2 315.39 Q1974.08 316.293 1976.74 316.293 L1981.12 316.293 L1981.12 319.858 L1976.74 319.858 Q1971.81 319.858 1969.93 318.029 Q1968.06 316.177 1968.06 311.316 L1968.06 297.242 L1964.93 297.242 L1964.93 293.932 L1968.06 293.932 L1968.06 286.571 L1972.34 286.571 Z\" fill=\"#000000\" fill-rule=\"nonzero\" fill-opacity=\"1\" /><path clip-path=\"url(#clip490)\" d=\"M1986.72 293.932 L1990.98 293.932 L1990.98 319.858 L1986.72 319.858 L1986.72 293.932 M1986.72 283.839 L1990.98 283.839 L1990.98 289.233 L1986.72 289.233 L1986.72 283.839 Z\" fill=\"#000000\" fill-rule=\"nonzero\" fill-opacity=\"1\" /><path clip-path=\"url(#clip490)\" d=\"M2009.93 296.918 Q2006.51 296.918 2004.52 299.603 Q2002.53 302.265 2002.53 306.918 Q2002.53 311.571 2004.49 314.256 Q2006.49 316.918 2009.93 316.918 Q2013.34 316.918 2015.33 314.233 Q2017.32 311.547 2017.32 306.918 Q2017.32 302.311 2015.33 299.626 Q2013.34 296.918 2009.93 296.918 M2009.93 293.307 Q2015.49 293.307 2018.66 296.918 Q2021.83 300.529 2021.83 306.918 Q2021.83 313.284 2018.66 316.918 Q2015.49 320.529 2009.93 320.529 Q2004.36 320.529 2001.18 316.918 Q1998.04 313.284 1998.04 306.918 Q1998.04 300.529 2001.18 296.918 Q2004.36 293.307 2009.93 293.307 Z\" fill=\"#000000\" fill-rule=\"nonzero\" fill-opacity=\"1\" /><path clip-path=\"url(#clip490)\" d=\"M2050.44 304.209 L2050.44 319.858 L2046.18 319.858 L2046.18 304.348 Q2046.18 300.668 2044.75 298.839 Q2043.31 297.01 2040.44 297.01 Q2036.99 297.01 2035 299.21 Q2033.01 301.409 2033.01 305.205 L2033.01 319.858 L2028.73 319.858 L2028.73 293.932 L2033.01 293.932 L2033.01 297.96 Q2034.54 295.622 2036.6 294.464 Q2038.68 293.307 2041.39 293.307 Q2045.86 293.307 2048.15 296.085 Q2050.44 298.839 2050.44 304.209 Z\" fill=\"#000000\" fill-rule=\"nonzero\" fill-opacity=\"1\" /><path clip-path=\"url(#clip490)\" d=\"M2078.22 286.571 L2078.22 293.932 L2086.99 293.932 L2086.99 297.242 L2078.22 297.242 L2078.22 311.316 Q2078.22 314.487 2079.08 315.39 Q2079.96 316.293 2082.62 316.293 L2086.99 316.293 L2086.99 319.858 L2082.62 319.858 Q2077.69 319.858 2075.81 318.029 Q2073.94 316.177 2073.94 311.316 L2073.94 297.242 L2070.81 297.242 L2070.81 293.932 L2073.94 293.932 L2073.94 286.571 L2078.22 286.571 Z\" fill=\"#000000\" fill-rule=\"nonzero\" fill-opacity=\"1\" /><path clip-path=\"url(#clip490)\" d=\"M2092.16 309.626 L2092.16 293.932 L2096.42 293.932 L2096.42 309.464 Q2096.42 313.145 2097.85 314.996 Q2099.29 316.825 2102.16 316.825 Q2105.61 316.825 2107.6 314.626 Q2109.61 312.427 2109.61 308.631 L2109.61 293.932 L2113.87 293.932 L2113.87 319.858 L2109.61 319.858 L2109.61 315.876 Q2108.06 318.237 2106 319.395 Q2103.96 320.529 2101.25 320.529 Q2096.79 320.529 2094.47 317.751 Q2092.16 314.973 2092.16 309.626 M2102.87 293.307 L2102.87 293.307 Z\" fill=\"#000000\" fill-rule=\"nonzero\" fill-opacity=\"1\" /><path clip-path=\"url(#clip490)\" d=\"M2137.67 297.913 Q2136.95 297.497 2136.09 297.311 Q2135.26 297.103 2134.24 297.103 Q2130.63 297.103 2128.68 299.464 Q2126.76 301.802 2126.76 306.2 L2126.76 319.858 L2122.48 319.858 L2122.48 293.932 L2126.76 293.932 L2126.76 297.96 Q2128.11 295.598 2130.26 294.464 Q2132.41 293.307 2135.49 293.307 Q2135.93 293.307 2136.46 293.376 Q2136.99 293.423 2137.64 293.538 L2137.67 297.913 Z\" fill=\"#000000\" fill-rule=\"nonzero\" fill-opacity=\"1\" /><path clip-path=\"url(#clip490)\" d=\"M2160.74 306.918 Q2160.74 302.219 2158.8 299.557 Q2156.88 296.872 2153.5 296.872 Q2150.12 296.872 2148.17 299.557 Q2146.25 302.219 2146.25 306.918 Q2146.25 311.617 2148.17 314.302 Q2150.12 316.964 2153.5 316.964 Q2156.88 316.964 2158.8 314.302 Q2160.74 311.617 2160.74 306.918 M2146.25 297.867 Q2147.6 295.552 2149.63 294.441 Q2151.69 293.307 2154.54 293.307 Q2159.26 293.307 2162.2 297.057 Q2165.17 300.807 2165.17 306.918 Q2165.17 313.029 2162.2 316.779 Q2159.26 320.529 2154.54 320.529 Q2151.69 320.529 2149.63 319.418 Q2147.6 318.283 2146.25 315.969 L2146.25 319.858 L2141.97 319.858 L2141.97 283.839 L2146.25 283.839 L2146.25 297.867 Z\" fill=\"#000000\" fill-rule=\"nonzero\" fill-opacity=\"1\" /><path clip-path=\"url(#clip490)\" d=\"M2172.23 293.932 L2176.48 293.932 L2176.48 319.858 L2172.23 319.858 L2172.23 293.932 M2172.23 283.839 L2176.48 283.839 L2176.48 289.233 L2172.23 289.233 L2172.23 283.839 Z\" fill=\"#000000\" fill-rule=\"nonzero\" fill-opacity=\"1\" /><path clip-path=\"url(#clip490)\" d=\"M2206.95 304.209 L2206.95 319.858 L2202.69 319.858 L2202.69 304.348 Q2202.69 300.668 2201.25 298.839 Q2199.82 297.01 2196.95 297.01 Q2193.5 297.01 2191.51 299.21 Q2189.52 301.409 2189.52 305.205 L2189.52 319.858 L2185.23 319.858 L2185.23 293.932 L2189.52 293.932 L2189.52 297.96 Q2191.04 295.622 2193.1 294.464 Q2195.19 293.307 2197.9 293.307 Q2202.36 293.307 2204.66 296.085 Q2206.95 298.839 2206.95 304.209 Z\" fill=\"#000000\" fill-rule=\"nonzero\" fill-opacity=\"1\" /><path clip-path=\"url(#clip490)\" d=\"M2237.62 305.83 L2237.62 307.913 L2218.04 307.913 Q2218.31 312.311 2220.67 314.626 Q2223.06 316.918 2227.29 316.918 Q2229.75 316.918 2232.04 316.316 Q2234.35 315.714 2236.62 314.51 L2236.62 318.538 Q2234.33 319.51 2231.92 320.02 Q2229.52 320.529 2227.04 320.529 Q2220.84 320.529 2217.2 316.918 Q2213.59 313.307 2213.59 307.149 Q2213.59 300.784 2217.02 297.057 Q2220.47 293.307 2226.3 293.307 Q2231.53 293.307 2234.56 296.686 Q2237.62 300.043 2237.62 305.83 M2233.36 304.58 Q2233.31 301.085 2231.39 299.001 Q2229.49 296.918 2226.35 296.918 Q2222.78 296.918 2220.63 298.932 Q2218.5 300.946 2218.17 304.603 L2233.36 304.58 Z\" fill=\"#000000\" fill-rule=\"nonzero\" fill-opacity=\"1\" /><path clip-path=\"url(#clip490)\" d=\"M1371.01 391.295 Q1374.79 392.103 1376.9 394.655 Q1379.03 397.207 1379.03 400.957 Q1379.03 406.712 1375.07 409.863 Q1371.12 413.014 1363.82 413.014 Q1361.38 413.014 1358.77 412.519 Q1356.19 412.051 1353.43 411.087 L1353.43 406.009 Q1355.62 407.285 1358.23 407.936 Q1360.83 408.587 1363.67 408.587 Q1368.62 408.587 1371.19 406.634 Q1373.8 404.681 1373.8 400.957 Q1373.8 397.519 1371.38 395.592 Q1368.98 393.639 1364.68 393.639 L1360.15 393.639 L1360.15 389.316 L1364.89 389.316 Q1368.77 389.316 1370.83 387.78 Q1372.89 386.217 1372.89 383.301 Q1372.89 380.306 1370.75 378.717 Q1368.64 377.103 1364.68 377.103 Q1362.52 377.103 1360.05 377.572 Q1357.57 378.04 1354.61 379.03 L1354.61 374.342 Q1357.6 373.509 1360.2 373.092 Q1362.83 372.676 1365.15 372.676 Q1371.14 372.676 1374.63 375.41 Q1378.12 378.118 1378.12 382.754 Q1378.12 385.983 1376.27 388.223 Q1374.42 390.436 1371.01 391.295 Z\" fill=\"#000000\" fill-rule=\"nonzero\" fill-opacity=\"1\" /><path clip-path=\"url(#clip490)\" d=\"M1387.68 373.379 L1412.68 373.379 L1412.68 375.618 L1398.56 412.259 L1393.07 412.259 L1406.35 377.806 L1387.68 377.806 L1387.68 373.379 Z\" fill=\"#000000\" fill-rule=\"nonzero\" fill-opacity=\"1\" /><path clip-path=\"url(#clip490)\" d=\"M1422.94 405.644 L1428.43 405.644 L1428.43 412.259 L1422.94 412.259 L1422.94 405.644 Z\" fill=\"#000000\" fill-rule=\"nonzero\" fill-opacity=\"1\" /><path clip-path=\"url(#clip490)\" d=\"M1451.14 376.842 Q1447.08 376.842 1445.02 380.853 Q1442.99 384.837 1442.99 392.858 Q1442.99 400.853 1445.02 404.863 Q1447.08 408.847 1451.14 408.847 Q1455.23 408.847 1457.26 404.863 Q1459.32 400.853 1459.32 392.858 Q1459.32 384.837 1457.26 380.853 Q1455.23 376.842 1451.14 376.842 M1451.14 372.676 Q1457.68 372.676 1461.12 377.858 Q1464.58 383.014 1464.58 392.858 Q1464.58 402.676 1461.12 407.858 Q1457.68 413.014 1451.14 413.014 Q1444.61 413.014 1441.14 407.858 Q1437.7 402.676 1437.7 392.858 Q1437.7 383.014 1441.14 377.858 Q1444.61 372.676 1451.14 372.676 Z\" fill=\"#000000\" fill-rule=\"nonzero\" fill-opacity=\"1\" /><path clip-path=\"url(#clip490)\" d=\"M1506.9 395.15 Q1504.63 395.15 1503.33 397.077 Q1502.05 399.004 1502.05 402.441 Q1502.05 405.827 1503.33 407.78 Q1504.63 409.707 1506.9 409.707 Q1509.11 409.707 1510.39 407.78 Q1511.69 405.827 1511.69 402.441 Q1511.69 399.03 1510.39 397.103 Q1509.11 395.15 1506.9 395.15 M1506.9 391.842 Q1511.01 391.842 1513.43 394.707 Q1515.85 397.571 1515.85 402.441 Q1515.85 407.311 1513.41 410.176 Q1510.99 413.014 1506.9 413.014 Q1502.73 413.014 1500.31 410.176 Q1497.89 407.311 1497.89 402.441 Q1497.89 397.545 1500.31 394.707 Q1502.76 391.842 1506.9 391.842 M1480.02 375.983 Q1477.78 375.983 1476.48 377.936 Q1475.2 379.863 1475.2 383.249 Q1475.2 386.686 1476.48 388.613 Q1477.76 390.54 1480.02 390.54 Q1482.29 390.54 1483.56 388.613 Q1484.87 386.686 1484.87 383.249 Q1484.87 379.889 1483.56 377.936 Q1482.26 375.983 1480.02 375.983 M1503.54 372.676 L1507.7 372.676 L1483.38 413.014 L1479.21 413.014 L1503.54 372.676 M1480.02 372.676 Q1484.14 372.676 1486.58 375.54 Q1489.03 378.379 1489.03 383.249 Q1489.03 388.17 1486.58 391.009 Q1484.16 393.848 1480.02 393.848 Q1475.88 393.848 1473.46 391.009 Q1471.06 388.144 1471.06 383.249 Q1471.06 378.405 1473.49 375.54 Q1475.91 372.676 1480.02 372.676 Z\" fill=\"#000000\" fill-rule=\"nonzero\" fill-opacity=\"1\" /><path clip-path=\"url(#clip490)\" d=\"M809.168 839.318 Q812.944 840.125 815.053 842.677 Q817.189 845.229 817.189 848.979 Q817.189 854.734 813.23 857.885 Q809.272 861.036 801.98 861.036 Q799.533 861.036 796.928 860.541 Q794.35 860.073 791.59 859.109 L791.59 854.031 Q793.777 855.307 796.382 855.958 Q798.986 856.609 801.824 856.609 Q806.772 856.609 809.35 854.656 Q811.954 852.703 811.954 848.979 Q811.954 845.541 809.532 843.614 Q807.137 841.661 802.84 841.661 L798.309 841.661 L798.309 837.338 L803.048 837.338 Q806.928 837.338 808.986 835.802 Q811.043 834.239 811.043 831.323 Q811.043 828.328 808.907 826.739 Q806.798 825.125 802.84 825.125 Q800.678 825.125 798.204 825.594 Q795.73 826.062 792.762 827.052 L792.762 822.364 Q795.757 821.531 798.361 821.114 Q800.991 820.698 803.309 820.698 Q809.298 820.698 812.788 823.432 Q816.277 826.14 816.277 830.776 Q816.277 834.005 814.428 836.245 Q812.579 838.458 809.168 839.318 Z\" fill=\"#000000\" fill-rule=\"nonzero\" fill-opacity=\"1\" /><path clip-path=\"url(#clip490)\" d=\"M828.074 855.854 L836.668 855.854 L836.668 826.193 L827.319 828.068 L827.319 823.276 L836.616 821.401 L841.876 821.401 L841.876 855.854 L850.47 855.854 L850.47 860.281 L828.074 860.281 L828.074 855.854 Z\" fill=\"#000000\" fill-rule=\"nonzero\" fill-opacity=\"1\" /><path clip-path=\"url(#clip490)\" d=\"M861.095 853.666 L866.589 853.666 L866.589 860.281 L861.095 860.281 L861.095 853.666 Z\" fill=\"#000000\" fill-rule=\"nonzero\" fill-opacity=\"1\" /><path clip-path=\"url(#clip490)\" d=\"M876.72 821.401 L901.719 821.401 L901.719 823.641 L887.605 860.281 L882.11 860.281 L895.391 825.828 L876.72 825.828 L876.72 821.401 Z\" fill=\"#000000\" fill-rule=\"nonzero\" fill-opacity=\"1\" /><path clip-path=\"url(#clip490)\" d=\"M945.053 843.172 Q942.787 843.172 941.485 845.099 Q940.209 847.026 940.209 850.463 Q940.209 853.849 941.485 855.802 Q942.787 857.729 945.053 857.729 Q947.266 857.729 948.542 855.802 Q949.844 853.849 949.844 850.463 Q949.844 847.052 948.542 845.125 Q947.266 843.172 945.053 843.172 M945.053 839.864 Q949.167 839.864 951.589 842.729 Q954.011 845.594 954.011 850.463 Q954.011 855.333 951.563 858.198 Q949.141 861.036 945.053 861.036 Q940.886 861.036 938.464 858.198 Q936.042 855.333 936.042 850.463 Q936.042 845.567 938.464 842.729 Q940.912 839.864 945.053 839.864 M918.178 824.005 Q915.938 824.005 914.636 825.958 Q913.36 827.885 913.36 831.271 Q913.36 834.708 914.636 836.635 Q915.912 838.562 918.178 838.562 Q920.443 838.562 921.719 836.635 Q923.021 834.708 923.021 831.271 Q923.021 827.911 921.719 825.958 Q920.417 824.005 918.178 824.005 M941.693 820.698 L945.86 820.698 L921.537 861.036 L917.37 861.036 L941.693 820.698 M918.178 820.698 Q922.292 820.698 924.74 823.562 Q927.188 826.401 927.188 831.271 Q927.188 836.193 924.74 839.031 Q922.318 841.87 918.178 841.87 Q914.037 841.87 911.615 839.031 Q909.219 836.166 909.219 831.271 Q909.219 826.427 911.641 823.562 Q914.063 820.698 918.178 820.698 Z\" fill=\"#000000\" fill-rule=\"nonzero\" fill-opacity=\"1\" /><path clip-path=\"url(#clip490)\" d=\"M1174.95 1172.39 Q1171.2 1172.39 1169.04 1174.4 Q1166.9 1176.4 1166.9 1179.92 Q1166.9 1183.43 1169.04 1185.44 Q1171.2 1187.44 1174.95 1187.44 Q1178.7 1187.44 1180.86 1185.44 Q1183.02 1183.41 1183.02 1179.92 Q1183.02 1176.4 1180.86 1174.4 Q1178.72 1172.39 1174.95 1172.39 M1169.69 1170.15 Q1166.3 1169.32 1164.4 1167 Q1162.53 1164.68 1162.53 1161.35 Q1162.53 1156.69 1165.83 1153.98 Q1169.17 1151.27 1174.95 1151.27 Q1180.75 1151.27 1184.06 1153.98 Q1187.37 1156.69 1187.37 1161.35 Q1187.37 1164.68 1185.47 1167 Q1183.59 1169.32 1180.23 1170.15 Q1184.04 1171.04 1186.15 1173.62 Q1188.28 1176.19 1188.28 1179.92 Q1188.28 1185.57 1184.82 1188.59 Q1181.38 1191.61 1174.95 1191.61 Q1168.52 1191.61 1165.05 1188.59 Q1161.61 1185.57 1161.61 1179.92 Q1161.61 1176.19 1163.75 1173.62 Q1165.89 1171.04 1169.69 1170.15 M1167.76 1161.85 Q1167.76 1164.87 1169.64 1166.56 Q1171.54 1168.25 1174.95 1168.25 Q1178.33 1168.25 1180.23 1166.56 Q1182.16 1164.87 1182.16 1161.85 Q1182.16 1158.82 1180.23 1157.13 Q1178.33 1155.44 1174.95 1155.44 Q1171.54 1155.44 1169.64 1157.13 Q1167.76 1158.82 1167.76 1161.85 Z\" fill=\"#000000\" fill-rule=\"nonzero\" fill-opacity=\"1\" /><path clip-path=\"url(#clip490)\" d=\"M1197.63 1184.24 L1203.12 1184.24 L1203.12 1190.86 L1197.63 1190.86 L1197.63 1184.24 Z\" fill=\"#000000\" fill-rule=\"nonzero\" fill-opacity=\"1\" /><path clip-path=\"url(#clip490)\" d=\"M1213.25 1151.98 L1238.25 1151.98 L1238.25 1154.22 L1224.14 1190.86 L1218.65 1190.86 L1231.93 1156.4 L1213.25 1156.4 L1213.25 1151.98 Z\" fill=\"#000000\" fill-rule=\"nonzero\" fill-opacity=\"1\" /><path clip-path=\"url(#clip490)\" d=\"M1281.59 1173.75 Q1279.32 1173.75 1278.02 1175.67 Q1276.74 1177.6 1276.74 1181.04 Q1276.74 1184.42 1278.02 1186.38 Q1279.32 1188.3 1281.59 1188.3 Q1283.8 1188.3 1285.08 1186.38 Q1286.38 1184.42 1286.38 1181.04 Q1286.38 1177.63 1285.08 1175.7 Q1283.8 1173.75 1281.59 1173.75 M1281.59 1170.44 Q1285.7 1170.44 1288.12 1173.3 Q1290.55 1176.17 1290.55 1181.04 Q1290.55 1185.91 1288.1 1188.77 Q1285.68 1191.61 1281.59 1191.61 Q1277.42 1191.61 1275 1188.77 Q1272.58 1185.91 1272.58 1181.04 Q1272.58 1176.14 1275 1173.3 Q1277.45 1170.44 1281.59 1170.44 M1254.71 1154.58 Q1252.47 1154.58 1251.17 1156.53 Q1249.9 1158.46 1249.9 1161.85 Q1249.9 1165.28 1251.17 1167.21 Q1252.45 1169.14 1254.71 1169.14 Q1256.98 1169.14 1258.25 1167.21 Q1259.56 1165.28 1259.56 1161.85 Q1259.56 1158.49 1258.25 1156.53 Q1256.95 1154.58 1254.71 1154.58 M1278.23 1151.27 L1282.39 1151.27 L1258.07 1191.61 L1253.91 1191.61 L1278.23 1151.27 M1254.71 1151.27 Q1258.83 1151.27 1261.28 1154.14 Q1263.72 1156.98 1263.72 1161.85 Q1263.72 1166.77 1261.28 1169.61 Q1258.85 1172.44 1254.71 1172.44 Q1250.57 1172.44 1248.15 1169.61 Q1245.75 1166.74 1245.75 1161.85 Q1245.75 1157 1248.18 1154.14 Q1250.6 1151.27 1254.71 1151.27 Z\" fill=\"#000000\" fill-rule=\"nonzero\" fill-opacity=\"1\" /><path clip-path=\"url(#clip490)\" d=\"M1508.31 1046.17 L1526.67 1046.17 L1526.67 1050.6 L1501.98 1050.6 L1501.98 1046.17 Q1504.97 1043.07 1510.13 1037.86 Q1515.31 1032.63 1516.64 1031.12 Q1519.17 1028.28 1520.16 1026.32 Q1521.17 1024.35 1521.17 1022.44 Q1521.17 1019.35 1518.98 1017.39 Q1516.82 1015.44 1513.33 1015.44 Q1510.86 1015.44 1508.1 1016.3 Q1505.37 1017.16 1502.24 1018.9 L1502.24 1013.59 Q1505.42 1012.31 1508.18 1011.66 Q1510.94 1011.01 1513.23 1011.01 Q1519.27 1011.01 1522.87 1014.03 Q1526.46 1017.05 1526.46 1022.11 Q1526.46 1024.5 1525.55 1026.66 Q1524.66 1028.8 1522.29 1031.72 Q1521.64 1032.47 1518.15 1036.09 Q1514.66 1039.68 1508.31 1046.17 Z\" fill=\"#000000\" fill-rule=\"nonzero\" fill-opacity=\"1\" /><path clip-path=\"url(#clip490)\" d=\"M1542.24 1046.17 L1560.6 1046.17 L1560.6 1050.6 L1535.91 1050.6 L1535.91 1046.17 Q1538.91 1043.07 1544.06 1037.86 Q1549.25 1032.63 1550.57 1031.12 Q1553.1 1028.28 1554.09 1026.32 Q1555.1 1024.35 1555.1 1022.44 Q1555.1 1019.35 1552.92 1017.39 Q1550.76 1015.44 1547.27 1015.44 Q1544.79 1015.44 1542.03 1016.3 Q1539.3 1017.16 1536.17 1018.9 L1536.17 1013.59 Q1539.35 1012.31 1542.11 1011.66 Q1544.87 1011.01 1547.16 1011.01 Q1553.2 1011.01 1556.8 1014.03 Q1560.39 1017.05 1560.39 1022.11 Q1560.39 1024.5 1559.48 1026.66 Q1558.59 1028.8 1556.22 1031.72 Q1555.57 1032.47 1552.08 1036.09 Q1548.59 1039.68 1542.24 1046.17 Z\" fill=\"#000000\" fill-rule=\"nonzero\" fill-opacity=\"1\" /><path clip-path=\"url(#clip490)\" d=\"M1571.64 1043.98 L1577.14 1043.98 L1577.14 1050.6 L1571.64 1050.6 L1571.64 1043.98 Z\" fill=\"#000000\" fill-rule=\"nonzero\" fill-opacity=\"1\" /><path clip-path=\"url(#clip490)\" d=\"M1588.65 1011.72 L1609.3 1011.72 L1609.3 1016.14 L1593.46 1016.14 L1593.46 1025.67 Q1594.61 1025.28 1595.76 1025.1 Q1596.9 1024.89 1598.05 1024.89 Q1604.56 1024.89 1608.36 1028.46 Q1612.16 1032.03 1612.16 1038.12 Q1612.16 1044.4 1608.26 1047.89 Q1604.35 1051.35 1597.24 1051.35 Q1594.79 1051.35 1592.24 1050.93 Q1589.71 1050.52 1587.01 1049.68 L1587.01 1044.4 Q1589.35 1045.67 1591.85 1046.3 Q1594.35 1046.92 1597.14 1046.92 Q1601.64 1046.92 1604.27 1044.55 Q1606.9 1042.18 1606.9 1038.12 Q1606.9 1034.06 1604.27 1031.69 Q1601.64 1029.32 1597.14 1029.32 Q1595.03 1029.32 1592.92 1029.79 Q1590.83 1030.26 1588.65 1031.25 L1588.65 1011.72 Z\" fill=\"#000000\" fill-rule=\"nonzero\" fill-opacity=\"1\" /><path clip-path=\"url(#clip490)\" d=\"M1655.6 1033.49 Q1653.33 1033.49 1652.03 1035.41 Q1650.75 1037.34 1650.75 1040.78 Q1650.75 1044.16 1652.03 1046.12 Q1653.33 1048.04 1655.6 1048.04 Q1657.81 1048.04 1659.09 1046.12 Q1660.39 1044.16 1660.39 1040.78 Q1660.39 1037.37 1659.09 1035.44 Q1657.81 1033.49 1655.6 1033.49 M1655.6 1030.18 Q1659.71 1030.18 1662.14 1033.04 Q1664.56 1035.91 1664.56 1040.78 Q1664.56 1045.65 1662.11 1048.51 Q1659.69 1051.35 1655.6 1051.35 Q1651.43 1051.35 1649.01 1048.51 Q1646.59 1045.65 1646.59 1040.78 Q1646.59 1035.88 1649.01 1033.04 Q1651.46 1030.18 1655.6 1030.18 M1628.72 1014.32 Q1626.48 1014.32 1625.18 1016.27 Q1623.91 1018.2 1623.91 1021.59 Q1623.91 1025.02 1625.18 1026.95 Q1626.46 1028.88 1628.72 1028.88 Q1630.99 1028.88 1632.27 1026.95 Q1633.57 1025.02 1633.57 1021.59 Q1633.57 1018.23 1632.27 1016.27 Q1630.96 1014.32 1628.72 1014.32 M1652.24 1011.01 L1656.41 1011.01 L1632.08 1051.35 L1627.92 1051.35 L1652.24 1011.01 M1628.72 1011.01 Q1632.84 1011.01 1635.29 1013.88 Q1637.73 1016.72 1637.73 1021.59 Q1637.73 1026.51 1635.29 1029.35 Q1632.86 1032.18 1628.72 1032.18 Q1624.58 1032.18 1622.16 1029.35 Q1619.77 1026.48 1619.77 1021.59 Q1619.77 1016.74 1622.19 1013.88 Q1624.61 1011.01 1628.72 1011.01 Z\" fill=\"#000000\" fill-rule=\"nonzero\" fill-opacity=\"1\" /></svg>\n"
      ],
      "text/html": [
       "<?xml version=\"1.0\" encoding=\"utf-8\"?>\n",
       "<svg xmlns=\"http://www.w3.org/2000/svg\" xmlns:xlink=\"http://www.w3.org/1999/xlink\" width=\"600\" height=\"400\" viewBox=\"0 0 2400 1600\">\n",
       "<defs>\n",
       "  <clipPath id=\"clip540\">\n",
       "    <rect x=\"0\" y=\"0\" width=\"2400\" height=\"1600\"/>\n",
       "  </clipPath>\n",
       "</defs>\n",
       "<path clip-path=\"url(#clip540)\" d=\"M0 1600 L2400 1600 L2400 0 L0 0  Z\" fill=\"#ffffff\" fill-rule=\"evenodd\" fill-opacity=\"1\"/>\n",
       "<defs>\n",
       "  <clipPath id=\"clip541\">\n",
       "    <rect x=\"480\" y=\"0\" width=\"1681\" height=\"1600\"/>\n",
       "  </clipPath>\n",
       "</defs>\n",
       "<path clip-path=\"url(#clip540)\" d=\"M193.936 1486.45 L2352.76 1486.45 L2352.76 47.2441 L193.936 47.2441  Z\" fill=\"#ffffff\" fill-rule=\"evenodd\" fill-opacity=\"1\"/>\n",
       "<defs>\n",
       "  <clipPath id=\"clip542\">\n",
       "    <rect x=\"193\" y=\"47\" width=\"2160\" height=\"1440\"/>\n",
       "  </clipPath>\n",
       "</defs>\n",
       "<path clip-path=\"url(#clip542)\" d=\"M1273.35 766.844 L1952.22 766.844 L1951.45 734.613 L1949.16 702.454 L1945.34 670.441 L1940 638.645 L1933.16 607.138 L1924.84 575.991 L1915.04 545.275 L1903.8 515.059 L1891.13 485.41 L1877.08 456.396 L1861.66 428.082 L1844.91 400.533 L1826.87 373.809 L1807.59 347.972 L1787.1 323.08 L1765.45 299.189 L1742.69 276.352 L1718.87 254.622 L1694.05 234.047 L1668.28 214.673 L1641.62 196.545 L1614.13 179.704 L1585.87 164.186 L1556.9 150.028 L1527.3 137.261 L1497.12 125.914 L1466.44 116.012 L1435.32 107.578 L1403.84 100.632 L1372.06 95.1875 L1340.06 91.2582 L1307.91 88.8527 L1275.68 87.9763 L1243.45 88.631 L1211.28 90.8154 L1179.25 94.5245 L1147.44 99.7499 L1115.91 106.48 L1084.73 114.699 L1053.98 124.39 L1023.73 135.529 L994.038 148.092 L964.976 162.051 L936.609 177.374 L909.002 194.026 L882.217 211.97 L856.314 231.166 L831.351 251.57 L807.386 273.136 L1273.35 766.844  Z\" fill=\"#009af9\" fill-rule=\"evenodd\" fill-opacity=\"1\"/>\n",
       "<polyline clip-path=\"url(#clip542)\" style=\"stroke:#000000; stroke-linecap:round; stroke-linejoin:round; stroke-width:4; stroke-opacity:1; fill:none\" points=\"1273.35,766.844 1952.22,766.844 1951.45,734.613 1949.16,702.454 1945.34,670.441 1940,638.645 1933.16,607.138 1924.84,575.991 1915.04,545.275 1903.8,515.059 1891.13,485.41 1877.08,456.396 1861.66,428.082 1844.91,400.533 1826.87,373.809 1807.59,347.972 1787.1,323.08 1765.45,299.189 1742.69,276.352 1718.87,254.622 1694.05,234.047 1668.28,214.673 1641.62,196.545 1614.13,179.704 1585.87,164.186 1556.9,150.028 1527.3,137.261 1497.12,125.914 1466.44,116.012 1435.32,107.578 1403.84,100.632 1372.06,95.1875 1340.06,91.2582 1307.91,88.8527 1275.68,87.9763 1243.45,88.631 1211.28,90.8154 1179.25,94.5245 1147.44,99.7499 1115.91,106.48 1084.73,114.699 1053.98,124.39 1023.73,135.529 994.038,148.092 964.976,162.051 936.609,177.374 909.002,194.026 882.217,211.97 856.314,231.166 831.351,251.57 807.386,273.136 1273.35,766.844 \"/>\n",
       "<path clip-path=\"url(#clip542)\" d=\"M1273.35 766.844 L807.386 273.136 L787.686 292.501 L768.791 312.651 L750.731 333.553 L733.537 355.173 L717.236 377.474 L701.856 400.42 L687.422 423.973 L673.959 448.093 L661.487 472.742 L650.029 497.877 L639.603 523.457 L630.226 549.441 L621.914 575.784 L614.681 602.444 L608.538 629.376 L603.496 656.535 L599.563 683.877 L596.745 711.357 L595.048 738.928 L594.474 766.546 L595.024 794.164 L596.697 821.737 L599.49 849.219 L603.399 876.564 L608.417 903.728 L614.536 930.666 L621.746 957.332 L630.035 983.683 L639.389 1009.67 L649.793 1035.26 L661.229 1060.41 L673.679 1085.07 L687.121 1109.2 L701.534 1132.77 L716.894 1155.73 L733.175 1178.04 L750.35 1199.68 L768.392 1220.59 L787.269 1240.76 L806.952 1260.14 L827.406 1278.71 L848.599 1296.43 L870.495 1313.27 L893.058 1329.2 L916.251 1344.21 L940.035 1358.26 L964.371 1371.33 L989.218 1383.4 L1014.54 1394.45 L1273.35 766.844  Z\" fill=\"#e26f46\" fill-rule=\"evenodd\" fill-opacity=\"1\"/>\n",
       "<polyline clip-path=\"url(#clip542)\" style=\"stroke:#000000; stroke-linecap:round; stroke-linejoin:round; stroke-width:4; stroke-opacity:1; fill:none\" points=\"1273.35,766.844 807.386,273.136 787.686,292.501 768.791,312.651 750.731,333.553 733.537,355.173 717.236,377.474 701.856,400.42 687.422,423.973 673.959,448.093 661.487,472.742 650.029,497.877 639.603,523.457 630.226,549.441 621.914,575.784 614.681,602.444 608.538,629.376 603.496,656.535 599.563,683.877 596.745,711.357 595.048,738.928 594.474,766.546 595.024,794.164 596.697,821.737 599.49,849.219 603.399,876.564 608.417,903.728 614.536,930.666 621.746,957.332 630.035,983.683 639.389,1009.67 649.793,1035.26 661.229,1060.41 673.679,1085.07 687.121,1109.2 701.534,1132.77 716.894,1155.73 733.175,1178.04 750.35,1199.68 768.392,1220.59 787.269,1240.76 806.952,1260.14 827.406,1278.71 848.599,1296.43 870.495,1313.27 893.058,1329.2 916.251,1344.21 940.035,1358.26 964.371,1371.33 989.218,1383.4 1014.54,1394.45 1273.35,766.844 \"/>\n",
       "<path clip-path=\"url(#clip542)\" d=\"M1273.35 766.844 L1014.54 1394.45 L1021.59 1397.31 L1028.68 1400.09 L1035.8 1402.8 L1042.95 1405.42 L1050.13 1407.97 L1057.33 1410.43 L1064.56 1412.81 L1071.82 1415.12 L1079.11 1417.34 L1086.42 1419.47 L1093.75 1421.53 L1101.1 1423.5 L1108.48 1425.39 L1115.88 1427.2 L1123.3 1428.93 L1130.73 1430.57 L1138.19 1432.13 L1145.66 1433.6 L1153.14 1434.99 L1160.65 1436.3 L1168.16 1437.52 L1175.69 1438.66 L1183.24 1439.71 L1190.79 1440.68 L1198.35 1441.56 L1205.93 1442.36 L1213.51 1443.07 L1221.1 1443.7 L1228.69 1444.25 L1236.29 1444.7 L1243.9 1445.08 L1251.51 1445.37 L1259.12 1445.57 L1266.74 1445.68 L1274.35 1445.72 L1281.97 1445.66 L1289.58 1445.52 L1297.19 1445.3 L1304.8 1444.99 L1312.41 1444.59 L1320.01 1444.11 L1327.6 1443.54 L1335.19 1442.89 L1342.77 1442.16 L1350.34 1441.34 L1357.9 1440.43 L1365.45 1439.44 L1372.99 1438.36 L1380.52 1437.2 L1273.35 766.844  Z\" fill=\"#3da44d\" fill-rule=\"evenodd\" fill-opacity=\"1\"/>\n",
       "<polyline clip-path=\"url(#clip542)\" style=\"stroke:#000000; stroke-linecap:round; stroke-linejoin:round; stroke-width:4; stroke-opacity:1; fill:none\" points=\"1273.35,766.844 1014.54,1394.45 1021.59,1397.31 1028.68,1400.09 1035.8,1402.8 1042.95,1405.42 1050.13,1407.97 1057.33,1410.43 1064.56,1412.81 1071.82,1415.12 1079.11,1417.34 1086.42,1419.47 1093.75,1421.53 1101.1,1423.5 1108.48,1425.39 1115.88,1427.2 1123.3,1428.93 1130.73,1430.57 1138.19,1432.13 1145.66,1433.6 1153.14,1434.99 1160.65,1436.3 1168.16,1437.52 1175.69,1438.66 1183.24,1439.71 1190.79,1440.68 1198.35,1441.56 1205.93,1442.36 1213.51,1443.07 1221.1,1443.7 1228.69,1444.25 1236.29,1444.7 1243.9,1445.08 1251.51,1445.37 1259.12,1445.57 1266.74,1445.68 1274.35,1445.72 1281.97,1445.66 1289.58,1445.52 1297.19,1445.3 1304.8,1444.99 1312.41,1444.59 1320.01,1444.11 1327.6,1443.54 1335.19,1442.89 1342.77,1442.16 1350.34,1441.34 1357.9,1440.43 1365.45,1439.44 1372.99,1438.36 1380.52,1437.2 1273.35,766.844 \"/>\n",
       "<path clip-path=\"url(#clip542)\" d=\"M1273.35 766.844 L1380.52 1437.2 L1399.79 1433.84 L1418.96 1429.92 L1438.01 1425.44 L1456.92 1420.43 L1475.68 1414.86 L1494.27 1408.76 L1512.67 1402.13 L1530.88 1394.97 L1548.88 1387.29 L1566.64 1379.09 L1584.16 1370.38 L1601.43 1361.18 L1618.42 1351.47 L1635.12 1341.29 L1651.53 1330.62 L1667.62 1319.49 L1683.38 1307.9 L1698.8 1295.86 L1713.87 1283.38 L1728.57 1270.47 L1742.89 1257.14 L1756.83 1243.41 L1770.36 1229.28 L1783.48 1214.76 L1796.18 1199.87 L1808.44 1184.63 L1820.26 1169.03 L1831.62 1153.11 L1842.52 1136.86 L1852.95 1120.3 L1862.89 1103.45 L1872.35 1086.32 L1881.3 1068.93 L1889.76 1051.28 L1897.7 1033.4 L1905.12 1015.3 L1912.02 996.987 L1918.38 978.486 L1924.22 959.81 L1929.51 940.973 L1934.25 921.992 L1938.45 902.881 L1942.09 883.658 L1945.18 864.338 L1947.71 844.936 L1949.68 825.47 L1951.09 805.955 L1951.94 786.408 L1952.22 766.844 L1273.35 766.844  Z\" fill=\"#c271d2\" fill-rule=\"evenodd\" fill-opacity=\"1\"/>\n",
       "<polyline clip-path=\"url(#clip542)\" style=\"stroke:#000000; stroke-linecap:round; stroke-linejoin:round; stroke-width:4; stroke-opacity:1; fill:none\" points=\"1273.35,766.844 1380.52,1437.2 1399.79,1433.84 1418.96,1429.92 1438.01,1425.44 1456.92,1420.43 1475.68,1414.86 1494.27,1408.76 1512.67,1402.13 1530.88,1394.97 1548.88,1387.29 1566.64,1379.09 1584.16,1370.38 1601.43,1361.18 1618.42,1351.47 1635.12,1341.29 1651.53,1330.62 1667.62,1319.49 1683.38,1307.9 1698.8,1295.86 1713.87,1283.38 1728.57,1270.47 1742.89,1257.14 1756.83,1243.41 1770.36,1229.28 1783.48,1214.76 1796.18,1199.87 1808.44,1184.63 1820.26,1169.03 1831.62,1153.11 1842.52,1136.86 1852.95,1120.3 1862.89,1103.45 1872.35,1086.32 1881.3,1068.93 1889.76,1051.28 1897.7,1033.4 1905.12,1015.3 1912.02,996.987 1918.38,978.486 1924.22,959.81 1929.51,940.973 1934.25,921.992 1938.45,902.881 1942.09,883.658 1945.18,864.338 1947.71,844.936 1949.68,825.47 1951.09,805.955 1951.94,786.408 1952.22,766.844 1273.35,766.844 \"/>\n",
       "<path clip-path=\"url(#clip540)\" d=\"M1581.3 354.418 L2280.8 354.418 L2280.8 95.2176 L1581.3 95.2176  Z\" fill=\"#ffffff\" fill-rule=\"evenodd\" fill-opacity=\"1\"/>\n",
       "<polyline clip-path=\"url(#clip540)\" style=\"stroke:#000000; stroke-linecap:round; stroke-linejoin:round; stroke-width:4; stroke-opacity:1; fill:none\" points=\"1581.3,354.418 2280.8,354.418 2280.8,95.2176 1581.3,95.2176 1581.3,354.418 \"/>\n",
       "<path clip-path=\"url(#clip540)\" d=\"M1605.29 167.794 L1749.21 167.794 L1749.21 126.322 L1605.29 126.322 L1605.29 167.794  Z\" fill=\"#009af9\" fill-rule=\"evenodd\" fill-opacity=\"1\"/>\n",
       "<polyline clip-path=\"url(#clip540)\" style=\"stroke:#000000; stroke-linecap:round; stroke-linejoin:round; stroke-width:4; stroke-opacity:1; fill:none\" points=\"1605.29,167.794 1749.21,167.794 1749.21,126.322 1605.29,126.322 1605.29,167.794 \"/>\n",
       "<path clip-path=\"url(#clip540)\" d=\"M1801.07 132.44 L1801.07 137.37 Q1798.71 135.171 1796.02 134.083 Q1793.36 132.995 1790.35 132.995 Q1784.43 132.995 1781.28 136.629 Q1778.13 140.24 1778.13 147.092 Q1778.13 153.921 1781.28 157.555 Q1784.43 161.166 1790.35 161.166 Q1793.36 161.166 1796.02 160.078 Q1798.71 158.99 1801.07 156.791 L1801.07 161.676 Q1798.62 163.342 1795.86 164.176 Q1793.13 165.009 1790.07 165.009 Q1782.23 165.009 1777.71 160.217 Q1773.2 155.402 1773.2 147.092 Q1773.2 138.759 1777.71 133.967 Q1782.23 129.153 1790.07 129.153 Q1793.18 129.153 1795.91 129.986 Q1798.66 130.796 1801.07 132.44 Z\" fill=\"#000000\" fill-rule=\"nonzero\" fill-opacity=\"1\" /><path clip-path=\"url(#clip540)\" d=\"M1818.15 141.398 Q1814.73 141.398 1812.74 144.083 Q1810.75 146.745 1810.75 151.398 Q1810.75 156.051 1812.71 158.736 Q1814.7 161.398 1818.15 161.398 Q1821.56 161.398 1823.55 158.713 Q1825.54 156.027 1825.54 151.398 Q1825.54 146.791 1823.55 144.106 Q1821.56 141.398 1818.15 141.398 M1818.15 137.787 Q1823.71 137.787 1826.88 141.398 Q1830.05 145.009 1830.05 151.398 Q1830.05 157.764 1826.88 161.398 Q1823.71 165.009 1818.15 165.009 Q1812.57 165.009 1809.4 161.398 Q1806.26 157.764 1806.26 151.398 Q1806.26 145.009 1809.4 141.398 Q1812.57 137.787 1818.15 137.787 Z\" fill=\"#000000\" fill-rule=\"nonzero\" fill-opacity=\"1\" /><path clip-path=\"url(#clip540)\" d=\"M1857.3 143.389 Q1858.89 140.518 1861.12 139.153 Q1863.34 137.787 1866.35 137.787 Q1870.4 137.787 1872.6 140.634 Q1874.8 143.458 1874.8 148.689 L1874.8 164.338 L1870.51 164.338 L1870.51 148.828 Q1870.51 145.102 1869.19 143.296 Q1867.88 141.49 1865.17 141.49 Q1861.86 141.49 1859.94 143.69 Q1858.01 145.889 1858.01 149.685 L1858.01 164.338 L1853.73 164.338 L1853.73 148.828 Q1853.73 145.078 1852.41 143.296 Q1851.09 141.49 1848.34 141.49 Q1845.07 141.49 1843.15 143.713 Q1841.23 145.912 1841.23 149.685 L1841.23 164.338 L1836.95 164.338 L1836.95 138.412 L1841.23 138.412 L1841.23 142.44 Q1842.69 140.055 1844.73 138.921 Q1846.76 137.787 1849.57 137.787 Q1852.39 137.787 1854.36 139.222 Q1856.35 140.657 1857.3 143.389 Z\" fill=\"#000000\" fill-rule=\"nonzero\" fill-opacity=\"1\" /><path clip-path=\"url(#clip540)\" d=\"M1901.9 151.398 Q1901.9 146.699 1899.96 144.037 Q1898.04 141.352 1894.66 141.352 Q1891.28 141.352 1889.33 144.037 Q1887.41 146.699 1887.41 151.398 Q1887.41 156.097 1889.33 158.782 Q1891.28 161.444 1894.66 161.444 Q1898.04 161.444 1899.96 158.782 Q1901.9 156.097 1901.9 151.398 M1887.41 142.347 Q1888.75 140.032 1890.79 138.921 Q1892.85 137.787 1895.7 137.787 Q1900.42 137.787 1903.36 141.537 Q1906.32 145.287 1906.32 151.398 Q1906.32 157.509 1903.36 161.259 Q1900.42 165.009 1895.7 165.009 Q1892.85 165.009 1890.79 163.898 Q1888.75 162.763 1887.41 160.449 L1887.41 164.338 L1883.13 164.338 L1883.13 128.319 L1887.41 128.319 L1887.41 142.347 Z\" fill=\"#000000\" fill-rule=\"nonzero\" fill-opacity=\"1\" /><path clip-path=\"url(#clip540)\" d=\"M1913.38 138.412 L1917.64 138.412 L1917.64 164.338 L1913.38 164.338 L1913.38 138.412 M1913.38 128.319 L1917.64 128.319 L1917.64 133.713 L1913.38 133.713 L1913.38 128.319 Z\" fill=\"#000000\" fill-rule=\"nonzero\" fill-opacity=\"1\" /><path clip-path=\"url(#clip540)\" d=\"M1948.11 148.689 L1948.11 164.338 L1943.85 164.338 L1943.85 148.828 Q1943.85 145.148 1942.41 143.319 Q1940.98 141.49 1938.11 141.49 Q1934.66 141.49 1932.67 143.69 Q1930.68 145.889 1930.68 149.685 L1930.68 164.338 L1926.39 164.338 L1926.39 138.412 L1930.68 138.412 L1930.68 142.44 Q1932.2 140.102 1934.26 138.944 Q1936.35 137.787 1939.06 137.787 Q1943.52 137.787 1945.81 140.565 Q1948.11 143.319 1948.11 148.689 Z\" fill=\"#000000\" fill-rule=\"nonzero\" fill-opacity=\"1\" /><path clip-path=\"url(#clip540)\" d=\"M1978.78 150.31 L1978.78 152.393 L1959.19 152.393 Q1959.47 156.791 1961.83 159.106 Q1964.22 161.398 1968.45 161.398 Q1970.91 161.398 1973.2 160.796 Q1975.51 160.194 1977.78 158.99 L1977.78 163.018 Q1975.49 163.99 1973.08 164.5 Q1970.68 165.009 1968.2 165.009 Q1962 165.009 1958.36 161.398 Q1954.75 157.787 1954.75 151.629 Q1954.75 145.264 1958.18 141.537 Q1961.62 137.787 1967.46 137.787 Q1972.69 137.787 1975.72 141.166 Q1978.78 144.523 1978.78 150.31 M1974.52 149.06 Q1974.47 145.565 1972.55 143.481 Q1970.65 141.398 1967.5 141.398 Q1963.94 141.398 1961.79 143.412 Q1959.66 145.426 1959.33 149.083 L1974.52 149.06 Z\" fill=\"#000000\" fill-rule=\"nonzero\" fill-opacity=\"1\" /><path clip-path=\"url(#clip540)\" d=\"M2002.83 142.347 L2002.83 128.319 L2007.09 128.319 L2007.09 164.338 L2002.83 164.338 L2002.83 160.449 Q2001.49 162.763 1999.43 163.898 Q1997.39 165.009 1994.52 165.009 Q1989.82 165.009 1986.86 161.259 Q1983.92 157.509 1983.92 151.398 Q1983.92 145.287 1986.86 141.537 Q1989.82 137.787 1994.52 137.787 Q1997.39 137.787 1999.43 138.921 Q2001.49 140.032 2002.83 142.347 M1988.31 151.398 Q1988.31 156.097 1990.24 158.782 Q1992.18 161.444 1995.56 161.444 Q1998.94 161.444 2000.88 158.782 Q2002.83 156.097 2002.83 151.398 Q2002.83 146.699 2000.88 144.037 Q1998.94 141.352 1995.56 141.352 Q1992.18 141.352 1990.24 144.037 Q1988.31 146.699 1988.31 151.398 Z\" fill=\"#000000\" fill-rule=\"nonzero\" fill-opacity=\"1\" /><path clip-path=\"url(#clip540)\" d=\"M2013.71 149.453 L2026.18 149.453 L2026.18 153.25 L2013.71 153.25 L2013.71 149.453 Z\" fill=\"#000000\" fill-rule=\"nonzero\" fill-opacity=\"1\" /><path clip-path=\"url(#clip540)\" d=\"M2051.62 139.407 L2051.62 143.389 Q2049.82 142.393 2047.99 141.907 Q2046.18 141.398 2044.33 141.398 Q2040.19 141.398 2037.9 144.037 Q2035.61 146.652 2035.61 151.398 Q2035.61 156.143 2037.9 158.782 Q2040.19 161.398 2044.33 161.398 Q2046.18 161.398 2047.99 160.912 Q2049.82 160.402 2051.62 159.407 L2051.62 163.342 Q2049.84 164.176 2047.92 164.592 Q2046.02 165.009 2043.87 165.009 Q2038.01 165.009 2034.56 161.328 Q2031.12 157.648 2031.12 151.398 Q2031.12 145.055 2034.59 141.421 Q2038.08 137.787 2044.15 137.787 Q2046.12 137.787 2047.99 138.203 Q2049.87 138.597 2051.62 139.407 Z\" fill=\"#000000\" fill-rule=\"nonzero\" fill-opacity=\"1\" /><path clip-path=\"url(#clip540)\" d=\"M2069.82 166.745 Q2068.01 171.375 2066.3 172.787 Q2064.59 174.199 2061.72 174.199 L2058.31 174.199 L2058.31 170.634 L2060.81 170.634 Q2062.57 170.634 2063.55 169.8 Q2064.52 168.967 2065.7 165.865 L2066.46 163.921 L2055.98 138.412 L2060.49 138.412 L2068.59 158.689 L2076.69 138.412 L2081.21 138.412 L2069.82 166.745 Z\" fill=\"#000000\" fill-rule=\"nonzero\" fill-opacity=\"1\" /><path clip-path=\"url(#clip540)\" d=\"M2105.74 139.407 L2105.74 143.389 Q2103.94 142.393 2102.11 141.907 Q2100.3 141.398 2098.45 141.398 Q2094.31 141.398 2092.02 144.037 Q2089.73 146.652 2089.73 151.398 Q2089.73 156.143 2092.02 158.782 Q2094.31 161.398 2098.45 161.398 Q2100.3 161.398 2102.11 160.912 Q2103.94 160.402 2105.74 159.407 L2105.74 163.342 Q2103.96 164.176 2102.04 164.592 Q2100.14 165.009 2097.99 165.009 Q2092.13 165.009 2088.68 161.328 Q2085.24 157.648 2085.24 151.398 Q2085.24 145.055 2088.71 141.421 Q2092.2 137.787 2098.27 137.787 Q2100.24 137.787 2102.11 138.203 Q2103.99 138.597 2105.74 139.407 Z\" fill=\"#000000\" fill-rule=\"nonzero\" fill-opacity=\"1\" /><path clip-path=\"url(#clip540)\" d=\"M2113.15 128.319 L2117.41 128.319 L2117.41 164.338 L2113.15 164.338 L2113.15 128.319 Z\" fill=\"#000000\" fill-rule=\"nonzero\" fill-opacity=\"1\" /><path clip-path=\"url(#clip540)\" d=\"M2148.5 150.31 L2148.5 152.393 L2128.92 152.393 Q2129.19 156.791 2131.55 159.106 Q2133.94 161.398 2138.17 161.398 Q2140.63 161.398 2142.92 160.796 Q2145.23 160.194 2147.5 158.99 L2147.5 163.018 Q2145.21 163.99 2142.8 164.5 Q2140.4 165.009 2137.92 165.009 Q2131.72 165.009 2128.08 161.398 Q2124.47 157.787 2124.47 151.629 Q2124.47 145.264 2127.9 141.537 Q2131.35 137.787 2137.18 137.787 Q2142.41 137.787 2145.44 141.166 Q2148.5 144.523 2148.5 150.31 M2144.24 149.06 Q2144.19 145.565 2142.27 143.481 Q2140.37 141.398 2137.23 141.398 Q2133.66 141.398 2131.51 143.412 Q2129.38 145.426 2129.05 149.083 L2144.24 149.06 Z\" fill=\"#000000\" fill-rule=\"nonzero\" fill-opacity=\"1\" /><path clip-path=\"url(#clip540)\" d=\"M2170.12 154.106 L2170.12 138.412 L2174.38 138.412 L2174.38 153.944 Q2174.38 157.625 2175.81 159.476 Q2177.25 161.305 2180.12 161.305 Q2183.57 161.305 2185.56 159.106 Q2187.57 156.907 2187.57 153.111 L2187.57 138.412 L2191.83 138.412 L2191.83 164.338 L2187.57 164.338 L2187.57 160.356 Q2186.02 162.717 2183.96 163.875 Q2181.92 165.009 2179.22 165.009 Q2174.75 165.009 2172.43 162.231 Q2170.12 159.453 2170.12 154.106 M2180.84 137.787 L2180.84 137.787 Z\" fill=\"#000000\" fill-rule=\"nonzero\" fill-opacity=\"1\" /><path clip-path=\"url(#clip540)\" d=\"M2222.16 148.689 L2222.16 164.338 L2217.9 164.338 L2217.9 148.828 Q2217.9 145.148 2216.46 143.319 Q2215.03 141.49 2212.16 141.49 Q2208.71 141.49 2206.72 143.69 Q2204.73 145.889 2204.73 149.685 L2204.73 164.338 L2200.44 164.338 L2200.44 138.412 L2204.73 138.412 L2204.73 142.44 Q2206.25 140.102 2208.31 138.944 Q2210.4 137.787 2213.1 137.787 Q2217.57 137.787 2219.86 140.565 Q2222.16 143.319 2222.16 148.689 Z\" fill=\"#000000\" fill-rule=\"nonzero\" fill-opacity=\"1\" /><path clip-path=\"url(#clip540)\" d=\"M2230.65 138.412 L2234.91 138.412 L2234.91 164.338 L2230.65 164.338 L2230.65 138.412 M2230.65 128.319 L2234.91 128.319 L2234.91 133.713 L2230.65 133.713 L2230.65 128.319 Z\" fill=\"#000000\" fill-rule=\"nonzero\" fill-opacity=\"1\" /><path clip-path=\"url(#clip540)\" d=\"M2248.04 131.051 L2248.04 138.412 L2256.81 138.412 L2256.81 141.722 L2248.04 141.722 L2248.04 155.796 Q2248.04 158.967 2248.89 159.87 Q2249.77 160.773 2252.43 160.773 L2256.81 160.773 L2256.81 164.338 L2252.43 164.338 Q2247.5 164.338 2245.63 162.509 Q2243.75 160.657 2243.75 155.796 L2243.75 141.722 L2240.63 141.722 L2240.63 138.412 L2243.75 138.412 L2243.75 131.051 L2248.04 131.051 Z\" fill=\"#000000\" fill-rule=\"nonzero\" fill-opacity=\"1\" /><path clip-path=\"url(#clip540)\" d=\"M1605.29 219.634 L1749.21 219.634 L1749.21 178.162 L1605.29 178.162 L1605.29 219.634  Z\" fill=\"#e26f46\" fill-rule=\"evenodd\" fill-opacity=\"1\"/>\n",
       "<polyline clip-path=\"url(#clip540)\" style=\"stroke:#000000; stroke-linecap:round; stroke-linejoin:round; stroke-width:4; stroke-opacity:1; fill:none\" points=\"1605.29,219.634 1749.21,219.634 1749.21,178.162 1605.29,178.162 1605.29,219.634 \"/>\n",
       "<path clip-path=\"url(#clip540)\" d=\"M1795.45 182.752 L1795.45 187.312 Q1792.78 186.039 1790.42 185.414 Q1788.06 184.789 1785.86 184.789 Q1782.04 184.789 1779.96 186.27 Q1777.9 187.752 1777.9 190.483 Q1777.9 192.775 1779.26 193.955 Q1780.65 195.113 1784.5 195.83 L1787.32 196.409 Q1792.55 197.405 1795.03 199.928 Q1797.53 202.428 1797.53 206.641 Q1797.53 211.664 1794.15 214.256 Q1790.79 216.849 1784.29 216.849 Q1781.83 216.849 1779.06 216.293 Q1776.3 215.738 1773.34 214.65 L1773.34 209.835 Q1776.19 211.432 1778.92 212.242 Q1781.65 213.053 1784.29 213.053 Q1788.29 213.053 1790.47 211.479 Q1792.64 209.904 1792.64 206.988 Q1792.64 204.442 1791.07 203.006 Q1789.52 201.571 1785.95 200.854 L1783.11 200.298 Q1777.88 199.256 1775.54 197.034 Q1773.2 194.812 1773.2 190.854 Q1773.2 186.27 1776.42 183.631 Q1779.66 180.993 1785.33 180.993 Q1787.76 180.993 1790.28 181.432 Q1792.81 181.872 1795.45 182.752 Z\" fill=\"#000000\" fill-rule=\"nonzero\" fill-opacity=\"1\" /><path clip-path=\"url(#clip540)\" d=\"M1808.85 182.891 L1808.85 190.252 L1817.62 190.252 L1817.62 193.562 L1808.85 193.562 L1808.85 207.636 Q1808.85 210.807 1809.7 211.71 Q1810.58 212.613 1813.25 212.613 L1817.62 212.613 L1817.62 216.178 L1813.25 216.178 Q1808.32 216.178 1806.44 214.349 Q1804.57 212.497 1804.57 207.636 L1804.57 193.562 L1801.44 193.562 L1801.44 190.252 L1804.57 190.252 L1804.57 182.891 L1808.85 182.891 Z\" fill=\"#000000\" fill-rule=\"nonzero\" fill-opacity=\"1\" /><path clip-path=\"url(#clip540)\" d=\"M1845.4 202.15 L1845.4 204.233 L1825.82 204.233 Q1826.09 208.631 1828.45 210.946 Q1830.84 213.238 1835.07 213.238 Q1837.53 213.238 1839.82 212.636 Q1842.13 212.034 1844.4 210.83 L1844.4 214.858 Q1842.11 215.83 1839.7 216.34 Q1837.3 216.849 1834.82 216.849 Q1828.62 216.849 1824.98 213.238 Q1821.37 209.627 1821.37 203.469 Q1821.37 197.104 1824.8 193.377 Q1828.25 189.627 1834.08 189.627 Q1839.31 189.627 1842.34 193.006 Q1845.4 196.363 1845.4 202.15 M1841.14 200.9 Q1841.09 197.405 1839.17 195.321 Q1837.27 193.238 1834.13 193.238 Q1830.56 193.238 1828.41 195.252 Q1826.28 197.266 1825.95 200.923 L1841.14 200.9 Z\" fill=\"#000000\" fill-rule=\"nonzero\" fill-opacity=\"1\" /><path clip-path=\"url(#clip540)\" d=\"M1864.17 203.145 Q1859.01 203.145 1857.02 204.326 Q1855.03 205.506 1855.03 208.354 Q1855.03 210.622 1856.51 211.965 Q1858.01 213.284 1860.58 213.284 Q1864.13 213.284 1866.25 210.784 Q1868.41 208.261 1868.41 204.094 L1868.41 203.145 L1864.17 203.145 M1872.67 201.386 L1872.67 216.178 L1868.41 216.178 L1868.41 212.242 Q1866.95 214.603 1864.77 215.738 Q1862.6 216.849 1859.45 216.849 Q1855.47 216.849 1853.11 214.627 Q1850.77 212.381 1850.77 208.631 Q1850.77 204.256 1853.69 202.034 Q1856.63 199.812 1862.44 199.812 L1868.41 199.812 L1868.41 199.395 Q1868.41 196.455 1866.46 194.858 Q1864.54 193.238 1861.05 193.238 Q1858.82 193.238 1856.72 193.77 Q1854.61 194.303 1852.67 195.367 L1852.67 191.432 Q1855 190.53 1857.2 190.09 Q1859.4 189.627 1861.49 189.627 Q1867.11 189.627 1869.89 192.543 Q1872.67 195.46 1872.67 201.386 Z\" fill=\"#000000\" fill-rule=\"nonzero\" fill-opacity=\"1\" /><path clip-path=\"url(#clip540)\" d=\"M1901.63 195.229 Q1903.22 192.358 1905.44 190.993 Q1907.67 189.627 1910.68 189.627 Q1914.73 189.627 1916.93 192.474 Q1919.12 195.298 1919.12 200.529 L1919.12 216.178 L1914.84 216.178 L1914.84 200.668 Q1914.84 196.942 1913.52 195.136 Q1912.2 193.33 1909.5 193.33 Q1906.19 193.33 1904.26 195.53 Q1902.34 197.729 1902.34 201.525 L1902.34 216.178 L1898.06 216.178 L1898.06 200.668 Q1898.06 196.918 1896.74 195.136 Q1895.42 193.33 1892.67 193.33 Q1889.4 193.33 1887.48 195.553 Q1885.56 197.752 1885.56 201.525 L1885.56 216.178 L1881.28 216.178 L1881.28 190.252 L1885.56 190.252 L1885.56 194.28 Q1887.02 191.895 1889.06 190.761 Q1891.09 189.627 1893.89 189.627 Q1896.72 189.627 1898.69 191.062 Q1900.68 192.497 1901.63 195.229 Z\" fill=\"#000000\" fill-rule=\"nonzero\" fill-opacity=\"1\" /><path clip-path=\"url(#clip540)\" d=\"M1946.9 182.891 L1946.9 190.252 L1955.68 190.252 L1955.68 193.562 L1946.9 193.562 L1946.9 207.636 Q1946.9 210.807 1947.76 211.71 Q1948.64 212.613 1951.3 212.613 L1955.68 212.613 L1955.68 216.178 L1951.3 216.178 Q1946.37 216.178 1944.5 214.349 Q1942.62 212.497 1942.62 207.636 L1942.62 193.562 L1939.5 193.562 L1939.5 190.252 L1942.62 190.252 L1942.62 182.891 L1946.9 182.891 Z\" fill=\"#000000\" fill-rule=\"nonzero\" fill-opacity=\"1\" /><path clip-path=\"url(#clip540)\" d=\"M1960.84 205.946 L1960.84 190.252 L1965.1 190.252 L1965.1 205.784 Q1965.1 209.465 1966.53 211.316 Q1967.97 213.145 1970.84 213.145 Q1974.29 213.145 1976.28 210.946 Q1978.29 208.747 1978.29 204.951 L1978.29 190.252 L1982.55 190.252 L1982.55 216.178 L1978.29 216.178 L1978.29 212.196 Q1976.74 214.557 1974.68 215.715 Q1972.64 216.849 1969.93 216.849 Q1965.47 216.849 1963.15 214.071 Q1960.84 211.293 1960.84 205.946 M1971.56 189.627 L1971.56 189.627 Z\" fill=\"#000000\" fill-rule=\"nonzero\" fill-opacity=\"1\" /><path clip-path=\"url(#clip540)\" d=\"M2006.35 194.233 Q2005.63 193.817 2004.77 193.631 Q2003.94 193.423 2002.92 193.423 Q1999.31 193.423 1997.37 195.784 Q1995.44 198.122 1995.44 202.52 L1995.44 216.178 L1991.16 216.178 L1991.16 190.252 L1995.44 190.252 L1995.44 194.28 Q1996.79 191.918 1998.94 190.784 Q2001.09 189.627 2004.17 189.627 Q2004.61 189.627 2005.14 189.696 Q2005.68 189.743 2006.32 189.858 L2006.35 194.233 Z\" fill=\"#000000\" fill-rule=\"nonzero\" fill-opacity=\"1\" /><path clip-path=\"url(#clip540)\" d=\"M2029.43 203.238 Q2029.43 198.539 2027.48 195.877 Q2025.56 193.192 2022.18 193.192 Q2018.8 193.192 2016.86 195.877 Q2014.93 198.539 2014.93 203.238 Q2014.93 207.937 2016.86 210.622 Q2018.8 213.284 2022.18 213.284 Q2025.56 213.284 2027.48 210.622 Q2029.43 207.937 2029.43 203.238 M2014.93 194.187 Q2016.28 191.872 2018.31 190.761 Q2020.37 189.627 2023.22 189.627 Q2027.94 189.627 2030.88 193.377 Q2033.85 197.127 2033.85 203.238 Q2033.85 209.349 2030.88 213.099 Q2027.94 216.849 2023.22 216.849 Q2020.37 216.849 2018.31 215.738 Q2016.28 214.603 2014.93 212.289 L2014.93 216.178 L2010.65 216.178 L2010.65 180.159 L2014.93 180.159 L2014.93 194.187 Z\" fill=\"#000000\" fill-rule=\"nonzero\" fill-opacity=\"1\" /><path clip-path=\"url(#clip540)\" d=\"M2040.91 190.252 L2045.17 190.252 L2045.17 216.178 L2040.91 216.178 L2040.91 190.252 M2040.91 180.159 L2045.17 180.159 L2045.17 185.553 L2040.91 185.553 L2040.91 180.159 Z\" fill=\"#000000\" fill-rule=\"nonzero\" fill-opacity=\"1\" /><path clip-path=\"url(#clip540)\" d=\"M2075.63 200.529 L2075.63 216.178 L2071.37 216.178 L2071.37 200.668 Q2071.37 196.988 2069.93 195.159 Q2068.5 193.33 2065.63 193.33 Q2062.18 193.33 2060.19 195.53 Q2058.2 197.729 2058.2 201.525 L2058.2 216.178 L2053.92 216.178 L2053.92 190.252 L2058.2 190.252 L2058.2 194.28 Q2059.73 191.942 2061.79 190.784 Q2063.87 189.627 2066.58 189.627 Q2071.05 189.627 2073.34 192.405 Q2075.63 195.159 2075.63 200.529 Z\" fill=\"#000000\" fill-rule=\"nonzero\" fill-opacity=\"1\" /><path clip-path=\"url(#clip540)\" d=\"M2106.3 202.15 L2106.3 204.233 L2086.72 204.233 Q2086.99 208.631 2089.36 210.946 Q2091.74 213.238 2095.98 213.238 Q2098.43 213.238 2100.72 212.636 Q2103.04 212.034 2105.3 210.83 L2105.3 214.858 Q2103.01 215.83 2100.61 216.34 Q2098.2 216.849 2095.72 216.849 Q2089.52 216.849 2085.88 213.238 Q2082.27 209.627 2082.27 203.469 Q2082.27 197.104 2085.7 193.377 Q2089.15 189.627 2094.98 189.627 Q2100.21 189.627 2103.24 193.006 Q2106.3 196.363 2106.3 202.15 M2102.04 200.9 Q2101.99 197.405 2100.07 195.321 Q2098.17 193.238 2095.03 193.238 Q2091.46 193.238 2089.31 195.252 Q2087.18 197.266 2086.86 200.923 L2102.04 200.9 Z\" fill=\"#000000\" fill-rule=\"nonzero\" fill-opacity=\"1\" /><path clip-path=\"url(#clip540)\" d=\"M1605.29 271.474 L1749.21 271.474 L1749.21 230.002 L1605.29 230.002 L1605.29 271.474  Z\" fill=\"#3da44d\" fill-rule=\"evenodd\" fill-opacity=\"1\"/>\n",
       "<polyline clip-path=\"url(#clip540)\" style=\"stroke:#000000; stroke-linecap:round; stroke-linejoin:round; stroke-width:4; stroke-opacity:1; fill:none\" points=\"1605.29,271.474 1749.21,271.474 1749.21,230.002 1605.29,230.002 1605.29,271.474 \"/>\n",
       "<path clip-path=\"url(#clip540)\" d=\"M1798.76 263.087 L1798.76 253.805 L1791.12 253.805 L1791.12 249.962 L1803.38 249.962 L1803.38 264.8 Q1800.68 266.721 1797.41 267.717 Q1794.15 268.689 1790.45 268.689 Q1782.34 268.689 1777.76 263.967 Q1773.2 259.221 1773.2 250.772 Q1773.2 242.3 1777.76 237.578 Q1782.34 232.833 1790.45 232.833 Q1793.82 232.833 1796.86 233.666 Q1799.91 234.499 1802.48 236.12 L1802.48 241.096 Q1799.89 238.897 1796.97 237.786 Q1794.06 236.675 1790.84 236.675 Q1784.5 236.675 1781.3 240.217 Q1778.13 243.758 1778.13 250.772 Q1778.13 257.763 1781.3 261.305 Q1784.5 264.846 1790.84 264.846 Q1793.32 264.846 1795.26 264.43 Q1797.2 263.99 1798.76 263.087 Z\" fill=\"#000000\" fill-rule=\"nonzero\" fill-opacity=\"1\" /><path clip-path=\"url(#clip540)\" d=\"M1823.52 254.985 Q1818.36 254.985 1816.37 256.166 Q1814.38 257.346 1814.38 260.194 Q1814.38 262.462 1815.86 263.805 Q1817.37 265.124 1819.94 265.124 Q1823.48 265.124 1825.61 262.624 Q1827.76 260.101 1827.76 255.934 L1827.76 254.985 L1823.52 254.985 M1832.02 253.226 L1832.02 268.018 L1827.76 268.018 L1827.76 264.082 Q1826.3 266.443 1824.13 267.578 Q1821.95 268.689 1818.8 268.689 Q1814.82 268.689 1812.46 266.467 Q1810.12 264.221 1810.12 260.471 Q1810.12 256.096 1813.04 253.874 Q1815.98 251.652 1821.79 251.652 L1827.76 251.652 L1827.76 251.235 Q1827.76 248.295 1825.82 246.698 Q1823.89 245.078 1820.4 245.078 Q1818.18 245.078 1816.07 245.61 Q1813.96 246.143 1812.02 247.207 L1812.02 243.272 Q1814.36 242.37 1816.56 241.93 Q1818.76 241.467 1820.84 241.467 Q1826.46 241.467 1829.24 244.383 Q1832.02 247.3 1832.02 253.226 Z\" fill=\"#000000\" fill-rule=\"nonzero\" fill-opacity=\"1\" /><path clip-path=\"url(#clip540)\" d=\"M1857.32 242.856 L1857.32 246.883 Q1855.51 245.957 1853.57 245.495 Q1851.63 245.032 1849.54 245.032 Q1846.37 245.032 1844.77 246.004 Q1843.2 246.976 1843.2 248.92 Q1843.2 250.402 1844.33 251.258 Q1845.47 252.092 1848.89 252.856 L1850.35 253.18 Q1854.89 254.152 1856.79 255.934 Q1858.71 257.694 1858.71 260.865 Q1858.71 264.476 1855.84 266.582 Q1852.99 268.689 1847.99 268.689 Q1845.91 268.689 1843.64 268.272 Q1841.39 267.879 1838.89 267.068 L1838.89 262.67 Q1841.26 263.897 1843.55 264.522 Q1845.84 265.124 1848.08 265.124 Q1851.09 265.124 1852.71 264.106 Q1854.33 263.064 1854.33 261.189 Q1854.33 259.453 1853.15 258.527 Q1852 257.601 1848.04 256.744 L1846.56 256.397 Q1842.6 255.564 1840.84 253.851 Q1839.08 252.115 1839.08 249.106 Q1839.08 245.448 1841.67 243.458 Q1844.26 241.467 1849.03 241.467 Q1851.39 241.467 1853.48 241.814 Q1855.56 242.161 1857.32 242.856 Z\" fill=\"#000000\" fill-rule=\"nonzero\" fill-opacity=\"1\" /><path clip-path=\"url(#clip540)\" d=\"M1884.77 234.731 L1884.77 242.092 L1893.55 242.092 L1893.55 245.402 L1884.77 245.402 L1884.77 259.476 Q1884.77 262.647 1885.63 263.55 Q1886.51 264.453 1889.17 264.453 L1893.55 264.453 L1893.55 268.018 L1889.17 268.018 Q1884.24 268.018 1882.37 266.189 Q1880.49 264.337 1880.49 259.476 L1880.49 245.402 L1877.37 245.402 L1877.37 242.092 L1880.49 242.092 L1880.49 234.731 L1884.77 234.731 Z\" fill=\"#000000\" fill-rule=\"nonzero\" fill-opacity=\"1\" /><path clip-path=\"url(#clip540)\" d=\"M1898.71 257.786 L1898.71 242.092 L1902.97 242.092 L1902.97 257.624 Q1902.97 261.305 1904.4 263.156 Q1905.84 264.985 1908.71 264.985 Q1912.16 264.985 1914.15 262.786 Q1916.16 260.587 1916.16 256.791 L1916.16 242.092 L1920.42 242.092 L1920.42 268.018 L1916.16 268.018 L1916.16 264.036 Q1914.61 266.397 1912.55 267.555 Q1910.51 268.689 1907.81 268.689 Q1903.34 268.689 1901.02 265.911 Q1898.71 263.133 1898.71 257.786 M1909.43 241.467 L1909.43 241.467 Z\" fill=\"#000000\" fill-rule=\"nonzero\" fill-opacity=\"1\" /><path clip-path=\"url(#clip540)\" d=\"M1944.22 246.073 Q1943.5 245.657 1942.64 245.471 Q1941.81 245.263 1940.79 245.263 Q1937.18 245.263 1935.24 247.624 Q1933.31 249.962 1933.31 254.36 L1933.31 268.018 L1929.03 268.018 L1929.03 242.092 L1933.31 242.092 L1933.31 246.12 Q1934.66 243.758 1936.81 242.624 Q1938.96 241.467 1942.04 241.467 Q1942.48 241.467 1943.01 241.536 Q1943.55 241.583 1944.19 241.698 L1944.22 246.073 Z\" fill=\"#000000\" fill-rule=\"nonzero\" fill-opacity=\"1\" /><path clip-path=\"url(#clip540)\" d=\"M1967.3 255.078 Q1967.3 250.379 1965.35 247.717 Q1963.43 245.032 1960.05 245.032 Q1956.67 245.032 1954.73 247.717 Q1952.81 250.379 1952.81 255.078 Q1952.81 259.777 1954.73 262.462 Q1956.67 265.124 1960.05 265.124 Q1963.43 265.124 1965.35 262.462 Q1967.3 259.777 1967.3 255.078 M1952.81 246.027 Q1954.15 243.712 1956.18 242.601 Q1958.25 241.467 1961.09 241.467 Q1965.81 241.467 1968.75 245.217 Q1971.72 248.967 1971.72 255.078 Q1971.72 261.189 1968.75 264.939 Q1965.81 268.689 1961.09 268.689 Q1958.25 268.689 1956.18 267.578 Q1954.15 266.443 1952.81 264.129 L1952.81 268.018 L1948.52 268.018 L1948.52 231.999 L1952.81 231.999 L1952.81 246.027 Z\" fill=\"#000000\" fill-rule=\"nonzero\" fill-opacity=\"1\" /><path clip-path=\"url(#clip540)\" d=\"M1978.78 242.092 L1983.04 242.092 L1983.04 268.018 L1978.78 268.018 L1978.78 242.092 M1978.78 231.999 L1983.04 231.999 L1983.04 237.393 L1978.78 237.393 L1978.78 231.999 Z\" fill=\"#000000\" fill-rule=\"nonzero\" fill-opacity=\"1\" /><path clip-path=\"url(#clip540)\" d=\"M2013.5 252.369 L2013.5 268.018 L2009.24 268.018 L2009.24 252.508 Q2009.24 248.828 2007.81 246.999 Q2006.37 245.17 2003.5 245.17 Q2000.05 245.17 1998.06 247.37 Q1996.07 249.569 1996.07 253.365 L1996.07 268.018 L1991.79 268.018 L1991.79 242.092 L1996.07 242.092 L1996.07 246.12 Q1997.6 243.782 1999.66 242.624 Q2001.74 241.467 2004.45 241.467 Q2008.92 241.467 2011.21 244.245 Q2013.5 246.999 2013.5 252.369 Z\" fill=\"#000000\" fill-rule=\"nonzero\" fill-opacity=\"1\" /><path clip-path=\"url(#clip540)\" d=\"M2044.17 253.99 L2044.17 256.073 L2024.59 256.073 Q2024.87 260.471 2027.23 262.786 Q2029.61 265.078 2033.85 265.078 Q2036.3 265.078 2038.59 264.476 Q2040.91 263.874 2043.18 262.67 L2043.18 266.698 Q2040.88 267.67 2038.48 268.18 Q2036.07 268.689 2033.59 268.689 Q2027.39 268.689 2023.75 265.078 Q2020.14 261.467 2020.14 255.309 Q2020.14 248.944 2023.57 245.217 Q2027.02 241.467 2032.85 241.467 Q2038.08 241.467 2041.12 244.846 Q2044.17 248.203 2044.17 253.99 M2039.91 252.74 Q2039.87 249.245 2037.94 247.161 Q2036.05 245.078 2032.9 245.078 Q2029.33 245.078 2027.18 247.092 Q2025.05 249.106 2024.73 252.763 L2039.91 252.74 Z\" fill=\"#000000\" fill-rule=\"nonzero\" fill-opacity=\"1\" /><path clip-path=\"url(#clip540)\" d=\"M1605.29 323.314 L1749.21 323.314 L1749.21 281.842 L1605.29 281.842 L1605.29 323.314  Z\" fill=\"#c271d2\" fill-rule=\"evenodd\" fill-opacity=\"1\"/>\n",
       "<polyline clip-path=\"url(#clip540)\" style=\"stroke:#000000; stroke-linecap:round; stroke-linejoin:round; stroke-width:4; stroke-opacity:1; fill:none\" points=\"1605.29,323.314 1749.21,323.314 1749.21,281.842 1605.29,281.842 1605.29,323.314 \"/>\n",
       "<path clip-path=\"url(#clip540)\" d=\"M1801.07 287.96 L1801.07 292.89 Q1798.71 290.691 1796.02 289.603 Q1793.36 288.515 1790.35 288.515 Q1784.43 288.515 1781.28 292.149 Q1778.13 295.76 1778.13 302.612 Q1778.13 309.441 1781.28 313.075 Q1784.43 316.686 1790.35 316.686 Q1793.36 316.686 1796.02 315.598 Q1798.71 314.51 1801.07 312.311 L1801.07 317.196 Q1798.62 318.862 1795.86 319.696 Q1793.13 320.529 1790.07 320.529 Q1782.23 320.529 1777.71 315.737 Q1773.2 310.922 1773.2 302.612 Q1773.2 294.279 1777.71 289.487 Q1782.23 284.673 1790.07 284.673 Q1793.18 284.673 1795.91 285.506 Q1798.66 286.316 1801.07 287.96 Z\" fill=\"#000000\" fill-rule=\"nonzero\" fill-opacity=\"1\" /><path clip-path=\"url(#clip540)\" d=\"M1818.15 296.918 Q1814.73 296.918 1812.74 299.603 Q1810.75 302.265 1810.75 306.918 Q1810.75 311.571 1812.71 314.256 Q1814.7 316.918 1818.15 316.918 Q1821.56 316.918 1823.55 314.233 Q1825.54 311.547 1825.54 306.918 Q1825.54 302.311 1823.55 299.626 Q1821.56 296.918 1818.15 296.918 M1818.15 293.307 Q1823.71 293.307 1826.88 296.918 Q1830.05 300.529 1830.05 306.918 Q1830.05 313.284 1826.88 316.918 Q1823.71 320.529 1818.15 320.529 Q1812.57 320.529 1809.4 316.918 Q1806.26 313.284 1806.26 306.918 Q1806.26 300.529 1809.4 296.918 Q1812.57 293.307 1818.15 293.307 Z\" fill=\"#000000\" fill-rule=\"nonzero\" fill-opacity=\"1\" /><path clip-path=\"url(#clip540)\" d=\"M1857.3 298.909 Q1858.89 296.038 1861.12 294.673 Q1863.34 293.307 1866.35 293.307 Q1870.4 293.307 1872.6 296.154 Q1874.8 298.978 1874.8 304.209 L1874.8 319.858 L1870.51 319.858 L1870.51 304.348 Q1870.51 300.622 1869.19 298.816 Q1867.88 297.01 1865.17 297.01 Q1861.86 297.01 1859.94 299.21 Q1858.01 301.409 1858.01 305.205 L1858.01 319.858 L1853.73 319.858 L1853.73 304.348 Q1853.73 300.598 1852.41 298.816 Q1851.09 297.01 1848.34 297.01 Q1845.07 297.01 1843.15 299.233 Q1841.23 301.432 1841.23 305.205 L1841.23 319.858 L1836.95 319.858 L1836.95 293.932 L1841.23 293.932 L1841.23 297.96 Q1842.69 295.575 1844.73 294.441 Q1846.76 293.307 1849.57 293.307 Q1852.39 293.307 1854.36 294.742 Q1856.35 296.177 1857.3 298.909 Z\" fill=\"#000000\" fill-rule=\"nonzero\" fill-opacity=\"1\" /><path clip-path=\"url(#clip540)\" d=\"M1901.9 306.918 Q1901.9 302.219 1899.96 299.557 Q1898.04 296.872 1894.66 296.872 Q1891.28 296.872 1889.33 299.557 Q1887.41 302.219 1887.41 306.918 Q1887.41 311.617 1889.33 314.302 Q1891.28 316.964 1894.66 316.964 Q1898.04 316.964 1899.96 314.302 Q1901.9 311.617 1901.9 306.918 M1887.41 297.867 Q1888.75 295.552 1890.79 294.441 Q1892.85 293.307 1895.7 293.307 Q1900.42 293.307 1903.36 297.057 Q1906.32 300.807 1906.32 306.918 Q1906.32 313.029 1903.36 316.779 Q1900.42 320.529 1895.7 320.529 Q1892.85 320.529 1890.79 319.418 Q1888.75 318.283 1887.41 315.969 L1887.41 319.858 L1883.13 319.858 L1883.13 283.839 L1887.41 283.839 L1887.41 297.867 Z\" fill=\"#000000\" fill-rule=\"nonzero\" fill-opacity=\"1\" /><path clip-path=\"url(#clip540)\" d=\"M1912.94 309.626 L1912.94 293.932 L1917.2 293.932 L1917.2 309.464 Q1917.2 313.145 1918.64 314.996 Q1920.07 316.825 1922.94 316.825 Q1926.39 316.825 1928.38 314.626 Q1930.4 312.427 1930.4 308.631 L1930.4 293.932 L1934.66 293.932 L1934.66 319.858 L1930.4 319.858 L1930.4 315.876 Q1928.85 318.237 1926.79 319.395 Q1924.75 320.529 1922.04 320.529 Q1917.57 320.529 1915.26 317.751 Q1912.94 314.973 1912.94 309.626 M1923.66 293.307 L1923.66 293.307 Z\" fill=\"#000000\" fill-rule=\"nonzero\" fill-opacity=\"1\" /><path clip-path=\"url(#clip540)\" d=\"M1959.96 294.696 L1959.96 298.723 Q1958.15 297.797 1956.21 297.335 Q1954.26 296.872 1952.18 296.872 Q1949.01 296.872 1947.41 297.844 Q1945.84 298.816 1945.84 300.76 Q1945.84 302.242 1946.97 303.098 Q1948.11 303.932 1951.53 304.696 L1952.99 305.02 Q1957.53 305.992 1959.43 307.774 Q1961.35 309.534 1961.35 312.705 Q1961.35 316.316 1958.48 318.422 Q1955.63 320.529 1950.63 320.529 Q1948.55 320.529 1946.28 320.112 Q1944.03 319.719 1941.53 318.908 L1941.53 314.51 Q1943.89 315.737 1946.19 316.362 Q1948.48 316.964 1950.72 316.964 Q1953.73 316.964 1955.35 315.946 Q1956.97 314.904 1956.97 313.029 Q1956.97 311.293 1955.79 310.367 Q1954.63 309.441 1950.68 308.584 L1949.19 308.237 Q1945.24 307.404 1943.48 305.691 Q1941.72 303.955 1941.72 300.946 Q1941.72 297.288 1944.31 295.298 Q1946.9 293.307 1951.67 293.307 Q1954.03 293.307 1956.12 293.654 Q1958.2 294.001 1959.96 294.696 Z\" fill=\"#000000\" fill-rule=\"nonzero\" fill-opacity=\"1\" /><path clip-path=\"url(#clip540)\" d=\"M1972.34 286.571 L1972.34 293.932 L1981.12 293.932 L1981.12 297.242 L1972.34 297.242 L1972.34 311.316 Q1972.34 314.487 1973.2 315.39 Q1974.08 316.293 1976.74 316.293 L1981.12 316.293 L1981.12 319.858 L1976.74 319.858 Q1971.81 319.858 1969.93 318.029 Q1968.06 316.177 1968.06 311.316 L1968.06 297.242 L1964.93 297.242 L1964.93 293.932 L1968.06 293.932 L1968.06 286.571 L1972.34 286.571 Z\" fill=\"#000000\" fill-rule=\"nonzero\" fill-opacity=\"1\" /><path clip-path=\"url(#clip540)\" d=\"M1986.72 293.932 L1990.98 293.932 L1990.98 319.858 L1986.72 319.858 L1986.72 293.932 M1986.72 283.839 L1990.98 283.839 L1990.98 289.233 L1986.72 289.233 L1986.72 283.839 Z\" fill=\"#000000\" fill-rule=\"nonzero\" fill-opacity=\"1\" /><path clip-path=\"url(#clip540)\" d=\"M2009.93 296.918 Q2006.51 296.918 2004.52 299.603 Q2002.53 302.265 2002.53 306.918 Q2002.53 311.571 2004.49 314.256 Q2006.49 316.918 2009.93 316.918 Q2013.34 316.918 2015.33 314.233 Q2017.32 311.547 2017.32 306.918 Q2017.32 302.311 2015.33 299.626 Q2013.34 296.918 2009.93 296.918 M2009.93 293.307 Q2015.49 293.307 2018.66 296.918 Q2021.83 300.529 2021.83 306.918 Q2021.83 313.284 2018.66 316.918 Q2015.49 320.529 2009.93 320.529 Q2004.36 320.529 2001.18 316.918 Q1998.04 313.284 1998.04 306.918 Q1998.04 300.529 2001.18 296.918 Q2004.36 293.307 2009.93 293.307 Z\" fill=\"#000000\" fill-rule=\"nonzero\" fill-opacity=\"1\" /><path clip-path=\"url(#clip540)\" d=\"M2050.44 304.209 L2050.44 319.858 L2046.18 319.858 L2046.18 304.348 Q2046.18 300.668 2044.75 298.839 Q2043.31 297.01 2040.44 297.01 Q2036.99 297.01 2035 299.21 Q2033.01 301.409 2033.01 305.205 L2033.01 319.858 L2028.73 319.858 L2028.73 293.932 L2033.01 293.932 L2033.01 297.96 Q2034.54 295.622 2036.6 294.464 Q2038.68 293.307 2041.39 293.307 Q2045.86 293.307 2048.15 296.085 Q2050.44 298.839 2050.44 304.209 Z\" fill=\"#000000\" fill-rule=\"nonzero\" fill-opacity=\"1\" /><path clip-path=\"url(#clip540)\" d=\"M2078.22 286.571 L2078.22 293.932 L2086.99 293.932 L2086.99 297.242 L2078.22 297.242 L2078.22 311.316 Q2078.22 314.487 2079.08 315.39 Q2079.96 316.293 2082.62 316.293 L2086.99 316.293 L2086.99 319.858 L2082.62 319.858 Q2077.69 319.858 2075.81 318.029 Q2073.94 316.177 2073.94 311.316 L2073.94 297.242 L2070.81 297.242 L2070.81 293.932 L2073.94 293.932 L2073.94 286.571 L2078.22 286.571 Z\" fill=\"#000000\" fill-rule=\"nonzero\" fill-opacity=\"1\" /><path clip-path=\"url(#clip540)\" d=\"M2092.16 309.626 L2092.16 293.932 L2096.42 293.932 L2096.42 309.464 Q2096.42 313.145 2097.85 314.996 Q2099.29 316.825 2102.16 316.825 Q2105.61 316.825 2107.6 314.626 Q2109.61 312.427 2109.61 308.631 L2109.61 293.932 L2113.87 293.932 L2113.87 319.858 L2109.61 319.858 L2109.61 315.876 Q2108.06 318.237 2106 319.395 Q2103.96 320.529 2101.25 320.529 Q2096.79 320.529 2094.47 317.751 Q2092.16 314.973 2092.16 309.626 M2102.87 293.307 L2102.87 293.307 Z\" fill=\"#000000\" fill-rule=\"nonzero\" fill-opacity=\"1\" /><path clip-path=\"url(#clip540)\" d=\"M2137.67 297.913 Q2136.95 297.497 2136.09 297.311 Q2135.26 297.103 2134.24 297.103 Q2130.63 297.103 2128.68 299.464 Q2126.76 301.802 2126.76 306.2 L2126.76 319.858 L2122.48 319.858 L2122.48 293.932 L2126.76 293.932 L2126.76 297.96 Q2128.11 295.598 2130.26 294.464 Q2132.41 293.307 2135.49 293.307 Q2135.93 293.307 2136.46 293.376 Q2136.99 293.423 2137.64 293.538 L2137.67 297.913 Z\" fill=\"#000000\" fill-rule=\"nonzero\" fill-opacity=\"1\" /><path clip-path=\"url(#clip540)\" d=\"M2160.74 306.918 Q2160.74 302.219 2158.8 299.557 Q2156.88 296.872 2153.5 296.872 Q2150.12 296.872 2148.17 299.557 Q2146.25 302.219 2146.25 306.918 Q2146.25 311.617 2148.17 314.302 Q2150.12 316.964 2153.5 316.964 Q2156.88 316.964 2158.8 314.302 Q2160.74 311.617 2160.74 306.918 M2146.25 297.867 Q2147.6 295.552 2149.63 294.441 Q2151.69 293.307 2154.54 293.307 Q2159.26 293.307 2162.2 297.057 Q2165.17 300.807 2165.17 306.918 Q2165.17 313.029 2162.2 316.779 Q2159.26 320.529 2154.54 320.529 Q2151.69 320.529 2149.63 319.418 Q2147.6 318.283 2146.25 315.969 L2146.25 319.858 L2141.97 319.858 L2141.97 283.839 L2146.25 283.839 L2146.25 297.867 Z\" fill=\"#000000\" fill-rule=\"nonzero\" fill-opacity=\"1\" /><path clip-path=\"url(#clip540)\" d=\"M2172.23 293.932 L2176.48 293.932 L2176.48 319.858 L2172.23 319.858 L2172.23 293.932 M2172.23 283.839 L2176.48 283.839 L2176.48 289.233 L2172.23 289.233 L2172.23 283.839 Z\" fill=\"#000000\" fill-rule=\"nonzero\" fill-opacity=\"1\" /><path clip-path=\"url(#clip540)\" d=\"M2206.95 304.209 L2206.95 319.858 L2202.69 319.858 L2202.69 304.348 Q2202.69 300.668 2201.25 298.839 Q2199.82 297.01 2196.95 297.01 Q2193.5 297.01 2191.51 299.21 Q2189.52 301.409 2189.52 305.205 L2189.52 319.858 L2185.23 319.858 L2185.23 293.932 L2189.52 293.932 L2189.52 297.96 Q2191.04 295.622 2193.1 294.464 Q2195.19 293.307 2197.9 293.307 Q2202.36 293.307 2204.66 296.085 Q2206.95 298.839 2206.95 304.209 Z\" fill=\"#000000\" fill-rule=\"nonzero\" fill-opacity=\"1\" /><path clip-path=\"url(#clip540)\" d=\"M2237.62 305.83 L2237.62 307.913 L2218.04 307.913 Q2218.31 312.311 2220.67 314.626 Q2223.06 316.918 2227.29 316.918 Q2229.75 316.918 2232.04 316.316 Q2234.35 315.714 2236.62 314.51 L2236.62 318.538 Q2234.33 319.51 2231.92 320.02 Q2229.52 320.529 2227.04 320.529 Q2220.84 320.529 2217.2 316.918 Q2213.59 313.307 2213.59 307.149 Q2213.59 300.784 2217.02 297.057 Q2220.47 293.307 2226.3 293.307 Q2231.53 293.307 2234.56 296.686 Q2237.62 300.043 2237.62 305.83 M2233.36 304.58 Q2233.31 301.085 2231.39 299.001 Q2229.49 296.918 2226.35 296.918 Q2222.78 296.918 2220.63 298.932 Q2218.5 300.946 2218.17 304.603 L2233.36 304.58 Z\" fill=\"#000000\" fill-rule=\"nonzero\" fill-opacity=\"1\" /><path clip-path=\"url(#clip540)\" d=\"M1371.01 391.295 Q1374.79 392.103 1376.9 394.655 Q1379.03 397.207 1379.03 400.957 Q1379.03 406.712 1375.07 409.863 Q1371.12 413.014 1363.82 413.014 Q1361.38 413.014 1358.77 412.519 Q1356.19 412.051 1353.43 411.087 L1353.43 406.009 Q1355.62 407.285 1358.23 407.936 Q1360.83 408.587 1363.67 408.587 Q1368.62 408.587 1371.19 406.634 Q1373.8 404.681 1373.8 400.957 Q1373.8 397.519 1371.38 395.592 Q1368.98 393.639 1364.68 393.639 L1360.15 393.639 L1360.15 389.316 L1364.89 389.316 Q1368.77 389.316 1370.83 387.78 Q1372.89 386.217 1372.89 383.301 Q1372.89 380.306 1370.75 378.717 Q1368.64 377.103 1364.68 377.103 Q1362.52 377.103 1360.05 377.572 Q1357.57 378.04 1354.61 379.03 L1354.61 374.342 Q1357.6 373.509 1360.2 373.092 Q1362.83 372.676 1365.15 372.676 Q1371.14 372.676 1374.63 375.41 Q1378.12 378.118 1378.12 382.754 Q1378.12 385.983 1376.27 388.223 Q1374.42 390.436 1371.01 391.295 Z\" fill=\"#000000\" fill-rule=\"nonzero\" fill-opacity=\"1\" /><path clip-path=\"url(#clip540)\" d=\"M1387.68 373.379 L1412.68 373.379 L1412.68 375.618 L1398.56 412.259 L1393.07 412.259 L1406.35 377.806 L1387.68 377.806 L1387.68 373.379 Z\" fill=\"#000000\" fill-rule=\"nonzero\" fill-opacity=\"1\" /><path clip-path=\"url(#clip540)\" d=\"M1422.94 405.644 L1428.43 405.644 L1428.43 412.259 L1422.94 412.259 L1422.94 405.644 Z\" fill=\"#000000\" fill-rule=\"nonzero\" fill-opacity=\"1\" /><path clip-path=\"url(#clip540)\" d=\"M1451.14 376.842 Q1447.08 376.842 1445.02 380.853 Q1442.99 384.837 1442.99 392.858 Q1442.99 400.853 1445.02 404.863 Q1447.08 408.847 1451.14 408.847 Q1455.23 408.847 1457.26 404.863 Q1459.32 400.853 1459.32 392.858 Q1459.32 384.837 1457.26 380.853 Q1455.23 376.842 1451.14 376.842 M1451.14 372.676 Q1457.68 372.676 1461.12 377.858 Q1464.58 383.014 1464.58 392.858 Q1464.58 402.676 1461.12 407.858 Q1457.68 413.014 1451.14 413.014 Q1444.61 413.014 1441.14 407.858 Q1437.7 402.676 1437.7 392.858 Q1437.7 383.014 1441.14 377.858 Q1444.61 372.676 1451.14 372.676 Z\" fill=\"#000000\" fill-rule=\"nonzero\" fill-opacity=\"1\" /><path clip-path=\"url(#clip540)\" d=\"M1506.9 395.15 Q1504.63 395.15 1503.33 397.077 Q1502.05 399.004 1502.05 402.441 Q1502.05 405.827 1503.33 407.78 Q1504.63 409.707 1506.9 409.707 Q1509.11 409.707 1510.39 407.78 Q1511.69 405.827 1511.69 402.441 Q1511.69 399.03 1510.39 397.103 Q1509.11 395.15 1506.9 395.15 M1506.9 391.842 Q1511.01 391.842 1513.43 394.707 Q1515.85 397.571 1515.85 402.441 Q1515.85 407.311 1513.41 410.176 Q1510.99 413.014 1506.9 413.014 Q1502.73 413.014 1500.31 410.176 Q1497.89 407.311 1497.89 402.441 Q1497.89 397.545 1500.31 394.707 Q1502.76 391.842 1506.9 391.842 M1480.02 375.983 Q1477.78 375.983 1476.48 377.936 Q1475.2 379.863 1475.2 383.249 Q1475.2 386.686 1476.48 388.613 Q1477.76 390.54 1480.02 390.54 Q1482.29 390.54 1483.56 388.613 Q1484.87 386.686 1484.87 383.249 Q1484.87 379.889 1483.56 377.936 Q1482.26 375.983 1480.02 375.983 M1503.54 372.676 L1507.7 372.676 L1483.38 413.014 L1479.21 413.014 L1503.54 372.676 M1480.02 372.676 Q1484.14 372.676 1486.58 375.54 Q1489.03 378.379 1489.03 383.249 Q1489.03 388.17 1486.58 391.009 Q1484.16 393.848 1480.02 393.848 Q1475.88 393.848 1473.46 391.009 Q1471.06 388.144 1471.06 383.249 Q1471.06 378.405 1473.49 375.54 Q1475.91 372.676 1480.02 372.676 Z\" fill=\"#000000\" fill-rule=\"nonzero\" fill-opacity=\"1\" /><path clip-path=\"url(#clip540)\" d=\"M809.168 839.318 Q812.944 840.125 815.053 842.677 Q817.189 845.229 817.189 848.979 Q817.189 854.734 813.23 857.885 Q809.272 861.036 801.98 861.036 Q799.533 861.036 796.928 860.541 Q794.35 860.073 791.59 859.109 L791.59 854.031 Q793.777 855.307 796.382 855.958 Q798.986 856.609 801.824 856.609 Q806.772 856.609 809.35 854.656 Q811.954 852.703 811.954 848.979 Q811.954 845.541 809.532 843.614 Q807.137 841.661 802.84 841.661 L798.309 841.661 L798.309 837.338 L803.048 837.338 Q806.928 837.338 808.986 835.802 Q811.043 834.239 811.043 831.323 Q811.043 828.328 808.907 826.739 Q806.798 825.125 802.84 825.125 Q800.678 825.125 798.204 825.594 Q795.73 826.062 792.762 827.052 L792.762 822.364 Q795.757 821.531 798.361 821.114 Q800.991 820.698 803.309 820.698 Q809.298 820.698 812.788 823.432 Q816.277 826.14 816.277 830.776 Q816.277 834.005 814.428 836.245 Q812.579 838.458 809.168 839.318 Z\" fill=\"#000000\" fill-rule=\"nonzero\" fill-opacity=\"1\" /><path clip-path=\"url(#clip540)\" d=\"M828.074 855.854 L836.668 855.854 L836.668 826.193 L827.319 828.068 L827.319 823.276 L836.616 821.401 L841.876 821.401 L841.876 855.854 L850.47 855.854 L850.47 860.281 L828.074 860.281 L828.074 855.854 Z\" fill=\"#000000\" fill-rule=\"nonzero\" fill-opacity=\"1\" /><path clip-path=\"url(#clip540)\" d=\"M861.095 853.666 L866.589 853.666 L866.589 860.281 L861.095 860.281 L861.095 853.666 Z\" fill=\"#000000\" fill-rule=\"nonzero\" fill-opacity=\"1\" /><path clip-path=\"url(#clip540)\" d=\"M876.72 821.401 L901.719 821.401 L901.719 823.641 L887.605 860.281 L882.11 860.281 L895.391 825.828 L876.72 825.828 L876.72 821.401 Z\" fill=\"#000000\" fill-rule=\"nonzero\" fill-opacity=\"1\" /><path clip-path=\"url(#clip540)\" d=\"M945.053 843.172 Q942.787 843.172 941.485 845.099 Q940.209 847.026 940.209 850.463 Q940.209 853.849 941.485 855.802 Q942.787 857.729 945.053 857.729 Q947.266 857.729 948.542 855.802 Q949.844 853.849 949.844 850.463 Q949.844 847.052 948.542 845.125 Q947.266 843.172 945.053 843.172 M945.053 839.864 Q949.167 839.864 951.589 842.729 Q954.011 845.594 954.011 850.463 Q954.011 855.333 951.563 858.198 Q949.141 861.036 945.053 861.036 Q940.886 861.036 938.464 858.198 Q936.042 855.333 936.042 850.463 Q936.042 845.567 938.464 842.729 Q940.912 839.864 945.053 839.864 M918.178 824.005 Q915.938 824.005 914.636 825.958 Q913.36 827.885 913.36 831.271 Q913.36 834.708 914.636 836.635 Q915.912 838.562 918.178 838.562 Q920.443 838.562 921.719 836.635 Q923.021 834.708 923.021 831.271 Q923.021 827.911 921.719 825.958 Q920.417 824.005 918.178 824.005 M941.693 820.698 L945.86 820.698 L921.537 861.036 L917.37 861.036 L941.693 820.698 M918.178 820.698 Q922.292 820.698 924.74 823.562 Q927.188 826.401 927.188 831.271 Q927.188 836.193 924.74 839.031 Q922.318 841.87 918.178 841.87 Q914.037 841.87 911.615 839.031 Q909.219 836.166 909.219 831.271 Q909.219 826.427 911.641 823.562 Q914.063 820.698 918.178 820.698 Z\" fill=\"#000000\" fill-rule=\"nonzero\" fill-opacity=\"1\" /><path clip-path=\"url(#clip540)\" d=\"M1174.95 1172.39 Q1171.2 1172.39 1169.04 1174.4 Q1166.9 1176.4 1166.9 1179.92 Q1166.9 1183.43 1169.04 1185.44 Q1171.2 1187.44 1174.95 1187.44 Q1178.7 1187.44 1180.86 1185.44 Q1183.02 1183.41 1183.02 1179.92 Q1183.02 1176.4 1180.86 1174.4 Q1178.72 1172.39 1174.95 1172.39 M1169.69 1170.15 Q1166.3 1169.32 1164.4 1167 Q1162.53 1164.68 1162.53 1161.35 Q1162.53 1156.69 1165.83 1153.98 Q1169.17 1151.27 1174.95 1151.27 Q1180.75 1151.27 1184.06 1153.98 Q1187.37 1156.69 1187.37 1161.35 Q1187.37 1164.68 1185.47 1167 Q1183.59 1169.32 1180.23 1170.15 Q1184.04 1171.04 1186.15 1173.62 Q1188.28 1176.19 1188.28 1179.92 Q1188.28 1185.57 1184.82 1188.59 Q1181.38 1191.61 1174.95 1191.61 Q1168.52 1191.61 1165.05 1188.59 Q1161.61 1185.57 1161.61 1179.92 Q1161.61 1176.19 1163.75 1173.62 Q1165.89 1171.04 1169.69 1170.15 M1167.76 1161.85 Q1167.76 1164.87 1169.64 1166.56 Q1171.54 1168.25 1174.95 1168.25 Q1178.33 1168.25 1180.23 1166.56 Q1182.16 1164.87 1182.16 1161.85 Q1182.16 1158.82 1180.23 1157.13 Q1178.33 1155.44 1174.95 1155.44 Q1171.54 1155.44 1169.64 1157.13 Q1167.76 1158.82 1167.76 1161.85 Z\" fill=\"#000000\" fill-rule=\"nonzero\" fill-opacity=\"1\" /><path clip-path=\"url(#clip540)\" d=\"M1197.63 1184.24 L1203.12 1184.24 L1203.12 1190.86 L1197.63 1190.86 L1197.63 1184.24 Z\" fill=\"#000000\" fill-rule=\"nonzero\" fill-opacity=\"1\" /><path clip-path=\"url(#clip540)\" d=\"M1213.25 1151.98 L1238.25 1151.98 L1238.25 1154.22 L1224.14 1190.86 L1218.65 1190.86 L1231.93 1156.4 L1213.25 1156.4 L1213.25 1151.98 Z\" fill=\"#000000\" fill-rule=\"nonzero\" fill-opacity=\"1\" /><path clip-path=\"url(#clip540)\" d=\"M1281.59 1173.75 Q1279.32 1173.75 1278.02 1175.67 Q1276.74 1177.6 1276.74 1181.04 Q1276.74 1184.42 1278.02 1186.38 Q1279.32 1188.3 1281.59 1188.3 Q1283.8 1188.3 1285.08 1186.38 Q1286.38 1184.42 1286.38 1181.04 Q1286.38 1177.63 1285.08 1175.7 Q1283.8 1173.75 1281.59 1173.75 M1281.59 1170.44 Q1285.7 1170.44 1288.12 1173.3 Q1290.55 1176.17 1290.55 1181.04 Q1290.55 1185.91 1288.1 1188.77 Q1285.68 1191.61 1281.59 1191.61 Q1277.42 1191.61 1275 1188.77 Q1272.58 1185.91 1272.58 1181.04 Q1272.58 1176.14 1275 1173.3 Q1277.45 1170.44 1281.59 1170.44 M1254.71 1154.58 Q1252.47 1154.58 1251.17 1156.53 Q1249.9 1158.46 1249.9 1161.85 Q1249.9 1165.28 1251.17 1167.21 Q1252.45 1169.14 1254.71 1169.14 Q1256.98 1169.14 1258.25 1167.21 Q1259.56 1165.28 1259.56 1161.85 Q1259.56 1158.49 1258.25 1156.53 Q1256.95 1154.58 1254.71 1154.58 M1278.23 1151.27 L1282.39 1151.27 L1258.07 1191.61 L1253.91 1191.61 L1278.23 1151.27 M1254.71 1151.27 Q1258.83 1151.27 1261.28 1154.14 Q1263.72 1156.98 1263.72 1161.85 Q1263.72 1166.77 1261.28 1169.61 Q1258.85 1172.44 1254.71 1172.44 Q1250.57 1172.44 1248.15 1169.61 Q1245.75 1166.74 1245.75 1161.85 Q1245.75 1157 1248.18 1154.14 Q1250.6 1151.27 1254.71 1151.27 Z\" fill=\"#000000\" fill-rule=\"nonzero\" fill-opacity=\"1\" /><path clip-path=\"url(#clip540)\" d=\"M1508.31 1046.17 L1526.67 1046.17 L1526.67 1050.6 L1501.98 1050.6 L1501.98 1046.17 Q1504.97 1043.07 1510.13 1037.86 Q1515.31 1032.63 1516.64 1031.12 Q1519.17 1028.28 1520.16 1026.32 Q1521.17 1024.35 1521.17 1022.44 Q1521.17 1019.35 1518.98 1017.39 Q1516.82 1015.44 1513.33 1015.44 Q1510.86 1015.44 1508.1 1016.3 Q1505.37 1017.16 1502.24 1018.9 L1502.24 1013.59 Q1505.42 1012.31 1508.18 1011.66 Q1510.94 1011.01 1513.23 1011.01 Q1519.27 1011.01 1522.87 1014.03 Q1526.46 1017.05 1526.46 1022.11 Q1526.46 1024.5 1525.55 1026.66 Q1524.66 1028.8 1522.29 1031.72 Q1521.64 1032.47 1518.15 1036.09 Q1514.66 1039.68 1508.31 1046.17 Z\" fill=\"#000000\" fill-rule=\"nonzero\" fill-opacity=\"1\" /><path clip-path=\"url(#clip540)\" d=\"M1542.24 1046.17 L1560.6 1046.17 L1560.6 1050.6 L1535.91 1050.6 L1535.91 1046.17 Q1538.91 1043.07 1544.06 1037.86 Q1549.25 1032.63 1550.57 1031.12 Q1553.1 1028.28 1554.09 1026.32 Q1555.1 1024.35 1555.1 1022.44 Q1555.1 1019.35 1552.92 1017.39 Q1550.76 1015.44 1547.27 1015.44 Q1544.79 1015.44 1542.03 1016.3 Q1539.3 1017.16 1536.17 1018.9 L1536.17 1013.59 Q1539.35 1012.31 1542.11 1011.66 Q1544.87 1011.01 1547.16 1011.01 Q1553.2 1011.01 1556.8 1014.03 Q1560.39 1017.05 1560.39 1022.11 Q1560.39 1024.5 1559.48 1026.66 Q1558.59 1028.8 1556.22 1031.72 Q1555.57 1032.47 1552.08 1036.09 Q1548.59 1039.68 1542.24 1046.17 Z\" fill=\"#000000\" fill-rule=\"nonzero\" fill-opacity=\"1\" /><path clip-path=\"url(#clip540)\" d=\"M1571.64 1043.98 L1577.14 1043.98 L1577.14 1050.6 L1571.64 1050.6 L1571.64 1043.98 Z\" fill=\"#000000\" fill-rule=\"nonzero\" fill-opacity=\"1\" /><path clip-path=\"url(#clip540)\" d=\"M1588.65 1011.72 L1609.3 1011.72 L1609.3 1016.14 L1593.46 1016.14 L1593.46 1025.67 Q1594.61 1025.28 1595.76 1025.1 Q1596.9 1024.89 1598.05 1024.89 Q1604.56 1024.89 1608.36 1028.46 Q1612.16 1032.03 1612.16 1038.12 Q1612.16 1044.4 1608.26 1047.89 Q1604.35 1051.35 1597.24 1051.35 Q1594.79 1051.35 1592.24 1050.93 Q1589.71 1050.52 1587.01 1049.68 L1587.01 1044.4 Q1589.35 1045.67 1591.85 1046.3 Q1594.35 1046.92 1597.14 1046.92 Q1601.64 1046.92 1604.27 1044.55 Q1606.9 1042.18 1606.9 1038.12 Q1606.9 1034.06 1604.27 1031.69 Q1601.64 1029.32 1597.14 1029.32 Q1595.03 1029.32 1592.92 1029.79 Q1590.83 1030.26 1588.65 1031.25 L1588.65 1011.72 Z\" fill=\"#000000\" fill-rule=\"nonzero\" fill-opacity=\"1\" /><path clip-path=\"url(#clip540)\" d=\"M1655.6 1033.49 Q1653.33 1033.49 1652.03 1035.41 Q1650.75 1037.34 1650.75 1040.78 Q1650.75 1044.16 1652.03 1046.12 Q1653.33 1048.04 1655.6 1048.04 Q1657.81 1048.04 1659.09 1046.12 Q1660.39 1044.16 1660.39 1040.78 Q1660.39 1037.37 1659.09 1035.44 Q1657.81 1033.49 1655.6 1033.49 M1655.6 1030.18 Q1659.71 1030.18 1662.14 1033.04 Q1664.56 1035.91 1664.56 1040.78 Q1664.56 1045.65 1662.11 1048.51 Q1659.69 1051.35 1655.6 1051.35 Q1651.43 1051.35 1649.01 1048.51 Q1646.59 1045.65 1646.59 1040.78 Q1646.59 1035.88 1649.01 1033.04 Q1651.46 1030.18 1655.6 1030.18 M1628.72 1014.32 Q1626.48 1014.32 1625.18 1016.27 Q1623.91 1018.2 1623.91 1021.59 Q1623.91 1025.02 1625.18 1026.95 Q1626.46 1028.88 1628.72 1028.88 Q1630.99 1028.88 1632.27 1026.95 Q1633.57 1025.02 1633.57 1021.59 Q1633.57 1018.23 1632.27 1016.27 Q1630.96 1014.32 1628.72 1014.32 M1652.24 1011.01 L1656.41 1011.01 L1632.08 1051.35 L1627.92 1051.35 L1652.24 1011.01 M1628.72 1011.01 Q1632.84 1011.01 1635.29 1013.88 Q1637.73 1016.72 1637.73 1021.59 Q1637.73 1026.51 1635.29 1029.35 Q1632.86 1032.18 1628.72 1032.18 Q1624.58 1032.18 1622.16 1029.35 Q1619.77 1026.48 1619.77 1021.59 Q1619.77 1016.74 1622.19 1013.88 Q1624.61 1011.01 1628.72 1011.01 Z\" fill=\"#000000\" fill-rule=\"nonzero\" fill-opacity=\"1\" /></svg>\n"
      ]
     },
     "metadata": {},
     "output_type": "display_data"
    }
   ],
   "source": [
    "p"
   ]
  },
  {
   "cell_type": "code",
   "execution_count": 34,
   "id": "d0fb447f",
   "metadata": {},
   "outputs": [
    {
     "data": {
      "text/plain": [
       "354-element Vector{PrimeMovers}:\n",
       " PrimeMovers.GT = 12\n",
       " PrimeMovers.ST = 20\n",
       " PrimeMovers.GT = 12\n",
       " PrimeMovers.ST = 20\n",
       " PrimeMovers.GT = 12\n",
       " PrimeMovers.CC = 4\n",
       " PrimeMovers.ST = 20\n",
       " PrimeMovers.ST = 20\n",
       " PrimeMovers.CC = 4\n",
       " PrimeMovers.GT = 12\n",
       " ⋮\n",
       " PrimeMovers.CT = 8\n",
       " PrimeMovers.CC = 4\n",
       " PrimeMovers.ST = 20\n",
       " PrimeMovers.CC = 4\n",
       " PrimeMovers.CT = 8\n",
       " PrimeMovers.ST = 20\n",
       " PrimeMovers.GT = 12\n",
       " PrimeMovers.GT = 12\n",
       " PrimeMovers.CT = 8"
      ]
     },
     "metadata": {},
     "output_type": "display_data"
    }
   ],
   "source": [
    "prime_movers = get_prime_mover_type.(gens)"
   ]
  },
  {
   "cell_type": "code",
   "execution_count": 7,
   "id": "e655d166",
   "metadata": {},
   "outputs": [
    {
     "data": {
      "text/plain": [
       "2-element Vector{PrimeMovers}:\n",
       " PrimeMovers.WT = 22\n",
       " PrimeMovers.PVe = 21"
      ]
     },
     "metadata": {},
     "output_type": "display_data"
    }
   ],
   "source": [
    "unique(prime_movers)"
   ]
  },
  {
   "cell_type": "code",
   "execution_count": 7,
   "id": "ad8752a1",
   "metadata": {},
   "outputs": [
    {
     "data": {
      "text/plain": [
       "4-element Vector{Int64}:\n",
       " 88\n",
       " 91\n",
       " 83\n",
       " 87"
      ]
     },
     "metadata": {},
     "output_type": "display_data"
    }
   ],
   "source": [
    "[count(==(element),prime_movers) for element in unique(prime_movers) ]"
   ]
  },
  {
   "cell_type": "code",
   "execution_count": 4,
   "id": "9d47dace",
   "metadata": {},
   "outputs": [
    {
     "data": {
      "text/plain": [
       "1125-element Vector{String}:\n",
       " \"EAST BERNARD_LOAD_1\"\n",
       " \"YORKTOWN_LOAD_1\"\n",
       " \"MCALLEN_LOAD_2\"\n",
       " \"MISSION_LOAD_3\"\n",
       " \"PFLUGERVILLE_LOAD_1\"\n",
       " \"KERENS_LOAD_1\"\n",
       " \"HOUSTON_LOAD_54\"\n",
       " \"HOUSTON_LOAD_11\"\n",
       " \"DALLAS_LOAD_28\"\n",
       " \"HOLLAND_LOAD_1\"\n",
       " ⋮\n",
       " \"PASADENA_LOAD_5\"\n",
       " \"ATHENS_LOAD_2\"\n",
       " \"HOUSTON_LOAD_46\"\n",
       " \"COLLEYVILLE_LOAD_1\"\n",
       " \"FREDERICKSBURG_LOAD_1\"\n",
       " \"HOUSTON_LOAD_69\"\n",
       " \"WICHITA FALLS_LOAD_1\"\n",
       " \"STRAWN_LOAD_1\"\n",
       " \"OLNEY_LOAD_1\""
      ]
     },
     "metadata": {},
     "output_type": "display_data"
    }
   ],
   "source": [
    "get_name.(get_components(PowerLoad, sys))"
   ]
  },
  {
   "cell_type": "code",
   "execution_count": 3,
   "id": "185f61b6",
   "metadata": {},
   "outputs": [
    {
     "data": {
      "text/plain": [
       "SortedDict{DateTime, Vector{Float64}, Base.Order.ForwardOrdering} with 365 entries:\n",
       "  DateTime(\"2018-01-01T00:00:00\") => [0.545264, 0.540462, 0.539975, 0.53939, 0.…\n",
       "  DateTime(\"2018-01-02T00:00:00\") => [0.614196, 0.597481, 0.588006, 0.583615, 0…\n",
       "  DateTime(\"2018-01-03T00:00:00\") => [0.655463, 0.641155, 0.635748, 0.638102, 0…\n",
       "  DateTime(\"2018-01-04T00:00:00\") => [0.614471, 0.603508, 0.598795, 0.599309, 0…\n",
       "  DateTime(\"2018-01-05T00:00:00\") => [0.53063, 0.514094, 0.506398, 0.502795, 0.…\n",
       "  DateTime(\"2018-01-06T00:00:00\") => [0.530447, 0.516424, 0.510684, 0.509083, 0…\n",
       "  DateTime(\"2018-01-07T00:00:00\") => [0.472708, 0.458938, 0.449947, 0.44571, 0.…\n",
       "  DateTime(\"2018-01-08T00:00:00\") => [0.435066, 0.416936, 0.407254, 0.401678, 0…\n",
       "  DateTime(\"2018-01-09T00:00:00\") => [0.46175, 0.445542, 0.43745, 0.436947, 0.4…\n",
       "  DateTime(\"2018-01-10T00:00:00\") => [0.471751, 0.453223, 0.444382, 0.439933, 0…\n",
       "  DateTime(\"2018-01-11T00:00:00\") => [0.4448, 0.424127, 0.412499, 0.40638, 0.40…\n",
       "  DateTime(\"2018-01-12T00:00:00\") => [0.531275, 0.526366, 0.529095, 0.535333, 0…\n",
       "  DateTime(\"2018-01-13T00:00:00\") => [0.580874, 0.568438, 0.563122, 0.562864, 0…\n",
       "  DateTime(\"2018-01-14T00:00:00\") => [0.558737, 0.548417, 0.543639, 0.543744, 0…\n",
       "  DateTime(\"2018-01-15T00:00:00\") => [0.526288, 0.515306, 0.510837, 0.511001, 0…\n",
       "  DateTime(\"2018-01-16T00:00:00\") => [0.468088, 0.452264, 0.448054, 0.453124, 0…\n",
       "  DateTime(\"2018-01-17T00:00:00\") => [0.68595, 0.675378, 0.670692, 0.671917, 0.…\n",
       "  DateTime(\"2018-01-18T00:00:00\") => [0.634472, 0.62333, 0.619776, 0.621172, 0.…\n",
       "  DateTime(\"2018-01-19T00:00:00\") => [0.569616, 0.551791, 0.544128, 0.541105, 0…\n",
       "  ⋮                               => ⋮"
      ]
     },
     "metadata": {},
     "output_type": "display_data"
    }
   ],
   "source": [
    "component = get_component(PowerLoad, sys, \"EAST BERNARD_LOAD_1\")\n",
    "my_keys = get_time_series_keys(component)\n",
    "ts_sorted_dict = get_time_series(component, my_keys[1]).data"
   ]
  },
  {
   "cell_type": "code",
   "execution_count": 13,
   "id": "430fc50f",
   "metadata": {},
   "outputs": [
    {
     "data": {
      "text/plain": [
       "365-element Vector{DateTime}:\n",
       " 2018-01-01T00:00:00\n",
       " 2018-01-02T00:00:00\n",
       " 2018-01-03T00:00:00\n",
       " 2018-01-04T00:00:00\n",
       " 2018-01-05T00:00:00\n",
       " 2018-01-06T00:00:00\n",
       " 2018-01-07T00:00:00\n",
       " 2018-01-08T00:00:00\n",
       " 2018-01-09T00:00:00\n",
       " 2018-01-10T00:00:00\n",
       " ⋮\n",
       " 2018-12-23T00:00:00\n",
       " 2018-12-24T00:00:00\n",
       " 2018-12-25T00:00:00\n",
       " 2018-12-26T00:00:00\n",
       " 2018-12-27T00:00:00\n",
       " 2018-12-28T00:00:00\n",
       " 2018-12-29T00:00:00\n",
       " 2018-12-30T00:00:00\n",
       " 2018-12-31T00:00:00"
      ]
     },
     "metadata": {},
     "output_type": "display_data"
    }
   ],
   "source": [
    "my_keys2 = collect(keys(ts_sorted_dict))"
   ]
  },
  {
   "cell_type": "code",
   "execution_count": 10,
   "id": "6a4e3fea",
   "metadata": {},
   "outputs": [
    {
     "data": {
      "text/plain": [
       "PowerSystems"
      ]
     },
     "metadata": {},
     "output_type": "display_data"
    }
   ],
   "source": [
    "const PSY = PowerSystems"
   ]
  },
  {
   "cell_type": "code",
   "execution_count": 11,
   "id": "9c7ca0c1",
   "metadata": {},
   "outputs": [],
   "source": [
    "PSY.transform_single_time_series!(sys, Hour(48), Hour(24))"
   ]
  },
  {
   "cell_type": "code",
   "execution_count": 12,
   "id": "dd1314be",
   "metadata": {},
   "outputs": [
    {
     "data": {
      "text/plain": [
       "SortedDict{DateTime, Vector{Float64}, Base.Order.ForwardOrdering} with 365 entries:\n",
       "  DateTime(\"2018-01-01T00:00:00\") => [0.545264, 0.540462, 0.539975, 0.53939, 0.…\n",
       "  DateTime(\"2018-01-02T00:00:00\") => [0.614196, 0.597481, 0.588006, 0.583615, 0…\n",
       "  DateTime(\"2018-01-03T00:00:00\") => [0.655463, 0.641155, 0.635748, 0.638102, 0…\n",
       "  DateTime(\"2018-01-04T00:00:00\") => [0.614471, 0.603508, 0.598795, 0.599309, 0…\n",
       "  DateTime(\"2018-01-05T00:00:00\") => [0.53063, 0.514094, 0.506398, 0.502795, 0.…\n",
       "  DateTime(\"2018-01-06T00:00:00\") => [0.530447, 0.516424, 0.510684, 0.509083, 0…\n",
       "  DateTime(\"2018-01-07T00:00:00\") => [0.472708, 0.458938, 0.449947, 0.44571, 0.…\n",
       "  DateTime(\"2018-01-08T00:00:00\") => [0.435066, 0.416936, 0.407254, 0.401678, 0…\n",
       "  DateTime(\"2018-01-09T00:00:00\") => [0.46175, 0.445542, 0.43745, 0.436947, 0.4…\n",
       "  DateTime(\"2018-01-10T00:00:00\") => [0.471751, 0.453223, 0.444382, 0.439933, 0…\n",
       "  DateTime(\"2018-01-11T00:00:00\") => [0.4448, 0.424127, 0.412499, 0.40638, 0.40…\n",
       "  DateTime(\"2018-01-12T00:00:00\") => [0.531275, 0.526366, 0.529095, 0.535333, 0…\n",
       "  DateTime(\"2018-01-13T00:00:00\") => [0.580874, 0.568438, 0.563122, 0.562864, 0…\n",
       "  DateTime(\"2018-01-14T00:00:00\") => [0.558737, 0.548417, 0.543639, 0.543744, 0…\n",
       "  DateTime(\"2018-01-15T00:00:00\") => [0.526288, 0.515306, 0.510837, 0.511001, 0…\n",
       "  DateTime(\"2018-01-16T00:00:00\") => [0.468088, 0.452264, 0.448054, 0.453124, 0…\n",
       "  DateTime(\"2018-01-17T00:00:00\") => [0.68595, 0.675378, 0.670692, 0.671917, 0.…\n",
       "  DateTime(\"2018-01-18T00:00:00\") => [0.634472, 0.62333, 0.619776, 0.621172, 0.…\n",
       "  DateTime(\"2018-01-19T00:00:00\") => [0.569616, 0.551791, 0.544128, 0.541105, 0…\n",
       "  ⋮                               => ⋮"
      ]
     },
     "metadata": {},
     "output_type": "display_data"
    }
   ],
   "source": [
    "component = get_component(PowerLoad, sys, \"EAST BERNARD_LOAD_1\")\n",
    "my_keys = get_time_series_keys(component)\n",
    "ts_sorted_dict = get_time_series(component, my_keys[1]).data"
   ]
  },
  {
   "cell_type": "code",
   "execution_count": 12,
   "id": "2f870f27",
   "metadata": {},
   "outputs": [
    {
     "data": {
      "text/plain": [
       "2-element Vector{Tuple{PrimeMovers, Int64}}:\n",
       " (PrimeMovers.GT = 12, 3)\n",
       " (PrimeMovers.ST = 20, 2)"
      ]
     },
     "metadata": {},
     "output_type": "display_data"
    }
   ],
   "source": [
    "therm_stand_pm = get_prime_mover_type.(get_components(ThermalStandard, sys))\n",
    "[(element, count(==(element),therm_stand_pm)) for element in unique(therm_stand_pm) ]"
   ]
  },
  {
   "cell_type": "code",
   "execution_count": 13,
   "id": "391a9ee1",
   "metadata": {},
   "outputs": [
    {
     "data": {
      "text/plain": [
       "4-element Vector{Tuple{PrimeMovers, Int64}}:\n",
       " (PrimeMovers.CC = 4, 88)\n",
       " (PrimeMovers.ST = 20, 91)\n",
       " (PrimeMovers.GT = 12, 83)\n",
       " (PrimeMovers.CT = 8, 87)"
      ]
     },
     "metadata": {},
     "output_type": "display_data"
    }
   ],
   "source": [
    "# https://nrel-sienna.github.io/PowerSystems.jl/stable/api/enumerated_types/#pm_list\n",
    "therm_multi_pm = get_prime_mover_type.(get_components(ThermalMultiStart, sys))\n",
    "[(element, count(==(element),therm_multi_pm)) for element in unique(therm_multi_pm) ]"
   ]
  },
  {
   "cell_type": "code",
   "execution_count": 25,
   "id": "c79d9927",
   "metadata": {},
   "outputs": [
    {
     "data": {
      "text/plain": [
       "349-element Vector{PrimeMovers}:\n",
       " PrimeMovers.CC = 4\n",
       " PrimeMovers.ST = 20\n",
       " PrimeMovers.ST = 20\n",
       " PrimeMovers.CC = 4\n",
       " PrimeMovers.GT = 12\n",
       " PrimeMovers.CT = 8\n",
       " PrimeMovers.ST = 20\n",
       " PrimeMovers.CC = 4\n",
       " PrimeMovers.CC = 4\n",
       " PrimeMovers.GT = 12\n",
       " ⋮\n",
       " PrimeMovers.CT = 8\n",
       " PrimeMovers.CC = 4\n",
       " PrimeMovers.ST = 20\n",
       " PrimeMovers.CC = 4\n",
       " PrimeMovers.CT = 8\n",
       " PrimeMovers.ST = 20\n",
       " PrimeMovers.GT = 12\n",
       " PrimeMovers.GT = 12\n",
       " PrimeMovers.CT = 8"
      ]
     },
     "metadata": {},
     "output_type": "display_data"
    }
   ],
   "source": [
    "prime_movers = get_prime_mover_type.(get_components(ThermalMultiStart, sys))"
   ]
  },
  {
   "cell_type": "code",
   "execution_count": 30,
   "id": "eca69e99",
   "metadata": {},
   "outputs": [
    {
     "data": {
      "text/plain": [
       "PrimeMovers.CT = 8"
      ]
     },
     "metadata": {},
     "output_type": "display_data"
    }
   ],
   "source": [
    "prime_movers[6]"
   ]
  },
  {
   "cell_type": "code",
   "execution_count": 34,
   "id": "0092a7f9",
   "metadata": {},
   "outputs": [
    {
     "data": {
      "text/plain": [
       "ThermalMultiStart: MAGIC_VALLEY_STATION_CC1:\n",
       "   name: MAGIC_VALLEY_STATION_CC1\n",
       "   available: true\n",
       "   status: true\n",
       "   bus: ACBus: BROWNSVILLE 1 0\n",
       "   active_power: 0.00455531453362256\n",
       "   reactive_power: 0.21270000000000006\n",
       "   rating: 4.2873\n",
       "   prime_mover_type: PrimeMovers.CT = 8\n",
       "   fuel: ThermalFuels.NATURAL_GAS = 7\n",
       "   active_power_limits: (min = 2.1, max = 3.8400000000000003)\n",
       "   reactive_power_limits: (min = -0.23511, max = 1.9362000000000001)\n",
       "   ramp_limits: (up = 0.646322, down = 0.643556)\n",
       "   power_trajectory: (startup = 3.8400000000000003, shutdown = 3.8400000000000003)\n",
       "   time_limits: (up = 1.0, down = 1.0)\n",
       "   start_time_limits: (hot = 0.0, warm = 0.0, cold = 1.0)\n",
       "   start_types: 1\n",
       "   operation_cost: ThermalGenerationCost composed of variable: CostCurve{PiecewiseIncrementalCurve}\n",
       "   base_power: 461.0\n",
       "   services: 3-element Vector{Service}\n",
       "   time_at_status: 8760.0\n",
       "   must_run: false\n",
       "   dynamic_injector: nothing\n",
       "   ext: Dict{String, Any}(\"ERCOT_FUEL\" => \"CCGT90\")\n",
       "   InfrastructureSystems.SystemUnitsSettings:\n",
       "      base_value: 100.0\n",
       "      unit_system: UnitSystem.SYSTEM_BASE = 0\n",
       "   has_supplemental_attributes: false\n",
       "   has_time_series: false"
      ]
     },
     "metadata": {},
     "output_type": "display_data"
    }
   ],
   "source": [
    "collect(get_components(ThermalMultiStart, sys))[6]"
   ]
  },
  {
   "cell_type": "code",
   "execution_count": 38,
   "id": "9aa85a4d",
   "metadata": {},
   "outputs": [
    {
     "data": {
      "text/plain": [
       "87-element Vector{ThermalMultiStart}:\n",
       " ThermalMultiStart(MAGIC_VALLEY_STATION_CC1, true, true, ACBus(4192, BROWNSVILLE 1 0, ACBusTypes.PV = 2, -0.8853350007816504, 1.02, (min = 0.9, max = 1.1), 230.0, Area(Southern, 68.18843299999999, 0.0, 0.0, Dict{String, Any}()), LoadZone(19, 38.702100000000016, 10.966, Dict{String, Any}()), Dict{String, Any}(\"x\" => -97.51060000000001, \"y\" => 25.906623725411485)), 0.00455531453362256, 0.21270000000000006, 4.2873, PrimeMovers.CT = 8, ThermalFuels.NATURAL_GAS = 7, (min = 2.1, max = 3.8400000000000003), (min = -0.23511, max = 1.9362000000000001), (up = 0.646322, down = 0.643556), (startup = 3.8400000000000003, shutdown = 3.8400000000000003), (up = 1.0, down = 1.0), (hot = 0.0, warm = 0.0, cold = 1.0), 1, ThermalGenerationCost(CostCurve{PiecewiseIncrementalCurve}(PiecewiseIncrementalCurve(0.66, [120.0, 210.0, 304.5, 312.0, 318.0, 320.0, 321.0, 324.0, 325.1, 326.0], [16.920000000000073, 23.669999999996417, 76.06999999997787, 201.15999999995412, 483.6499999998878, 117.37000000000519, 1021.8499999997762, 1535.4299999996658, 23.63000000000656]), UnitSystem.NATURAL_UNITS = 2, LinearCurve(0.0, 0.0)), 0.66, (hot = 12813.66, warm = 17484.75, cold = 25111.01), 2562.732), 461.0, Service[VariableReserve{ReserveUp}(REG_UP, true, 1.0, 17.904266200000002, 0.0, 1.0, 1.0, 0.0, Dict{String, Any}()), VariableReserve{ReserveDown}(REG_DN, true, 1.0, 15.64729092, 0.0, 1.0, 1.0, 0.0, Dict{String, Any}()), VariableReserve{ReserveUp}(SPIN, true, 10.0, 31.7, 0.0, 1.0, 1.0, 0.0, Dict{String, Any}())], 8760.0, false, nothing, Dict{String, Any}(\"ERCOT_FUEL\" => \"CCGT90\"))\n",
       " ThermalMultiStart(INGLESIDE_CC3, true, true, ACBus(4060, GREGORY 4, ACBusTypes.PV = 2, -0.5841446487757102, 1.03, (min = 0.9, max = 1.1), 13.8, Area(Southern, 68.18843299999999, 0.0, 0.0, Dict{String, Any}()), LoadZone(21, 16.443, 4.6589, Dict{String, Any}()), Dict{String, Any}(\"x\" => -97.245817, \"y\" => 27.869401479434597)), 0.006954128440366973, 0.15600000000000003, 2.0274, PrimeMovers.CT = 8, ThermalFuels.NATURAL_GAS = 7, (min = 1.516, max = 1.8140000000000003), (min = -0.16786, max = 0.9156000000000001), (up = 0.30411000000000005, down = 0.305636), (startup = 1.8140000000000003, shutdown = 1.8140000000000003), (up = 1.0, down = 1.0), (hot = 0.0, warm = 0.0, cold = 1.0), 1, ThermalGenerationCost(CostCurve{PiecewiseIncrementalCurve}(PiecewiseIncrementalCurve(0.0, [1.3, 119.7, 131.6, 137.2, 175.4, 175.8], [19.51, 21.850000000000698, 24.89000000000174, 45.55000000000109, 168.067499999995]), UnitSystem.NATURAL_UNITS = 2, LinearCurve(0.0, 0.0)), 0.0, (hot = 0.0, warm = 0.0, cold = 0.0), 0.0), 218.0, Service[], 8760.0, false, nothing, Dict{String, Any}(\"ERCOT_FUEL\" => \"CCGT90\"))\n",
       " ThermalMultiStart(CHANNELVIEW_COGENERATION_PLANT_CC2, true, true, ACBus(7377, CHANNELVIEW 1 11, ACBusTypes.PV = 2, -0.4125449413704714, 1.04, (min = 0.9, max = 1.1), 18.0, Area(Coast, 202.78914140625, 0.0, 0.0, Dict{String, Any}()), LoadZone(4, 43.636300000000006, 12.363500000000004, Dict{String, Any}()), Dict{String, Any}(\"x\" => -95.10269000000001, \"y\" => 29.8007939100825)), 0.005363636363636364, 0.5614, 6.138, PrimeMovers.CT = 8, ThermalFuels.NATURAL_GAS = 7, (min = 3.54, max = 5.5), (min = -0.39599999999999996, max = 2.772), (up = 0.9220199999999998, down = 0.9253199999999999), (startup = 5.5, shutdown = 5.5), (up = 1.0, down = 1.0), (hot = 0.0, warm = 0.0, cold = 1.0), 1, ThermalGenerationCost(CostCurve{PiecewiseIncrementalCurve}(PiecewiseIncrementalCurve(0.0, [220.0, 258.0, 347.7, 434.0, 449.8, 458.0, 459.0, 460.8, 461.0], [0.0, 18.443333333333065, 75.00000000000739, 113.60000000000247, 255.93874999999662, 1910.3099999995743, 1005.9074999999818, 75.00000000000739]), UnitSystem.NATURAL_UNITS = 2, LinearCurve(0.0, 0.0)), 0.0, (hot = 0.0, warm = 0.0, cold = 0.0), 0.0), 660.0, Service[VariableReserve{ReserveUp}(REG_UP, true, 1.0, 17.904266200000002, 0.0, 1.0, 1.0, 0.0, Dict{String, Any}()), VariableReserve{ReserveDown}(REG_DN, true, 1.0, 15.64729092, 0.0, 1.0, 1.0, 0.0, Dict{String, Any}())], 8760.0, false, nothing, Dict{String, Any}(\"ERCOT_FUEL\" => \"CCGT90\"))\n",
       " ThermalMultiStart(CHANNEL_ENERGY_CENTER2_CC1, true, true, ACBus(7007, PASADENA 2 5, ACBusTypes.PV = 2, -0.407022440364481, 1.04, (min = 0.9, max = 1.1), 13.8, Area(Coast, 202.78914140625, 0.0, 0.0, Dict{String, Any}()), LoadZone(4, 43.636300000000006, 12.363500000000004, Dict{String, Any}()), Dict{String, Any}(\"x\" => -95.171439, \"y\" => 29.715683312702804)), 0.008328173374613003, 0.0, 3.0039000000000002, PrimeMovers.CT = 8, ThermalFuels.NATURAL_GAS = 7, (min = 1.5, max = 2.69), (min = -0.16796, max = 1.3566), (up = 0.452523, down = 0.45090800000000003), (startup = 2.69, shutdown = 2.69), (up = 1.0, down = 1.0), (hot = 0.0, warm = 0.0, cold = 1.0), 1, ThermalGenerationCost(CostCurve{PiecewiseIncrementalCurve}(PiecewiseIncrementalCurve(2.5, [140.0, 144.0, 145.0, 149.0, 150.0, 160.0], [20.39, 20.39, 23.389999999999997, 34.889999999999986, 23.04]), UnitSystem.NATURAL_UNITS = 2, LinearCurve(0.0, 0.0)), 2.5, (hot = 847.74, warm = 1043.785, cold = 1129.4299999999998), 169.548), 323.0, Service[], 8760.0, false, nothing, Dict{String, Any}(\"ERCOT_FUEL\" => \"CCGT90\"))\n",
       " ThermalMultiStart(TENASKA_GATEWAY_STATION_CC2, true, true, ACBus(8078, MT. ENTERPRISE 4, ACBusTypes.PV = 2, -0.8515480619102106, 1.03, (min = 0.9, max = 1.1), 13.8, Area(East, 32.194053, 0.0, 0.0, Dict{String, Any}()), LoadZone(8, 21.417000000000005, 6.068400000000002, Dict{String, Any}()), Dict{String, Any}(\"x\" => -94.607143, \"y\" => 32.00485246901549)), 0.004098360655737705, 0.09480000000000002, 6.807600000000001, PrimeMovers.CT = 8, ThermalFuels.NATURAL_GAS = 7, (min = 3.0, max = 6.1000000000000005), (min = -0.3294, max = 3.0744), (up = 1.018944, down = 1.020408), (startup = 6.1000000000000005, shutdown = 6.1000000000000005), (up = 1.0, down = 1.0), (hot = 0.0, warm = 0.0, cold = 1.0), 1, ThermalGenerationCost(CostCurve{PiecewiseIncrementalCurve}(PiecewiseIncrementalCurve(14.5, [30.0, 270.0, 460.0, 580.0], [18.8, 23.540000000000873, 30.26000000000022]), UnitSystem.NATURAL_UNITS = 2, LinearCurve(0.0, 0.0)), 14.5, (hot = 6810.0, warm = 6810.0, cold = 6810.0), 1362.0), 732.0, Service[], 8760.0, false, nothing, Dict{String, Any}(\"ERCOT_FUEL\" => \"CCGT90\"))\n",
       " ThermalMultiStart(HIDALGO_ENERGY_CENTER_CC2, true, true, ACBus(4076, MISSION 1 3, ACBusTypes.PV = 2, -0.9732002509411409, 1.03, (min = 0.9, max = 1.1), 24.0, Area(Southern, 68.18843299999999, 0.0, 0.0, Dict{String, Any}()), LoadZone(19, 38.702100000000016, 10.966, Dict{String, Any}()), Dict{String, Any}(\"x\" => -98.3866, \"y\" => 26.14903925832189)), 0.008343661971830986, 0.0, 3.3015, PrimeMovers.CT = 8, ThermalFuels.NATURAL_GAS = 7, (min = 1.45, max = 2.9619999999999997), (min = -0.15974999999999998, max = 1.4909999999999999), (up = 0.501615, down = 0.501615), (startup = 2.9619999999999997, shutdown = 2.9619999999999997), (up = 1.0, down = 1.0), (hot = 0.0, warm = 0.0, cold = 1.0), 1, ThermalGenerationCost(CostCurve{PiecewiseIncrementalCurve}(PiecewiseIncrementalCurve(0.79, [10.3, 142.0, 196.0, 202.0, 209.0, 217.9, 222.0, 226.0, 227.0], [18.240000000000236, 19.75, 42.551000000000386, 173.9600000000072, 44.48500000000009, 58.89000000000033, 202.0139999999992, 296.20899999999983]), UnitSystem.NATURAL_UNITS = 2, LinearCurve(0.0, 0.0)), 0.79, (hot = 9091.95, warm = 11044.08, cold = 12931.0), 1818.3900000000003), 355.0, Service[], 8760.0, false, nothing, Dict{String, Any}(\"ERCOT_FUEL\" => \"CCGT90\"))\n",
       " ThermalMultiStart(ODESSA_ECTOR_POWER1_CC2, true, true, ACBus(1072, ODESSA 1 1, ACBusTypes.PV = 2, -0.21135984365541136, 1.01, (min = 0.9, max = 1.1), 18.0, Area(FarWest, 37.46594260253905, 0.0, 0.0, Dict{String, Any}()), LoadZone(9, 13.0672, 3.7026, Dict{String, Any}()), Dict{String, Any}(\"x\" => -102.31380000000001, \"y\" => 31.808947319834704)), 0.008328173374613003, 0.0, 3.0039000000000002, PrimeMovers.CT = 8, ThermalFuels.NATURAL_GAS = 7, (min = 1.46, max = 2.69), (min = -0.1615, max = 1.3566), (up = 0.45220000000000005, down = 0.450585), (startup = 2.69, shutdown = 2.69), (up = 1.0, down = 1.0), (hot = 0.0, warm = 0.0, cold = 1.0), 1, ThermalGenerationCost(CostCurve{PiecewiseIncrementalCurve}(PiecewiseIncrementalCurve(0.01, [0.0, 8.7, 141.0, 216.0, 245.0, 254.0, 269.0, 270.0], [0.0, 20.860000000000127, 21.280000000000655, 28.029999999999745, 30.688999999999396, 28.44999999999891, 393.83600000000024]), UnitSystem.NATURAL_UNITS = 2, LinearCurve(0.0, 0.0)), 0.01, (hot = 2221.85, warm = 4547.3, cold = 6874.92), 444.37), 323.0, Service[VariableReserve{ReserveDown}(REG_DN, true, 1.0, 15.64729092, 0.0, 1.0, 1.0, 0.0, Dict{String, Any}()), VariableReserve{ReserveUp}(SPIN, true, 10.0, 31.7, 0.0, 1.0, 1.0, 0.0, Dict{String, Any}())], 8760.0, false, nothing, Dict{String, Any}(\"ERCOT_FUEL\" => \"CCGT90\"))\n",
       " ThermalMultiStart(NUECES_BAY_REPOWER_CC1, true, true, ACBus(4162, CORPUS CHRISTI 1 4, ACBusTypes.PV = 2, -0.6733795111591183, 1.03, (min = 0.9, max = 1.1), 13.8, Area(Southern, 68.18843299999999, 0.0, 0.0, Dict{String, Any}()), LoadZone(21, 16.443, 4.6589, Dict{String, Any}()), Dict{String, Any}(\"x\" => -97.45170000000002, \"y\" => 27.800366799638997)), 0.003190476190476191, 0.27680000000000005, 3.9060000000000006, PrimeMovers.CT = 8, ThermalFuels.NATURAL_GAS = 7, (min = 1.3399999999999999, max = 3.5000000000000004), (min = -0.14700000000000002, max = 1.764), (up = 0.59094, down = 0.58926), (startup = 3.5000000000000004, shutdown = 3.5000000000000004), (up = 1.0, down = 1.0), (hot = 0.0, warm = 0.0, cold = 1.0), 1, ThermalGenerationCost(CostCurve{PiecewiseIncrementalCurve}(PiecewiseIncrementalCurve(14.42, [60.0, 225.4, 275.0, 307.0, 326.9, 350.0], [18.420000000006578, 30.599999999996648, 37.0100000000009, 43.169999999999355, 46.05999999999629]), UnitSystem.NATURAL_UNITS = 2, LinearCurve(0.0, 0.0)), 14.42, (hot = 10000.0, warm = 11600.0, cold = 12800.0), 2000.0), 420.0, Service[], 8760.0, false, nothing, Dict{String, Any}(\"ERCOT_FUEL\" => \"CCGT90\"))\n",
       " ThermalMultiStart(PARIS_ENERGY_CENTER_CC1, true, true, ACBus(2023, PARIS 2 2, ACBusTypes.PV = 2, -0.9623661719692637, 1.02, (min = 0.9, max = 1.1), 13.8, Area(North, 18.53954742431641, 0.0, 0.0, Dict{String, Any}()), LoadZone(11, 12.576000000000004, 3.5632000000000006, Dict{String, Any}()), Dict{String, Any}(\"x\" => -95.54510000000002, \"y\" => 33.684069684954984)), 0.008333333333333333, 0.0, 1.4508, PrimeMovers.CT = 8, ThermalFuels.NATURAL_GAS = 7, (min = 0.55, max = 1.3), (min = -0.060840000000000005, max = 0.6552), (up = 0.218244, down = 0.218556), (startup = 1.3, shutdown = 1.3), (up = 1.0, down = 1.0), (hot = 0.0, warm = 0.0, cold = 1.0), 1, ThermalGenerationCost(CostCurve{PiecewiseIncrementalCurve}(PiecewiseIncrementalCurve(16.0, [50.0, 108.0, 112.0, 115.0, 119.0, 121.0, 122.0, 123.0, 124.0], [18.83000000000004, 22.329999999999927, 26.15000000000009, 23.820000000000164, 42.01999999999998, 33.6099999999999, 82.61000000000013, 180.10999999999967]), UnitSystem.NATURAL_UNITS = 2, LinearCurve(0.0, 0.0)), 16.0, (hot = 6000.0, warm = 6000.0, cold = 6000.0), 1200.0), 156.0, Service[], 8760.0, false, nothing, Dict{String, Any}(\"ERCOT_FUEL\" => \"CCGT90\"))\n",
       " ThermalMultiStart(POWER_SYSTEMS_ARCO_COGEN2_CC1, true, true, ACBus(7372, CHANNELVIEW 1 6, ACBusTypes.PV = 2, -0.41341245727517517, 1.04, (min = 0.9, max = 1.1), 18.0, Area(Coast, 202.78914140625, 0.0, 0.0, Dict{String, Any}()), LoadZone(4, 43.636300000000006, 12.363500000000004, Dict{String, Any}()), Dict{String, Any}(\"x\" => -95.10269000000001, \"y\" => 29.807041576657696)), 0.0034628378378378376, 0.3374000000000001, 5.5056, PrimeMovers.CT = 8, ThermalFuels.NATURAL_GAS = 7, (min = 2.05, max = 4.933999999999999), (min = -0.22496, max = 2.4863999999999997), (up = 0.826432, down = 0.827616), (startup = 4.933999999999999, shutdown = 4.933999999999999), (up = 1.0, down = 1.0), (hot = 0.0, warm = 0.0, cold = 1.0), 1, ThermalGenerationCost(CostCurve{PiecewiseIncrementalCurve}(PiecewiseIncrementalCurve(0.0, [0.0, 197.8, 354.1, 382.6, 385.2, 394.2, 396.3, 398.0, 399.0, 399.4], [22.259999999997845, 75.00000000000739, 969.2799999997966, 1629.659999999651, 3193.9849999992853, 957.459999999756, 2525.1599999994037, 8683.81999999804, 3165.0799999992237]), UnitSystem.NATURAL_UNITS = 2, LinearCurve(0.0, 0.0)), 0.0, (hot = 0.0, warm = 0.0, cold = 0.0), 0.0), 592.0, Service[], 8760.0, false, nothing, Dict{String, Any}(\"ERCOT_FUEL\" => \"CCLE90\"))\n",
       " ⋮\n",
       " ThermalMultiStart(CHANNEL_ENERGY_CENTER2_CC3, true, true, ACBus(7008, PASADENA 2 6, ACBusTypes.PV = 2, -0.40538799187986585, 1.04, (min = 0.9, max = 1.1), 13.8, Area(Coast, 202.78914140625, 0.0, 0.0, Dict{String, Any}()), LoadZone(4, 43.636300000000006, 12.363500000000004, Dict{String, Any}()), Dict{String, Any}(\"x\" => -95.171439, \"y\" => 29.714432670870917)), 0.004332755632582322, 0.41679999999999995, 5.3661, PrimeMovers.CT = 8, ThermalFuels.NATURAL_GAS = 7, (min = 2.5, max = 4.81), (min = -0.27696, max = 2.4233999999999996), (up = 0.8158779999999999, down = 0.802607), (startup = 4.81, shutdown = 4.81), (up = 1.0, down = 1.0), (hot = 0.0, warm = 0.0, cold = 1.0), 1, ThermalGenerationCost(CostCurve{PiecewiseIncrementalCurve}(PiecewiseIncrementalCurve(2.5, [139.0, 268.0, 284.0, 343.0, 358.0, 366.0, 372.0, 375.0, 376.0, 377.0], [19.070000000000164, 23.879999999999654, 39.779999999999745, 47.3299999999908, 58.8700000000008, 94.53499999999985, 176.80999999999858, 255.1800000000003, 1683.9939999999997]), UnitSystem.NATURAL_UNITS = 2, LinearCurve(0.0, 0.0)), 2.5, (hot = 857.99, warm = 1058.16, cold = 1143.23), 171.598), 577.0, Service[VariableReserve{ReserveUp}(REG_UP, true, 1.0, 17.904266200000002, 0.0, 1.0, 1.0, 0.0, Dict{String, Any}()), VariableReserve{ReserveDown}(REG_DN, true, 1.0, 15.64729092, 0.0, 1.0, 1.0, 0.0, Dict{String, Any}()), VariableReserve{ReserveUp}(SPIN, true, 10.0, 31.7, 0.0, 1.0, 1.0, 0.0, Dict{String, Any}())], 8760.0, false, nothing, Dict{String, Any}(\"ERCOT_FUEL\" => \"CCGT90\"))\n",
       " ThermalMultiStart(JACK_COUNTY_GEN_FACILITY_2_CC2, true, true, ACBus(5368, BRIDGEPORT 7, ACBusTypes.PV = 2, -0.9472836648920595, 1.0, (min = 0.9, max = 1.1), 13.8, Area(NorthCentral, 266.4807869140626, 0.0, 0.0, Dict{String, Any}()), LoadZone(12, 5.086200000000001, 1.4412, Dict{String, Any}()), Dict{String, Any}(\"x\" => -97.90820000000001, \"y\" => 33.16853016985089)), 0.008339152119700747, 0.0, 3.7293, PrimeMovers.CT = 8, ThermalFuels.NATURAL_GAS = 7, (min = 1.65, max = 3.344), (min = -0.18445999999999999, max = 1.6842), (up = 0.556989, down = 0.5674149999999999), (startup = 3.344, shutdown = 3.344), (up = 1.0, down = 1.0), (hot = 0.0, warm = 0.0, cold = 1.0), 1, ThermalGenerationCost(CostCurve{PiecewiseIncrementalCurve}(PiecewiseIncrementalCurve(0.0, [100.0, 164.0, 175.4, 179.5, 210.5, 252.0, 291.5, 315.7, 317.9, 319.0], [18.050000000001663, 22.189999999999497, 45.84000000000321, 21.790000000002113, 25.520000000002796, 31.919999999999614, 40.20599999999831, 118.2190909090939, 822.7609090908924]), UnitSystem.NATURAL_UNITS = 2, LinearCurve(0.0, 0.0)), 0.0, (hot = 5584.0, warm = 6492.0, cold = 6843.52), 1116.8), 401.0, Service[VariableReserve{ReserveUp}(REG_UP, true, 1.0, 17.904266200000002, 0.0, 1.0, 1.0, 0.0, Dict{String, Any}()), VariableReserve{ReserveDown}(REG_DN, true, 1.0, 15.64729092, 0.0, 1.0, 1.0, 0.0, Dict{String, Any}())], 8760.0, false, nothing, Dict{String, Any}(\"ERCOT_FUEL\" => \"CCGT90\"))\n",
       " ThermalMultiStart(FREESTONE_ENERGY_CENTER1_CC1, true, true, ACBus(8046, FAIRFIELD 1 3, ACBusTypes.PV = 2, -0.9348607603422142, 1.01, (min = 0.9, max = 1.1), 18.0, Area(East, 32.194053, 0.0, 0.0, Dict{String, Any}()), LoadZone(7, 10.4583, 2.9629999999999996, Dict{String, Any}()), Dict{String, Any}(\"x\" => -96.1005, \"y\" => 31.877708504757106)), 0.008333333333333335, 0.0, 1.9530000000000003, PrimeMovers.CT = 8, ThermalFuels.NATURAL_GAS = 7, (min = 1.32, max = 1.7500000000000002), (min = -0.14700000000000002, max = 0.882), (up = 0.29211000000000004, down = 0.29673000000000005), (startup = 1.7500000000000002, shutdown = 1.7500000000000002), (up = 1.0, down = 1.0), (hot = 0.0, warm = 0.0, cold = 1.0), 1, ThermalGenerationCost(CostCurve{PiecewiseIncrementalCurve}(PiecewiseIncrementalCurve(0.39, [80.0, 132.0, 227.0, 230.0, 236.0, 237.0, 238.0, 239.0, 240.0, 243.0], [15.8900000000001, 17.390000000000327, 18.899999999999636, 39.129999999999654, 26.480000000000018, 122.35999999999967, 80.75000000000045, 134.33000000000038, 194.66999999999916]), UnitSystem.NATURAL_UNITS = 2, LinearCurve(0.0, 0.0)), 0.39, (hot = 7111.74, warm = 9285.18, cold = 10619.62), 1422.348), 210.0, Service[VariableReserve{ReserveUp}(SPIN, true, 10.0, 31.7, 0.0, 1.0, 1.0, 0.0, Dict{String, Any}())], 8760.0, false, nothing, Dict{String, Any}(\"ERCOT_FUEL\" => \"CCGT90\"))\n",
       " ThermalMultiStart(JACK_COUNTY_GEN_FACILITY_2_CC1, true, true, ACBus(5367, BRIDGEPORT 6, ACBusTypes.PV = 2, -0.9318021930011419, 1.0, (min = 0.9, max = 1.1), 13.8, Area(NorthCentral, 266.4807869140626, 0.0, 0.0, Dict{String, Any}()), LoadZone(12, 5.086200000000001, 1.4412, Dict{String, Any}()), Dict{String, Any}(\"x\" => -97.90820000000001, \"y\" => 33.17154355183101)), 0.008331683168316832, 0.0, 3.7572, PrimeMovers.CT = 8, ThermalFuels.NATURAL_GAS = 7, (min = 1.65, max = 3.3660000000000005), (min = -0.1818, max = 1.6967999999999999), (up = 0.5635800000000001, down = 0.5696399999999999), (startup = 3.3660000000000005, shutdown = 3.3660000000000005), (up = 1.0, down = 1.0), (hot = 0.0, warm = 0.0, cold = 1.0), 1, ThermalGenerationCost(CostCurve{PiecewiseIncrementalCurve}(PiecewiseIncrementalCurve(0.0, [27.9, 181.1, 197.5, 211.6, 247.0, 287.1, 300.3, 316.8, 317.9, 319.0], [20.700000000001477, 59.539999999992794, 107.32000000000126, 25.520000000007343, 55.4399999999973, 38.267500000006194, 101.23999999999917, 1981.488181818242, 4409.691818181729]), UnitSystem.NATURAL_UNITS = 2, LinearCurve(0.0, 0.0)), 0.0, (hot = 5850.0, warm = 6478.0, cold = 7029.0), 1170.0), 404.0, Service[VariableReserve{ReserveUp}(REG_UP, true, 1.0, 17.904266200000002, 0.0, 1.0, 1.0, 0.0, Dict{String, Any}()), VariableReserve{ReserveDown}(REG_DN, true, 1.0, 15.64729092, 0.0, 1.0, 1.0, 0.0, Dict{String, Any}())], 8760.0, false, nothing, Dict{String, Any}(\"ERCOT_FUEL\" => \"CCGT90\"))\n",
       " ThermalMultiStart(SANDHILL_ENERGY_CENTER_CC2, true, true, ACBus(6258, AUSTIN 2 4, ACBusTypes.PV = 2, -0.8330601207563926, 1.02, (min = 0.9, max = 1.1), 13.8, Area(SouthCentral, 132.09414208984376, 0.0, 0.0, Dict{String, Any}()), LoadZone(23, 49.556799999999996, 14.0411, Dict{String, Any}()), Dict{String, Any}(\"x\" => -97.60786, \"y\" => 30.203266516170505)), 0.008341708542713568, 0.0, 1.8507, PrimeMovers.CT = 8, ThermalFuels.NATURAL_GAS = 7, (min = 0.58, max = 1.66), (min = -0.06368, max = 0.8358), (up = 0.275814, down = 0.278003), (startup = 1.66, shutdown = 1.66), (up = 1.0, down = 1.0), (hot = 0.0, warm = 0.0, cold = 1.0), 1, ThermalGenerationCost(CostCurve{PiecewiseIncrementalCurve}(PiecewiseIncrementalCurve(19.6, [6.9, 62.0, 79.3, 96.7, 114.0, 131.3, 146.0, 151.0, 161.0, 166.0], [24.50999999999999, 25.279999999999994, 26.229999999999993, 27.36999999999999, 28.679999999999993, 30.180000000000003, 33.92444444444476, 43.23119999999999, 58.749599999999916]), UnitSystem.NATURAL_UNITS = 2, LinearCurve(0.0, 0.0)), 19.6, (hot = 5310.0, warm = 5310.0, cold = 6810.0), 1062.0), 199.0, Service[], 8760.0, false, nothing, Dict{String, Any}(\"ERCOT_FUEL\" => \"CCGT90\"))\n",
       " ThermalMultiStart(CEDAR_BAYOU_CC2, true, true, ACBus(7211, BAYTOWN 1 7, ACBusTypes.PV = 2, -0.40197594300538697, 1.04, (min = 0.9, max = 1.1), 18.0, Area(Coast, 202.78914140625, 0.0, 0.0, Dict{String, Any}()), LoadZone(4, 43.636300000000006, 12.363500000000004, Dict{String, Any}()), Dict{String, Any}(\"x\" => -94.90886, \"y\" => 29.662826214754595)), 0.008333333333333333, 0.0, 3.5712, PrimeMovers.CT = 8, ThermalFuels.NATURAL_GAS = 7, (min = 1.54, max = 3.2), (min = -0.17279999999999998, max = 1.6127999999999998), (up = 0.536064, down = 0.538368), (startup = 3.2, shutdown = 3.2), (up = 1.0, down = 1.0), (hot = 0.0, warm = 0.0, cold = 1.0), 1, ThermalGenerationCost(CostCurve{PiecewiseIncrementalCurve}(PiecewiseIncrementalCurve(0.0, [40.8, 154.0, 181.0, 197.0, 219.0, 245.0, 255.0, 260.0], [20.66000000000031, 22.929999999999836, 24.401999999999134, 26.670000000000073, 30.572000000000116, 35.160000000000764, 47.2519999999995]), UnitSystem.NATURAL_UNITS = 2, LinearCurve(0.0, 0.0)), 0.0, (hot = 16865.53, warm = 17061.24, cold = 18317.54), 3373.1059999999998), 384.0, Service[], 8760.0, false, nothing, Dict{String, Any}(\"ERCOT_FUEL\" => \"CCGT90\"))\n",
       " ThermalMultiStart(TEXAS_CITY_POWER_CC3, true, true, ACBus(7268, PASADENA 3 5, ACBusTypes.PV = 2, -0.4203057747822669, 1.01, (min = 0.9, max = 1.1), 13.8, Area(Coast, 202.78914140625, 0.0, 0.0, Dict{String, Any}()), LoadZone(4, 43.636300000000006, 12.363500000000004, Dict{String, Any}()), Dict{String, Any}(\"x\" => -95.04076, \"y\" => 29.614675988265414)), 0.006896551724137932, -0.1006, 1.3485, PrimeMovers.CT = 8, ThermalFuels.NATURAL_GAS = 7, (min = 1.0, max = 1.21), (min = -0.11165, max = 0.609), (up = 0.20038999999999998, down = 0.201115), (startup = 1.21, shutdown = 1.21), (up = 1.0, down = 1.0), (hot = 0.0, warm = 0.0, cold = 1.0), 1, ThermalGenerationCost(CostCurve{PiecewiseIncrementalCurve}(PiecewiseIncrementalCurve(7.52, [94.0, 95.0], [28.350000000000005]), UnitSystem.NATURAL_UNITS = 2, LinearCurve(0.0, 0.0)), 7.52, (hot = 72.83, warm = 72.83, cold = 72.83), 14.566), 145.0, Service[], 8760.0, false, nothing, Dict{String, Any}(\"ERCOT_FUEL\" => \"CCGT90\"))\n",
       " ThermalMultiStart(WISE_TRACTEBEL_POWER_CC2, true, true, ACBus(5207, POOLVILLE 3, ACBusTypes.PV = 2, -0.944612298845542, 1.01, (min = 0.9, max = 1.1), 13.8, Area(NorthCentral, 266.4807869140626, 0.0, 0.0, Dict{String, Any}()), LoadZone(12, 5.086200000000001, 1.4412, Dict{String, Any}()), Dict{String, Any}(\"x\" => -97.89770000000001, \"y\" => 33.03642245621629)), 0.004092920353982301, 0.6299999999999999, 4.2036, PrimeMovers.CT = 8, ThermalFuels.NATURAL_GAS = 7, (min = 1.8499999999999999, max = 3.7699999999999996), (min = -0.20339999999999997, max = 1.8983999999999996), (up = 0.6328, down = 0.63506), (startup = 3.7699999999999996, shutdown = 3.7699999999999996), (up = 1.0, down = 1.0), (hot = 0.0, warm = 0.0, cold = 1.0), 1, ThermalGenerationCost(CostCurve{PiecewiseIncrementalCurve}(PiecewiseIncrementalCurve(14.0, [0.0, 122.0, 213.0, 257.0, 293.0, 328.0, 333.0, 334.0, 335.0, 336.0], [0.0, 20.61999999999989, 26.97999999999979, 26.56999999999971, 80.01000000000022, 88.57999999999993, 119.69999999999982, 1224.42, 3266.5600000000013]), UnitSystem.NATURAL_UNITS = 2, LinearCurve(0.0, 0.0)), 14.0, (hot = 5439.0, warm = 8465.0, cold = 11179.0), 1087.8), 452.0, Service[], 8760.0, false, nothing, Dict{String, Any}(\"ERCOT_FUEL\" => \"CCGT90\"))\n",
       " ThermalMultiStart(TH_WARTON2_CC2, true, true, ACBus(7167, HOUSTON 5 8, ACBusTypes.PV = 2, -0.5101799338173881, 1.04, (min = 0.9, max = 1.1), 18.0, Area(Coast, 202.78914140625, 0.0, 0.0, Dict{String, Any}()), LoadZone(3, 89.05050000000001, 25.231200000000005, Dict{String, Any}()), Dict{String, Any}(\"x\" => -95.52556, \"y\" => 29.9289091401206)), 0.008305084745762711, 0.0, 1.0974, PrimeMovers.CT = 8, ThermalFuels.NATURAL_GAS = 7, (min = 0.7599999999999999, max = 0.98), (min = -0.08496, max = 0.49559999999999993), (up = 0.16472799999999999, down = 0.16543599999999997), (startup = 0.98, shutdown = 0.98), (up = 1.0, down = 1.0), (hot = 0.0, warm = 0.0, cold = 1.0), 1, ThermalGenerationCost(CostCurve{PiecewiseIncrementalCurve}(PiecewiseIncrementalCurve(0.0, [2.3, 70.0, 87.0, 93.0], [25.75, 30.093000000000302, 32.549999999999955]), UnitSystem.NATURAL_UNITS = 2, LinearCurve(0.0, 0.0)), 0.0, (hot = 0.0, warm = 0.0, cold = 0.0), 0.0), 118.0, Service[], 8760.0, false, nothing, Dict{String, Any}(\"ERCOT_FUEL\" => \"CCLE90\"))"
      ]
     },
     "metadata": {},
     "output_type": "display_data"
    }
   ],
   "source": [
    "ct_units = filter(c -> get_prime_mover_type(c).value == 8, collect(get_components(ThermalMultiStart, sys)))"
   ]
  },
  {
   "cell_type": "code",
   "execution_count": 41,
   "id": "d9ac4ab9",
   "metadata": {},
   "outputs": [
    {
     "data": {
      "text/plain": [
       "1-element Vector{ThermalFuels}:\n",
       " ThermalFuels.NATURAL_GAS = 7"
      ]
     },
     "metadata": {},
     "output_type": "display_data"
    }
   ],
   "source": [
    "unique(get_fuel.(ct_units))"
   ]
  },
  {
   "cell_type": "code",
   "execution_count": null,
   "id": "f1278612",
   "metadata": {},
   "outputs": [
    {
     "data": {
      "text/plain": [
       "349-element Vector{Any}:\n",
       " 0\n",
       " 0\n",
       " 0\n",
       " 0\n",
       " 0\n",
       "  PrimeMovers.CT = 8\n",
       " 0\n",
       " 0\n",
       " 0\n",
       " 0\n",
       " ⋮\n",
       "  PrimeMovers.CT = 8\n",
       " 0\n",
       " 0\n",
       " 0\n",
       "  PrimeMovers.CT = 8\n",
       " 0\n",
       " 0\n",
       " 0\n",
       "  PrimeMovers.CT = 8"
      ]
     },
     "metadata": {},
     "output_type": "display_data"
    }
   ],
   "source": [
    "[c.value == 8 ? c : 0 for c in get_prime_mover_type.(get_components(ThermalMultiStart, sys))]"
   ]
  },
  {
   "cell_type": "code",
   "execution_count": null,
   "id": "cec8f681",
   "metadata": {},
   "outputs": [
    {
     "data": {
      "text/plain": [
       "2-element Vector{Tuple{PrimeMovers, Int64}}:\n",
       " (PrimeMovers.GT = 12, 3)\n",
       " (PrimeMovers.ST = 20, 2)"
      ]
     },
     "metadata": {},
     "output_type": "display_data"
    }
   ],
   "source": [
    "therm_stand_pm = get_prime_mover_type.(get_components(ThermalStandard, sys))\n",
    "[(element, count(==(element),therm_stand_pm)) for element in unique(therm_stand_pm) ]"
   ]
  },
  {
   "cell_type": "code",
   "execution_count": 16,
   "id": "7af94e95",
   "metadata": {},
   "outputs": [
    {
     "data": {
      "text/plain": [
       "Area: West:\n",
       "   name: West\n",
       "   peak_active_power: 24.520962963867195\n",
       "   peak_reactive_power: 0.0\n",
       "   load_response: 0.0\n",
       "   ext: Dict{String, Any}()\n",
       "   InfrastructureSystems.SystemUnitsSettings:\n",
       "      base_value: 100.0\n",
       "      unit_system: UnitSystem.SYSTEM_BASE = 0\n",
       "   has_supplemental_attributes: false\n",
       "   has_time_series: true"
      ]
     },
     "metadata": {},
     "output_type": "display_data"
    }
   ],
   "source": [
    "wst = get_component(Area, sys, \"West\")"
   ]
  },
  {
   "cell_type": "code",
   "execution_count": 65,
   "id": "92ef8e8b",
   "metadata": {},
   "outputs": [
    {
     "data": {
      "text/plain": [
       "0.0"
      ]
     },
     "metadata": {},
     "output_type": "display_data"
    }
   ],
   "source": [
    "get_load_response(wst)"
   ]
  },
  {
   "cell_type": "code",
   "execution_count": 67,
   "id": "1f9643eb",
   "metadata": {},
   "outputs": [
    {
     "data": {
      "text/plain": [
       "0.0"
      ]
     },
     "metadata": {},
     "output_type": "display_data"
    }
   ],
   "source": [
    "get_peak_reactive_power(wst)"
   ]
  },
  {
   "cell_type": "code",
   "execution_count": 68,
   "id": "b10ebecb",
   "metadata": {},
   "outputs": [
    {
     "data": {
      "text/plain": [
       "Dict{String, Any}()"
      ]
     },
     "metadata": {},
     "output_type": "display_data"
    }
   ],
   "source": [
    "get_ext(wst)"
   ]
  },
  {
   "cell_type": "code",
   "execution_count": 49,
   "id": "ecd1829c",
   "metadata": {},
   "outputs": [
    {
     "data": {
      "text/plain": [
       "170-element Vector{ACBus}:\n",
       " ACBus(3146, JUNCTION 0, ACBusTypes.PQ = 1, -0.6229066137733746, 1.0165387, (min = 0.9, max = 1.1), 115.0, Area(West, 24.520962963867195, 0.0, 0.0, Dict{String, Any}()), LoadZone(28, 6.9548000000000005, 1.9703000000000002, Dict{String, Any}()), Dict{String, Any}(\"x\" => -100.06015, \"y\" => 30.452463437998798))\n",
       " ACBus(3040, BALLINGER 0, ACBusTypes.PQ = 1, -0.6015359821072077, 0.9901182, (min = 0.9, max = 1.1), 115.0, Area(West, 24.520962963867195, 0.0, 0.0, Dict{String, Any}()), LoadZone(27, 9.801000000000002, 2.7766999999999995, Dict{String, Any}()), Dict{String, Any}(\"x\" => -99.92516199999999, \"y\" => 31.732452506296504))\n",
       " ACBus(3067, TRENT 1 0, ACBusTypes.PQ = 1, -0.3464033855315336, 1.0257376, (min = 0.9, max = 1.1), 115.0, Area(West, 24.520962963867195, 0.0, 0.0, Dict{String, Any}()), LoadZone(27, 9.801000000000002, 2.7766999999999995, Dict{String, Any}()), Dict{String, Any}(\"x\" => -100.22665200000002, \"y\" => 32.4240226617666))\n",
       " ACBus(3070, NOLAN 0, ACBusTypes.PQ = 1, -0.36912895120260886, 1.0172657, (min = 0.9, max = 1.1), 115.0, Area(West, 24.520962963867195, 0.0, 0.0, Dict{String, Any}()), LoadZone(27, 9.801000000000002, 2.7766999999999995, Dict{String, Any}()), Dict{String, Any}(\"x\" => -100.091, \"y\" => 32.281713091443294))\n",
       " ACBus(3151, PRICKLY_PEAR, ACBusTypes.PV = 2, 0.01, 1.0156701, (min = 0.9, max = 1.1), 115.0, Area(West, 24.520962963867195, 0.0, 0.0, Dict{String, Any}()), nothing, Dict{String, Any}(\"x\" => -100.54, \"y\" => 31.01))\n",
       " ACBus(3128, LORAINE 2 0, ACBusTypes.PQ = 1, -0.3154854886976923, 1.0066934, (min = 0.9, max = 1.1), 115.0, Area(West, 24.520962963867195, 0.0, 0.0, Dict{String, Any}()), LoadZone(27, 9.801000000000002, 2.7766999999999995, Dict{String, Any}()), Dict{String, Any}(\"x\" => -100.702396, \"y\" => 32.3927105149358))\n",
       " ACBus(3114, SAN ANGELO 2 0, ACBusTypes.PQ = 1, -0.6029514266772824, 1.0055665, (min = 0.9, max = 1.1), 115.0, Area(West, 24.520962963867195, 0.0, 0.0, Dict{String, Any}()), LoadZone(27, 9.801000000000002, 2.7766999999999995, Dict{String, Any}()), Dict{String, Any}(\"x\" => -100.55452499999998, \"y\" => 31.262688662559217))\n",
       " ACBus(3020, CHRISTOVAL 2, ACBusTypes.PV = 2, -0.4365826281199034, 1.03, (min = 0.9, max = 1.1), 13.8, Area(West, 24.520962963867195, 0.0, 0.0, Dict{String, Any}()), LoadZone(27, 9.801000000000002, 2.7766999999999995, Dict{String, Any}()), Dict{String, Any}(\"x\" => -100.66622, \"y\" => 31.072331201834395))\n",
       " ACBus(3051, DEL RIO 1, ACBusTypes.PQ = 1, -0.6285939785805084, 0.9953169, (min = 0.9, max = 1.1), 115.0, Area(West, 24.520962963867195, 0.0, 0.0, Dict{String, Any}()), LoadZone(28, 6.9548000000000005, 1.9703000000000002, Dict{String, Any}()), Dict{String, Any}(\"x\" => -101.19083600000002, \"y\" => 29.83097421926579))\n",
       " ACBus(3008, COLEMAN 0, ACBusTypes.PQ = 1, -0.6489789180983191, 0.9910125, (min = 0.9, max = 1.1), 115.0, Area(West, 24.520962963867195, 0.0, 0.0, Dict{String, Any}()), LoadZone(27, 9.801000000000002, 2.7766999999999995, Dict{String, Any}()), Dict{String, Any}(\"x\" => -99.558791, \"y\" => 31.730778395645785))\n",
       " ⋮\n",
       " ACBus(3012, WILLOW CITY 0, ACBusTypes.PQ = 1, -1.0662065778518912, 1.00822, (min = 0.9, max = 1.1), 115.0, Area(West, 24.520962963867195, 0.0, 0.0, Dict{String, Any}()), LoadZone(28, 6.9548000000000005, 1.9703000000000002, Dict{String, Any}()), Dict{String, Any}(\"x\" => -98.699714, \"y\" => 30.430861062516918))\n",
       " ACBus(3005, LEAKEY 0, ACBusTypes.PQ = 1, -1.0213920902609908, 1.0105581, (min = 0.9, max = 1.1), 115.0, Area(West, 24.520962963867195, 0.0, 0.0, Dict{String, Any}()), LoadZone(28, 6.9548000000000005, 1.9703000000000002, Dict{String, Any}()), Dict{String, Any}(\"x\" => -99.673471, \"y\" => 29.63821220420771))\n",
       " ACBus(3039, ROSCOE 2 2, ACBusTypes.PV = 2, -0.40024241217913614, 1.04, (min = 0.9, max = 1.1), 13.8, Area(West, 24.520962963867195, 0.0, 0.0, Dict{String, Any}()), LoadZone(27, 9.801000000000002, 2.7766999999999995, Dict{String, Any}()), Dict{String, Any}(\"x\" => -100.6538, \"y\" => 32.45649079710721))\n",
       " ACBus(3019, CHRISTOVAL 1, ACBusTypes.PQ = 1, -0.5371679600409764, 1.02, (min = 0.9, max = 1.1), 115.0, Area(West, 24.520962963867195, 0.0, 0.0, Dict{String, Any}()), LoadZone(27, 9.801000000000002, 2.7766999999999995, Dict{String, Any}()), Dict{String, Any}(\"x\" => -100.64282000000001, \"y\" => 31.07926873175702))\n",
       " ACBus(3035, CHEROKEE 0, ACBusTypes.PQ = 1, -0.7808586492794737, 0.9959845, (min = 0.9, max = 1.1), 115.0, Area(West, 24.520962963867195, 0.0, 0.0, Dict{String, Any}()), LoadZone(28, 6.9548000000000005, 1.9703000000000002, Dict{String, Any}()), Dict{String, Any}(\"x\" => -99.07089299999998, \"y\" => 30.93364430440759))\n",
       " ACBus(3109, FLUVANNA 1 0, ACBusTypes.PQ = 1, -0.31830606294196273, 1.0166353, (min = 0.9, max = 1.1), 115.0, Area(West, 24.520962963867195, 0.0, 0.0, Dict{String, Any}()), LoadZone(27, 9.801000000000002, 2.7766999999999995, Dict{String, Any}()), Dict{String, Any}(\"x\" => -101.21039700000001, \"y\" => 32.91939626764481))\n",
       " ACBus(3163, BASALT_SOLAR, ACBusTypes.PV = 2, 0.01, 1.02, (min = 0.9, max = 1.1), 115.0, Area(West, 24.520962963867195, 0.0, 0.0, Dict{String, Any}()), nothing, Dict{String, Any}(\"x\" => -99.78, \"y\" => 29.21))\n",
       " ACBus(3034, SNYDER 1 1, ACBusTypes.PV = 2, -0.10078908165795082, 1.03, (min = 0.9, max = 1.1), 22.0, Area(West, 24.520962963867195, 0.0, 0.0, Dict{String, Any}()), LoadZone(27, 9.801000000000002, 2.7766999999999995, Dict{String, Any}()), Dict{String, Any}(\"x\" => -100.9916, \"y\" => 32.70752689988102))\n",
       " ACBus(3161, GLOVE_SOLAR, ACBusTypes.PV = 2, 0.01, 1.02, (min = 0.9, max = 1.1), 230.0, Area(West, 24.520962963867195, 0.0, 0.0, Dict{String, Any}()), nothing, Dict{String, Any}(\"x\" => -99.7, \"y\" => 29.21))"
      ]
     },
     "metadata": {},
     "output_type": "display_data"
    }
   ],
   "source": [
    "get_buses(sys, wst)"
   ]
  },
  {
   "cell_type": "code",
   "execution_count": 50,
   "id": "17e570b4",
   "metadata": {},
   "outputs": [
    {
     "data": {
      "text/plain": [
       "ACBus: JUNCTION 0:\n",
       "   number: 3146\n",
       "   name: JUNCTION 0\n",
       "   bustype: ACBusTypes.PQ = 1\n",
       "   angle: -0.6229066137733746\n",
       "   magnitude: 1.0165387\n",
       "   voltage_limits: (min = 0.9, max = 1.1)\n",
       "   base_voltage: 115.0\n",
       "   area: Area: West\n",
       "   load_zone: LoadZone: 28\n",
       "   ext: Dict{String, Any}(\"x\" => -100.06015, \"y\" => 30.452463437998798)\n",
       "   InfrastructureSystems.SystemUnitsSettings:\n",
       "      base_value: 100.0\n",
       "      unit_system: UnitSystem.SYSTEM_BASE = 0\n",
       "   has_supplemental_attributes: false\n",
       "   has_time_series: false"
      ]
     },
     "metadata": {},
     "output_type": "display_data"
    }
   ],
   "source": [
    "jnctn = get_component(ACBus, sys, \"JUNCTION 0\")"
   ]
  },
  {
   "cell_type": "code",
   "execution_count": 59,
   "id": "dff1cd98",
   "metadata": {},
   "outputs": [
    {
     "data": {
      "text/plain": [
       "Area: West:\n",
       "   name: West\n",
       "   peak_active_power: 24.520962963867195\n",
       "   peak_reactive_power: 0.0\n",
       "   load_response: 0.0\n",
       "   ext: Dict{String, Any}()\n",
       "   InfrastructureSystems.SystemUnitsSettings:\n",
       "      base_value: 100.0\n",
       "      unit_system: UnitSystem.SYSTEM_BASE = 0\n",
       "   has_supplemental_attributes: false\n",
       "   has_time_series: true"
      ]
     },
     "metadata": {},
     "output_type": "display_data"
    }
   ],
   "source": [
    "get_area(jnctn)"
   ]
  },
  {
   "cell_type": "code",
   "execution_count": 69,
   "id": "e2f8a844",
   "metadata": {},
   "outputs": [
    {
     "data": {
      "text/plain": [
       "Dict{String, Any} with 2 entries:\n",
       "  \"x\" => -100.06\n",
       "  \"y\" => 30.4525"
      ]
     },
     "metadata": {},
     "output_type": "display_data"
    }
   ],
   "source": [
    "get_ext(jnctn)"
   ]
  },
  {
   "cell_type": "code",
   "execution_count": null,
   "id": "5d9f7c38",
   "metadata": {},
   "outputs": [
    {
     "ename": "UndefVarError",
     "evalue": "UndefVarError: `get_load` not defined in `Main`\nSuggestion: check for spelling errors or missing imports.",
     "output_type": "error",
     "traceback": [
      "UndefVarError: `get_load` not defined in `Main`\n",
      "Suggestion: check for spelling errors or missing imports.\n",
      "\n",
      "Stacktrace:\n",
      " [1] top-level scope\n",
      "   @ ~/research/sienna/jl_notebook_cell_df34fa98e69747e1a8f8a730347b8e2f_X35sdnNjb2RlLXJlbW90ZQ==.jl:1"
     ]
    }
   ],
   "source": [
    "get_load_zone(jnctn)"
   ]
  },
  {
   "cell_type": "code",
   "execution_count": 61,
   "id": "da1ae75f",
   "metadata": {},
   "outputs": [
    {
     "ename": "UndefVarError",
     "evalue": "UndefVarError: `get_loads` not defined in `Main`\nSuggestion: check for spelling errors or missing imports.",
     "output_type": "error",
     "traceback": [
      "UndefVarError: `get_loads` not defined in `Main`\n",
      "Suggestion: check for spelling errors or missing imports.\n",
      "\n",
      "Stacktrace:\n",
      " [1] top-level scope\n",
      "   @ ~/research/sienna/jl_notebook_cell_df34fa98e69747e1a8f8a730347b8e2f_X36sdnNjb2RlLXJlbW90ZQ==.jl:1"
     ]
    }
   ],
   "source": [
    "get_loads(jnctn)"
   ]
  },
  {
   "cell_type": "code",
   "execution_count": null,
   "id": "2aaad15b",
   "metadata": {},
   "outputs": [
    {
     "data": {
      "text/plain": [
       "1125-element Vector{String}:\n",
       " \"EAST BERNARD_LOAD_1\"\n",
       " \"YORKTOWN_LOAD_1\"\n",
       " \"MCALLEN_LOAD_2\"\n",
       " \"MISSION_LOAD_3\"\n",
       " \"PFLUGERVILLE_LOAD_1\"\n",
       " \"KERENS_LOAD_1\"\n",
       " \"HOUSTON_LOAD_54\"\n",
       " \"HOUSTON_LOAD_11\"\n",
       " \"DALLAS_LOAD_28\"\n",
       " \"HOLLAND_LOAD_1\"\n",
       " ⋮\n",
       " \"PASADENA_LOAD_5\"\n",
       " \"ATHENS_LOAD_2\"\n",
       " \"HOUSTON_LOAD_46\"\n",
       " \"COLLEYVILLE_LOAD_1\"\n",
       " \"FREDERICKSBURG_LOAD_1\"\n",
       " \"HOUSTON_LOAD_69\"\n",
       " \"WICHITA FALLS_LOAD_1\"\n",
       " \"STRAWN_LOAD_1\"\n",
       " \"OLNEY_LOAD_1\""
      ]
     },
     "metadata": {},
     "output_type": "display_data"
    }
   ],
   "source": [
    "get_name.(get_components(PowerLoad, sys))"
   ]
  },
  {
   "cell_type": "code",
   "execution_count": 63,
   "id": "c0edb9c6",
   "metadata": {},
   "outputs": [],
   "source": [
    "jnctn_load = get_component(PowerLoad, sys, \"JUNCTION_LOAD\")"
   ]
  },
  {
   "cell_type": "code",
   "execution_count": 37,
   "id": "bfdc1bfa",
   "metadata": {},
   "outputs": [
    {
     "data": {
      "text/plain": [
       "Deterministic(\"max_active_power\", DataStructures.SortedDict(DateTime(\"2018-01-01T00:00:00\") => [0.809706235460046, 0.8038323550852321, 0.8008606670462621, 0.791647259269729, 0.7870148429669462, 0.7841225572535393, 0.7997309138322644, 0.8226539918571323, 0.844621503964018, 0.836166226605039  …  0.752497880423369, 0.7514420535124815, 0.7500491027466019, 0.7560093051480781, 0.779218928493285, 0.811848953263734, 0.8261196171213285, 0.8262484032130097, 0.8230128206738457, 0.8173463322039192], DateTime(\"2018-01-02T00:00:00\") => [0.7770346924830017, 0.756239945257378, 0.752497880423369, 0.7514420535124815, 0.7500491027466019, 0.7560093051480781, 0.779218928493285, 0.811848953263734, 0.8261196171213285, 0.8262484032130097  …  0.8387303990094894, 0.8516425612606336, 0.8686687098343643, 0.8727001575639831, 0.8851993281581552, 0.9156926089675919, 0.9249026813486311, 0.8765586625481437, 0.7693171846944575, 0.7012721794802238], DateTime(\"2018-01-03T00:00:00\") => [0.827943481072207, 0.8402736417006823, 0.8387303990094894, 0.8516425612606336, 0.8686687098343643, 0.8727001575639831, 0.8851993281581552, 0.9156926089675919, 0.9249026813486311, 0.8765586625481437  …  0.6946157754969304, 0.7027348748593409, 0.7063958945610511, 0.7213056102388665, 0.753803264612029, 0.795720872372233, 0.8087904951599011, 0.7806413999983864, 0.6809204922530393, 0.6292073257475663], DateTime(\"2018-01-04T00:00:00\") => [0.6871086465346113, 0.6927628388450308, 0.6946157754969304, 0.7027348748593409, 0.7063958945610511, 0.7213056102388665, 0.753803264612029, 0.795720872372233, 0.8087904951599011, 0.7806413999983864  …  0.5197004671872535, 0.506970556919737, 0.5116955677839913, 0.518275805273171, 0.5426040804414035, 0.5900561547484037, 0.6266489778397246, 0.6079520450336773, 0.551693829674552, 0.5294932381392738], DateTime(\"2018-01-05T00:00:00\") => [0.5231037653595345, 0.5238153495862413, 0.5197004671872535, 0.506970556919737, 0.5116955677839913, 0.518275805273171, 0.5426040804414035, 0.5900561547484037, 0.6266489778397246, 0.6079520450336773  …  0.49967395612971005, 0.5029653940978908, 0.5032412362834359, 0.5058548422360268, 0.5341938558126028, 0.5700869427985236, 0.5825926846196388, 0.5811831564403344, 0.5589417934287952, 0.5247981462704198], DateTime(\"2018-01-06T00:00:00\") => [0.5007447674293087, 0.4983317332445506, 0.49967395612971005, 0.5029653940978908, 0.5032412362834359, 0.5058548422360268, 0.5341938558126028, 0.5700869427985236, 0.5825926846196388, 0.5811831564403344  …  0.512453299945367, 0.5006535169824392, 0.4927683931248225, 0.4901000269477054, 0.5019180301307937, 0.5197533854769547, 0.5309444338712405, 0.5255982429327698, 0.5317424396886541, 0.5268070997801969], DateTime(\"2018-01-07T00:00:00\") => [0.5602103887029781, 0.5332877732247834, 0.512453299945367, 0.5006535169824392, 0.4927683931248225, 0.4901000269477054, 0.5019180301307937, 0.5197533854769547, 0.5309444338712405, 0.5255982429327698  …  0.4443296889179271, 0.4574271896380813, 0.4606070660942954, 0.4760655787859079, 0.51600967783621, 0.5778505487397144, 0.5921446599298107, 0.5649021949583607, 0.5077573617821339, 0.48342575121840753], DateTime(\"2018-01-08T00:00:00\") => [0.4571245647245406, 0.43747604856229483, 0.4443296889179271, 0.4574271896380813, 0.4606070660942954, 0.4760655787859079, 0.51600967783621, 0.5778505487397144, 0.5921446599298107, 0.5649021949583607  …  0.5189844025785401, 0.541687244936768, 0.6018510092911241, 0.616333396089546, 0.640364621930735, 0.7124215105398249, 0.7385447760860041, 0.6912429439222949, 0.5863873192691929, 0.5357545222115996], DateTime(\"2018-01-09T00:00:00\") => [0.5180786684648767, 0.5046958171929187, 0.5189844025785401, 0.541687244936768, 0.6018510092911241, 0.616333396089546, 0.640364621930735, 0.7124215105398249, 0.7385447760860041, 0.6912429439222949  …  0.5328620871521257, 0.5353726941005851, 0.53883742328838, 0.5496695930839299, 0.5914852472624706, 0.6484199007405613, 0.6573887294415515, 0.6327692792249064, 0.5897474564281427, 0.5739684968590075], DateTime(\"2018-01-10T00:00:00\") => [0.5416561311728327, 0.5232396702804041, 0.5328620871521257, 0.5353726941005851, 0.53883742328838, 0.5496695930839299, 0.5914852472624706, 0.6484199007405613, 0.6573887294415515, 0.6327692792249064  …  0.4760044464625277, 0.48337109055792593, 0.5130838390397751, 0.5481500466353502, 0.5736625863319952, 0.6238657147551471, 0.6537498129577409, 0.6442223304025388, 0.6275338035040234, 0.6415957313421286]…), Hour(1), PowerSystems.get_max_active_power, InfrastructureSystems.InfrastructureSystemsInternal(Base.UUID(\"6dcc1fdb-d988-4843-8d81-1611cece5521\"), nothing, nothing, nothing))"
      ]
     },
     "metadata": {},
     "output_type": "display_data"
    }
   ],
   "source": [
    "keys = get_time_series_keys(wst)\n",
    "forecast = get_time_series(wst, keys[1])"
   ]
  },
  {
   "cell_type": "code",
   "execution_count": 39,
   "id": "9ef26cbe",
   "metadata": {},
   "outputs": [],
   "source": [
    "for window in iterate_windows(forecast)\n",
    "    @show values(maximum(window))\n",
    "end"
   ]
  },
  {
   "cell_type": "code",
   "execution_count": null,
   "id": "62aa14f6",
   "metadata": {},
   "outputs": [
    {
     "ename": "MethodError",
     "evalue": "MethodError: no method matching get_max_active_power(::Area)\nThe function `get_max_active_power` exists, but no method is defined for this combination of argument types.\n\nClosest candidates are:\n  get_max_active_power(!Matched::StandardLoad)\n   @ PowerSystems ~/.julia/packages/PowerSystems/AHyDB/src/models/supplemental_accessors.jl:70\n  get_max_active_power(!Matched::ExponentialLoad)\n   @ PowerSystems ~/.julia/packages/PowerSystems/AHyDB/src/models/generated/ExponentialLoad.jl:120\n  get_max_active_power(!Matched::PowerLoad)\n   @ PowerSystems ~/.julia/packages/PowerSystems/AHyDB/src/models/generated/PowerLoad.jl:106\n  ...\n",
     "output_type": "error",
     "traceback": [
      "MethodError: no method matching get_max_active_power(::Area)\n",
      "The function `get_max_active_power` exists, but no method is defined for this combination of argument types.\n",
      "\n",
      "Closest candidates are:\n",
      "  get_max_active_power(!Matched::StandardLoad)\n",
      "   @ PowerSystems ~/.julia/packages/PowerSystems/AHyDB/src/models/supplemental_accessors.jl:70\n",
      "  get_max_active_power(!Matched::ExponentialLoad)\n",
      "   @ PowerSystems ~/.julia/packages/PowerSystems/AHyDB/src/models/generated/ExponentialLoad.jl:120\n",
      "  get_max_active_power(!Matched::PowerLoad)\n",
      "   @ PowerSystems ~/.julia/packages/PowerSystems/AHyDB/src/models/generated/PowerLoad.jl:106\n",
      "  ...\n",
      "\n",
      "\n",
      "Stacktrace:\n",
      " [1] top-level scope\n",
      "   @ ~/research/sienna/jl_notebook_cell_df34fa98e69747e1a8f8a730347b8e2f_X23sdnNjb2RlLXJlbW90ZQ==.jl:1"
     ]
    }
   ],
   "source": [
    "get_max_active_power(wst)"
   ]
  },
  {
   "cell_type": "code",
   "execution_count": 36,
   "id": "879dcf8d",
   "metadata": {},
   "outputs": [
    {
     "ename": "MethodError",
     "evalue": "MethodError: no method matching get_max_active_power(::Area)\nThe function `get_max_active_power` exists, but no method is defined for this combination of argument types.\n\nClosest candidates are:\n  get_max_active_power(!Matched::StandardLoad)\n   @ PowerSystems ~/.julia/packages/PowerSystems/AHyDB/src/models/supplemental_accessors.jl:70\n  get_max_active_power(!Matched::ExponentialLoad)\n   @ PowerSystems ~/.julia/packages/PowerSystems/AHyDB/src/models/generated/ExponentialLoad.jl:120\n  get_max_active_power(!Matched::PowerLoad)\n   @ PowerSystems ~/.julia/packages/PowerSystems/AHyDB/src/models/generated/PowerLoad.jl:106\n  ...\n",
     "output_type": "error",
     "traceback": [
      "MethodError: no method matching get_max_active_power(::Area)\n",
      "The function `get_max_active_power` exists, but no method is defined for this combination of argument types.\n",
      "\n",
      "Closest candidates are:\n",
      "  get_max_active_power(!Matched::StandardLoad)\n",
      "   @ PowerSystems ~/.julia/packages/PowerSystems/AHyDB/src/models/supplemental_accessors.jl:70\n",
      "  get_max_active_power(!Matched::ExponentialLoad)\n",
      "   @ PowerSystems ~/.julia/packages/PowerSystems/AHyDB/src/models/generated/ExponentialLoad.jl:120\n",
      "  get_max_active_power(!Matched::PowerLoad)\n",
      "   @ PowerSystems ~/.julia/packages/PowerSystems/AHyDB/src/models/generated/PowerLoad.jl:106\n",
      "  ...\n",
      "\n",
      "\n",
      "Stacktrace:\n",
      " [1] _make_time_array(owner::Area, time_series::Deterministic, start_time::DateTime, len::Nothing, ignore_scaling_factors::Bool)\n",
      "   @ InfrastructureSystems ~/.julia/packages/InfrastructureSystems/LEg3t/src/time_series_interface.jl:782\n",
      " [2] #get_time_series_array#315\n",
      "   @ ~/.julia/packages/InfrastructureSystems/LEg3t/src/time_series_interface.jl:354 [inlined]\n",
      " [3] get_time_series_array(::Type{Deterministic}, owner::Area, name::String; resolution::Nothing, start_time::Nothing, len::Nothing, ignore_scaling_factors::Bool, features::@Kwargs{})\n",
      "   @ InfrastructureSystems ~/.julia/packages/InfrastructureSystems/LEg3t/src/time_series_interface.jl:292\n",
      " [4] get_time_series_array(::Type{Deterministic}, owner::Area, name::String)\n",
      "   @ InfrastructureSystems ~/.julia/packages/InfrastructureSystems/LEg3t/src/time_series_interface.jl:268\n",
      " [5] top-level scope\n",
      "   @ ~/research/sienna/jl_notebook_cell_df34fa98e69747e1a8f8a730347b8e2f_W6sdnNjb2RlLXJlbW90ZQ==.jl:2"
     ]
    }
   ],
   "source": [
    "# show_time_series(wst)\n",
    "get_time_series_array(\n",
    "           Deterministic,\n",
    "           wst,\n",
    "           \"max_active_power\")"
   ]
  },
  {
   "cell_type": "code",
   "execution_count": 42,
   "id": "5270b4b3",
   "metadata": {},
   "outputs": [
    {
     "data": {
      "text/plain": [
       "PowerLoad: STRAWN_LOAD_1:\n",
       "   name: STRAWN_LOAD_1\n",
       "   available: true\n",
       "   bus: ACBus: STRAWN 0\n",
       "   active_power: 0.0371\n",
       "   reactive_power: 0.0105\n",
       "   base_power: 100.0\n",
       "   max_active_power: 0.044410152677346264\n",
       "   max_reactive_power: 0.012568911135097999\n",
       "   services: 0-element Vector{Service}\n",
       "   dynamic_injector: nothing\n",
       "   ext: Dict{String, Any}()\n",
       "   InfrastructureSystems.SystemUnitsSettings:\n",
       "      base_value: 100.0\n",
       "      unit_system: UnitSystem.SYSTEM_BASE = 0\n",
       "   has_supplemental_attributes: false\n",
       "   has_time_series: true"
      ]
     },
     "metadata": {},
     "output_type": "display_data"
    }
   ],
   "source": [
    "strwn = get_component(PowerLoad, sys, \"STRAWN_LOAD_1\")"
   ]
  },
  {
   "cell_type": "code",
   "execution_count": 44,
   "id": "e615fa68",
   "metadata": {},
   "outputs": [
    {
     "data": {
      "text/plain": [
       "1-element Vector{ForecastKey}:\n",
       " ForecastKey(Deterministic, \"max_active_power\", DateTime(\"2018-01-01T00:00:00\"), Hour(1), Hour(36), Millisecond(86400000), 365, Dict{String, Any}())"
      ]
     },
     "metadata": {},
     "output_type": "display_data"
    }
   ],
   "source": [
    "keys = get_time_series_keys(strwn)"
   ]
  },
  {
   "cell_type": "code",
   "execution_count": 45,
   "id": "aeda2357",
   "metadata": {},
   "outputs": [
    {
     "data": {
      "text/plain": [
       "36×1 TimeSeries.TimeArray{Float64, 1, DateTime, Vector{Float64}} 2018-01-01T00:00:00 to 2018-01-02T11:00:00\n",
       "┌─────────────────────┬───────────┐\n",
       "│\u001b[1m                     \u001b[0m│\u001b[1m A         \u001b[0m│\n",
       "├─────────────────────┼───────────┤\n",
       "│ 2018-01-01T00:00:00 │  0.030964 │\n",
       "│ 2018-01-01T01:00:00 │ 0.0306873 │\n",
       "│ 2018-01-01T02:00:00 │ 0.0306399 │\n",
       "│ 2018-01-01T03:00:00 │ 0.0307473 │\n",
       "│ 2018-01-01T04:00:00 │ 0.0309532 │\n",
       "│ 2018-01-01T05:00:00 │ 0.0314438 │\n",
       "│ 2018-01-01T06:00:00 │ 0.0322754 │\n",
       "│ 2018-01-01T07:00:00 │ 0.0331067 │\n",
       "│          ⋮          │     ⋮     │\n",
       "│ 2018-01-02T05:00:00 │ 0.0295742 │\n",
       "│ 2018-01-02T06:00:00 │ 0.0309117 │\n",
       "│ 2018-01-02T07:00:00 │ 0.0326076 │\n",
       "│ 2018-01-02T08:00:00 │ 0.0335296 │\n",
       "│ 2018-01-02T09:00:00 │ 0.0337564 │\n",
       "│ 2018-01-02T10:00:00 │ 0.0340635 │\n",
       "│ 2018-01-02T11:00:00 │ 0.0340543 │\n",
       "└─────────────────────┴───────────┘\n",
       "\u001b[36m                    21 rows omitted\u001b[0m"
      ]
     },
     "metadata": {},
     "output_type": "display_data"
    }
   ],
   "source": [
    "get_time_series_array(\n",
    "           Deterministic,\n",
    "           strwn,\n",
    "           \"max_active_power\")"
   ]
  },
  {
   "cell_type": "code",
   "execution_count": 46,
   "id": "1705f6eb",
   "metadata": {},
   "outputs": [
    {
     "data": {
      "text/plain": [
       "RenewableDispatch: PANHANDLE_4:\n",
       "   name: PANHANDLE_4\n",
       "   available: true\n",
       "   bus: ACBus: PANHANDLE 2 2\n",
       "   active_power: 1.5045\n",
       "   reactive_power: -0.2889\n",
       "   rating: 1.564003049869149\n",
       "   prime_mover_type: PrimeMovers.WT = 22\n",
       "   reactive_power_limits: (min = -0.2889, max = 0.42729999999999996)\n",
       "   power_factor: 1.0\n",
       "   operation_cost: RenewableGenerationCost composed of variable: CostCurve{LinearCurve}, curtailment_cost: CostCurve{LinearCurve}\n",
       "   base_power: 240.72\n",
       "   services: 0-element Vector{Service}\n",
       "   dynamic_injector: nothing\n",
       "   ext: Dict{String, Any}()\n",
       "   InfrastructureSystems.SystemUnitsSettings:\n",
       "      base_value: 100.0\n",
       "      unit_system: UnitSystem.SYSTEM_BASE = 0\n",
       "   has_supplemental_attributes: false\n",
       "   has_time_series: true"
      ]
     },
     "metadata": {},
     "output_type": "display_data"
    }
   ],
   "source": [
    "pan = get_component(RenewableDispatch, sys,\"PANHANDLE_4\")"
   ]
  },
  {
   "cell_type": "code",
   "execution_count": 48,
   "id": "6ab16f68",
   "metadata": {},
   "outputs": [
    {
     "data": {
      "text/plain": [
       "Deterministic(\"max_active_power\", DataStructures.SortedDict(DateTime(\"2018-01-01T00:00:00\") => [0.07870500991606583, 0.07619238787520094, 0.0715106339923655, 0.07334358908152062, 0.07440760482344132, 0.0739716992604595, 0.07198473871172621, 0.06753085004969517, 0.05180361668645528, 0.04652185801663694  …  0.13600864026234602, 0.1217832018968057, 0.09702470881000685, 0.0747417265583503, 0.058129264011051646, 0.04052386516471453, 0.024391914157308476, 0.006340757750379151, 0.004367698793366016, 0.006407727157448462], DateTime(\"2018-01-02T00:00:00\") => [0.15428046932740716, 0.14015016620259527, 0.13600864026234602, 0.1217832018968057, 0.09702470881000685, 0.0747417265583503, 0.058129264011051646, 0.04052386516471453, 0.024391914157308476, 0.006340757750379151  …  0.4503920490631898, 0.44930349398979796, 0.45156117292685566, 0.45733535015208343, 0.46834970215537547, 0.4715545025804981, 0.38856067029365243, 0.23469398486588108, 0.11416585493459364, 0.07482985056151552], DateTime(\"2018-01-03T00:00:00\") => [0.3766237965754699, 0.4298708215744, 0.4503920490631898, 0.44930349398979796, 0.45156117292685566, 0.45733535015208343, 0.46834970215537547, 0.4715545025804981, 0.38856067029365243, 0.23469398486588108  …  0.2920535842292607, 0.2979205394687948, 0.3150682737390229, 0.34994108142778774, 0.38878091985986224, 0.4121450228554257, 0.43221058034430987, 0.37016547971250063, 0.2999148739053101, 0.41645608777295773], DateTime(\"2018-01-04T00:00:00\") => [0.2527609769990307, 0.27252583701483746, 0.2920535842292607, 0.2979205394687948, 0.3150682737390229, 0.34994108142778774, 0.38878091985986224, 0.4121450228554257, 0.43221058034430987, 0.37016547971250063  …  0.2673186029649799, 0.27826441407692104, 0.28690866557533123, 0.2777292632373979, 0.2577737700899155, 0.23427856904026068, 0.17743907053232458, 0.11287693561532192, 0.08705206956018023, 0.06943923638435798], DateTime(\"2018-01-05T00:00:00\") => [0.29972968052691623, 0.2773513212677188, 0.2673186029649799, 0.27826441407692104, 0.28690866557533123, 0.2777292632373979, 0.2577737700899155, 0.23427856904026068, 0.17743907053232458, 0.11287693561532192  …  0.34986184235498285, 0.3066323647913057, 0.23169208723816961, 0.1996581659037715, 0.20341437598655968, 0.20827503731066332, 0.21230655935121392, 0.16185568842253684, 0.1026696012322371, 0.09648176099077975], DateTime(\"2018-01-06T00:00:00\") => [0.3314412058168128, 0.350101131057679, 0.34986184235498285, 0.3066323647913057, 0.23169208723816961, 0.1996581659037715, 0.20341437598655968, 0.20827503731066332, 0.21230655935121392, 0.16185568842253684  …  0.7231740380158972, 0.7101909788582176, 0.7087569994514311, 0.734274519446151, 0.7498876993155824, 0.7591358238699758, 0.739494385811963, 0.6967118746429407, 0.6415502982556283, 0.6325026588305207], DateTime(\"2018-01-07T00:00:00\") => [0.7694671241861828, 0.7376858491708728, 0.7231740380158972, 0.7101909788582176, 0.7087569994514311, 0.734274519446151, 0.7498876993155824, 0.7591358238699758, 0.739494385811963, 0.6967118746429407  …  0.24100820870858564, 0.23960674693808381, 0.23804166947720584, 0.2230401596434617, 0.21079225292096618, 0.1839586752822688, 0.11929016296775534, 0.05762306474732831, 0.0436747515906443, 0.055875272017884954], DateTime(\"2018-01-08T00:00:00\") => [0.31545963376679703, 0.26194660483238674, 0.24100820870858564, 0.23960674693808381, 0.23804166947720584, 0.2230401596434617, 0.21079225292096618, 0.1839586752822688, 0.11929016296775534, 0.05762306474732831  …  0.6548894194864535, 0.7201344247654317, 0.7389958626445373, 0.7445098383377854, 0.739733130539331, 0.7659743190456401, 0.7526468630635192, 0.6273342283540734, 0.5232143888969075, 0.4984080864229319], DateTime(\"2018-01-09T00:00:00\") => [0.5523017772036622, 0.5928449837133788, 0.6548894194864535, 0.7201344247654317, 0.7389958626445373, 0.7445098383377854, 0.739733130539331, 0.7659743190456401, 0.7526468630635192, 0.6273342283540734  …  0.7657047490496752, 0.7574197025929732, 0.7702466408314651, 0.7812235189788157, 0.8241440185560864, 0.8386195042474802, 0.8085405698008591, 0.7473825116042025, 0.731356696227495, 0.7485911643417161], DateTime(\"2018-01-10T00:00:00\") => [0.7387525847894344, 0.7529225376715004, 0.7657047490496752, 0.7574197025929732, 0.7702466408314651, 0.7812235189788157, 0.8241440185560864, 0.8386195042474802, 0.8085405698008591, 0.7473825116042025  …  0.6978567613836507, 0.7433591491935747, 0.7668733893797159, 0.7256988088390915, 0.7150625196888848, 0.7844298908882199, 0.8508320525736441, 0.8551757560108669, 0.8441473210907455, 0.853288463830597]…), Hour(1), PowerSystems.get_max_active_power, InfrastructureSystems.InfrastructureSystemsInternal(Base.UUID(\"096f8276-e0d2-41d9-9134-8ace37f56bc5\"), nothing, nothing, nothing))"
      ]
     },
     "metadata": {},
     "output_type": "display_data"
    }
   ],
   "source": [
    "get_time_series(Deterministic, pan, \"max_active_power\")"
   ]
  },
  {
   "cell_type": "code",
   "execution_count": 19,
   "id": "babc68f8",
   "metadata": {},
   "outputs": [
    {
     "data": {
      "text/plain": [
       "1-element Vector{ForecastKey}:\n",
       " ForecastKey(Deterministic, \"max_active_power\", Dates.DateTime(\"2018-01-01T00:00:00\"), Dates.Hour(1), Dates.Hour(36), Dates.Millisecond(86400000), 365, Dict{String, Any}())"
      ]
     },
     "metadata": {},
     "output_type": "display_data"
    }
   ],
   "source": [
    "keys = get_time_series_keys(pan)"
   ]
  },
  {
   "cell_type": "code",
   "execution_count": 22,
   "id": "c6be5fa5",
   "metadata": {},
   "outputs": [
    {
     "data": {
      "text/plain": [
       "Deterministic(\"max_active_power\", DataStructures.SortedDict(Dates.DateTime(\"2018-01-01T00:00:00\") => [0.07870500991606583, 0.07619238787520094, 0.0715106339923655, 0.07334358908152062, 0.07440760482344132, 0.0739716992604595, 0.07198473871172621, 0.06753085004969517, 0.05180361668645528, 0.04652185801663694  …  0.13600864026234602, 0.1217832018968057, 0.09702470881000685, 0.0747417265583503, 0.058129264011051646, 0.04052386516471453, 0.024391914157308476, 0.006340757750379151, 0.004367698793366016, 0.006407727157448462], Dates.DateTime(\"2018-01-02T00:00:00\") => [0.15428046932740716, 0.14015016620259527, 0.13600864026234602, 0.1217832018968057, 0.09702470881000685, 0.0747417265583503, 0.058129264011051646, 0.04052386516471453, 0.024391914157308476, 0.006340757750379151  …  0.4503920490631898, 0.44930349398979796, 0.45156117292685566, 0.45733535015208343, 0.46834970215537547, 0.4715545025804981, 0.38856067029365243, 0.23469398486588108, 0.11416585493459364, 0.07482985056151552], Dates.DateTime(\"2018-01-03T00:00:00\") => [0.3766237965754699, 0.4298708215744, 0.4503920490631898, 0.44930349398979796, 0.45156117292685566, 0.45733535015208343, 0.46834970215537547, 0.4715545025804981, 0.38856067029365243, 0.23469398486588108  …  0.2920535842292607, 0.2979205394687948, 0.3150682737390229, 0.34994108142778774, 0.38878091985986224, 0.4121450228554257, 0.43221058034430987, 0.37016547971250063, 0.2999148739053101, 0.41645608777295773], Dates.DateTime(\"2018-01-04T00:00:00\") => [0.2527609769990307, 0.27252583701483746, 0.2920535842292607, 0.2979205394687948, 0.3150682737390229, 0.34994108142778774, 0.38878091985986224, 0.4121450228554257, 0.43221058034430987, 0.37016547971250063  …  0.2673186029649799, 0.27826441407692104, 0.28690866557533123, 0.2777292632373979, 0.2577737700899155, 0.23427856904026068, 0.17743907053232458, 0.11287693561532192, 0.08705206956018023, 0.06943923638435798], Dates.DateTime(\"2018-01-05T00:00:00\") => [0.29972968052691623, 0.2773513212677188, 0.2673186029649799, 0.27826441407692104, 0.28690866557533123, 0.2777292632373979, 0.2577737700899155, 0.23427856904026068, 0.17743907053232458, 0.11287693561532192  …  0.34986184235498285, 0.3066323647913057, 0.23169208723816961, 0.1996581659037715, 0.20341437598655968, 0.20827503731066332, 0.21230655935121392, 0.16185568842253684, 0.1026696012322371, 0.09648176099077975], Dates.DateTime(\"2018-01-06T00:00:00\") => [0.3314412058168128, 0.350101131057679, 0.34986184235498285, 0.3066323647913057, 0.23169208723816961, 0.1996581659037715, 0.20341437598655968, 0.20827503731066332, 0.21230655935121392, 0.16185568842253684  …  0.7231740380158972, 0.7101909788582176, 0.7087569994514311, 0.734274519446151, 0.7498876993155824, 0.7591358238699758, 0.739494385811963, 0.6967118746429407, 0.6415502982556283, 0.6325026588305207], Dates.DateTime(\"2018-01-07T00:00:00\") => [0.7694671241861828, 0.7376858491708728, 0.7231740380158972, 0.7101909788582176, 0.7087569994514311, 0.734274519446151, 0.7498876993155824, 0.7591358238699758, 0.739494385811963, 0.6967118746429407  …  0.24100820870858564, 0.23960674693808381, 0.23804166947720584, 0.2230401596434617, 0.21079225292096618, 0.1839586752822688, 0.11929016296775534, 0.05762306474732831, 0.0436747515906443, 0.055875272017884954], Dates.DateTime(\"2018-01-08T00:00:00\") => [0.31545963376679703, 0.26194660483238674, 0.24100820870858564, 0.23960674693808381, 0.23804166947720584, 0.2230401596434617, 0.21079225292096618, 0.1839586752822688, 0.11929016296775534, 0.05762306474732831  …  0.6548894194864535, 0.7201344247654317, 0.7389958626445373, 0.7445098383377854, 0.739733130539331, 0.7659743190456401, 0.7526468630635192, 0.6273342283540734, 0.5232143888969075, 0.4984080864229319], Dates.DateTime(\"2018-01-09T00:00:00\") => [0.5523017772036622, 0.5928449837133788, 0.6548894194864535, 0.7201344247654317, 0.7389958626445373, 0.7445098383377854, 0.739733130539331, 0.7659743190456401, 0.7526468630635192, 0.6273342283540734  …  0.7657047490496752, 0.7574197025929732, 0.7702466408314651, 0.7812235189788157, 0.8241440185560864, 0.8386195042474802, 0.8085405698008591, 0.7473825116042025, 0.731356696227495, 0.7485911643417161], Dates.DateTime(\"2018-01-10T00:00:00\") => [0.7387525847894344, 0.7529225376715004, 0.7657047490496752, 0.7574197025929732, 0.7702466408314651, 0.7812235189788157, 0.8241440185560864, 0.8386195042474802, 0.8085405698008591, 0.7473825116042025  …  0.6978567613836507, 0.7433591491935747, 0.7668733893797159, 0.7256988088390915, 0.7150625196888848, 0.7844298908882199, 0.8508320525736441, 0.8551757560108669, 0.8441473210907455, 0.853288463830597]…), Dates.Hour(1), PowerSystems.get_max_active_power, InfrastructureSystems.InfrastructureSystemsInternal(Base.UUID(\"096f8276-e0d2-41d9-9134-8ace37f56bc5\"), nothing, nothing, nothing))"
      ]
     },
     "metadata": {},
     "output_type": "display_data"
    }
   ],
   "source": [
    "forecast = get_time_series(pan, keys[1])"
   ]
  },
  {
   "cell_type": "code",
   "execution_count": 32,
   "id": "4a2a2d75",
   "metadata": {},
   "outputs": [
    {
     "data": {
      "text/plain": [
       "36×1 TimeSeries.TimeArray{Float64, 1, DateTime, Vector{Float64}} 2018-01-01T00:00:00 to 2018-01-02T11:00:00\n",
       "┌─────────────────────┬────────────┐\n",
       "│\u001b[1m                     \u001b[0m│\u001b[1m A          \u001b[0m│\n",
       "├─────────────────────┼────────────┤\n",
       "│ 2018-01-01T00:00:00 │   0.123095 │\n",
       "│ 2018-01-01T01:00:00 │   0.119165 │\n",
       "│ 2018-01-01T02:00:00 │   0.111843 │\n",
       "│ 2018-01-01T03:00:00 │    0.11471 │\n",
       "│ 2018-01-01T04:00:00 │   0.116374 │\n",
       "│ 2018-01-01T05:00:00 │   0.115692 │\n",
       "│ 2018-01-01T06:00:00 │   0.112584 │\n",
       "│ 2018-01-01T07:00:00 │   0.105618 │\n",
       "│          ⋮          │     ⋮      │\n",
       "│ 2018-01-02T05:00:00 │   0.116896 │\n",
       "│ 2018-01-02T06:00:00 │  0.0909143 │\n",
       "│ 2018-01-02T07:00:00 │  0.0633794 │\n",
       "│ 2018-01-02T08:00:00 │   0.038149 │\n",
       "│ 2018-01-02T09:00:00 │ 0.00991696 │\n",
       "│ 2018-01-02T10:00:00 │ 0.00683109 │\n",
       "│ 2018-01-02T11:00:00 │  0.0100217 │\n",
       "└─────────────────────┴────────────┘\n",
       "\u001b[36m                     21 rows omitted\u001b[0m"
      ]
     },
     "metadata": {},
     "output_type": "display_data"
    }
   ],
   "source": [
    "get_time_series_array(\n",
    "           Deterministic,\n",
    "           pan,\n",
    "           \"max_active_power\")"
   ]
  },
  {
   "cell_type": "code",
   "execution_count": null,
   "id": "c3fd83bf",
   "metadata": {},
   "outputs": [],
   "source": [
    "# for window in iterate_windows(forecast)\n",
    "#     @show values(maximum(window))\n",
    "# end"
   ]
  },
  {
   "cell_type": "code",
   "execution_count": null,
   "id": "1fb42f28",
   "metadata": {},
   "outputs": [],
   "source": []
  }
 ],
 "metadata": {
  "kernelspec": {
   "display_name": "Julia 1.10.2",
   "language": "julia",
   "name": "julia-1.10"
  },
  "language_info": {
   "file_extension": ".jl",
   "mimetype": "application/julia",
   "name": "julia",
   "version": "1.10.2"
  }
 },
 "nbformat": 4,
 "nbformat_minor": 5
}
