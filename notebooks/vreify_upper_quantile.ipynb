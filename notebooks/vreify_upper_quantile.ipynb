{
 "cells": [
  {
   "cell_type": "code",
   "execution_count": 1,
   "metadata": {},
   "outputs": [],
   "source": [
    "using PowerSystems, PowerSimulations, InfrastructureSystems, HydroPowerSimulations, PowerSystemCaseBuilder, SiennaPRASInterface, PRASCore\n",
    "const PSI = PowerSimulations\n",
    "const PSY = PowerSystems\n",
    "\n",
    "using CSV, DataFrames, Dates, TimeSeries, DataStructures, JSON, Random, Glob, Printf, Base.Iterators\n",
    "\n",
    "using Statistics, Distributions, ExpectationMaximization\n"
   ]
  },
  {
   "cell_type": "code",
   "execution_count": 40,
   "metadata": {},
   "outputs": [
    {
     "data": {
      "text/plain": [
       "100-element Vector{String}:\n",
       " \"medians_1.json\"\n",
       " \"medians_10.json\"\n",
       " \"medians_100.json\"\n",
       " \"medians_11.json\"\n",
       " \"medians_12.json\"\n",
       " \"medians_13.json\"\n",
       " \"medians_14.json\"\n",
       " \"medians_15.json\"\n",
       " \"medians_16.json\"\n",
       " \"medians_17.json\"\n",
       " ⋮\n",
       " \"medians_91.json\"\n",
       " \"medians_92.json\"\n",
       " \"medians_93.json\"\n",
       " \"medians_94.json\"\n",
       " \"medians_95.json\"\n",
       " \"medians_96.json\"\n",
       " \"medians_97.json\"\n",
       " \"medians_98.json\"\n",
       " \"medians_99.json\""
      ]
     },
     "metadata": {},
     "output_type": "display_data"
    }
   ],
   "source": [
    "readdir(joinpath(\"/projects\", \"emco4286\", \"data\", \"scenarios\", \"median\"))"
   ]
  },
  {
   "cell_type": "code",
   "execution_count": 41,
   "metadata": {},
   "outputs": [
    {
     "name": "stdout",
     "output_type": "stream",
     "text": [
      "109\n",
      "101\n",
      "100\n",
      "112\n"
     ]
    }
   ],
   "source": [
    "data_directory = joinpath(\"/projects\", \"emco4286\", \"data\", \"gads\", \"trajectories\", \"synthetic\")\n",
    "\n",
    "for (k, n) in zip([\"st\", \"cc\", \"ct\", \"gt\"], [\"21\",\"17\",\"13\",\"17\"])\n",
    "\n",
    "    pattern = Regex(@sprintf \"/projects/emco4286/data/gads/trajectories/synthetic/%s/synthetic_(.*)_seed_(.*)_outages_%s_unique_(.*).csv\" k n)\n",
    "    files = glob(\"*.csv\", joinpath(data_directory, k))\n",
    "    out = filter(!isnothing, [match(pattern, f) for f in files])\n",
    "    @printf(\"%i\\n\", length(out))\n",
    "end"
   ]
  },
  {
   "cell_type": "code",
   "execution_count": 5,
   "metadata": {},
   "outputs": [
    {
     "name": "stdout",
     "output_type": "stream",
     "text": [
      "325\n",
      "162\n",
      "503\n",
      "371\n"
     ]
    }
   ],
   "source": [
    "data_directory = joinpath(\"/projects\", \"emco4286\", \"data\", \"gads\", \"trajectories\", \"synthetic\")\n",
    "\n",
    "for (k, n) in zip([\"st\", \"cc\", \"ct\", \"gt\"], [\"7\",\"7\",\"5\",\"4\"])\n",
    "\n",
    "    pattern = Regex(@sprintf \"/projects/emco4286/data/gads/trajectories/synthetic/%s/synthetic_(.*)_seed_(.*)_outages_%s_unique_(.*).csv\" k n)\n",
    "    files = glob(\"*.csv\", joinpath(data_directory, k))\n",
    "    out = filter(!isnothing, [match(pattern, f) for f in files])\n",
    "    @printf(\"%i\\n\", length(out))\n",
    "end"
   ]
  },
  {
   "cell_type": "code",
   "execution_count": null,
   "metadata": {},
   "outputs": [],
   "source": []
  }
 ],
 "metadata": {
  "kernelspec": {
   "display_name": "Julia 1.10.2",
   "language": "julia",
   "name": "julia-1.10"
  },
  "language_info": {
   "file_extension": ".jl",
   "mimetype": "application/julia",
   "name": "julia",
   "version": "1.10.2"
  },
  "orig_nbformat": 4
 },
 "nbformat": 4,
 "nbformat_minor": 2
}
