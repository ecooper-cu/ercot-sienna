{
 "cells": [
  {
   "cell_type": "code",
   "execution_count": 1,
   "metadata": {},
   "outputs": [],
   "source": [
    "using PowerSystems, PowerSimulations, HydroPowerSimulations, PowerSystemCaseBuilder, InfrastructureSystems\n",
    "const PSI = PowerSimulations\n",
    "const IS = InfrastructureSystems\n",
    "const PSY = PowerSystems\n",
    "using Dates, Plots, Gurobi, JuMP"
   ]
  },
  {
   "cell_type": "code",
   "execution_count": 9,
   "metadata": {},
   "outputs": [
    {
     "name": "stderr",
     "output_type": "stream",
     "text": [
      "┌ Info: Loading simulation results from /projects/emco4286/data/sienna_data/output/ercot/scenarios/testing_4\n",
      "└ @ PowerSimulations /projects/emco4286/.julia/packages/PowerSimulations/89s3Q/src/simulation/simulation_results.jl:87\n"
     ]
    },
    {
     "ename": "ErrorException",
     "evalue": "run status file /projects/emco4286/data/sienna_data/output/ercot/scenarios/testing_4/results/status.json does not exist",
     "output_type": "error",
     "traceback": [
      "run status file /projects/emco4286/data/sienna_data/output/ercot/scenarios/testing_4/results/status.json does not exist\n",
      "\n",
      "Stacktrace:\n",
      " [1] error(s::String)\n",
      "   @ Base ./error.jl:35\n",
      " [2] deserialize_status(results_path::String)\n",
      "   @ PowerSimulations /projects/emco4286/.julia/packages/PowerSimulations/89s3Q/src/simulation/simulation.jl:1268\n",
      " [3] SimulationResults(path::String, name::String, execution::Nothing; ignore_status::Bool)\n",
      "   @ PowerSimulations /projects/emco4286/.julia/packages/PowerSimulations/89s3Q/src/simulation/simulation_results.jl:88\n",
      " [4] SimulationResults\n",
      "   @ /projects/emco4286/.julia/packages/PowerSimulations/89s3Q/src/simulation/simulation_results.jl:69 [inlined]\n",
      " [5] SimulationResults(path::String, name::String)\n",
      "   @ PowerSimulations /projects/emco4286/.julia/packages/PowerSimulations/89s3Q/src/simulation/simulation_results.jl:69\n",
      " [6] top-level scope\n",
      "   @ ~/ercot-sienna/notebooks/read_test_simulation_results copy.ipynb:1"
     ]
    }
   ],
   "source": [
    "test_solutions = SimulationResults(\"/projects/emco4286/data/sienna_data/output/ercot/scenarios\", \"testing_4\")\n",
    "# baseline_solutions = SimulationResults(\"/projects/emco4286/data/sienna_data/output/ercot/baseline\", \"uc_only_gurobi\")\n",
    "# baseline_solutions = SimulationResults(\"/projects/emco4286/data/sienna_data/output/ercot/scenarios\", \"functionality_test\")"
   ]
  },
  {
   "cell_type": "code",
   "execution_count": 3,
   "metadata": {},
   "outputs": [
    {
     "data": {
      "text/html": [
       "<p> Start: 2018-01-01T00:00:00</p>\n",
       "<p> End: 2018-12-31T00:00:00</p>\n",
       "<p> Resolution: 60 minutes</p>\n",
       "\n",
       "<table>\n",
       "  <caption style = \"text-align: left;\">UC Problem Auxiliary variables Results</caption>\n",
       "  <tbody>\n",
       "    <tr>\n",
       "      <td style = \"text-align: left;\">TimeDurationOff__ThermalStandard</td>\n",
       "    </tr>\n",
       "    <tr>\n",
       "      <td style = \"text-align: left;\">TimeDurationOff__ThermalMultiStart</td>\n",
       "    </tr>\n",
       "    <tr>\n",
       "      <td style = \"text-align: left;\">TimeDurationOn__ThermalMultiStart</td>\n",
       "    </tr>\n",
       "    <tr>\n",
       "      <td style = \"text-align: left;\">TimeDurationOn__ThermalStandard</td>\n",
       "    </tr>\n",
       "  </tbody>\n",
       "</table>\n",
       "\n",
       "<table>\n",
       "  <caption style = \"text-align: left;\">UC Problem Expressions Results</caption>\n",
       "  <tbody>\n",
       "    <tr>\n",
       "      <td style = \"text-align: left;\">ProductionCostExpression__ThermalMultiStart</td>\n",
       "    </tr>\n",
       "    <tr>\n",
       "      <td style = \"text-align: left;\">ActivePowerBalance__System</td>\n",
       "    </tr>\n",
       "    <tr>\n",
       "      <td style = \"text-align: left;\">ProductionCostExpression__RenewableDispatch</td>\n",
       "    </tr>\n",
       "    <tr>\n",
       "      <td style = \"text-align: left;\">ProductionCostExpression__ThermalStandard</td>\n",
       "    </tr>\n",
       "  </tbody>\n",
       "</table>\n",
       "\n",
       "<table>\n",
       "  <caption style = \"text-align: left;\">UC Problem Parameters Results</caption>\n",
       "  <tbody>\n",
       "    <tr>\n",
       "      <td style = \"text-align: left;\">ActivePowerTimeSeriesParameter__PowerLoad</td>\n",
       "    </tr>\n",
       "    <tr>\n",
       "      <td style = \"text-align: left;\">RequirementTimeSeriesParameter__VariableReserve__ReserveUp__SPIN</td>\n",
       "    </tr>\n",
       "    <tr>\n",
       "      <td style = \"text-align: left;\">RequirementTimeSeriesParameter__VariableReserve__ReserveUp__REG_UP</td>\n",
       "    </tr>\n",
       "    <tr>\n",
       "      <td style = \"text-align: left;\">ActivePowerTimeSeriesParameter__RenewableDispatch</td>\n",
       "    </tr>\n",
       "    <tr>\n",
       "      <td style = \"text-align: left;\">RequirementTimeSeriesParameter__VariableReserve__ReserveDown__REG_DN</td>\n",
       "    </tr>\n",
       "  </tbody>\n",
       "</table>\n",
       "\n",
       "<table>\n",
       "  <caption style = \"text-align: left;\">UC Problem Variables Results</caption>\n",
       "  <tbody>\n",
       "    <tr>\n",
       "      <td style = \"text-align: left;\">ActivePowerReserveVariable__VariableReserve__ReserveUp__SPIN</td>\n",
       "    </tr>\n",
       "    <tr>\n",
       "      <td style = \"text-align: left;\">OnVariable__ThermalStandard</td>\n",
       "    </tr>\n",
       "    <tr>\n",
       "      <td style = \"text-align: left;\">ActivePowerVariable__ThermalStandard</td>\n",
       "    </tr>\n",
       "    <tr>\n",
       "      <td style = \"text-align: left;\">ActivePowerReserveVariable__VariableReserve__ReserveDown__REG_DN</td>\n",
       "    </tr>\n",
       "    <tr>\n",
       "      <td style = \"text-align: left;\">ActivePowerReserveVariable__VariableReserve__ReserveUp__REG_UP</td>\n",
       "    </tr>\n",
       "    <tr>\n",
       "      <td style = \"text-align: left;\">ActivePowerVariable__RenewableDispatch</td>\n",
       "    </tr>\n",
       "    <tr>\n",
       "      <td style = \"text-align: left;\">OnVariable__ThermalMultiStart</td>\n",
       "    </tr>\n",
       "    <tr>\n",
       "      <td style = \"text-align: left;\">StartVariable__ThermalStandard</td>\n",
       "    </tr>\n",
       "    <tr>\n",
       "      <td style = \"text-align: left;\">StopVariable__ThermalStandard</td>\n",
       "    </tr>\n",
       "    <tr>\n",
       "      <td style = \"text-align: left;\">ActivePowerVariable__ThermalMultiStart</td>\n",
       "    </tr>\n",
       "    <tr>\n",
       "      <td style = \"text-align: left;\">StopVariable__ThermalMultiStart</td>\n",
       "    </tr>\n",
       "    <tr>\n",
       "      <td style = \"text-align: left;\">StartVariable__ThermalMultiStart</td>\n",
       "    </tr>\n",
       "  </tbody>\n",
       "</table>\n"
      ],
      "text/plain": [
       "Start: 2018-01-01T00:00:00\n",
       "End: 2018-12-31T00:00:00\n",
       "Resolution: 60 minutes\n",
       "\n",
       "\u001b[1mUC Problem Auxiliary variables Results\u001b[0m\n",
       "┌────────────────────────────────────┐\n",
       "│ TimeDurationOff__ThermalStandard   │\n",
       "│ TimeDurationOff__ThermalMultiStart │\n",
       "│ TimeDurationOn__ThermalMultiStart  │\n",
       "│ TimeDurationOn__ThermalStandard    │\n",
       "└────────────────────────────────────┘\n",
       "\n",
       "\u001b[1mUC Problem Expressions Results\u001b[0m\n",
       "┌─────────────────────────────────────────────┐\n",
       "│ ProductionCostExpression__ThermalMultiStart │\n",
       "│ ActivePowerBalance__System                  │\n",
       "│ ProductionCostExpression__RenewableDispatch │\n",
       "│ ProductionCostExpression__ThermalStandard   │\n",
       "└─────────────────────────────────────────────┘\n",
       "\n",
       "\u001b[1mUC Problem Parameters Results\u001b[0m\n",
       "┌──────────────────────────────────────────────────────────────────────┐\n",
       "│ ActivePowerTimeSeriesParameter__PowerLoad                            │\n",
       "│ RequirementTimeSeriesParameter__VariableReserve__ReserveUp__SPIN     │\n",
       "│ RequirementTimeSeriesParameter__VariableReserve__ReserveUp__REG_UP   │\n",
       "│ ActivePowerTimeSeriesParameter__RenewableDispatch                    │\n",
       "│ RequirementTimeSeriesParameter__VariableReserve__ReserveDown__REG_DN │\n",
       "└──────────────────────────────────────────────────────────────────────┘\n",
       "\n",
       "\u001b[1mUC Problem Variables Results\u001b[0m\n",
       "┌──────────────────────────────────────────────────────────────────┐\n",
       "│ ActivePowerReserveVariable__VariableReserve__ReserveUp__SPIN     │\n",
       "│ OnVariable__ThermalStandard                                      │\n",
       "│ ActivePowerVariable__ThermalStandard                             │\n",
       "│ ActivePowerReserveVariable__VariableReserve__ReserveDown__REG_DN │\n",
       "│ ActivePowerReserveVariable__VariableReserve__ReserveUp__REG_UP   │\n",
       "│ ActivePowerVariable__RenewableDispatch                           │\n",
       "│ OnVariable__ThermalMultiStart                                    │\n",
       "│ StartVariable__ThermalStandard                                   │\n",
       "│ StopVariable__ThermalStandard                                    │\n",
       "│ ActivePowerVariable__ThermalMultiStart                           │\n",
       "│ StopVariable__ThermalMultiStart                                  │\n",
       "│ StartVariable__ThermalMultiStart                                 │\n",
       "└──────────────────────────────────────────────────────────────────┘\n"
      ]
     },
     "metadata": {},
     "output_type": "display_data"
    }
   ],
   "source": [
    "results = get_decision_problem_results(baseline_solutions, \"UC\")\n",
    "# baseline_results = get_decision_problem_results(baseline_solutions, \"UC\")"
   ]
  },
  {
   "cell_type": "code",
   "execution_count": 75,
   "metadata": {},
   "outputs": [
    {
     "data": {
      "text/plain": [
       "PowerSimulations.SimulationProblemResults{PowerSimulations.DecisionModelSimulationResults}"
      ]
     },
     "metadata": {},
     "output_type": "display_data"
    }
   ],
   "source": [
    "typeof(test_results)"
   ]
  },
  {
   "cell_type": "code",
   "execution_count": 66,
   "metadata": {},
   "outputs": [
    {
     "data": {
      "text/plain": [
       "(:problem, :base_power, :execution_path, :results_output_folder, :timestamps, :results_timestamps, :values, :system, :system_uuid, :resolution, :store)"
      ]
     },
     "metadata": {},
     "output_type": "display_data"
    }
   ],
   "source": [
    "fieldnames(typeof(test_results))"
   ]
  },
  {
   "cell_type": "code",
   "execution_count": 76,
   "metadata": {},
   "outputs": [
    {
     "data": {
      "text/html": [
       "14-element Vector{Method}:<ul><li> empty!(res::<b>PowerSimulations.SimulationProblemResults{PowerSimulations.DecisionModelSimulationResults}</b>) in PowerSimulations at <a href=\"file:///projects/emco4286/.julia/packages/PowerSimulations/89s3Q/src/simulation/decision_model_simulation_results.jl\" target=\"_blank\">/projects/emco4286/.julia/packages/PowerSimulations/89s3Q/src/simulation/decision_model_simulation_results.jl:55</a><li> isempty(res::<b>PowerSimulations.SimulationProblemResults{PowerSimulations.DecisionModelSimulationResults}</b>) in PowerSimulations at <a href=\"file:///projects/emco4286/.julia/packages/PowerSimulations/89s3Q/src/simulation/decision_model_simulation_results.jl\" target=\"_blank\">/projects/emco4286/.julia/packages/PowerSimulations/89s3Q/src/simulation/decision_model_simulation_results.jl:60</a><li> length(res::<b>PowerSimulations.SimulationProblemResults{PowerSimulations.DecisionModelSimulationResults}</b>) in PowerSimulations at <a href=\"file:///projects/emco4286/.julia/packages/PowerSimulations/89s3Q/src/simulation/decision_model_simulation_results.jl\" target=\"_blank\">/projects/emco4286/.julia/packages/PowerSimulations/89s3Q/src/simulation/decision_model_simulation_results.jl:65</a><li> list_aux_variable_keys(res::<b>PowerSimulations.SimulationProblemResults{PowerSimulations.DecisionModelSimulationResults}</b>) in PowerSimulations at <a href=\"file:///projects/emco4286/.julia/packages/PowerSimulations/89s3Q/src/simulation/decision_model_simulation_results.jl\" target=\"_blank\">/projects/emco4286/.julia/packages/PowerSimulations/89s3Q/src/simulation/decision_model_simulation_results.jl:69</a><li> list_dual_keys(res::<b>PowerSimulations.SimulationProblemResults{PowerSimulations.DecisionModelSimulationResults}</b>) in PowerSimulations at <a href=\"file:///projects/emco4286/.julia/packages/PowerSimulations/89s3Q/src/simulation/decision_model_simulation_results.jl\" target=\"_blank\">/projects/emco4286/.julia/packages/PowerSimulations/89s3Q/src/simulation/decision_model_simulation_results.jl:71</a><li> list_expression_keys(res::<b>PowerSimulations.SimulationProblemResults{PowerSimulations.DecisionModelSimulationResults}</b>) in PowerSimulations at <a href=\"file:///projects/emco4286/.julia/packages/PowerSimulations/89s3Q/src/simulation/decision_model_simulation_results.jl\" target=\"_blank\">/projects/emco4286/.julia/packages/PowerSimulations/89s3Q/src/simulation/decision_model_simulation_results.jl:73</a><li> list_parameter_keys(res::<b>PowerSimulations.SimulationProblemResults{PowerSimulations.DecisionModelSimulationResults}</b>) in PowerSimulations at <a href=\"file:///projects/emco4286/.julia/packages/PowerSimulations/89s3Q/src/simulation/decision_model_simulation_results.jl\" target=\"_blank\">/projects/emco4286/.julia/packages/PowerSimulations/89s3Q/src/simulation/decision_model_simulation_results.jl:75</a><li> list_variable_keys(res::<b>PowerSimulations.SimulationProblemResults{PowerSimulations.DecisionModelSimulationResults}</b>) in PowerSimulations at <a href=\"file:///projects/emco4286/.julia/packages/PowerSimulations/89s3Q/src/simulation/decision_model_simulation_results.jl\" target=\"_blank\">/projects/emco4286/.julia/packages/PowerSimulations/89s3Q/src/simulation/decision_model_simulation_results.jl:77</a><li> load_results!(res::<b>PowerSimulations.SimulationProblemResults{PowerSimulations.DecisionModelSimulationResults}</b>, count::<b>Int64</b>; <i>initial_time, variables, duals, parameters, aux_variables, expressions, store</i>) in PowerSimulations at <a href=\"file:///projects/emco4286/.julia/packages/PowerSimulations/89s3Q/src/simulation/decision_model_simulation_results.jl\" target=\"_blank\">/projects/emco4286/.julia/packages/PowerSimulations/89s3Q/src/simulation/decision_model_simulation_results.jl:584</a><li> read_aux_variable(res::<b>PowerSimulations.SimulationProblemResults{PowerSimulations.DecisionModelSimulationResults}</b>, args...; <i>initial_time, count, store</i>) in PowerSimulations at <a href=\"file:///projects/emco4286/.julia/packages/PowerSimulations/89s3Q/src/simulation/decision_model_simulation_results.jl\" target=\"_blank\">/projects/emco4286/.julia/packages/PowerSimulations/89s3Q/src/simulation/decision_model_simulation_results.jl:403</a><li> read_dual(res::<b>PowerSimulations.SimulationProblemResults{PowerSimulations.DecisionModelSimulationResults}</b>, args...; <i>initial_time, count, store</i>) in PowerSimulations at <a href=\"file:///projects/emco4286/.julia/packages/PowerSimulations/89s3Q/src/simulation/decision_model_simulation_results.jl\" target=\"_blank\">/projects/emco4286/.julia/packages/PowerSimulations/89s3Q/src/simulation/decision_model_simulation_results.jl:355</a><li> read_expression(res::<b>PowerSimulations.SimulationProblemResults{PowerSimulations.DecisionModelSimulationResults}</b>, args...; <i>initial_time, count, store</i>) in PowerSimulations at <a href=\"file:///projects/emco4286/.julia/packages/PowerSimulations/89s3Q/src/simulation/decision_model_simulation_results.jl\" target=\"_blank\">/projects/emco4286/.julia/packages/PowerSimulations/89s3Q/src/simulation/decision_model_simulation_results.jl:427</a><li> read_parameter(res::<b>PowerSimulations.SimulationProblemResults{PowerSimulations.DecisionModelSimulationResults}</b>, args...; <i>initial_time, count, store</i>) in PowerSimulations at <a href=\"file:///projects/emco4286/.julia/packages/PowerSimulations/89s3Q/src/simulation/decision_model_simulation_results.jl\" target=\"_blank\">/projects/emco4286/.julia/packages/PowerSimulations/89s3Q/src/simulation/decision_model_simulation_results.jl:379</a><li> read_variable(res::<b>PowerSimulations.SimulationProblemResults{PowerSimulations.DecisionModelSimulationResults}</b>, args...; <i>initial_time, count, store</i>) in PowerSimulations at <a href=\"file:///projects/emco4286/.julia/packages/PowerSimulations/89s3Q/src/simulation/decision_model_simulation_results.jl\" target=\"_blank\">/projects/emco4286/.julia/packages/PowerSimulations/89s3Q/src/simulation/decision_model_simulation_results.jl:332</a></ul>"
      ],
      "text/plain": [
       "[1] empty!(\u001b[90mres\u001b[39m::\u001b[1mPowerSimulations.SimulationProblemResults\u001b[22m\u001b[0m{PowerSimulations.DecisionModelSimulationResults})\u001b[90m @\u001b[39m \u001b[90mPowerSimulations\u001b[39m \u001b[90m/projects/emco4286/.julia/packages/PowerSimulations/89s3Q/src/simulation/\u001b[39m\u001b[90m\u001b[4mdecision_model_simulation_results.jl:55\u001b[24m\u001b[39m\n",
       "[2] isempty(\u001b[90mres\u001b[39m::\u001b[1mPowerSimulations.SimulationProblemResults\u001b[22m\u001b[0m{PowerSimulations.DecisionModelSimulationResults})\u001b[90m @\u001b[39m \u001b[90mPowerSimulations\u001b[39m \u001b[90m/projects/emco4286/.julia/packages/PowerSimulations/89s3Q/src/simulation/\u001b[39m\u001b[90m\u001b[4mdecision_model_simulation_results.jl:60\u001b[24m\u001b[39m\n",
       "[3] length(\u001b[90mres\u001b[39m::\u001b[1mPowerSimulations.SimulationProblemResults\u001b[22m\u001b[0m{PowerSimulations.DecisionModelSimulationResults})\u001b[90m @\u001b[39m \u001b[90mPowerSimulations\u001b[39m \u001b[90m/projects/emco4286/.julia/packages/PowerSimulations/89s3Q/src/simulation/\u001b[39m\u001b[90m\u001b[4mdecision_model_simulation_results.jl:65\u001b[24m\u001b[39m\n",
       "[4] list_aux_variable_keys(\u001b[90mres\u001b[39m::\u001b[1mPowerSimulations.SimulationProblemResults\u001b[22m\u001b[0m{PowerSimulations.DecisionModelSimulationResults})\u001b[90m @\u001b[39m \u001b[90mPowerSimulations\u001b[39m \u001b[90m/projects/emco4286/.julia/packages/PowerSimulations/89s3Q/src/simulation/\u001b[39m\u001b[90m\u001b[4mdecision_model_simulation_results.jl:69\u001b[24m\u001b[39m\n",
       "[5] list_dual_keys(\u001b[90mres\u001b[39m::\u001b[1mPowerSimulations.SimulationProblemResults\u001b[22m\u001b[0m{PowerSimulations.DecisionModelSimulationResults})\u001b[90m @\u001b[39m \u001b[90mPowerSimulations\u001b[39m \u001b[90m/projects/emco4286/.julia/packages/PowerSimulations/89s3Q/src/simulation/\u001b[39m\u001b[90m\u001b[4mdecision_model_simulation_results.jl:71\u001b[24m\u001b[39m\n",
       "[6] list_expression_keys(\u001b[90mres\u001b[39m::\u001b[1mPowerSimulations.SimulationProblemResults\u001b[22m\u001b[0m{PowerSimulations.DecisionModelSimulationResults})\u001b[90m @\u001b[39m \u001b[90mPowerSimulations\u001b[39m \u001b[90m/projects/emco4286/.julia/packages/PowerSimulations/89s3Q/src/simulation/\u001b[39m\u001b[90m\u001b[4mdecision_model_simulation_results.jl:73\u001b[24m\u001b[39m\n",
       "[7] list_parameter_keys(\u001b[90mres\u001b[39m::\u001b[1mPowerSimulations.SimulationProblemResults\u001b[22m\u001b[0m{PowerSimulations.DecisionModelSimulationResults})\u001b[90m @\u001b[39m \u001b[90mPowerSimulations\u001b[39m \u001b[90m/projects/emco4286/.julia/packages/PowerSimulations/89s3Q/src/simulation/\u001b[39m\u001b[90m\u001b[4mdecision_model_simulation_results.jl:75\u001b[24m\u001b[39m\n",
       "[8] list_variable_keys(\u001b[90mres\u001b[39m::\u001b[1mPowerSimulations.SimulationProblemResults\u001b[22m\u001b[0m{PowerSimulations.DecisionModelSimulationResults})\u001b[90m @\u001b[39m \u001b[90mPowerSimulations\u001b[39m \u001b[90m/projects/emco4286/.julia/packages/PowerSimulations/89s3Q/src/simulation/\u001b[39m\u001b[90m\u001b[4mdecision_model_simulation_results.jl:77\u001b[24m\u001b[39m\n",
       "[9] load_results!(\u001b[90mres\u001b[39m::\u001b[1mPowerSimulations.SimulationProblemResults\u001b[22m\u001b[0m{PowerSimulations.DecisionModelSimulationResults}, \u001b[90mcount\u001b[39m::\u001b[1mInt64\u001b[22m; initial_time, variables, duals, parameters, aux_variables, expressions, store)\u001b[90m @\u001b[39m \u001b[90mPowerSimulations\u001b[39m \u001b[90m/projects/emco4286/.julia/packages/PowerSimulations/89s3Q/src/simulation/\u001b[39m\u001b[90m\u001b[4mdecision_model_simulation_results.jl:584\u001b[24m\u001b[39m\n",
       "[10] read_aux_variable(\u001b[90mres\u001b[39m::\u001b[1mPowerSimulations.SimulationProblemResults\u001b[22m\u001b[0m{PowerSimulations.DecisionModelSimulationResults}, \u001b[90margs...\u001b[39m; initial_time, count, store)\u001b[90m @\u001b[39m \u001b[90mPowerSimulations\u001b[39m \u001b[90m/projects/emco4286/.julia/packages/PowerSimulations/89s3Q/src/simulation/\u001b[39m\u001b[90m\u001b[4mdecision_model_simulation_results.jl:403\u001b[24m\u001b[39m\n",
       "[11] read_dual(\u001b[90mres\u001b[39m::\u001b[1mPowerSimulations.SimulationProblemResults\u001b[22m\u001b[0m{PowerSimulations.DecisionModelSimulationResults}, \u001b[90margs...\u001b[39m; initial_time, count, store)\u001b[90m @\u001b[39m \u001b[90mPowerSimulations\u001b[39m \u001b[90m/projects/emco4286/.julia/packages/PowerSimulations/89s3Q/src/simulation/\u001b[39m\u001b[90m\u001b[4mdecision_model_simulation_results.jl:355\u001b[24m\u001b[39m\n",
       "[12] read_expression(\u001b[90mres\u001b[39m::\u001b[1mPowerSimulations.SimulationProblemResults\u001b[22m\u001b[0m{PowerSimulations.DecisionModelSimulationResults}, \u001b[90margs...\u001b[39m; initial_time, count, store)\u001b[90m @\u001b[39m \u001b[90mPowerSimulations\u001b[39m \u001b[90m/projects/emco4286/.julia/packages/PowerSimulations/89s3Q/src/simulation/\u001b[39m\u001b[90m\u001b[4mdecision_model_simulation_results.jl:427\u001b[24m\u001b[39m\n",
       "[13] read_parameter(\u001b[90mres\u001b[39m::\u001b[1mPowerSimulations.SimulationProblemResults\u001b[22m\u001b[0m{PowerSimulations.DecisionModelSimulationResults}, \u001b[90margs...\u001b[39m; initial_time, count, store)\u001b[90m @\u001b[39m \u001b[90mPowerSimulations\u001b[39m \u001b[90m/projects/emco4286/.julia/packages/PowerSimulations/89s3Q/src/simulation/\u001b[39m\u001b[90m\u001b[4mdecision_model_simulation_results.jl:379\u001b[24m\u001b[39m\n",
       "[14] read_variable(\u001b[90mres\u001b[39m::\u001b[1mPowerSimulations.SimulationProblemResults\u001b[22m\u001b[0m{PowerSimulations.DecisionModelSimulationResults}, \u001b[90margs...\u001b[39m; initial_time, count, store)\u001b[90m @\u001b[39m \u001b[90mPowerSimulations\u001b[39m \u001b[90m/projects/emco4286/.julia/packages/PowerSimulations/89s3Q/src/simulation/\u001b[39m\u001b[90m\u001b[4mdecision_model_simulation_results.jl:332\u001b[24m\u001b[39m"
      ]
     },
     "metadata": {},
     "output_type": "display_data"
    }
   ],
   "source": [
    "methodswith(typeof(test_results))"
   ]
  },
  {
   "cell_type": "code",
   "execution_count": 77,
   "metadata": {},
   "outputs": [
    {
     "data": {
      "text/plain": [
       "7-element Vector{InfrastructureSystems.Optimization.OptimizationContainerKey}:\n",
       " InfrastructureSystems.Optimization.VariableKey{ActivePowerVariable, RenewableDispatch}(\"\")\n",
       " InfrastructureSystems.Optimization.VariableKey{ActivePowerVariable, ThermalStandard}(\"\")\n",
       " InfrastructureSystems.Optimization.VariableKey{SystemBalanceSlackDown, System}(\"\")\n",
       " InfrastructureSystems.Optimization.VariableKey{StopVariable, ThermalStandard}(\"\")\n",
       " InfrastructureSystems.Optimization.VariableKey{SystemBalanceSlackUp, System}(\"\")\n",
       " InfrastructureSystems.Optimization.VariableKey{OnVariable, ThermalStandard}(\"\")\n",
       " InfrastructureSystems.Optimization.VariableKey{StartVariable, ThermalStandard}(\"\")"
      ]
     },
     "metadata": {},
     "output_type": "display_data"
    }
   ],
   "source": [
    "list_variable_keys(test_results)"
   ]
  },
  {
   "cell_type": "code",
   "execution_count": 37,
   "metadata": {},
   "outputs": [
    {
     "data": {
      "text/html": [
       "<div><div style = \"float: left;\"><span>1×5 DataFrame</span></div><div style = \"clear: both;\"></div></div><div class = \"data-frame\" style = \"overflow-x: scroll;\"><table class = \"data-frame\" style = \"margin-bottom: 6px;\"><thead><tr class = \"header\"><th class = \"rowNumber\" style = \"font-weight: bold; text-align: right;\">Row</th><th style = \"text-align: left;\">DateTime</th><th style = \"text-align: left;\">gen-472</th><th style = \"text-align: left;\">gen-542</th><th style = \"text-align: left;\">gen-213</th><th style = \"text-align: left;\">gen-374</th></tr><tr class = \"subheader headerLastRow\"><th class = \"rowNumber\" style = \"font-weight: bold; text-align: right;\"></th><th title = \"Millisecond\" style = \"text-align: left;\">Millisec…</th><th title = \"Float64\" style = \"text-align: left;\">Float64</th><th title = \"Float64\" style = \"text-align: left;\">Float64</th><th title = \"Float64\" style = \"text-align: left;\">Float64</th><th title = \"Float64\" style = \"text-align: left;\">Float64</th></tr></thead><tbody><tr><td class = \"rowNumber\" style = \"font-weight: bold; text-align: right;\">1</td><td style = \"text-align: left;\">0 milliseconds</td><td style = \"text-align: right;\">0.0</td><td style = \"text-align: right;\">0.0</td><td style = \"text-align: right;\">0.0</td><td style = \"text-align: right;\">0.0</td></tr></tbody></table></div>"
      ],
      "text/latex": [
       "\\begin{tabular}{r|ccccc}\n",
       "\t& DateTime & gen-472 & gen-542 & gen-213 & gen-374\\\\\n",
       "\t\\hline\n",
       "\t& Millisec… & Float64 & Float64 & Float64 & Float64\\\\\n",
       "\t\\hline\n",
       "\t1 & 0 milliseconds & 0.0 & 0.0 & 0.0 & 0.0 \\\\\n",
       "\\end{tabular}\n"
      ],
      "text/plain": [
       "\u001b[1m1×5 DataFrame\u001b[0m\n",
       "\u001b[1m Row \u001b[0m│\u001b[1m DateTime       \u001b[0m\u001b[1m gen-472 \u001b[0m\u001b[1m gen-542 \u001b[0m\u001b[1m gen-213 \u001b[0m\u001b[1m gen-374 \u001b[0m\n",
       "     │\u001b[90m Millisec…      \u001b[0m\u001b[90m Float64 \u001b[0m\u001b[90m Float64 \u001b[0m\u001b[90m Float64 \u001b[0m\u001b[90m Float64 \u001b[0m\n",
       "─────┼────────────────────────────────────────────────────\n",
       "   1 │ 0 milliseconds      0.0      0.0      0.0      0.0"
      ]
     },
     "metadata": {},
     "output_type": "display_data"
    }
   ],
   "source": [
    "# https://nrel-sienna.github.io/PowerSimulations.jl/latest/modeler_guide/read_results/#Reading-the-%22realized%22-solution-(i.e.-the-interval)\n",
    "data1 = read_realized_variable(baseline_results, \"ProductionCostExpression__ThermalStandard\")\n",
    "data2 = read_realized_variable(test_results, \"ProductionCostExpression__ThermalStandard\")\n",
    "unique(data1 .- data2)"
   ]
  },
  {
   "cell_type": "code",
   "execution_count": 35,
   "metadata": {},
   "outputs": [
    {
     "data": {
      "text/html": [
       "<div><div style = \"float: left;\"><span>1×5 DataFrame</span></div><div style = \"clear: both;\"></div></div><div class = \"data-frame\" style = \"overflow-x: scroll;\"><table class = \"data-frame\" style = \"margin-bottom: 6px;\"><thead><tr class = \"header\"><th class = \"rowNumber\" style = \"font-weight: bold; text-align: right;\">Row</th><th style = \"text-align: left;\">DateTime</th><th style = \"text-align: left;\">gen-472</th><th style = \"text-align: left;\">gen-542</th><th style = \"text-align: left;\">gen-213</th><th style = \"text-align: left;\">gen-374</th></tr><tr class = \"subheader headerLastRow\"><th class = \"rowNumber\" style = \"font-weight: bold; text-align: right;\"></th><th title = \"Millisecond\" style = \"text-align: left;\">Millisec…</th><th title = \"Float64\" style = \"text-align: left;\">Float64</th><th title = \"Float64\" style = \"text-align: left;\">Float64</th><th title = \"Float64\" style = \"text-align: left;\">Float64</th><th title = \"Float64\" style = \"text-align: left;\">Float64</th></tr></thead><tbody><tr><td class = \"rowNumber\" style = \"font-weight: bold; text-align: right;\">1</td><td style = \"text-align: left;\">0 milliseconds</td><td style = \"text-align: right;\">0.0</td><td style = \"text-align: right;\">0.0</td><td style = \"text-align: right;\">0.0</td><td style = \"text-align: right;\">0.0</td></tr></tbody></table></div>"
      ],
      "text/latex": [
       "\\begin{tabular}{r|ccccc}\n",
       "\t& DateTime & gen-472 & gen-542 & gen-213 & gen-374\\\\\n",
       "\t\\hline\n",
       "\t& Millisec… & Float64 & Float64 & Float64 & Float64\\\\\n",
       "\t\\hline\n",
       "\t1 & 0 milliseconds & 0.0 & 0.0 & 0.0 & 0.0 \\\\\n",
       "\\end{tabular}\n"
      ],
      "text/plain": [
       "\u001b[1m1×5 DataFrame\u001b[0m\n",
       "\u001b[1m Row \u001b[0m│\u001b[1m DateTime       \u001b[0m\u001b[1m gen-472 \u001b[0m\u001b[1m gen-542 \u001b[0m\u001b[1m gen-213 \u001b[0m\u001b[1m gen-374 \u001b[0m\n",
       "     │\u001b[90m Millisec…      \u001b[0m\u001b[90m Float64 \u001b[0m\u001b[90m Float64 \u001b[0m\u001b[90m Float64 \u001b[0m\u001b[90m Float64 \u001b[0m\n",
       "─────┼────────────────────────────────────────────────────\n",
       "   1 │ 0 milliseconds      0.0      0.0      0.0      0.0"
      ]
     },
     "metadata": {},
     "output_type": "display_data"
    }
   ],
   "source": [
    "data1 = read_realized_variable(baseline_results, \"ActivePowerVariable__ThermalStandard\")\n",
    "data2 = read_realized_variable(test_results, \"ActivePowerVariable__ThermalStandard\")\n",
    "unique(data1 .- data2)"
   ]
  },
  {
   "cell_type": "code",
   "execution_count": 20,
   "metadata": {},
   "outputs": [
    {
     "data": {
      "text/plain": [
       "Float64[]"
      ]
     },
     "metadata": {},
     "output_type": "display_data"
    }
   ],
   "source": [
    "setdiff(data1[!, \"gen-374\"], data2[!, \"gen-374\"])"
   ]
  },
  {
   "cell_type": "code",
   "execution_count": 34,
   "metadata": {},
   "outputs": [
    {
     "data": {
      "text/plain": [
       "1-element Vector{Float64}:\n",
       " 0.0"
      ]
     },
     "metadata": {},
     "output_type": "display_data"
    }
   ],
   "source": [
    "data1 = sum(eachcol(read_realized_variable(baseline_results, \"OnVariable__ThermalStandard\")[!, [\"gen-472\", \"gen-542\", \"gen-213\", \"gen-374\"]]))\n",
    "data2 = sum(eachcol(read_realized_variable(test_results, \"OnVariable__ThermalStandard\")[!, [\"gen-472\", \"gen-542\", \"gen-213\", \"gen-374\"]]))\n",
    "unique(data1 .- data2)"
   ]
  },
  {
   "cell_type": "code",
   "execution_count": 43,
   "metadata": {},
   "outputs": [
    {
     "data": {
      "text/html": [
       "<table>\n",
       "  <caption style = \"text-align: left;\">Network Model</caption>\n",
       "  <tbody>\n",
       "    <tr>\n",
       "      <td style = \"text-align: left;\">Network Model</td>\n",
       "      <td style = \"text-align: left;\">CopperPlatePowerModel</td>\n",
       "    </tr>\n",
       "    <tr>\n",
       "      <td style = \"text-align: left;\">Slacks</td>\n",
       "      <td style = \"text-align: left;\">true</td>\n",
       "    </tr>\n",
       "    <tr>\n",
       "      <td style = \"text-align: left;\">PTDF</td>\n",
       "      <td style = \"text-align: left;\">false</td>\n",
       "    </tr>\n",
       "    <tr>\n",
       "      <td style = \"text-align: left;\">Duals</td>\n",
       "      <td style = \"text-align: left;\">None</td>\n",
       "    </tr>\n",
       "  </tbody>\n",
       "</table>\n",
       "\n",
       "<table>\n",
       "  <caption style = \"text-align: left;\">Device Models</caption>\n",
       "  <thead>\n",
       "    <tr class = \"header headerLastRow\">\n",
       "      <th style = \"text-align: left;\">Device Type</th>\n",
       "      <th style = \"text-align: left;\">Formulation</th>\n",
       "      <th style = \"text-align: left;\">Slacks</th>\n",
       "    </tr>\n",
       "  </thead>\n",
       "  <tbody>\n",
       "    <tr>\n",
       "      <td style = \"text-align: left;\">RenewableNonDispatch</td>\n",
       "      <td style = \"text-align: left;\">FixedOutput</td>\n",
       "      <td style = \"text-align: left;\">false</td>\n",
       "    </tr>\n",
       "    <tr>\n",
       "      <td style = \"text-align: left;\">ThermalStandard</td>\n",
       "      <td style = \"text-align: left;\">ThermalBasicUnitCommitment</td>\n",
       "      <td style = \"text-align: left;\">false</td>\n",
       "    </tr>\n",
       "    <tr>\n",
       "      <td style = \"text-align: left;\">PowerLoad</td>\n",
       "      <td style = \"text-align: left;\">StaticPowerLoad</td>\n",
       "      <td style = \"text-align: left;\">false</td>\n",
       "    </tr>\n",
       "    <tr>\n",
       "      <td style = \"text-align: left;\">InterruptiblePowerLoad</td>\n",
       "      <td style = \"text-align: left;\">PowerLoadInterruption</td>\n",
       "      <td style = \"text-align: left;\">false</td>\n",
       "    </tr>\n",
       "    <tr>\n",
       "      <td style = \"text-align: left;\">RenewableDispatch</td>\n",
       "      <td style = \"text-align: left;\">RenewableFullDispatch</td>\n",
       "      <td style = \"text-align: left;\">false</td>\n",
       "    </tr>\n",
       "  </tbody>\n",
       "</table>\n",
       "\n",
       "<table>\n",
       "  <caption style = \"text-align: left;\">Branch Models</caption>\n",
       "  <thead>\n",
       "    <tr class = \"header headerLastRow\">\n",
       "      <th style = \"text-align: left;\">Branch Type</th>\n",
       "      <th style = \"text-align: left;\">Formulation</th>\n",
       "      <th style = \"text-align: left;\">Slacks</th>\n",
       "    </tr>\n",
       "  </thead>\n",
       "  <tbody>\n",
       "    <tr>\n",
       "      <td style = \"text-align: left;\">Line</td>\n",
       "      <td style = \"text-align: left;\">StaticBranch</td>\n",
       "      <td style = \"text-align: left;\">false</td>\n",
       "    </tr>\n",
       "    <tr>\n",
       "      <td style = \"text-align: left;\">TapTransformer</td>\n",
       "      <td style = \"text-align: left;\">StaticBranch</td>\n",
       "      <td style = \"text-align: left;\">false</td>\n",
       "    </tr>\n",
       "    <tr>\n",
       "      <td style = \"text-align: left;\">Transformer2W</td>\n",
       "      <td style = \"text-align: left;\">StaticBranch</td>\n",
       "      <td style = \"text-align: left;\">false</td>\n",
       "    </tr>\n",
       "    <tr>\n",
       "      <td style = \"text-align: left;\">TwoTerminalHVDCLine</td>\n",
       "      <td style = \"text-align: left;\">HVDCTwoTerminalDispatch</td>\n",
       "      <td style = \"text-align: left;\">false</td>\n",
       "    </tr>\n",
       "  </tbody>\n",
       "</table>\n",
       "\n",
       "<table>\n",
       "  <caption style = \"text-align: left;\">Service Models</caption>\n",
       "  <thead>\n",
       "    <tr class = \"header headerLastRow\">\n",
       "      <th style = \"text-align: left;\">Name</th>\n",
       "      <th style = \"text-align: left;\">Service Type</th>\n",
       "      <th style = \"text-align: left;\">Formulation</th>\n",
       "      <th style = \"text-align: left;\">Slacks</th>\n",
       "      <th style = \"text-align: left;\">Aggregated Model</th>\n",
       "    </tr>\n",
       "  </thead>\n",
       "  <tbody>\n",
       "    <tr>\n",
       "      <td style = \"text-align: left;\">REG_UP</td>\n",
       "      <td style = \"text-align: left;\">VariableReserve{ReserveUp}</td>\n",
       "      <td style = \"text-align: left;\">RangeReserve</td>\n",
       "      <td style = \"text-align: left;\">false</td>\n",
       "      <td style = \"text-align: left;\">false</td>\n",
       "    </tr>\n",
       "    <tr>\n",
       "      <td style = \"text-align: left;\">REG_DN</td>\n",
       "      <td style = \"text-align: left;\">VariableReserve{ReserveDown}</td>\n",
       "      <td style = \"text-align: left;\">RangeReserve</td>\n",
       "      <td style = \"text-align: left;\">false</td>\n",
       "      <td style = \"text-align: left;\">false</td>\n",
       "    </tr>\n",
       "    <tr>\n",
       "      <td style = \"text-align: left;\">SPIN</td>\n",
       "      <td style = \"text-align: left;\">VariableReserve{ReserveUp}</td>\n",
       "      <td style = \"text-align: left;\">RangeReserve</td>\n",
       "      <td style = \"text-align: left;\">false</td>\n",
       "      <td style = \"text-align: left;\">false</td>\n",
       "    </tr>\n",
       "  </tbody>\n",
       "</table>\n"
      ],
      "text/plain": [
       "\u001b[1mNetwork Model\u001b[0m\n",
       "┌───────────────┬───────────────────────┐\n",
       "│ Network Model │ CopperPlatePowerModel │\n",
       "│ Slacks        │ true                  │\n",
       "│ PTDF          │ false                 │\n",
       "│ Duals         │ None                  │\n",
       "└───────────────┴───────────────────────┘\n",
       "\n",
       "\u001b[1mDevice Models\u001b[0m\n",
       "┌────────────────────────┬────────────────────────────┬────────┐\n",
       "│\u001b[1m Device Type            \u001b[0m│\u001b[1m Formulation                \u001b[0m│\u001b[1m Slacks \u001b[0m│\n",
       "├────────────────────────┼────────────────────────────┼────────┤\n",
       "│ RenewableNonDispatch   │ FixedOutput                │ false  │\n",
       "│ ThermalStandard        │ ThermalBasicUnitCommitment │ false  │\n",
       "│ PowerLoad              │ StaticPowerLoad            │ false  │\n",
       "│ InterruptiblePowerLoad │ PowerLoadInterruption      │ false  │\n",
       "│ RenewableDispatch      │ RenewableFullDispatch      │ false  │\n",
       "└────────────────────────┴────────────────────────────┴────────┘\n",
       "\n",
       "\u001b[1mBranch Models\u001b[0m\n",
       "┌─────────────────────┬─────────────────────────┬────────┐\n",
       "│\u001b[1m Branch Type         \u001b[0m│\u001b[1m Formulation             \u001b[0m│\u001b[1m Slacks \u001b[0m│\n",
       "├─────────────────────┼─────────────────────────┼────────┤\n",
       "│ Line                │ StaticBranch            │ false  │\n",
       "│ TapTransformer      │ StaticBranch            │ false  │\n",
       "│ Transformer2W       │ StaticBranch            │ false  │\n",
       "│ TwoTerminalHVDCLine │ HVDCTwoTerminalDispatch │ false  │\n",
       "└─────────────────────┴─────────────────────────┴────────┘\n",
       "\n",
       "\u001b[1mService Models\u001b[0m\n",
       "┌────────┬──────────────────────────────┬──────────────┬────────┬───────────────\n",
       "│\u001b[1m Name   \u001b[0m│\u001b[1m Service Type                 \u001b[0m│\u001b[1m Formulation  \u001b[0m│\u001b[1m Slacks \u001b[0m│\u001b[1m Aggregated M\u001b[0m ⋯\n",
       "├────────┼──────────────────────────────┼──────────────┼────────┼───────────────\n",
       "│ REG_UP │ VariableReserve{ReserveUp}   │ RangeReserve │ false  │ false        ⋯\n",
       "│ REG_DN │ VariableReserve{ReserveDown} │ RangeReserve │ false  │ false        ⋯\n",
       "│ SPIN   │ VariableReserve{ReserveUp}   │ RangeReserve │ false  │ false        ⋯\n",
       "└────────┴──────────────────────────────┴──────────────┴────────┴───────────────\n",
       "\u001b[36m                                                                1 column omitted\u001b[0m\n"
      ]
     },
     "metadata": {},
     "output_type": "display_data"
    }
   ],
   "source": [
    "solver = optimizer_with_attributes(Gurobi.Optimizer)\n",
    "set_optimizer_attribute(solver, \"MIPGap\", 0.5)\n",
    "dm = DecisionModel(\"/projects/emco4286/data/sienna_data/output/ercot/baseline/uc_only_gurobi/problems/UC\", solver, )"
   ]
  },
  {
   "cell_type": "code",
   "execution_count": 63,
   "metadata": {},
   "outputs": [
    {
     "ename": "MethodError",
     "evalue": "MethodError: no method matching deserialize_problem(::Type{PowerSimulations.DecisionProblem}, ::String)\n\nClosest candidates are:\n  deserialize_problem(!Matched::Type{T}, ::AbstractString; kwargs...) where T<:PowerSimulations.OperationModel\n   @ PowerSimulations /projects/emco4286/.julia/packages/PowerSimulations/89s3Q/src/operation/operation_model_serialization.jl:70\n",
     "output_type": "error",
     "traceback": [
      "MethodError: no method matching deserialize_problem(::Type{PowerSimulations.DecisionProblem}, ::String)\n",
      "\n",
      "Closest candidates are:\n",
      "  deserialize_problem(!Matched::Type{T}, ::AbstractString; kwargs...) where T<:PowerSimulations.OperationModel\n",
      "   @ PowerSimulations /projects/emco4286/.julia/packages/PowerSimulations/89s3Q/src/operation/operation_model_serialization.jl:70\n",
      "\n",
      "\n",
      "Stacktrace:\n",
      " [1] top-level scope\n",
      "   @ ~/ercot-sienna/notebooks/read_test_simulation_results copy.ipynb:5"
     ]
    }
   ],
   "source": [
    "obj = PSI.Serialization.deserialize(\"/projects/emco4286/data/sienna_data/output/ercot/baseline/uc_only_gurobi/simulation_files/simulation.bin\")\n",
    "\n",
    "models = Vector{PSI.DecisionModel{<:PSI.DecisionProblem}}()\n",
    "for name in obj.models\n",
    "    model =\n",
    "        PSI.deserialize_problem(PSI.DecisionProblem, joinpath(\"problems\", \"$(name).bin\"))\n",
    "    push!(\n",
    "        models,\n",
    "        wrapper.problem_type(\n",
    "            name,\n",
    "            wrapper.template,\n",
    "            sys,\n",
    "            restore_from_copy(\n",
    "                wrapper.settings;\n",
    "                optimizer = solver,\n",
    "            ),\n",
    "            get(problem_info[key], \"jump_model\", nothing),\n",
    "        ),\n",
    "    )\n",
    "end"
   ]
  },
  {
   "cell_type": "code",
   "execution_count": 59,
   "metadata": {},
   "outputs": [
    {
     "ename": "MethodError",
     "evalue": "MethodError: no method matching deserialize_problem(::Type{PowerSimulations.DecisionProblem}, ::String)\n\nClosest candidates are:\n  deserialize_problem(!Matched::Type{T}, ::AbstractString; kwargs...) where T<:PowerSimulations.OperationModel\n   @ PowerSimulations /projects/emco4286/.julia/packages/PowerSimulations/89s3Q/src/operation/operation_model_serialization.jl:70\n",
     "output_type": "error",
     "traceback": [
      "MethodError: no method matching deserialize_problem(::Type{PowerSimulations.DecisionProblem}, ::String)\n",
      "\n",
      "Closest candidates are:\n",
      "  deserialize_problem(!Matched::Type{T}, ::AbstractString; kwargs...) where T<:PowerSimulations.OperationModel\n",
      "   @ PowerSimulations /projects/emco4286/.julia/packages/PowerSimulations/89s3Q/src/operation/operation_model_serialization.jl:70\n",
      "\n",
      "\n",
      "Stacktrace:\n",
      " [1] top-level scope\n",
      "   @ ~/ercot-sienna/notebooks/read_test_simulation_results copy.ipynb:1"
     ]
    }
   ],
   "source": [
    "PSI.deserialize_problem(PSI.DecisionProblem, joinpath(\"problems\", \"UC.bin\"))"
   ]
  },
  {
   "cell_type": "code",
   "execution_count": null,
   "metadata": {},
   "outputs": [
    {
     "ename": "MethodError",
     "evalue": "MethodError: no method matching deserialize_problem(::Type{PowerSimulations.DecisionProblem}, ::String)\n\nClosest candidates are:\n  deserialize_problem(!Matched::Type{T}, ::AbstractString; kwargs...) where T<:PowerSimulations.OperationModel\n   @ PowerSimulations /projects/emco4286/.julia/packages/PowerSimulations/89s3Q/src/operation/operation_model_serialization.jl:70\n",
     "output_type": "error",
     "traceback": [
      "MethodError: no method matching deserialize_problem(::Type{PowerSimulations.DecisionProblem}, ::String)\n",
      "\n",
      "Closest candidates are:\n",
      "  deserialize_problem(!Matched::Type{T}, ::AbstractString; kwargs...) where T<:PowerSimulations.OperationModel\n",
      "   @ PowerSimulations /projects/emco4286/.julia/packages/PowerSimulations/89s3Q/src/operation/operation_model_serialization.jl:70\n",
      "\n",
      "\n",
      "Stacktrace:\n",
      " [1] top-level scope\n",
      "   @ ~/ercot-sienna/notebooks/read_test_simulation_results copy.ipynb:1"
     ]
    }
   ],
   "source": [
    "PSI.deserialize_problem(PSI.DecisionProblem, \"/projects/emco4286/data/sienna_data/output/ercot/baseline/uc_only_gurobi/problems/UC/model.bin\")"
   ]
  },
  {
   "cell_type": "code",
   "execution_count": 44,
   "metadata": {},
   "outputs": [
    {
     "ename": "MethodError",
     "evalue": "MethodError: no method matching get_total_cost(::DecisionModel{GenericOpProblem})\n\nClosest candidates are:\n  get_total_cost(!Matched::OptimizationProblemResults)\n   @ InfrastructureSystems /projects/emco4286/.julia/packages/InfrastructureSystems/LEg3t/src/Optimization/optimization_problem_results.jl:75\n  get_total_cost(!Matched::T) where T<:InfrastructureSystems.Results\n   @ InfrastructureSystems /projects/emco4286/.julia/packages/InfrastructureSystems/LEg3t/src/results.jl:17\n",
     "output_type": "error",
     "traceback": [
      "MethodError: no method matching get_total_cost(::DecisionModel{GenericOpProblem})\n",
      "\n",
      "Closest candidates are:\n",
      "  get_total_cost(!Matched::OptimizationProblemResults)\n",
      "   @ InfrastructureSystems /projects/emco4286/.julia/packages/InfrastructureSystems/LEg3t/src/Optimization/optimization_problem_results.jl:75\n",
      "  get_total_cost(!Matched::T) where T<:InfrastructureSystems.Results\n",
      "   @ InfrastructureSystems /projects/emco4286/.julia/packages/InfrastructureSystems/LEg3t/src/results.jl:17\n",
      "\n",
      "\n",
      "Stacktrace:\n",
      " [1] top-level scope\n",
      "   @ ~/ercot-sienna/notebooks/read_test_simulation_results copy.ipynb:1"
     ]
    }
   ],
   "source": [
    "IS.get_total_cost(dm)"
   ]
  },
  {
   "cell_type": "code",
   "execution_count": 23,
   "metadata": {},
   "outputs": [
    {
     "data": {
      "text/plain": [
       "7-element Vector{String}:\n",
       " \"ActivePowerVariable__RenewableDispatch\"\n",
       " \"ActivePowerVariable__ThermalStandard\"\n",
       " \"SystemBalanceSlackDown__System\"\n",
       " \"StopVariable__ThermalStandard\"\n",
       " \"SystemBalanceSlackUp__System\"\n",
       " \"OnVariable__ThermalStandard\"\n",
       " \"StartVariable__ThermalStandard\""
      ]
     },
     "metadata": {},
     "output_type": "display_data"
    }
   ],
   "source": [
    "IS.Optimization.list_variable_names(baseline_results)"
   ]
  },
  {
   "cell_type": "code",
   "execution_count": 25,
   "metadata": {},
   "outputs": [
    {
     "data": {
      "text/plain": [
       "2.924325501781834e12"
      ]
     },
     "metadata": {},
     "output_type": "display_data"
    }
   ],
   "source": [
    "sum(read_optimizer_stats(results_uc)[!, :objective_value])"
   ]
  },
  {
   "cell_type": "code",
   "execution_count": 4,
   "metadata": {},
   "outputs": [
    {
     "data": {
      "text/plain": [
       "2.7525657518875604e9"
      ]
     },
     "metadata": {},
     "output_type": "display_data"
    }
   ],
   "source": [
    "sum(read_optimizer_stats(results)[!, :objective_value])"
   ]
  },
  {
   "cell_type": "code",
   "execution_count": 27,
   "metadata": {},
   "outputs": [
    {
     "ename": "ErrorException",
     "evalue": "get_total_cost must be implemented for PowerSimulations.SimulationProblemResults{PowerSimulations.DecisionModelSimulationResults}",
     "output_type": "error",
     "traceback": [
      "get_total_cost must be implemented for PowerSimulations.SimulationProblemResults{PowerSimulations.DecisionModelSimulationResults}\n",
      "\n",
      "Stacktrace:\n",
      " [1] error(s::String)\n",
      "   @ Base ./error.jl:35\n",
      " [2] get_total_cost(r::PowerSimulations.SimulationProblemResults{PowerSimulations.DecisionModelSimulationResults})\n",
      "   @ InfrastructureSystems /projects/emco4286/.julia/packages/InfrastructureSystems/LEg3t/src/results.jl:18\n",
      " [3] top-level scope\n",
      "   @ ~/ercot-sienna/notebooks/read_test_simulation_results copy.ipynb:1"
     ]
    }
   ],
   "source": [
    "IS.get_total_cost(results_uc)"
   ]
  },
  {
   "cell_type": "code",
   "execution_count": 33,
   "metadata": {},
   "outputs": [],
   "source": [
    "# get_objective_value(results_uc)\n",
    "# get_objective_value(solutions)"
   ]
  }
 ],
 "metadata": {
  "kernelspec": {
   "display_name": "Julia 1.10.2",
   "language": "julia",
   "name": "julia-1.10"
  },
  "language_info": {
   "file_extension": ".jl",
   "mimetype": "application/julia",
   "name": "julia",
   "version": "1.10.2"
  },
  "orig_nbformat": 4
 },
 "nbformat": 4,
 "nbformat_minor": 2
}
